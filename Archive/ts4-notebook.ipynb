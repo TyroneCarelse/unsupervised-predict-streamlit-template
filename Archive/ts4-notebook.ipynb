{
 "cells": [
  {
   "cell_type": "markdown",
   "metadata": {
    "execution": {
     "iopub.execute_input": "2021-07-07T09:34:26.946335Z",
     "iopub.status.busy": "2021-07-07T09:34:26.94594Z",
     "iopub.status.idle": "2021-07-07T09:34:26.950096Z",
     "shell.execute_reply": "2021-07-07T09:34:26.948968Z",
     "shell.execute_reply.started": "2021-07-07T09:34:26.946297Z"
    },
    "papermill": {
     "duration": 0.042328,
     "end_time": "2021-07-12T08:43:38.547941",
     "exception": false,
     "start_time": "2021-07-12T08:43:38.505613",
     "status": "completed"
    },
    "tags": []
   },
   "source": [
    "# Netflix Recommender System\n"
   ]
  },
  {
   "cell_type": "markdown",
   "metadata": {
    "execution": {
     "iopub.execute_input": "2021-07-07T09:35:40.426773Z",
     "iopub.status.busy": "2021-07-07T09:35:40.426406Z",
     "iopub.status.idle": "2021-07-07T09:35:40.434448Z",
     "shell.execute_reply": "2021-07-07T09:35:40.432873Z",
     "shell.execute_reply.started": "2021-07-07T09:35:40.426741Z"
    },
    "papermill": {
     "duration": 0.041365,
     "end_time": "2021-07-12T08:43:38.630317",
     "exception": false,
     "start_time": "2021-07-12T08:43:38.588952",
     "status": "completed"
    },
    "tags": []
   },
   "source": [
    "<img src=\"https://static1.colliderimages.com/wordpress/wp-content/uploads/2020/11/Best-Movies-Netflix.png\" \n",
    "style=\"width:700px;height:800px:\"/>"
   ]
  },
  {
   "cell_type": "markdown",
   "metadata": {
    "papermill": {
     "duration": 0.040118,
     "end_time": "2021-07-12T08:43:38.711268",
     "exception": false,
     "start_time": "2021-07-12T08:43:38.671150",
     "status": "completed"
    },
    "tags": []
   },
   "source": [
    "<h1>Table of Contents<span class=\"tocSkip\"></span></h1>\n",
    "<div class=\"toc\"><ul class=\"toc-item\"><li><span><a href=\"#Introduction\" data-toc-modified-id=\"Introduction-1\"><span class=\"toc-item-num\">1&nbsp;&nbsp;</span>Introduction</a></span><ul class=\"toc-item\"><li><span><a href=\"#Objective-of-this-notebook\" data-toc-modified-id=\"Objective-of-this-notebook-1.1\"><span class=\"toc-item-num\">1.1&nbsp;&nbsp;</span>Objective of this notebook</a></span></li><li><span><a href=\"#Problem-we-seek-to-address\" data-toc-modified-id=\"Problem-we-seek-to-address-1.2\"><span class=\"toc-item-num\">1.2&nbsp;&nbsp;</span>Problem we seek to address</a></span></li><li><span><a href=\"#Datasources-we-seek-to-base-our-models-on\" data-toc-modified-id=\"Datasources-we-seek-to-base-our-models-on-1.3\"><span class=\"toc-item-num\">1.3&nbsp;&nbsp;</span>Datasources we seek to base our models on</a></span></li></ul></li><li><span><a href=\"#Importing-the-necessary-packages\" data-toc-modified-id=\"Importing-the-necessary-packages-2\"><span class=\"toc-item-num\">2&nbsp;&nbsp;</span>Importing the necessary packages</a></span><ul class=\"toc-item\"><li><span><a href=\"#Installing-the-necessary-packages\" data-toc-modified-id=\"Installing-the-necessary-packages-2.1\"><span class=\"toc-item-num\">2.1&nbsp;&nbsp;</span>Installing the necessary packages</a></span></li><li><span><a href=\"#Importing-all-the-data-wrangling-packages\" data-toc-modified-id=\"Importing-all-the-data-wrangling-packages-2.2\"><span class=\"toc-item-num\">2.2&nbsp;&nbsp;</span>Importing all the data-wrangling packages</a></span></li><li><span><a href=\"#Importing-all-the-visualization-pacakges\" data-toc-modified-id=\"Importing-all-the-visualization-pacakges-2.3\"><span class=\"toc-item-num\">2.3&nbsp;&nbsp;</span>Importing all the visualization pacakges</a></span></li><li><span><a href=\"#Importing-all-the-model-building-packages\" data-toc-modified-id=\"Importing-all-the-model-building-packages-2.4\"><span class=\"toc-item-num\">2.4&nbsp;&nbsp;</span>Importing all the model building packages</a></span></li></ul></li><li><span><a href=\"#Exploring-the-Data\" data-toc-modified-id=\"Exploring-the-Data-3\"><span class=\"toc-item-num\">3&nbsp;&nbsp;</span>Exploring the Data</a></span><ul class=\"toc-item\"><li><span><a href=\"#Displaying-the-heads-of-the-tables\" data-toc-modified-id=\"Displaying-the-heads-of-the-tables-3.1\"><span class=\"toc-item-num\">3.1&nbsp;&nbsp;</span>Displaying the heads of the tables</a></span></li><li><span><a href=\"#Checking-for-null-values,-shapes-and-datatypes\" data-toc-modified-id=\"Checking-for-null-values,-shapes-and-datatypes-3.2\"><span class=\"toc-item-num\">3.2&nbsp;&nbsp;</span>Checking for null-values, shapes and datatypes</a></span></li></ul></li><li><span><a href=\"#Feature-Engineering\" data-toc-modified-id=\"Feature-Engineering-4\"><span class=\"toc-item-num\">4&nbsp;&nbsp;</span>Feature Engineering</a></span></li><li><span><a href=\"#Splitting-the-data\" data-toc-modified-id=\"Splitting-the-data-5\"><span class=\"toc-item-num\">5&nbsp;&nbsp;</span>Splitting the data</a></span></li><li><span><a href=\"#Text-Pre-processing\" data-toc-modified-id=\"Text-Pre-processing-6\"><span class=\"toc-item-num\">6&nbsp;&nbsp;</span>Text Pre-processing</a></span><ul class=\"toc-item\"><li><span><a href=\"#Standardizing-the-train-set\" data-toc-modified-id=\"Standardizing-the-train-set-6.1\"><span class=\"toc-item-num\">6.1&nbsp;&nbsp;</span>Standardizing the train set</a></span></li></ul></li><li><span><a href=\"#Model-Building,-training-and-assessment\" data-toc-modified-id=\"Model-Building,-training-and-assessment-7\"><span class=\"toc-item-num\">7&nbsp;&nbsp;</span>Model Building, training and assessment</a></span><ul class=\"toc-item\"><li><span><a href=\"#Model-1:-Building-and-training\" data-toc-modified-id=\"Model-1:-Building-and-training-7.1\"><span class=\"toc-item-num\">7.1&nbsp;&nbsp;</span>Model 1: Building and training</a></span></li><li><span><a href=\"#Model-1:-Assessing-the-model\" data-toc-modified-id=\"Model-1:-Assessing-the-model-7.2\"><span class=\"toc-item-num\">7.2&nbsp;&nbsp;</span>Model 1: Assessing the model</a></span></li><li><span><a href=\"#Model-2:-Building-and-training\" data-toc-modified-id=\"Model-2:-Building-and-training-7.3\"><span class=\"toc-item-num\">7.3&nbsp;&nbsp;</span>Model 2: Building and training</a></span></li><li><span><a href=\"#Model-2:-Assessing-the-model\" data-toc-modified-id=\"Model-2:-Assessing-the-model-7.4\"><span class=\"toc-item-num\">7.4&nbsp;&nbsp;</span>Model 2: Assessing the model</a></span></li></ul></li><li><span><a href=\"#Model-Deployment\" data-toc-modified-id=\"Model-Deployment-8\"><span class=\"toc-item-num\">8&nbsp;&nbsp;</span>Model Deployment</a></span><ul class=\"toc-item\"><li><span><a href=\"#Exporting-the-best-model-to-the-Kaggle-leaderboard\" data-toc-modified-id=\"Exporting-the-best-model-to-the-Kaggle-leaderboard-8.1\"><span class=\"toc-item-num\">8.1&nbsp;&nbsp;</span>Exporting the best model to the Kaggle leaderboard</a></span></li><li><span><a href=\"#Exporting-our-finding-via-a-streamlit-app\" data-toc-modified-id=\"Exporting-our-finding-via-a-streamlit-app-8.2\"><span class=\"toc-item-num\">8.2&nbsp;&nbsp;</span>Exporting our finding via a streamlit app</a></span></li></ul></li><li><span><a href=\"#Conclusion\" data-toc-modified-id=\"Conclusion-9\"><span class=\"toc-item-num\">9&nbsp;&nbsp;</span>Conclusion</a></span></li></ul></div>"
   ]
  },
  {
   "cell_type": "markdown",
   "metadata": {
    "papermill": {
     "duration": 0.040704,
     "end_time": "2021-07-12T08:43:38.792486",
     "exception": false,
     "start_time": "2021-07-12T08:43:38.751782",
     "status": "completed"
    },
    "tags": []
   },
   "source": [
    "# Introduction\n",
    "\n"
   ]
  },
  {
   "cell_type": "markdown",
   "metadata": {
    "papermill": {
     "duration": 0.040271,
     "end_time": "2021-07-12T08:43:38.873148",
     "exception": false,
     "start_time": "2021-07-12T08:43:38.832877",
     "status": "completed"
    },
    "tags": []
   },
   "source": [
    "## Objective of this notebook"
   ]
  },
  {
   "cell_type": "markdown",
   "metadata": {
    "papermill": {
     "duration": 0.040144,
     "end_time": "2021-07-12T08:43:38.953611",
     "exception": false,
     "start_time": "2021-07-12T08:43:38.913467",
     "status": "completed"
    },
    "tags": []
   },
   "source": [
    "Our objective with this notebook is to build a movie recommender algorithm that can accurately predict how a user will rate a movie based on their historical preferences. The algorithm should either make use of collaborative filtering or content based filtering."
   ]
  },
  {
   "cell_type": "markdown",
   "metadata": {
    "papermill": {
     "duration": 0.040095,
     "end_time": "2021-07-12T08:43:39.034118",
     "exception": false,
     "start_time": "2021-07-12T08:43:38.994023",
     "status": "completed"
    },
    "tags": []
   },
   "source": [
    "This forms part of a public Kaggle competition and will be evaluated by the best RMSE score."
   ]
  },
  {
   "cell_type": "markdown",
   "metadata": {
    "papermill": {
     "duration": 0.067497,
     "end_time": "2021-07-12T08:43:39.146568",
     "exception": false,
     "start_time": "2021-07-12T08:43:39.079071",
     "status": "completed"
    },
    "tags": []
   },
   "source": [
    "We will also build a streamlit app hosted in AWS EC2 to communicate our findings to a board of executive stakeholders."
   ]
  },
  {
   "cell_type": "markdown",
   "metadata": {
    "papermill": {
     "duration": 0.044949,
     "end_time": "2021-07-12T08:43:39.232409",
     "exception": false,
     "start_time": "2021-07-12T08:43:39.187460",
     "status": "completed"
    },
    "tags": []
   },
   "source": [
    "## Problem we seek to address\n",
    "\n",
    "Viewers of movies want to watch movies that they will like. This will increase their satisfaction and will make them more loyal to the Netflix platform which will extend the duration of their subscription, and cause them to recommend this platform to others over against the platforms of their competition (like Showmax). This will result in more loyal customers which will result in greater income."
   ]
  },
  {
   "cell_type": "markdown",
   "metadata": {
    "papermill": {
     "duration": 0.055292,
     "end_time": "2021-07-12T08:43:39.350662",
     "exception": false,
     "start_time": "2021-07-12T08:43:39.295370",
     "status": "completed"
    },
    "tags": []
   },
   "source": [
    "## Datasources we seek to base our models on\n",
    "\n",
    "MovieLens has gathered millions of movie ratings together with the movieId, UserId, and timestamp when the movie was rated. We also have the following information available on each movie from other public sources: 1. Movie-titles, 2. Movie-genres, 3. Title-cast, 4. Movie-budget, 5. Plot-keywords, 6. Director, 7. Runtime, 8. genome-scores.\n",
    "\n",
    "We will seek to use all of the data above to train our unsupervised machine learning models on to build the best recommender system within our abilities."
   ]
  },
  {
   "cell_type": "markdown",
   "metadata": {
    "papermill": {
     "duration": 0.067674,
     "end_time": "2021-07-12T08:43:39.459068",
     "exception": false,
     "start_time": "2021-07-12T08:43:39.391394",
     "status": "completed"
    },
    "tags": []
   },
   "source": [
    "## Importing the necessary packages\n",
    "\n",
    "Before we jump in, it is necessary to install and import some python packages that will help us in our quest. We are indebted to those who have contributed to building these packages and making them freely available. Note there might be some packages that you first need to install on your local machine before it will run. Some of the common ones we have commented below and you can just remove the hashtag to install them on your local machine and then comment it out again after it has been installed on your local machine."
   ]
  },
  {
   "cell_type": "code",
   "execution_count": 1,
   "metadata": {
    "_cell_guid": "b1076dfc-b9ad-4769-8c92-a6c4dae69d19",
    "_uuid": "8f2839f25d086af736a60e9eeb907d3b93b6e0e5",
    "execution": {
     "iopub.execute_input": "2021-07-12T08:43:39.565637Z",
     "iopub.status.busy": "2021-07-12T08:43:39.565085Z",
     "iopub.status.idle": "2021-07-12T08:43:39.572529Z",
     "shell.execute_reply": "2021-07-12T08:43:39.573089Z",
     "shell.execute_reply.started": "2021-07-12T06:59:55.241794Z"
    },
    "papermill": {
     "duration": 0.060236,
     "end_time": "2021-07-12T08:43:39.573370",
     "exception": false,
     "start_time": "2021-07-12T08:43:39.513134",
     "status": "completed"
    },
    "tags": []
   },
   "outputs": [
    {
     "name": "stdout",
     "output_type": "stream",
     "text": [
      "/kaggle/input/edsa-movie-recommendation-challenge/sample_submission.csv\n",
      "/kaggle/input/edsa-movie-recommendation-challenge/movies.csv\n",
      "/kaggle/input/edsa-movie-recommendation-challenge/imdb_data.csv\n",
      "/kaggle/input/edsa-movie-recommendation-challenge/genome_tags.csv\n",
      "/kaggle/input/edsa-movie-recommendation-challenge/genome_scores.csv\n",
      "/kaggle/input/edsa-movie-recommendation-challenge/train.csv\n",
      "/kaggle/input/edsa-movie-recommendation-challenge/test.csv\n",
      "/kaggle/input/edsa-movie-recommendation-challenge/tags.csv\n",
      "/kaggle/input/edsa-movie-recommendation-challenge/links.csv\n"
     ]
    }
   ],
   "source": [
    "# This Python 3 environment comes with many helpful analytics libraries installed\n",
    "# It is defined by the kaggle/python Docker image: https://github.com/kaggle/docker-python\n",
    "# For example, here's several helpful packages to load\n",
    "\n",
    "import numpy as np # linear algebra\n",
    "import pandas as pd # data processing, CSV file I/O (e.g. pd.read_csv)\n",
    "\n",
    "# Input data files are available in the read-only \"../input/\" directory\n",
    "# For example, running this (by clicking run or pressing Shift+Enter) will list all files under the input directory\n",
    "\n",
    "import os\n",
    "for dirname, _, filenames in os.walk('/kaggle/input'):\n",
    "    for filename in filenames:\n",
    "        print(os.path.join(dirname, filename))\n",
    "\n",
    "# You can write up to 20GB to the current directory (/kaggle/working/) that gets preserved as output when you create a version using \"Save & Run All\" \n",
    "# You can also write temporary files to /kaggle/temp/, but they won't be saved outside of the current session"
   ]
  },
  {
   "cell_type": "markdown",
   "metadata": {
    "papermill": {
     "duration": 0.040622,
     "end_time": "2021-07-12T08:43:39.655737",
     "exception": false,
     "start_time": "2021-07-12T08:43:39.615115",
     "status": "completed"
    },
    "tags": []
   },
   "source": [
    "## Installing packages\n",
    "Please download all relevant packages in. There is no terminal so you will pip install everything.\n",
    "\n",
    "You can find a list of recommended install from the Intro to Recommender sysytem notebook."
   ]
  },
  {
   "cell_type": "code",
   "execution_count": 2,
   "metadata": {
    "execution": {
     "iopub.execute_input": "2021-07-12T08:43:39.747142Z",
     "iopub.status.busy": "2021-07-12T08:43:39.746496Z",
     "iopub.status.idle": "2021-07-12T08:43:40.583612Z",
     "shell.execute_reply": "2021-07-12T08:43:40.583104Z",
     "shell.execute_reply.started": "2021-07-12T06:59:55.259167Z"
    },
    "papermill": {
     "duration": 0.887245,
     "end_time": "2021-07-12T08:43:40.583747",
     "exception": false,
     "start_time": "2021-07-12T08:43:39.696502",
     "status": "completed"
    },
    "tags": []
   },
   "outputs": [],
   "source": [
    "# Install packages here\n",
    "# Packages for data processing\n",
    "import numpy as np\n",
    "import pandas as pd\n",
    "import datetime\n",
    "from sklearn import preprocessing\n",
    "from sklearn.datasets import make_blobs\n",
    "from sklearn.preprocessing import StandardScaler\n",
    "from sklearn.feature_extraction.text import TfidfVectorizer\n",
    "from sklearn.metrics.pairwise import cosine_similarity\n",
    "import re\n",
    "from scipy.sparse import csr_matrix\n",
    "import scipy as sp\n",
    "\n",
    "\n",
    "# Packages for visualization\n",
    "import matplotlib.pyplot as plt\n",
    "import seaborn as sns\n",
    "%matplotlib inline\n",
    "\n",
    "# Packages for modeling\n",
    "from surprise import Reader\n",
    "from surprise import Dataset\n",
    "from surprise import KNNWithMeans\n",
    "from surprise import KNNBasic\n",
    "from surprise.model_selection import cross_validate\n",
    "from surprise.model_selection import GridSearchCV\n",
    "from surprise import SVD\n",
    "from surprise import SVDpp\n",
    "from surprise import NMF\n",
    "from surprise import SlopeOne\n",
    "from surprise import CoClustering\n",
    "import heapq\n",
    "\n",
    "# Packages for model evaluation\n",
    "from sklearn.metrics import mean_squared_error\n",
    "from sklearn.metrics import mean_absolute_error\n",
    "from time import time\n",
    "\n",
    "# Package to suppress warnings\n",
    "import warnings\n",
    "warnings.filterwarnings(\"ignore\")\n",
    "\n",
    "# Packages for saving models\n",
    "import pickle"
   ]
  },
  {
   "cell_type": "markdown",
   "metadata": {
    "papermill": {
     "duration": 0.040877,
     "end_time": "2021-07-12T08:43:40.665836",
     "exception": false,
     "start_time": "2021-07-12T08:43:40.624959",
     "status": "completed"
    },
    "tags": []
   },
   "source": [
    "## Reading in data"
   ]
  },
  {
   "cell_type": "code",
   "execution_count": 3,
   "metadata": {
    "execution": {
     "iopub.execute_input": "2021-07-12T08:43:40.754943Z",
     "iopub.status.busy": "2021-07-12T08:43:40.754406Z",
     "iopub.status.idle": "2021-07-12T08:44:00.799806Z",
     "shell.execute_reply": "2021-07-12T08:44:00.799321Z",
     "shell.execute_reply.started": "2021-07-12T06:59:56.134653Z"
    },
    "papermill": {
     "duration": 20.093149,
     "end_time": "2021-07-12T08:44:00.799936",
     "exception": false,
     "start_time": "2021-07-12T08:43:40.706787",
     "status": "completed"
    },
    "tags": []
   },
   "outputs": [],
   "source": [
    "df_sample_submission = pd.read_csv('sample_submission.csv')\n",
    "df_movies = pd.read_csv('movies.csv')\n",
    "df_imdb = pd.read_csv('imdb_data.csv')\n",
    "df_genome_scores = pd.read_csv('genome_scores.csv')\n",
    "df_genome_tags = pd.read_csv('genome_tags.csv')\n",
    "df_train = pd.read_csv('train.csv')\n",
    "df_test = pd.read_csv('test.csv')\n",
    "df_tags = pd.read_csv('tags.csv')\n",
    "df_links = pd.read_csv('links.csv')"
   ]
  },
  {
   "cell_type": "markdown",
   "metadata": {
    "papermill": {
     "duration": 0.040819,
     "end_time": "2021-07-12T08:44:00.881833",
     "exception": false,
     "start_time": "2021-07-12T08:44:00.841014",
     "status": "completed"
    },
    "tags": []
   },
   "source": [
    "## Exploring the Data\n",
    "\n",
    "Before we can build our models it is important to just get a basic understanding of the data we are working with so that we can make use of feature engineering, pre-process the data accurately and choose the right models. In this section we will display and draw insights from the data we are working with by using both visual and non-visual display methods."
   ]
  },
  {
   "cell_type": "markdown",
   "metadata": {
    "papermill": {
     "duration": 0.040407,
     "end_time": "2021-07-12T08:44:00.962773",
     "exception": false,
     "start_time": "2021-07-12T08:44:00.922366",
     "status": "completed"
    },
    "tags": []
   },
   "source": [
    "### **Dataset Descriptions**\n",
    "\n",
    "The supplied dataset comprises the following:\n",
    "\n",
    "1. **genome_scores.csv** - A score mapping the strength between movies and tag-related properties\n",
    "2. **train.csv** - The training split of the dataset. Contains user and movie IDs with associated rating data\n",
    "3. **test.csv** - The test split of the dataset. Contains user and movie IDs with no rating data\n",
    "4. **tags.csv** - User assigned for the movies within the dataset\n",
    "5. **links.csv** - File providing a mapping between a movie ID, IMDB IDs and TMDB IDs\n",
    "6. **movies** - File providing details about the title of the movie, genres and movieID that further can be used to merge to other related dataset\n",
    "7. **imdb_data.csv** - Additional movie metadata scraped from IMDB using the links.csv file\n",
    "8. **genome_tags.csv** - User assigned tags for genome-related scores\n"
   ]
  },
  {
   "cell_type": "markdown",
   "metadata": {
    "papermill": {
     "duration": 0.040498,
     "end_time": "2021-07-12T08:44:01.044096",
     "exception": false,
     "start_time": "2021-07-12T08:44:01.003598",
     "status": "completed"
    },
    "tags": []
   },
   "source": [
    "## Overview of the entire Dataset"
   ]
  },
  {
   "cell_type": "code",
   "execution_count": 4,
   "metadata": {
    "execution": {
     "iopub.execute_input": "2021-07-12T08:44:01.151148Z",
     "iopub.status.busy": "2021-07-12T08:44:01.150306Z",
     "iopub.status.idle": "2021-07-12T08:44:01.157716Z",
     "shell.execute_reply": "2021-07-12T08:44:01.158110Z",
     "shell.execute_reply.started": "2021-07-12T07:00:16.978349Z"
    },
    "papermill": {
     "duration": 0.0729,
     "end_time": "2021-07-12T08:44:01.158234",
     "exception": false,
     "start_time": "2021-07-12T08:44:01.085334",
     "status": "completed"
    },
    "tags": []
   },
   "outputs": [
    {
     "data": {
      "text/html": [
       "<div>\n",
       "<style scoped>\n",
       "    .dataframe tbody tr th:only-of-type {\n",
       "        vertical-align: middle;\n",
       "    }\n",
       "\n",
       "    .dataframe tbody tr th {\n",
       "        vertical-align: top;\n",
       "    }\n",
       "\n",
       "    .dataframe thead th {\n",
       "        text-align: right;\n",
       "    }\n",
       "</style>\n",
       "<table border=\"1\" class=\"dataframe\">\n",
       "  <thead>\n",
       "    <tr style=\"text-align: right;\">\n",
       "      <th></th>\n",
       "      <th>rows</th>\n",
       "      <th>columns</th>\n",
       "    </tr>\n",
       "  </thead>\n",
       "  <tbody>\n",
       "    <tr>\n",
       "      <th>genome_scores</th>\n",
       "      <td>15584448</td>\n",
       "      <td>3</td>\n",
       "    </tr>\n",
       "    <tr>\n",
       "      <th>train</th>\n",
       "      <td>10000038</td>\n",
       "      <td>4</td>\n",
       "    </tr>\n",
       "    <tr>\n",
       "      <th>test</th>\n",
       "      <td>5000019</td>\n",
       "      <td>2</td>\n",
       "    </tr>\n",
       "    <tr>\n",
       "      <th>tags</th>\n",
       "      <td>1093360</td>\n",
       "      <td>4</td>\n",
       "    </tr>\n",
       "    <tr>\n",
       "      <th>links</th>\n",
       "      <td>62423</td>\n",
       "      <td>3</td>\n",
       "    </tr>\n",
       "    <tr>\n",
       "      <th>movies</th>\n",
       "      <td>62423</td>\n",
       "      <td>3</td>\n",
       "    </tr>\n",
       "    <tr>\n",
       "      <th>imdb_data</th>\n",
       "      <td>27278</td>\n",
       "      <td>6</td>\n",
       "    </tr>\n",
       "    <tr>\n",
       "      <th>genome_tags</th>\n",
       "      <td>1128</td>\n",
       "      <td>2</td>\n",
       "    </tr>\n",
       "  </tbody>\n",
       "</table>\n",
       "</div>"
      ],
      "text/plain": [
       "                   rows  columns\n",
       "genome_scores  15584448        3\n",
       "train          10000038        4\n",
       "test            5000019        2\n",
       "tags            1093360        4\n",
       "links             62423        3\n",
       "movies            62423        3\n",
       "imdb_data         27278        6\n",
       "genome_tags        1128        2"
      ]
     },
     "execution_count": 4,
     "metadata": {},
     "output_type": "execute_result"
    }
   ],
   "source": [
    "# Creating a list that contains the names of all the dataframes \n",
    "dfs = [df_train, df_test, df_genome_scores, df_genome_tags, df_imdb, df_links, df_movies, df_tags]\n",
    "\n",
    "# Create a list of the names of the imported datasets\n",
    "df_names = ['train', 'test', 'genome_scores', 'genome_tags',\n",
    "            'imdb_data', 'links', 'movies', 'tags']\n",
    "\n",
    "# Creating an empty dictionary\n",
    "dfs_dict = {}  \n",
    "\n",
    "# Iterating over the list and dictionary\n",
    "for name, data in zip(df_names, dfs):  \n",
    "    dfs_dict[name] = [data.shape[0], data.shape[1]]\n",
    "    df_prop = pd.DataFrame(dfs_dict,\n",
    "                          index=['rows', 'columns']).transpose()\n",
    "df_entries_count = df_prop.sort_values(by='rows', ascending=False)\n",
    "\n",
    "# Viewing the final output\n",
    "df_entries_count  "
   ]
  },
  {
   "cell_type": "markdown",
   "metadata": {
    "papermill": {
     "duration": 0.041064,
     "end_time": "2021-07-12T08:44:01.240399",
     "exception": false,
     "start_time": "2021-07-12T08:44:01.199335",
     "status": "completed"
    },
    "tags": []
   },
   "source": [
    "The Dataframe above displayed above has all the various dataframes in our entire data set. This is vital information as it shows us how many entries are in each datframe and the columns they each have."
   ]
  },
  {
   "cell_type": "code",
   "execution_count": 5,
   "metadata": {
    "execution": {
     "iopub.execute_input": "2021-07-12T08:44:01.330752Z",
     "iopub.status.busy": "2021-07-12T08:44:01.330008Z",
     "iopub.status.idle": "2021-07-12T08:44:01.334926Z",
     "shell.execute_reply": "2021-07-12T08:44:01.334504Z",
     "shell.execute_reply.started": "2021-07-12T07:00:17.012785Z"
    },
    "papermill": {
     "duration": 0.053335,
     "end_time": "2021-07-12T08:44:01.335051",
     "exception": false,
     "start_time": "2021-07-12T08:44:01.281716",
     "status": "completed"
    },
    "tags": []
   },
   "outputs": [
    {
     "data": {
      "text/html": [
       "<div>\n",
       "<style scoped>\n",
       "    .dataframe tbody tr th:only-of-type {\n",
       "        vertical-align: middle;\n",
       "    }\n",
       "\n",
       "    .dataframe tbody tr th {\n",
       "        vertical-align: top;\n",
       "    }\n",
       "\n",
       "    .dataframe thead th {\n",
       "        text-align: right;\n",
       "    }\n",
       "</style>\n",
       "<table border=\"1\" class=\"dataframe\">\n",
       "  <thead>\n",
       "    <tr style=\"text-align: right;\">\n",
       "      <th></th>\n",
       "      <th>userId</th>\n",
       "      <th>movieId</th>\n",
       "      <th>rating</th>\n",
       "      <th>timestamp</th>\n",
       "    </tr>\n",
       "  </thead>\n",
       "  <tbody>\n",
       "    <tr>\n",
       "      <th>0</th>\n",
       "      <td>5163</td>\n",
       "      <td>57669</td>\n",
       "      <td>4.0</td>\n",
       "      <td>1518349992</td>\n",
       "    </tr>\n",
       "    <tr>\n",
       "      <th>1</th>\n",
       "      <td>106343</td>\n",
       "      <td>5</td>\n",
       "      <td>4.5</td>\n",
       "      <td>1206238739</td>\n",
       "    </tr>\n",
       "    <tr>\n",
       "      <th>2</th>\n",
       "      <td>146790</td>\n",
       "      <td>5459</td>\n",
       "      <td>5.0</td>\n",
       "      <td>1076215539</td>\n",
       "    </tr>\n",
       "    <tr>\n",
       "      <th>3</th>\n",
       "      <td>106362</td>\n",
       "      <td>32296</td>\n",
       "      <td>2.0</td>\n",
       "      <td>1423042565</td>\n",
       "    </tr>\n",
       "    <tr>\n",
       "      <th>4</th>\n",
       "      <td>9041</td>\n",
       "      <td>366</td>\n",
       "      <td>3.0</td>\n",
       "      <td>833375837</td>\n",
       "    </tr>\n",
       "  </tbody>\n",
       "</table>\n",
       "</div>"
      ],
      "text/plain": [
       "   userId  movieId  rating   timestamp\n",
       "0    5163    57669     4.0  1518349992\n",
       "1  106343        5     4.5  1206238739\n",
       "2  146790     5459     5.0  1076215539\n",
       "3  106362    32296     2.0  1423042565\n",
       "4    9041      366     3.0   833375837"
      ]
     },
     "execution_count": 5,
     "metadata": {},
     "output_type": "execute_result"
    }
   ],
   "source": [
    "# Viewing the train data to see the data present in the table\n",
    "df_train.head()"
   ]
  },
  {
   "cell_type": "code",
   "execution_count": 6,
   "metadata": {
    "execution": {
     "iopub.execute_input": "2021-07-12T08:44:01.429657Z",
     "iopub.status.busy": "2021-07-12T08:44:01.429114Z",
     "iopub.status.idle": "2021-07-12T08:44:01.434314Z",
     "shell.execute_reply": "2021-07-12T08:44:01.433866Z",
     "shell.execute_reply.started": "2021-07-12T07:00:17.024430Z"
    },
    "papermill": {
     "duration": 0.056157,
     "end_time": "2021-07-12T08:44:01.434418",
     "exception": false,
     "start_time": "2021-07-12T08:44:01.378261",
     "status": "completed"
    },
    "tags": []
   },
   "outputs": [
    {
     "name": "stdout",
     "output_type": "stream",
     "text": [
      "<class 'pandas.core.frame.DataFrame'>\n",
      "RangeIndex: 10000038 entries, 0 to 10000037\n",
      "Data columns (total 4 columns):\n",
      " #   Column     Dtype  \n",
      "---  ------     -----  \n",
      " 0   userId     int64  \n",
      " 1   movieId    int64  \n",
      " 2   rating     float64\n",
      " 3   timestamp  int64  \n",
      "dtypes: float64(1), int64(3)\n",
      "memory usage: 305.2 MB\n"
     ]
    }
   ],
   "source": [
    "# Viewing the inforation of the train data, the object types, the totak number of columns etc\n",
    "df_train.info()"
   ]
  },
  {
   "cell_type": "markdown",
   "metadata": {
    "papermill": {
     "duration": 0.041451,
     "end_time": "2021-07-12T08:44:01.519184",
     "exception": false,
     "start_time": "2021-07-12T08:44:01.477733",
     "status": "completed"
    },
    "tags": []
   },
   "source": [
    "Our train data set has 10000038 entries, 4 columns, 1 float type data and 3 integer type data."
   ]
  },
  {
   "cell_type": "code",
   "execution_count": 7,
   "metadata": {
    "execution": {
     "iopub.execute_input": "2021-07-12T08:44:01.607730Z",
     "iopub.status.busy": "2021-07-12T08:44:01.606780Z",
     "iopub.status.idle": "2021-07-12T08:44:01.688087Z",
     "shell.execute_reply": "2021-07-12T08:44:01.688526Z",
     "shell.execute_reply.started": "2021-07-12T07:00:17.038848Z"
    },
    "papermill": {
     "duration": 0.127791,
     "end_time": "2021-07-12T08:44:01.688672",
     "exception": false,
     "start_time": "2021-07-12T08:44:01.560881",
     "status": "completed"
    },
    "tags": []
   },
   "outputs": [
    {
     "data": {
      "text/plain": [
       "userId       0\n",
       "movieId      0\n",
       "rating       0\n",
       "timestamp    0\n",
       "dtype: int64"
      ]
     },
     "execution_count": 7,
     "metadata": {},
     "output_type": "execute_result"
    }
   ],
   "source": [
    "df_train.isnull().sum()"
   ]
  },
  {
   "cell_type": "markdown",
   "metadata": {
    "papermill": {
     "duration": 0.04164,
     "end_time": "2021-07-12T08:44:01.772852",
     "exception": false,
     "start_time": "2021-07-12T08:44:01.731212",
     "status": "completed"
    },
    "tags": []
   },
   "source": [
    "There are zero null values in the train dataframe."
   ]
  },
  {
   "cell_type": "code",
   "execution_count": 8,
   "metadata": {
    "execution": {
     "iopub.execute_input": "2021-07-12T08:44:01.863722Z",
     "iopub.status.busy": "2021-07-12T08:44:01.863127Z",
     "iopub.status.idle": "2021-07-12T08:44:01.866230Z",
     "shell.execute_reply": "2021-07-12T08:44:01.866664Z",
     "shell.execute_reply.started": "2021-07-12T07:00:17.125857Z"
    },
    "papermill": {
     "duration": 0.052102,
     "end_time": "2021-07-12T08:44:01.866788",
     "exception": false,
     "start_time": "2021-07-12T08:44:01.814686",
     "status": "completed"
    },
    "tags": []
   },
   "outputs": [
    {
     "data": {
      "text/html": [
       "<div>\n",
       "<style scoped>\n",
       "    .dataframe tbody tr th:only-of-type {\n",
       "        vertical-align: middle;\n",
       "    }\n",
       "\n",
       "    .dataframe tbody tr th {\n",
       "        vertical-align: top;\n",
       "    }\n",
       "\n",
       "    .dataframe thead th {\n",
       "        text-align: right;\n",
       "    }\n",
       "</style>\n",
       "<table border=\"1\" class=\"dataframe\">\n",
       "  <thead>\n",
       "    <tr style=\"text-align: right;\">\n",
       "      <th></th>\n",
       "      <th>userId</th>\n",
       "      <th>movieId</th>\n",
       "    </tr>\n",
       "  </thead>\n",
       "  <tbody>\n",
       "    <tr>\n",
       "      <th>0</th>\n",
       "      <td>1</td>\n",
       "      <td>2011</td>\n",
       "    </tr>\n",
       "    <tr>\n",
       "      <th>1</th>\n",
       "      <td>1</td>\n",
       "      <td>4144</td>\n",
       "    </tr>\n",
       "    <tr>\n",
       "      <th>2</th>\n",
       "      <td>1</td>\n",
       "      <td>5767</td>\n",
       "    </tr>\n",
       "    <tr>\n",
       "      <th>3</th>\n",
       "      <td>1</td>\n",
       "      <td>6711</td>\n",
       "    </tr>\n",
       "    <tr>\n",
       "      <th>4</th>\n",
       "      <td>1</td>\n",
       "      <td>7318</td>\n",
       "    </tr>\n",
       "  </tbody>\n",
       "</table>\n",
       "</div>"
      ],
      "text/plain": [
       "   userId  movieId\n",
       "0       1     2011\n",
       "1       1     4144\n",
       "2       1     5767\n",
       "3       1     6711\n",
       "4       1     7318"
      ]
     },
     "execution_count": 8,
     "metadata": {},
     "output_type": "execute_result"
    }
   ],
   "source": [
    "df_test.head()"
   ]
  },
  {
   "cell_type": "markdown",
   "metadata": {
    "papermill": {
     "duration": 0.042524,
     "end_time": "2021-07-12T08:44:01.951395",
     "exception": false,
     "start_time": "2021-07-12T08:44:01.908871",
     "status": "completed"
    },
    "tags": []
   },
   "source": [
    "Our test dataframe only has two columns, which is two columns less than the train dataframe. The data we use to test the models later on in the notebook should have the same numnber of columns as the train dataframe, whatever changes we apply to the train data should be applied to the testing data prior to modelling. In a later stage two more columns will be added to the test dataframe."
   ]
  },
  {
   "cell_type": "code",
   "execution_count": 9,
   "metadata": {
    "execution": {
     "iopub.execute_input": "2021-07-12T08:44:02.043734Z",
     "iopub.status.busy": "2021-07-12T08:44:02.043169Z",
     "iopub.status.idle": "2021-07-12T08:44:02.048692Z",
     "shell.execute_reply": "2021-07-12T08:44:02.049228Z",
     "shell.execute_reply.started": "2021-07-12T07:00:17.137101Z"
    },
    "papermill": {
     "duration": 0.055921,
     "end_time": "2021-07-12T08:44:02.049405",
     "exception": false,
     "start_time": "2021-07-12T08:44:01.993484",
     "status": "completed"
    },
    "tags": []
   },
   "outputs": [
    {
     "name": "stdout",
     "output_type": "stream",
     "text": [
      "<class 'pandas.core.frame.DataFrame'>\n",
      "RangeIndex: 5000019 entries, 0 to 5000018\n",
      "Data columns (total 2 columns):\n",
      " #   Column   Dtype\n",
      "---  ------   -----\n",
      " 0   userId   int64\n",
      " 1   movieId  int64\n",
      "dtypes: int64(2)\n",
      "memory usage: 76.3 MB\n"
     ]
    }
   ],
   "source": [
    "df_test.info()"
   ]
  },
  {
   "cell_type": "markdown",
   "metadata": {
    "papermill": {
     "duration": 0.04268,
     "end_time": "2021-07-12T08:44:02.136684",
     "exception": false,
     "start_time": "2021-07-12T08:44:02.094004",
     "status": "completed"
    },
    "tags": []
   },
   "source": [
    "Our test datframe has 5000019 entries, two columns which are interger type data."
   ]
  },
  {
   "cell_type": "code",
   "execution_count": 10,
   "metadata": {
    "execution": {
     "iopub.execute_input": "2021-07-12T08:44:02.227280Z",
     "iopub.status.busy": "2021-07-12T08:44:02.226525Z",
     "iopub.status.idle": "2021-07-12T08:44:02.241913Z",
     "shell.execute_reply": "2021-07-12T08:44:02.241521Z",
     "shell.execute_reply.started": "2021-07-12T07:00:17.152363Z"
    },
    "papermill": {
     "duration": 0.061735,
     "end_time": "2021-07-12T08:44:02.242027",
     "exception": false,
     "start_time": "2021-07-12T08:44:02.180292",
     "status": "completed"
    },
    "tags": []
   },
   "outputs": [
    {
     "data": {
      "text/plain": [
       "userId     0\n",
       "movieId    0\n",
       "dtype: int64"
      ]
     },
     "execution_count": 10,
     "metadata": {},
     "output_type": "execute_result"
    }
   ],
   "source": [
    "df_test.isnull().sum()"
   ]
  },
  {
   "cell_type": "markdown",
   "metadata": {
    "papermill": {
     "duration": 0.042941,
     "end_time": "2021-07-12T08:44:02.327720",
     "exception": false,
     "start_time": "2021-07-12T08:44:02.284779",
     "status": "completed"
    },
    "tags": []
   },
   "source": [
    "There are zero null values in the test dataframe."
   ]
  },
  {
   "cell_type": "code",
   "execution_count": 11,
   "metadata": {
    "execution": {
     "iopub.execute_input": "2021-07-12T08:44:02.423761Z",
     "iopub.status.busy": "2021-07-12T08:44:02.423179Z",
     "iopub.status.idle": "2021-07-12T08:44:02.429186Z",
     "shell.execute_reply": "2021-07-12T08:44:02.428752Z",
     "shell.execute_reply.started": "2021-07-12T07:00:17.175105Z"
    },
    "papermill": {
     "duration": 0.058237,
     "end_time": "2021-07-12T08:44:02.429309",
     "exception": false,
     "start_time": "2021-07-12T08:44:02.371072",
     "status": "completed"
    },
    "tags": []
   },
   "outputs": [
    {
     "data": {
      "text/html": [
       "<div>\n",
       "<style scoped>\n",
       "    .dataframe tbody tr th:only-of-type {\n",
       "        vertical-align: middle;\n",
       "    }\n",
       "\n",
       "    .dataframe tbody tr th {\n",
       "        vertical-align: top;\n",
       "    }\n",
       "\n",
       "    .dataframe thead th {\n",
       "        text-align: right;\n",
       "    }\n",
       "</style>\n",
       "<table border=\"1\" class=\"dataframe\">\n",
       "  <thead>\n",
       "    <tr style=\"text-align: right;\">\n",
       "      <th></th>\n",
       "      <th>movieId</th>\n",
       "      <th>title</th>\n",
       "      <th>genres</th>\n",
       "    </tr>\n",
       "  </thead>\n",
       "  <tbody>\n",
       "    <tr>\n",
       "      <th>0</th>\n",
       "      <td>1</td>\n",
       "      <td>Toy Story (1995)</td>\n",
       "      <td>Adventure|Animation|Children|Comedy|Fantasy</td>\n",
       "    </tr>\n",
       "    <tr>\n",
       "      <th>1</th>\n",
       "      <td>2</td>\n",
       "      <td>Jumanji (1995)</td>\n",
       "      <td>Adventure|Children|Fantasy</td>\n",
       "    </tr>\n",
       "    <tr>\n",
       "      <th>2</th>\n",
       "      <td>3</td>\n",
       "      <td>Grumpier Old Men (1995)</td>\n",
       "      <td>Comedy|Romance</td>\n",
       "    </tr>\n",
       "    <tr>\n",
       "      <th>3</th>\n",
       "      <td>4</td>\n",
       "      <td>Waiting to Exhale (1995)</td>\n",
       "      <td>Comedy|Drama|Romance</td>\n",
       "    </tr>\n",
       "    <tr>\n",
       "      <th>4</th>\n",
       "      <td>5</td>\n",
       "      <td>Father of the Bride Part II (1995)</td>\n",
       "      <td>Comedy</td>\n",
       "    </tr>\n",
       "  </tbody>\n",
       "</table>\n",
       "</div>"
      ],
      "text/plain": [
       "   movieId                               title  \\\n",
       "0        1                    Toy Story (1995)   \n",
       "1        2                      Jumanji (1995)   \n",
       "2        3             Grumpier Old Men (1995)   \n",
       "3        4            Waiting to Exhale (1995)   \n",
       "4        5  Father of the Bride Part II (1995)   \n",
       "\n",
       "                                        genres  \n",
       "0  Adventure|Animation|Children|Comedy|Fantasy  \n",
       "1                   Adventure|Children|Fantasy  \n",
       "2                               Comedy|Romance  \n",
       "3                         Comedy|Drama|Romance  \n",
       "4                                       Comedy  "
      ]
     },
     "execution_count": 11,
     "metadata": {},
     "output_type": "execute_result"
    }
   ],
   "source": [
    "df_movies.head()"
   ]
  },
  {
   "cell_type": "code",
   "execution_count": 12,
   "metadata": {
    "execution": {
     "iopub.execute_input": "2021-07-12T08:44:02.524640Z",
     "iopub.status.busy": "2021-07-12T08:44:02.524078Z",
     "iopub.status.idle": "2021-07-12T08:44:02.527351Z",
     "shell.execute_reply": "2021-07-12T08:44:02.527777Z",
     "shell.execute_reply.started": "2021-07-12T07:00:17.185547Z"
    },
    "papermill": {
     "duration": 0.054431,
     "end_time": "2021-07-12T08:44:02.527895",
     "exception": false,
     "start_time": "2021-07-12T08:44:02.473464",
     "status": "completed"
    },
    "tags": []
   },
   "outputs": [
    {
     "data": {
      "text/html": [
       "<div>\n",
       "<style scoped>\n",
       "    .dataframe tbody tr th:only-of-type {\n",
       "        vertical-align: middle;\n",
       "    }\n",
       "\n",
       "    .dataframe tbody tr th {\n",
       "        vertical-align: top;\n",
       "    }\n",
       "\n",
       "    .dataframe thead th {\n",
       "        text-align: right;\n",
       "    }\n",
       "</style>\n",
       "<table border=\"1\" class=\"dataframe\">\n",
       "  <thead>\n",
       "    <tr style=\"text-align: right;\">\n",
       "      <th></th>\n",
       "      <th>Id</th>\n",
       "      <th>rating</th>\n",
       "    </tr>\n",
       "  </thead>\n",
       "  <tbody>\n",
       "    <tr>\n",
       "      <th>0</th>\n",
       "      <td>1_2011</td>\n",
       "      <td>1.0</td>\n",
       "    </tr>\n",
       "    <tr>\n",
       "      <th>1</th>\n",
       "      <td>1_4144</td>\n",
       "      <td>1.0</td>\n",
       "    </tr>\n",
       "    <tr>\n",
       "      <th>2</th>\n",
       "      <td>1_5767</td>\n",
       "      <td>1.0</td>\n",
       "    </tr>\n",
       "    <tr>\n",
       "      <th>3</th>\n",
       "      <td>1_6711</td>\n",
       "      <td>1.0</td>\n",
       "    </tr>\n",
       "    <tr>\n",
       "      <th>4</th>\n",
       "      <td>1_7318</td>\n",
       "      <td>1.0</td>\n",
       "    </tr>\n",
       "  </tbody>\n",
       "</table>\n",
       "</div>"
      ],
      "text/plain": [
       "       Id  rating\n",
       "0  1_2011     1.0\n",
       "1  1_4144     1.0\n",
       "2  1_5767     1.0\n",
       "3  1_6711     1.0\n",
       "4  1_7318     1.0"
      ]
     },
     "execution_count": 12,
     "metadata": {},
     "output_type": "execute_result"
    }
   ],
   "source": [
    "df_sample_submission.head()"
   ]
  },
  {
   "cell_type": "markdown",
   "metadata": {
    "papermill": {
     "duration": 0.043302,
     "end_time": "2021-07-12T08:44:02.615886",
     "exception": false,
     "start_time": "2021-07-12T08:44:02.572584",
     "status": "completed"
    },
    "tags": []
   },
   "source": [
    "## EDA\n",
    "Discovery phase and data understanding"
   ]
  },
  {
   "cell_type": "markdown",
   "metadata": {
    "papermill": {
     "duration": 0.044143,
     "end_time": "2021-07-12T08:44:02.703346",
     "exception": false,
     "start_time": "2021-07-12T08:44:02.659203",
     "status": "completed"
    },
    "tags": []
   },
   "source": [
    "**Most common Genres**"
   ]
  },
  {
   "cell_type": "code",
   "execution_count": 13,
   "metadata": {
    "execution": {
     "iopub.execute_input": "2021-07-12T08:44:02.802856Z",
     "iopub.status.busy": "2021-07-12T08:44:02.797392Z",
     "iopub.status.idle": "2021-07-12T08:44:03.060967Z",
     "shell.execute_reply": "2021-07-12T08:44:03.061390Z",
     "shell.execute_reply.started": "2021-07-12T07:00:17.199140Z"
    },
    "papermill": {
     "duration": 0.314743,
     "end_time": "2021-07-12T08:44:03.061545",
     "exception": false,
     "start_time": "2021-07-12T08:44:02.746802",
     "status": "completed"
    },
    "tags": []
   },
   "outputs": [
    {
     "data": {
      "text/html": [
       "<div>\n",
       "<style scoped>\n",
       "    .dataframe tbody tr th:only-of-type {\n",
       "        vertical-align: middle;\n",
       "    }\n",
       "\n",
       "    .dataframe tbody tr th {\n",
       "        vertical-align: top;\n",
       "    }\n",
       "\n",
       "    .dataframe thead th {\n",
       "        text-align: right;\n",
       "    }\n",
       "</style>\n",
       "<table border=\"1\" class=\"dataframe\">\n",
       "  <thead>\n",
       "    <tr style=\"text-align: right;\">\n",
       "      <th></th>\n",
       "      <th>movieId</th>\n",
       "      <th>genres</th>\n",
       "    </tr>\n",
       "  </thead>\n",
       "  <tbody>\n",
       "    <tr>\n",
       "      <th>0</th>\n",
       "      <td>1</td>\n",
       "      <td>Adventure</td>\n",
       "    </tr>\n",
       "    <tr>\n",
       "      <th>1</th>\n",
       "      <td>1</td>\n",
       "      <td>Animation</td>\n",
       "    </tr>\n",
       "    <tr>\n",
       "      <th>2</th>\n",
       "      <td>1</td>\n",
       "      <td>Children</td>\n",
       "    </tr>\n",
       "    <tr>\n",
       "      <th>3</th>\n",
       "      <td>1</td>\n",
       "      <td>Comedy</td>\n",
       "    </tr>\n",
       "    <tr>\n",
       "      <th>4</th>\n",
       "      <td>1</td>\n",
       "      <td>Fantasy</td>\n",
       "    </tr>\n",
       "  </tbody>\n",
       "</table>\n",
       "</div>"
      ],
      "text/plain": [
       "   movieId     genres\n",
       "0        1  Adventure\n",
       "1        1  Animation\n",
       "2        1   Children\n",
       "3        1     Comedy\n",
       "4        1    Fantasy"
      ]
     },
     "execution_count": 13,
     "metadata": {},
     "output_type": "execute_result"
    }
   ],
   "source": [
    "# Create dataframe containing only the movieId and genres\n",
    "movies_genres = pd.DataFrame(df_movies[['movieId', 'genres']],\n",
    "                             columns=['movieId', 'genres'])\n",
    "\n",
    "# Split genres seperated by \"|\" and create a list containing the genres allocated to each movie\n",
    "movies_genres.genres = movies_genres.genres.apply(lambda x: x.split('|'))\n",
    "\n",
    "# Create expanded dataframe where each movie-genre combination is in a seperate row\n",
    "movies_genres = pd.DataFrame([(tup.movieId, d) for tup in movies_genres.itertuples() for d in tup.genres],\n",
    "                             columns=['movieId', 'genres'])\n",
    "\n",
    "movies_genres.head()"
   ]
  },
  {
   "cell_type": "code",
   "execution_count": 14,
   "metadata": {
    "execution": {
     "iopub.execute_input": "2021-07-12T08:44:03.236677Z",
     "iopub.status.busy": "2021-07-12T08:44:03.232077Z",
     "iopub.status.idle": "2021-07-12T08:44:03.744165Z",
     "shell.execute_reply": "2021-07-12T08:44:03.744866Z",
     "shell.execute_reply.started": "2021-07-12T07:00:17.470200Z"
    },
    "papermill": {
     "duration": 0.610838,
     "end_time": "2021-07-12T08:44:03.745024",
     "exception": false,
     "start_time": "2021-07-12T08:44:03.134186",
     "status": "completed"
    },
    "tags": []
   },
   "outputs": [
    {
     "data": {
      "image/png": "[encoded data removed]",
      "text/plain": [
       "<Figure size 1080x720 with 1 Axes>"
      ]
     },
     "metadata": {
      "needs_background": "light"
     },
     "output_type": "display_data"
    }
   ],
   "source": [
    "# Plot the genres from most common to least common\n",
    "plot = plt.figure(figsize=(15, 10))\n",
    "plt.title('Most common genres\\n', fontsize=20)\n",
    "sns.countplot(y=\"genres\", data=movies_genres,\n",
    "              order=movies_genres['genres'].value_counts(ascending=False).index,\n",
    "              palette='Reds_r')\n",
    "plt.show()"
   ]
  },
  {
   "cell_type": "markdown",
   "metadata": {
    "papermill": {
     "duration": 0.044655,
     "end_time": "2021-07-12T08:44:03.835602",
     "exception": false,
     "start_time": "2021-07-12T08:44:03.790947",
     "status": "completed"
    },
    "tags": []
   },
   "source": [
    "The top five most common movie genres are Drama, Comedy, Thriller, Romance and Action. This sugguests that the most watched movies in this data frame belong to these top five genres."
   ]
  },
  {
   "cell_type": "markdown",
   "metadata": {
    "papermill": {
     "duration": 0.045073,
     "end_time": "2021-07-12T08:44:03.925232",
     "exception": false,
     "start_time": "2021-07-12T08:44:03.880159",
     "status": "completed"
    },
    "tags": []
   },
   "source": [
    "Merging various dataframes to create a more comprehensive dataframe for out exploratory data analysis"
   ]
  },
  {
   "cell_type": "code",
   "execution_count": 15,
   "metadata": {
    "execution": {
     "iopub.execute_input": "2021-07-12T08:44:04.020675Z",
     "iopub.status.busy": "2021-07-12T08:44:04.019814Z",
     "iopub.status.idle": "2021-07-12T08:44:08.567462Z",
     "shell.execute_reply": "2021-07-12T08:44:08.567871Z",
     "shell.execute_reply.started": "2021-07-12T07:00:17.828160Z"
    },
    "papermill": {
     "duration": 4.59771,
     "end_time": "2021-07-12T08:44:08.568021",
     "exception": false,
     "start_time": "2021-07-12T08:44:03.970311",
     "status": "completed"
    },
    "tags": []
   },
   "outputs": [
    {
     "data": {
      "text/html": [
       "<div>\n",
       "<style scoped>\n",
       "    .dataframe tbody tr th:only-of-type {\n",
       "        vertical-align: middle;\n",
       "    }\n",
       "\n",
       "    .dataframe tbody tr th {\n",
       "        vertical-align: top;\n",
       "    }\n",
       "\n",
       "    .dataframe thead th {\n",
       "        text-align: right;\n",
       "    }\n",
       "</style>\n",
       "<table border=\"1\" class=\"dataframe\">\n",
       "  <thead>\n",
       "    <tr style=\"text-align: right;\">\n",
       "      <th></th>\n",
       "      <th>userId</th>\n",
       "      <th>movieId</th>\n",
       "      <th>rating</th>\n",
       "      <th>timestamp</th>\n",
       "      <th>title</th>\n",
       "      <th>genres</th>\n",
       "      <th>title_cast</th>\n",
       "      <th>director</th>\n",
       "      <th>runtime</th>\n",
       "      <th>budget</th>\n",
       "      <th>plot_keywords</th>\n",
       "    </tr>\n",
       "  </thead>\n",
       "  <tbody>\n",
       "    <tr>\n",
       "      <th>0</th>\n",
       "      <td>5163</td>\n",
       "      <td>57669</td>\n",
       "      <td>4.0</td>\n",
       "      <td>1518349992</td>\n",
       "      <td>In Bruges (2008)</td>\n",
       "      <td>Comedy|Crime|Drama|Thriller</td>\n",
       "      <td>Elizabeth Berrington|Rudy Blomme|Olivier Bonjo...</td>\n",
       "      <td>Martin McDonagh</td>\n",
       "      <td>107.0</td>\n",
       "      <td>$15,000,000</td>\n",
       "      <td>dwarf|bruges|irish|hitman</td>\n",
       "    </tr>\n",
       "    <tr>\n",
       "      <th>1</th>\n",
       "      <td>106343</td>\n",
       "      <td>5</td>\n",
       "      <td>4.5</td>\n",
       "      <td>1206238739</td>\n",
       "      <td>Father of the Bride Part II (1995)</td>\n",
       "      <td>Comedy</td>\n",
       "      <td>Steve Martin|Diane Keaton|Martin Short|Kimberl...</td>\n",
       "      <td>Albert Hackett</td>\n",
       "      <td>106.0</td>\n",
       "      <td>$30,000,000</td>\n",
       "      <td>fatherhood|doberman|dog|mansion</td>\n",
       "    </tr>\n",
       "    <tr>\n",
       "      <th>2</th>\n",
       "      <td>146790</td>\n",
       "      <td>5459</td>\n",
       "      <td>5.0</td>\n",
       "      <td>1076215539</td>\n",
       "      <td>Men in Black II (a.k.a. MIIB) (a.k.a. MIB 2) (...</td>\n",
       "      <td>Action|Comedy|Sci-Fi</td>\n",
       "      <td>Tommy Lee Jones|Will Smith|Rip Torn|Lara Flynn...</td>\n",
       "      <td>Lowell Cunningham</td>\n",
       "      <td>88.0</td>\n",
       "      <td>$140,000,000</td>\n",
       "      <td>lingerie|michael jackson character|shorthaired...</td>\n",
       "    </tr>\n",
       "    <tr>\n",
       "      <th>3</th>\n",
       "      <td>106362</td>\n",
       "      <td>32296</td>\n",
       "      <td>2.0</td>\n",
       "      <td>1423042565</td>\n",
       "      <td>Miss Congeniality 2: Armed and Fabulous (2005)</td>\n",
       "      <td>Adventure|Comedy|Crime</td>\n",
       "      <td>Sandra Bullock|Regina King|Enrique Murciano|Wi...</td>\n",
       "      <td>Marc Lawrence</td>\n",
       "      <td>115.0</td>\n",
       "      <td>$45,000,000</td>\n",
       "      <td>female protagonist|cleave gag|good woman|fbi</td>\n",
       "    </tr>\n",
       "    <tr>\n",
       "      <th>4</th>\n",
       "      <td>9041</td>\n",
       "      <td>366</td>\n",
       "      <td>3.0</td>\n",
       "      <td>833375837</td>\n",
       "      <td>Wes Craven's New Nightmare (Nightmare on Elm S...</td>\n",
       "      <td>Drama|Horror|Mystery|Thriller</td>\n",
       "      <td>Jeff Davis|Heather Langenkamp|Miko Hughes|Matt...</td>\n",
       "      <td>Wes Craven</td>\n",
       "      <td>112.0</td>\n",
       "      <td>$8,000,000</td>\n",
       "      <td>freddy krueger|elm street|famous director as h...</td>\n",
       "    </tr>\n",
       "  </tbody>\n",
       "</table>\n",
       "</div>"
      ],
      "text/plain": [
       "   userId  movieId  rating   timestamp  \\\n",
       "0    5163    57669     4.0  1518349992   \n",
       "1  106343        5     4.5  1206238739   \n",
       "2  146790     5459     5.0  1076215539   \n",
       "3  106362    32296     2.0  1423042565   \n",
       "4    9041      366     3.0   833375837   \n",
       "\n",
       "                                               title  \\\n",
       "0                                   In Bruges (2008)   \n",
       "1                 Father of the Bride Part II (1995)   \n",
       "2  Men in Black II (a.k.a. MIIB) (a.k.a. MIB 2) (...   \n",
       "3     Miss Congeniality 2: Armed and Fabulous (2005)   \n",
       "4  Wes Craven's New Nightmare (Nightmare on Elm S...   \n",
       "\n",
       "                          genres  \\\n",
       "0    Comedy|Crime|Drama|Thriller   \n",
       "1                         Comedy   \n",
       "2           Action|Comedy|Sci-Fi   \n",
       "3         Adventure|Comedy|Crime   \n",
       "4  Drama|Horror|Mystery|Thriller   \n",
       "\n",
       "                                          title_cast           director  \\\n",
       "0  Elizabeth Berrington|Rudy Blomme|Olivier Bonjo...    Martin McDonagh   \n",
       "1  Steve Martin|Diane Keaton|Martin Short|Kimberl...     Albert Hackett   \n",
       "2  Tommy Lee Jones|Will Smith|Rip Torn|Lara Flynn...  Lowell Cunningham   \n",
       "3  Sandra Bullock|Regina King|Enrique Murciano|Wi...      Marc Lawrence   \n",
       "4  Jeff Davis|Heather Langenkamp|Miko Hughes|Matt...         Wes Craven   \n",
       "\n",
       "   runtime        budget                                      plot_keywords  \n",
       "0    107.0   $15,000,000                          dwarf|bruges|irish|hitman  \n",
       "1    106.0   $30,000,000                    fatherhood|doberman|dog|mansion  \n",
       "2     88.0  $140,000,000  lingerie|michael jackson character|shorthaired...  \n",
       "3    115.0   $45,000,000       female protagonist|cleave gag|good woman|fbi  \n",
       "4    112.0    $8,000,000  freddy krueger|elm street|famous director as h...  "
      ]
     },
     "execution_count": 15,
     "metadata": {},
     "output_type": "execute_result"
    }
   ],
   "source": [
    "# Combining both train and movies datasets by using movieId\n",
    "# as the matching column between both datasets\n",
    "train_movies_df = pd.merge(df_train,\n",
    "                           df_movies,\n",
    "                           how='left',\n",
    "                           on='movieId')\n",
    "\n",
    "# Combining all the observations in movies_metadata_df with imdb_data\n",
    "# using movieId as the matching column between both dataframes\n",
    "movies_imdb_df = pd.merge(train_movies_df,\n",
    "                              df_imdb,\n",
    "                              how='left',\n",
    "                              on='movieId')\n",
    "\n",
    "movies_imdb_df.head()"
   ]
  },
  {
   "cell_type": "markdown",
   "metadata": {
    "papermill": {
     "duration": 0.045673,
     "end_time": "2021-07-12T08:44:08.660551",
     "exception": false,
     "start_time": "2021-07-12T08:44:08.614878",
     "status": "completed"
    },
    "tags": []
   },
   "source": [
    "### Ratings Distribution"
   ]
  },
  {
   "cell_type": "code",
   "execution_count": 16,
   "metadata": {
    "execution": {
     "iopub.execute_input": "2021-07-12T08:44:08.756342Z",
     "iopub.status.busy": "2021-07-12T08:44:08.755392Z",
     "iopub.status.idle": "2021-07-12T08:44:08.820939Z",
     "shell.execute_reply": "2021-07-12T08:44:08.821675Z",
     "shell.execute_reply.started": "2021-07-12T07:00:22.365813Z"
    },
    "papermill": {
     "duration": 0.115688,
     "end_time": "2021-07-12T08:44:08.821920",
     "exception": false,
     "start_time": "2021-07-12T08:44:08.706232",
     "status": "completed"
    },
    "tags": []
   },
   "outputs": [
    {
     "name": "stdout",
     "output_type": "stream",
     "text": [
      "Average rating score in the movies rating distribution is : 3.5333951730983424 \n"
     ]
    }
   ],
   "source": [
    "# Calculating the average movie score rating in our data\n",
    "avg_rating = np.mean(movies_imdb_df[\"rating\"])\n",
    "\n",
    "print(f'Average rating score in the movies rating distribution is : {avg_rating} ')"
   ]
  },
  {
   "cell_type": "code",
   "execution_count": 17,
   "metadata": {
    "execution": {
     "iopub.execute_input": "2021-07-12T08:44:08.982197Z",
     "iopub.status.busy": "2021-07-12T08:44:08.981400Z",
     "iopub.status.idle": "2021-07-12T08:44:19.504185Z",
     "shell.execute_reply": "2021-07-12T08:44:19.503696Z",
     "shell.execute_reply.started": "2021-07-12T07:00:22.430030Z"
    },
    "papermill": {
     "duration": 10.607273,
     "end_time": "2021-07-12T08:44:19.504339",
     "exception": false,
     "start_time": "2021-07-12T08:44:08.897066",
     "status": "completed"
    },
    "tags": []
   },
   "outputs": [
    {
     "data": {
      "image/png": "[encoded data removed]",
      "text/plain": [
       "<Figure size 900x360 with 1 Axes>"
      ]
     },
     "metadata": {},
     "output_type": "display_data"
    }
   ],
   "source": [
    "# Displaying the ratings distrubution of the movies in our dataset\n",
    "with sns.axes_style('darkgrid'):\n",
    "    g = sns.factorplot(\"rating\", data=movies_imdb_df, aspect=2.5, kind='count')\n",
    "    g.set_ylabels(\"Total number of ratings\")"
   ]
  },
  {
   "cell_type": "markdown",
   "metadata": {
    "papermill": {
     "duration": 0.04822,
     "end_time": "2021-07-12T08:44:19.607706",
     "exception": false,
     "start_time": "2021-07-12T08:44:19.559486",
     "status": "completed"
    },
    "tags": []
   },
   "source": [
    "Most of the ratings fall in the 4.0 bucket,these suggests that most of the movies found in this data set are rated slightly above the average rating by the viewers. Not that many movies have a rating below 2, the viewers most likely enjoy the majority of the movies in this dataset."
   ]
  },
  {
   "cell_type": "code",
   "execution_count": 18,
   "metadata": {
    "execution": {
     "iopub.execute_input": "2021-07-12T08:44:20.807379Z",
     "iopub.status.busy": "2021-07-12T08:44:20.806100Z",
     "iopub.status.idle": "2021-07-12T08:44:22.176784Z",
     "shell.execute_reply": "2021-07-12T08:44:22.176321Z",
     "shell.execute_reply.started": "2021-07-12T08:15:27.757595Z"
    },
    "papermill": {
     "duration": 2.516216,
     "end_time": "2021-07-12T08:44:22.176915",
     "exception": false,
     "start_time": "2021-07-12T08:44:19.660699",
     "status": "completed"
    },
    "tags": []
   },
   "outputs": [
    {
     "data": {
      "text/html": [
       "<div>\n",
       "<style scoped>\n",
       "    .dataframe tbody tr th:only-of-type {\n",
       "        vertical-align: middle;\n",
       "    }\n",
       "\n",
       "    .dataframe tbody tr th {\n",
       "        vertical-align: top;\n",
       "    }\n",
       "\n",
       "    .dataframe thead th {\n",
       "        text-align: right;\n",
       "    }\n",
       "</style>\n",
       "<table border=\"1\" class=\"dataframe\">\n",
       "  <thead>\n",
       "    <tr style=\"text-align: right;\">\n",
       "      <th></th>\n",
       "      <th>rating</th>\n",
       "      <th>No_of_ratings</th>\n",
       "    </tr>\n",
       "    <tr>\n",
       "      <th>director</th>\n",
       "      <th></th>\n",
       "      <th></th>\n",
       "    </tr>\n",
       "  </thead>\n",
       "  <tbody>\n",
       "    <tr>\n",
       "      <th>Quentin Tarantino</th>\n",
       "      <td>3.936571</td>\n",
       "      <td>109919</td>\n",
       "    </tr>\n",
       "    <tr>\n",
       "      <th>Michael Crichton</th>\n",
       "      <td>3.273370</td>\n",
       "      <td>65157</td>\n",
       "    </tr>\n",
       "    <tr>\n",
       "      <th>J.R.R. Tolkien</th>\n",
       "      <td>4.080118</td>\n",
       "      <td>62963</td>\n",
       "    </tr>\n",
       "    <tr>\n",
       "      <th>Lilly Wachowski</th>\n",
       "      <td>3.808348</td>\n",
       "      <td>60988</td>\n",
       "    </tr>\n",
       "    <tr>\n",
       "      <th>Stephen King</th>\n",
       "      <td>4.049956</td>\n",
       "      <td>59903</td>\n",
       "    </tr>\n",
       "    <tr>\n",
       "      <th>Ethan Coen</th>\n",
       "      <td>3.947250</td>\n",
       "      <td>51185</td>\n",
       "    </tr>\n",
       "    <tr>\n",
       "      <th>James Cameron</th>\n",
       "      <td>3.687102</td>\n",
       "      <td>51178</td>\n",
       "    </tr>\n",
       "    <tr>\n",
       "      <th>Luc Besson</th>\n",
       "      <td>3.749676</td>\n",
       "      <td>44015</td>\n",
       "    </tr>\n",
       "    <tr>\n",
       "      <th>Jonathan Nolan</th>\n",
       "      <td>4.100516</td>\n",
       "      <td>42645</td>\n",
       "    </tr>\n",
       "    <tr>\n",
       "      <th>Thomas Harris</th>\n",
       "      <td>3.989774</td>\n",
       "      <td>36425</td>\n",
       "    </tr>\n",
       "  </tbody>\n",
       "</table>\n",
       "</div>"
      ],
      "text/plain": [
       "                     rating  No_of_ratings\n",
       "director                                  \n",
       "Quentin Tarantino  3.936571         109919\n",
       "Michael Crichton   3.273370          65157\n",
       "J.R.R. Tolkien     4.080118          62963\n",
       "Lilly Wachowski    3.808348          60988\n",
       "Stephen King       4.049956          59903\n",
       "Ethan Coen         3.947250          51185\n",
       "James Cameron      3.687102          51178\n",
       "Luc Besson         3.749676          44015\n",
       "Jonathan Nolan     4.100516          42645\n",
       "Thomas Harris      3.989774          36425"
      ]
     },
     "execution_count": 18,
     "metadata": {},
     "output_type": "execute_result"
    }
   ],
   "source": [
    "# Directors with the most ratings in the dataset\n",
    "most_rated_director = pd.DataFrame(movies_imdb_df.groupby('director')['rating'].mean().\n",
    "                             sort_values(ascending=False))\n",
    "most_rated_director['No_of_ratings'] = movies_imdb_df.groupby('director')['rating'].count()\n",
    "most_rated_director.sort_values(by=['No_of_ratings', 'rating'], ascending=False).head(10)"
   ]
  },
  {
   "cell_type": "markdown",
   "metadata": {
    "papermill": {
     "duration": 0.047736,
     "end_time": "2021-07-12T08:44:22.283380",
     "exception": false,
     "start_time": "2021-07-12T08:44:22.235644",
     "status": "completed"
    },
    "tags": []
   },
   "source": [
    "The director with the most ratings is Quentin Tarantino, this does not come as a suprise as this director has several blockbuster movies that performed quite well in box office. This director has directed movies such as Pulp Fiction and Kill Bill just to name a few. J.R.R Tolkein, Steven King and Jonathan Nolan have an average rating of 4.0, which is a higher average than all the directors in our data set got.\n",
    "\n",
    "Both Tolkein and King have very succesful book franchises that we later adapted into movies that got a mostly positive reception from the public. Their ratings could be coming from people who have read the books and went on to watch the movies and those who just watched the movies alone, this doubles the total number of views the movies recieved. The movies are not watched by movie fans alone but also book readers. They capture a wider audiance.\n",
    "\n",
    "Johanthan Nolan has directed movies such as Batman: The Dark Knight and The Dark Knight Rises which performed well at the box office bringing in revenues that far outweighted the movie budgets and recieved positive ratings from movie critics and fans alike. It seems to be that the movie viewers in our dataframe enjoy watching his movies as he has a proven track record."
   ]
  },
  {
   "cell_type": "markdown",
   "metadata": {
    "papermill": {
     "duration": 0.048154,
     "end_time": "2021-07-12T08:44:22.385551",
     "exception": false,
     "start_time": "2021-07-12T08:44:22.337397",
     "status": "completed"
    },
    "tags": []
   },
   "source": [
    "### Top Rated Movies"
   ]
  },
  {
   "cell_type": "code",
   "execution_count": 19,
   "metadata": {
    "execution": {
     "iopub.execute_input": "2021-07-12T08:44:24.520764Z",
     "iopub.status.busy": "2021-07-12T08:44:24.519926Z",
     "iopub.status.idle": "2021-07-12T08:44:24.808574Z",
     "shell.execute_reply": "2021-07-12T08:44:24.807666Z",
     "shell.execute_reply.started": "2021-07-12T07:00:32.225882Z"
    },
    "papermill": {
     "duration": 2.37004,
     "end_time": "2021-07-12T08:44:24.808727",
     "exception": false,
     "start_time": "2021-07-12T08:44:22.438687",
     "status": "completed"
    },
    "tags": []
   },
   "outputs": [
    {
     "data": {
      "image/png": "[encoded data removed]",
      "text/plain": [
       "<Figure size 1008x648 with 1 Axes>"
      ]
     },
     "metadata": {
      "needs_background": "light"
     },
     "output_type": "display_data"
    }
   ],
   "source": [
    "def movie_ratings(series):\n",
    "    \"\"\"\n",
    "    This function generates a bar plot of the 10 most rated movies\n",
    "    of all time\n",
    "    \n",
    "    \"\"\"\n",
    "\n",
    "    data = series.value_counts().head(10)\n",
    "    plt.figure(figsize = (14,9))\n",
    "    sns.set_style('darkgrid')\n",
    "    sns.barplot(x = data, y = data.index ,order = data.index, \n",
    "                palette = 'rocket', orient = 'h',edgecolor = \"black\")\n",
    "    plt.ylabel('Movies', fontsize = 15)\n",
    "    plt.xlabel('Number of ratings',fontsize = 15)\n",
    "    plt.title('10 most rated movies of all time',fontsize = 18)\n",
    "    plt.show()\n",
    "\n",
    "movie_ratings(movies_imdb_df['title'])"
   ]
  },
  {
   "cell_type": "markdown",
   "metadata": {
    "papermill": {
     "duration": 0.053083,
     "end_time": "2021-07-12T08:44:24.914937",
     "exception": false,
     "start_time": "2021-07-12T08:44:24.861854",
     "status": "completed"
    },
    "tags": []
   },
   "source": [
    "Shawshank Redemption is the most rated movie of all time, one of the contributing factors could be that Morgan Freeman is one of the cast members. The actor has amassed a wealth of respect from movie fans and creaters alike. The book the movie was adopted from was written by Stephen King, a well known writer whose works have been adapted into several movies in Hollywood.Forest Gump and Pulp Fiction follow in 2nd and 3rd place respectively. These two movies also cast all star actors such as Tom Hanks,Samuel L. Jackson and John Travolta."
   ]
  },
  {
   "cell_type": "markdown",
   "metadata": {
    "papermill": {
     "duration": 0.05279,
     "end_time": "2021-07-12T08:44:25.019102",
     "exception": false,
     "start_time": "2021-07-12T08:44:24.966312",
     "status": "completed"
    },
    "tags": []
   },
   "source": [
    "## Data Prepartion"
   ]
  },
  {
   "cell_type": "markdown",
   "metadata": {
    "papermill": {
     "duration": 0.08621,
     "end_time": "2021-07-12T08:44:25.156612",
     "exception": false,
     "start_time": "2021-07-12T08:44:25.070402",
     "status": "completed"
    },
    "tags": []
   },
   "source": [
    "## Feature Engineering"
   ]
  },
  {
   "cell_type": "markdown",
   "metadata": {
    "papermill": {
     "duration": 0.085819,
     "end_time": "2021-07-12T08:44:25.327236",
     "exception": false,
     "start_time": "2021-07-12T08:44:25.241417",
     "status": "completed"
    },
    "tags": []
   },
   "source": [
    "## Splitting the data\n",
    "In order to have a valid validation set free from data leakage we will split the train set so that 20% of the data is not processed or trained on, but is kept solely for the purpose of validation."
   ]
  },
  {
   "cell_type": "code",
   "execution_count": null,
   "metadata": {
    "papermill": {
     "duration": 0.084274,
     "end_time": "2021-07-12T08:44:25.500805",
     "exception": false,
     "start_time": "2021-07-12T08:44:25.416531",
     "status": "completed"
    },
    "tags": []
   },
   "outputs": [],
   "source": []
  },
  {
   "cell_type": "markdown",
   "metadata": {
    "papermill": {
     "duration": 0.083249,
     "end_time": "2021-07-12T08:44:25.667672",
     "exception": false,
     "start_time": "2021-07-12T08:44:25.584423",
     "status": "completed"
    },
    "tags": []
   },
   "source": [
    "## Text Pre-processing\n",
    "\n",
    "In order for the models to train effectively the data needs to be cleaned up and rightly categorized. The data also needs to be standardized so that the differences in the range of numerical metrics do not distort the weights the metrics should contribute to the training of the model."
   ]
  },
  {
   "cell_type": "markdown",
   "metadata": {
    "papermill": {
     "duration": 0.049336,
     "end_time": "2021-07-12T08:44:25.774222",
     "exception": false,
     "start_time": "2021-07-12T08:44:25.724886",
     "status": "completed"
    },
    "tags": []
   },
   "source": [
    "### Standardizing the train set"
   ]
  },
  {
   "cell_type": "code",
   "execution_count": null,
   "metadata": {
    "papermill": {
     "duration": 0.050009,
     "end_time": "2021-07-12T08:44:25.877911",
     "exception": false,
     "start_time": "2021-07-12T08:44:25.827902",
     "status": "completed"
    },
    "tags": []
   },
   "outputs": [],
   "source": []
  },
  {
   "cell_type": "code",
   "execution_count": 20,
   "metadata": {
    "execution": {
     "iopub.execute_input": "2021-07-12T08:44:25.985682Z",
     "iopub.status.busy": "2021-07-12T08:44:25.984961Z",
     "iopub.status.idle": "2021-07-12T08:44:25.987423Z",
     "shell.execute_reply": "2021-07-12T08:44:25.987804Z",
     "shell.execute_reply.started": "2021-07-12T07:00:34.992383Z"
    },
    "papermill": {
     "duration": 0.058082,
     "end_time": "2021-07-12T08:44:25.987932",
     "exception": false,
     "start_time": "2021-07-12T08:44:25.929850",
     "status": "completed"
    },
    "tags": []
   },
   "outputs": [],
   "source": [
    "## Here you will sort your data out and process it accordingly"
   ]
  },
  {
   "cell_type": "markdown",
   "metadata": {
    "papermill": {
     "duration": 0.052226,
     "end_time": "2021-07-12T08:44:26.092838",
     "exception": false,
     "start_time": "2021-07-12T08:44:26.040612",
     "status": "completed"
    },
    "tags": []
   },
   "source": [
    "## Modelling phase\n",
    "\n",
    "Here you can apply the models outline in the Intro to Recommender Notebook. You only need to apply one version \n",
    "be it Content based or Collabrative method\n",
    "\n"
   ]
  },
  {
   "cell_type": "markdown",
   "metadata": {
    "papermill": {
     "duration": 0.051211,
     "end_time": "2021-07-12T08:44:26.196513",
     "exception": false,
     "start_time": "2021-07-12T08:44:26.145302",
     "status": "completed"
    },
    "tags": []
   },
   "source": [
    "## Model Building, training and assessment"
   ]
  },
  {
   "cell_type": "code",
   "execution_count": 21,
   "metadata": {
    "execution": {
     "iopub.execute_input": "2021-07-12T08:44:26.303492Z",
     "iopub.status.busy": "2021-07-12T08:44:26.302736Z",
     "iopub.status.idle": "2021-07-12T08:44:26.305580Z",
     "shell.execute_reply": "2021-07-12T08:44:26.305097Z",
     "shell.execute_reply.started": "2021-07-12T07:00:34.998302Z"
    },
    "papermill": {
     "duration": 0.057725,
     "end_time": "2021-07-12T08:44:26.305687",
     "exception": false,
     "start_time": "2021-07-12T08:44:26.247962",
     "status": "completed"
    },
    "tags": []
   },
   "outputs": [],
   "source": [
    "# Apply your modelling here"
   ]
  },
  {
   "cell_type": "markdown",
   "metadata": {
    "papermill": {
     "duration": 0.051214,
     "end_time": "2021-07-12T08:44:26.409749",
     "exception": false,
     "start_time": "2021-07-12T08:44:26.358535",
     "status": "completed"
    },
    "tags": []
   },
   "source": [
    "### Model 1: Building and training"
   ]
  },
  {
   "cell_type": "code",
   "execution_count": null,
   "metadata": {
    "papermill": {
     "duration": 0.052595,
     "end_time": "2021-07-12T08:44:26.513905",
     "exception": false,
     "start_time": "2021-07-12T08:44:26.461310",
     "status": "completed"
    },
    "tags": []
   },
   "outputs": [],
   "source": []
  },
  {
   "cell_type": "markdown",
   "metadata": {
    "papermill": {
     "duration": 0.052439,
     "end_time": "2021-07-12T08:44:26.617951",
     "exception": false,
     "start_time": "2021-07-12T08:44:26.565512",
     "status": "completed"
    },
    "tags": []
   },
   "source": [
    "### Model 1: Assessing the model"
   ]
  },
  {
   "cell_type": "code",
   "execution_count": null,
   "metadata": {
    "papermill": {
     "duration": 0.052511,
     "end_time": "2021-07-12T08:44:26.721586",
     "exception": false,
     "start_time": "2021-07-12T08:44:26.669075",
     "status": "completed"
    },
    "tags": []
   },
   "outputs": [],
   "source": []
  },
  {
   "cell_type": "markdown",
   "metadata": {
    "papermill": {
     "duration": 0.053234,
     "end_time": "2021-07-12T08:44:26.824728",
     "exception": false,
     "start_time": "2021-07-12T08:44:26.771494",
     "status": "completed"
    },
    "tags": []
   },
   "source": [
    "### Model 2: Building and training"
   ]
  },
  {
   "cell_type": "code",
   "execution_count": null,
   "metadata": {
    "papermill": {
     "duration": 0.053078,
     "end_time": "2021-07-12T08:44:26.927958",
     "exception": false,
     "start_time": "2021-07-12T08:44:26.874880",
     "status": "completed"
    },
    "tags": []
   },
   "outputs": [],
   "source": []
  },
  {
   "cell_type": "markdown",
   "metadata": {
    "papermill": {
     "duration": 0.053891,
     "end_time": "2021-07-12T08:44:27.031317",
     "exception": false,
     "start_time": "2021-07-12T08:44:26.977426",
     "status": "completed"
    },
    "tags": []
   },
   "source": [
    "### Model 2: Assessing the model"
   ]
  },
  {
   "cell_type": "code",
   "execution_count": null,
   "metadata": {
    "papermill": {
     "duration": 0.053808,
     "end_time": "2021-07-12T08:44:27.135021",
     "exception": false,
     "start_time": "2021-07-12T08:44:27.081213",
     "status": "completed"
    },
    "tags": []
   },
   "outputs": [],
   "source": []
  },
  {
   "cell_type": "markdown",
   "metadata": {
    "papermill": {
     "duration": 0.053597,
     "end_time": "2021-07-12T08:44:27.238923",
     "exception": false,
     "start_time": "2021-07-12T08:44:27.185326",
     "status": "completed"
    },
    "tags": []
   },
   "source": [
    "## Model Deployment"
   ]
  },
  {
   "cell_type": "code",
   "execution_count": null,
   "metadata": {
    "papermill": {
     "duration": 0.054536,
     "end_time": "2021-07-12T08:44:27.343290",
     "exception": false,
     "start_time": "2021-07-12T08:44:27.288754",
     "status": "completed"
    },
    "tags": []
   },
   "outputs": [],
   "source": []
  },
  {
   "cell_type": "markdown",
   "metadata": {
    "papermill": {
     "duration": 0.054631,
     "end_time": "2021-07-12T08:44:27.447341",
     "exception": false,
     "start_time": "2021-07-12T08:44:27.392710",
     "status": "completed"
    },
    "tags": []
   },
   "source": [
    "### Exporting the best model to the Kaggle leaderboard"
   ]
  },
  {
   "cell_type": "markdown",
   "metadata": {
    "papermill": {
     "duration": 0.051534,
     "end_time": "2021-07-12T08:44:27.963699",
     "exception": false,
     "start_time": "2021-07-12T08:44:27.912165",
     "status": "completed"
    },
    "tags": []
   },
   "source": [
    "Prepare Submission File\n",
    "We make submissions in CSV files. Your submissions usually have two columns: an ID column and a prediction column. The ID field comes from the test data (keeping whatever name the ID field had in that data, which for the data is the string 'Id'). The prediction column will use the name of the target field.\n",
    "\n",
    "We will create a DataFrame with this data, and then use the dataframe's to_csv method to write our submission file. Explicitly include the argument index=False to prevent pandas from adding another column in our csv file."
   ]
  },
  {
   "cell_type": "code",
   "execution_count": 22,
   "metadata": {
    "execution": {
     "iopub.execute_input": "2021-07-12T08:44:28.072810Z",
     "iopub.status.busy": "2021-07-12T08:44:28.071860Z",
     "iopub.status.idle": "2021-07-12T08:44:28.074331Z",
     "shell.execute_reply": "2021-07-12T08:44:28.074819Z",
     "shell.execute_reply.started": "2021-07-12T07:00:35.006841Z"
    },
    "papermill": {
     "duration": 0.058173,
     "end_time": "2021-07-12T08:44:28.074959",
     "exception": false,
     "start_time": "2021-07-12T08:44:28.016786",
     "status": "completed"
    },
    "tags": []
   },
   "outputs": [],
   "source": [
    "# This is an example\n",
    "## my_submission = pd.DataFrame({'id': test.Id, 'rating': test.ratings})\n",
    "# you could use any filename. We choose submission here\n",
    "## my_submission.to_csv('submission.csv', index=False)"
   ]
  },
  {
   "cell_type": "markdown",
   "metadata": {
    "papermill": {
     "duration": 0.049872,
     "end_time": "2021-07-12T08:44:28.176515",
     "exception": false,
     "start_time": "2021-07-12T08:44:28.126643",
     "status": "completed"
    },
    "tags": []
   },
   "source": [
    "\n",
    "### Make Submission\n",
    "Hit the blue Publish button at the top of your notebook screen. It will take some time for your kernel to run. When it has finished your navigation bar at the top of the screen will have a tab for Output. This only shows up if you have written an output file (like we did in the Prepare Submission File step)."
   ]
  },
  {
   "cell_type": "markdown",
   "metadata": {
    "papermill": {
     "duration": 0.050506,
     "end_time": "2021-07-12T08:44:28.280826",
     "exception": false,
     "start_time": "2021-07-12T08:44:28.230320",
     "status": "completed"
    },
    "tags": []
   },
   "source": [
    "Example below of how the output would look once published"
   ]
  },
  {
   "cell_type": "code",
   "execution_count": 23,
   "metadata": {
    "execution": {
     "iopub.execute_input": "2021-07-12T08:44:28.394303Z",
     "iopub.status.busy": "2021-07-12T08:44:28.393407Z",
     "iopub.status.idle": "2021-07-12T08:44:28.397464Z",
     "shell.execute_reply": "2021-07-12T08:44:28.396971Z",
     "shell.execute_reply.started": "2021-07-12T07:00:35.015592Z"
    },
    "papermill": {
     "duration": 0.063728,
     "end_time": "2021-07-12T08:44:28.397592",
     "exception": false,
     "start_time": "2021-07-12T08:44:28.333864",
     "status": "completed"
    },
    "tags": []
   },
   "outputs": [
    {
     "data": {
      "text/html": [
       "<div>\n",
       "<style scoped>\n",
       "    .dataframe tbody tr th:only-of-type {\n",
       "        vertical-align: middle;\n",
       "    }\n",
       "\n",
       "    .dataframe tbody tr th {\n",
       "        vertical-align: top;\n",
       "    }\n",
       "\n",
       "    .dataframe thead th {\n",
       "        text-align: right;\n",
       "    }\n",
       "</style>\n",
       "<table border=\"1\" class=\"dataframe\">\n",
       "  <thead>\n",
       "    <tr style=\"text-align: right;\">\n",
       "      <th></th>\n",
       "      <th>Name</th>\n",
       "      <th>Age</th>\n",
       "    </tr>\n",
       "  </thead>\n",
       "  <tbody>\n",
       "    <tr>\n",
       "      <th>0</th>\n",
       "      <td>tom</td>\n",
       "      <td>10</td>\n",
       "    </tr>\n",
       "    <tr>\n",
       "      <th>1</th>\n",
       "      <td>nick</td>\n",
       "      <td>15</td>\n",
       "    </tr>\n",
       "    <tr>\n",
       "      <th>2</th>\n",
       "      <td>juli</td>\n",
       "      <td>14</td>\n",
       "    </tr>\n",
       "  </tbody>\n",
       "</table>\n",
       "</div>"
      ],
      "text/plain": [
       "   Name  Age\n",
       "0   tom   10\n",
       "1  nick   15\n",
       "2  juli   14"
      ]
     },
     "execution_count": 23,
     "metadata": {},
     "output_type": "execute_result"
    }
   ],
   "source": [
    "# initialize list of lists\n",
    "data = [['tom', 10], ['nick', 15], ['juli', 14]]\n",
    "  \n",
    "# Create the pandas DataFrame\n",
    "df = pd.DataFrame(data, columns = ['Name', 'Age'])\n",
    "  \n",
    "# print dataframe.\n",
    "df"
   ]
  },
  {
   "cell_type": "code",
   "execution_count": 24,
   "metadata": {
    "execution": {
     "iopub.execute_input": "2021-07-12T08:44:28.505835Z",
     "iopub.status.busy": "2021-07-12T08:44:28.505022Z",
     "iopub.status.idle": "2021-07-12T08:44:28.637904Z",
     "shell.execute_reply": "2021-07-12T08:44:28.637486Z",
     "shell.execute_reply.started": "2021-07-12T07:00:35.030685Z"
    },
    "papermill": {
     "duration": 0.187888,
     "end_time": "2021-07-12T08:44:28.638023",
     "exception": false,
     "start_time": "2021-07-12T08:44:28.450135",
     "status": "completed"
    },
    "tags": []
   },
   "outputs": [],
   "source": [
    "df.to_csv('my_test_output.csv', index = False)"
   ]
  },
  {
   "cell_type": "code",
   "execution_count": null,
   "metadata": {
    "papermill": {
     "duration": 0.055084,
     "end_time": "2021-07-12T08:44:28.742633",
     "exception": false,
     "start_time": "2021-07-12T08:44:28.687549",
     "status": "completed"
    },
    "tags": []
   },
   "outputs": [],
   "source": []
  },
  {
   "cell_type": "markdown",
   "metadata": {
    "papermill": {
     "duration": 0.054024,
     "end_time": "2021-07-12T08:44:28.846748",
     "exception": false,
     "start_time": "2021-07-12T08:44:28.792724",
     "status": "completed"
    },
    "tags": []
   },
   "source": [
    "# Conclusion"
   ]
  },
  {
   "cell_type": "markdown",
   "metadata": {
    "papermill": {
     "duration": 0.052883,
     "end_time": "2021-07-12T08:44:28.949560",
     "exception": false,
     "start_time": "2021-07-12T08:44:28.896677",
     "status": "completed"
    },
    "tags": []
   },
   "source": []
  }
 ],
 "metadata": {
  "kernelspec": {
   "display_name": "Python 3",
   "language": "python",
   "name": "python3"
  },
  "language_info": {
   "codemirror_mode": {
    "name": "ipython",
    "version": 3
   },
   "file_extension": ".py",
   "mimetype": "text/x-python",
   "name": "python",
   "nbconvert_exporter": "python",
   "pygments_lexer": "ipython3",
   "version": "3.8.5"
  },
  "papermill": {
   "default_parameters": {},
   "duration": 58.210118,
   "end_time": "2021-07-12T08:44:30.010143",
   "environment_variables": {},
   "exception": null,
   "input_path": "__notebook__.ipynb",
   "output_path": "__notebook__.ipynb",
   "parameters": {},
   "start_time": "2021-07-12T08:43:31.800025",
   "version": "2.3.3"
  },
  "toc": {
   "base_numbering": 1,
   "nav_menu": {},
   "number_sections": true,
   "sideBar": true,
   "skip_h1_title": true,
   "title_cell": "Table of Contents",
   "title_sidebar": "Contents",
   "toc_cell": false,
   "toc_position": {},
   "toc_section_display": true,
   "toc_window_display": true
  }
 },
 "nbformat": 4,
 "nbformat_minor": 5
}
