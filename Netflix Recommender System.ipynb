{
 "cells": [
  {
   "cell_type": "markdown",
   "metadata": {},
   "source": [
    "# Netflix Recommender System"
   ]
  },
  {
   "cell_type": "markdown",
   "metadata": {},
   "source": [
    "<img src=\"https://www.stonesincuba.com/wp-content/uploads/2020/06/Best-Movies-On-Netflix.jpg\" style=\"width:500px;height:600px:\"/>"
   ]
  },
  {
   "cell_type": "markdown",
   "metadata": {
    "toc": true
   },
   "source": [
    "<h1>Table of Contents<span class=\"tocSkip\"></span></h1>\n",
    "<div class=\"toc\"><ul class=\"toc-item\"><li><span><a href=\"#Introduction\" data-toc-modified-id=\"Introduction-1\"><span class=\"toc-item-num\">1&nbsp;&nbsp;</span>Introduction</a></span><ul class=\"toc-item\"><li><span><a href=\"#Objective-of-this-notebook\" data-toc-modified-id=\"Objective-of-this-notebook-1.1\"><span class=\"toc-item-num\">1.1&nbsp;&nbsp;</span>Objective of this notebook</a></span></li><li><span><a href=\"#Problem-we-seek-to-address\" data-toc-modified-id=\"Problem-we-seek-to-address-1.2\"><span class=\"toc-item-num\">1.2&nbsp;&nbsp;</span>Problem we seek to address</a></span></li><li><span><a href=\"#Datasources-we-seek-to-base-our-models-on\" data-toc-modified-id=\"Datasources-we-seek-to-base-our-models-on-1.3\"><span class=\"toc-item-num\">1.3&nbsp;&nbsp;</span>Datasources we seek to base our models on</a></span></li></ul></li><li><span><a href=\"#Importing-the-data-and-the-necessary-packages\" data-toc-modified-id=\"Importing-the-data-and-the-necessary-packages-2\"><span class=\"toc-item-num\">2&nbsp;&nbsp;</span>Importing the data and the necessary packages</a></span><ul class=\"toc-item\"><li><span><a href=\"#Installing-and-importing-necessary-Python-packages\" data-toc-modified-id=\"Installing-and-importing-necessary-Python-packages-2.1\"><span class=\"toc-item-num\">2.1&nbsp;&nbsp;</span>Installing and importing necessary Python packages</a></span></li><li><span><a href=\"#Importing-the-data-into-dataframes\" data-toc-modified-id=\"Importing-the-data-into-dataframes-2.2\"><span class=\"toc-item-num\">2.2&nbsp;&nbsp;</span>Importing the data into dataframes</a></span></li></ul></li><li><span><a href=\"#Initializing-comet-for-version-control\" data-toc-modified-id=\"Initializing-comet-for-version-control-3\"><span class=\"toc-item-num\">3&nbsp;&nbsp;</span>Initializing comet for version control</a></span></li><li><span><a href=\"#Feature-Engineering\" data-toc-modified-id=\"Feature-Engineering-4\"><span class=\"toc-item-num\">4&nbsp;&nbsp;</span>Feature Engineering</a></span><ul class=\"toc-item\"><li><span><a href=\"#Removing-unnecessary-columns\" data-toc-modified-id=\"Removing-unnecessary-columns-4.1\"><span class=\"toc-item-num\">4.1&nbsp;&nbsp;</span>Removing unnecessary columns</a></span></li><li><span><a href=\"#Quantifying-the-genres\" data-toc-modified-id=\"Quantifying-the-genres-4.2\"><span class=\"toc-item-num\">4.2&nbsp;&nbsp;</span>Quantifying the genres</a></span></li><li><span><a href=\"#Creating-genre-and-tag-metadata-for-each-movie\" data-toc-modified-id=\"Creating-genre-and-tag-metadata-for-each-movie-4.3\"><span class=\"toc-item-num\">4.3&nbsp;&nbsp;</span>Creating genre and tag metadata for each movie</a></span></li></ul></li><li><span><a href=\"#Exploring-the-data\" data-toc-modified-id=\"Exploring-the-data-5\"><span class=\"toc-item-num\">5&nbsp;&nbsp;</span>Exploring the data</a></span><ul class=\"toc-item\"><li><span><a href=\"#Dataset-descriptions\" data-toc-modified-id=\"Dataset-descriptions-5.1\"><span class=\"toc-item-num\">5.1&nbsp;&nbsp;</span><strong>Dataset descriptions</strong></a></span></li><li><span><a href=\"#Overview-of-all-the-datasets\" data-toc-modified-id=\"Overview-of-all-the-datasets-5.2\"><span class=\"toc-item-num\">5.2&nbsp;&nbsp;</span>Overview of all the datasets</a></span></li><li><span><a href=\"#Displaying-the-heads-of-the-tables\" data-toc-modified-id=\"Displaying-the-heads-of-the-tables-5.3\"><span class=\"toc-item-num\">5.3&nbsp;&nbsp;</span>Displaying the heads of the tables</a></span></li><li><span><a href=\"#Checking-for-null-values,-shapes-and-datatypes\" data-toc-modified-id=\"Checking-for-null-values,-shapes-and-datatypes-5.4\"><span class=\"toc-item-num\">5.4&nbsp;&nbsp;</span>Checking for null-values, shapes and datatypes</a></span></li><li><span><a href=\"#Most-common-genres\" data-toc-modified-id=\"Most-common-genres-5.5\"><span class=\"toc-item-num\">5.5&nbsp;&nbsp;</span>Most common genres</a></span></li><li><span><a href=\"#Ratings-distribution\" data-toc-modified-id=\"Ratings-distribution-5.6\"><span class=\"toc-item-num\">5.6&nbsp;&nbsp;</span>Ratings distribution</a></span></li><li><span><a href=\"#Insights-on-the-directors\" data-toc-modified-id=\"Insights-on-the-directors-5.7\"><span class=\"toc-item-num\">5.7&nbsp;&nbsp;</span>Insights on the directors</a></span></li><li><span><a href=\"#Most-Rated-Movies\" data-toc-modified-id=\"Most-Rated-Movies-5.8\"><span class=\"toc-item-num\">5.8&nbsp;&nbsp;</span>Most Rated Movies</a></span></li><li><span><a href=\"#Displaying-the-amount-of-unique-values\" data-toc-modified-id=\"Displaying-the-amount-of-unique-values-5.9\"><span class=\"toc-item-num\">5.9&nbsp;&nbsp;</span>Displaying the amount of unique values</a></span></li><li><span><a href=\"#Best-and-worst-rated-movies\" data-toc-modified-id=\"Best-and-worst-rated-movies-5.10\"><span class=\"toc-item-num\">5.10&nbsp;&nbsp;</span>Best and worst rated movies</a></span></li><li><span><a href=\"#Which-genres-have-the-highest-average-rating?\" data-toc-modified-id=\"Which-genres-have-the-highest-average-rating?-5.11\"><span class=\"toc-item-num\">5.11&nbsp;&nbsp;</span>Which genres have the highest average rating?</a></span></li><li><span><a href=\"#Which-movie-has-the-most-polarising-effect-on-the-audience?\" data-toc-modified-id=\"Which-movie-has-the-most-polarising-effect-on-the-audience?-5.12\"><span class=\"toc-item-num\">5.12&nbsp;&nbsp;</span>Which movie has the most polarising effect on the audience?</a></span></li></ul></li><li><span><a href=\"#Splitting-the-data\" data-toc-modified-id=\"Splitting-the-data-6\"><span class=\"toc-item-num\">6&nbsp;&nbsp;</span>Splitting the data</a></span></li><li><span><a href=\"#Text-Pre-processing\" data-toc-modified-id=\"Text-Pre-processing-7\"><span class=\"toc-item-num\">7&nbsp;&nbsp;</span>Text Pre-processing</a></span><ul class=\"toc-item\"><li><span><a href=\"#Filtering-the-dataset\" data-toc-modified-id=\"Filtering-the-dataset-7.1\"><span class=\"toc-item-num\">7.1&nbsp;&nbsp;</span>Filtering the dataset</a></span></li><li><span><a href=\"#Dimension-reduction-and-data-filtering\" data-toc-modified-id=\"Dimension-reduction-and-data-filtering-7.2\"><span class=\"toc-item-num\">7.2&nbsp;&nbsp;</span>Dimension reduction and data filtering</a></span></li></ul></li><li><span><a href=\"#Model-building,-training-and-assessment\" data-toc-modified-id=\"Model-building,-training-and-assessment-8\"><span class=\"toc-item-num\">8&nbsp;&nbsp;</span>Model building, training and assessment</a></span><ul class=\"toc-item\"><li><span><a href=\"#Model-1:-Building-and-training-a-content-based-model\" data-toc-modified-id=\"Model-1:-Building-and-training-a-content-based-model-8.1\"><span class=\"toc-item-num\">8.1&nbsp;&nbsp;</span>Model 1: Building and training a content based model</a></span></li><li><span><a href=\"#Model-2:-Building-and-training-the-SVD-collaborative-based-model\" data-toc-modified-id=\"Model-2:-Building-and-training-the-SVD-collaborative-based-model-8.2\"><span class=\"toc-item-num\">8.2&nbsp;&nbsp;</span>Model 2: Building and training the SVD collaborative based model</a></span></li><li><span><a href=\"#Model-2:-Assessing-the-model\" data-toc-modified-id=\"Model-2:-Assessing-the-model-8.3\"><span class=\"toc-item-num\">8.3&nbsp;&nbsp;</span>Model 2: Assessing the model</a></span></li></ul></li><li><span><a href=\"#Exporting-predictions-to-Kaggle\" data-toc-modified-id=\"Exporting-predictions-to-Kaggle-9\"><span class=\"toc-item-num\">9&nbsp;&nbsp;</span>Exporting predictions to Kaggle</a></span></li><li><span><a href=\"#Conclusion\" data-toc-modified-id=\"Conclusion-10\"><span class=\"toc-item-num\">10&nbsp;&nbsp;</span>Conclusion</a></span></li><li><span><a href=\"#Reference-list\" data-toc-modified-id=\"Reference-list-11\"><span class=\"toc-item-num\">11&nbsp;&nbsp;</span>Reference list</a></span></li></ul></div>"
   ]
  },
  {
   "cell_type": "markdown",
   "metadata": {},
   "source": [
    "## Introduction"
   ]
  },
  {
   "cell_type": "markdown",
   "metadata": {},
   "source": [
    "### Objective of this notebook"
   ]
  },
  {
   "cell_type": "markdown",
   "metadata": {},
   "source": [
    "Our objective with this notebook is to build different movie recommender algorithms which can accurately predict how a user will rate a movie based on their historical preferences. The algorithms will make use of collaborative filtering as well as content based filtering."
   ]
  },
  {
   "cell_type": "markdown",
   "metadata": {},
   "source": [
    "This forms part of a public Kaggle competition and will be evaluated by the best RMSE score."
   ]
  },
  {
   "cell_type": "markdown",
   "metadata": {},
   "source": [
    "### Problem we seek to address"
   ]
  },
  {
   "cell_type": "markdown",
   "metadata": {},
   "source": [
    "Viewers of movies want to watch movies that they will like. This will increase their satisfaction and will make them more loyal to the Netflix platform which will extend the duration of their subscription, and cause them to recommend this platform to others over against the platforms of their competition (like Showmax). This will result in more loyal customers which will result in greater income."
   ]
  },
  {
   "cell_type": "markdown",
   "metadata": {},
   "source": [
    "### Datasources we seek to base our models on"
   ]
  },
  {
   "cell_type": "markdown",
   "metadata": {},
   "source": [
    "MovieLens has gathered millions of movie ratings together with the movieId, UserId, and timestamp when the movie was rated. We also have the following information available on each movie from other public sources: 1. Movie-titles, 2. Movie-genres, 3. Title-cast, 4. Movie-budget, 5. Plot-keywords, 6. Director, 7. Runtime, 8. genome-scores.\n",
    "\n",
    "We will seek to use all of the data above to train our unsupervised machine learning models on to build the best recommender system within our abilities."
   ]
  },
  {
   "cell_type": "markdown",
   "metadata": {},
   "source": [
    "## Importing the data and the necessary packages"
   ]
  },
  {
   "cell_type": "markdown",
   "metadata": {},
   "source": [
    "Before we jump in, it is necessary to install and import some python packages that will help us in our quest. We are indebted to those who have contributed to building these packages and making them freely available. Note that there might be some packages that you first need to install on your local machine before it will run. Some of the common ones we have commented below and you can just remove the hashtag to install them on your local machine and then comment it out again after it has been installed on your local machine."
   ]
  },
  {
   "cell_type": "markdown",
   "metadata": {},
   "source": [
    "### Installing and importing necessary Python packages"
   ]
  },
  {
   "cell_type": "code",
   "execution_count": 1,
   "metadata": {},
   "outputs": [],
   "source": [
    "# Uncomment the section below to install packages that might not have been preinstalled on your local machine.\n",
    "\n",
    "# !conda install -c conda-forge/label/cf202003 scikit-surprise"
   ]
  },
  {
   "cell_type": "code",
   "execution_count": 2,
   "metadata": {},
   "outputs": [],
   "source": [
    "# Importinng package for version control\n",
    "from comet_ml import Experiment\n",
    "import warnings"
   ]
  },
  {
   "cell_type": "code",
   "execution_count": 3,
   "metadata": {},
   "outputs": [],
   "source": [
    "# Importing packages for data processing\n",
    "import numpy as np\n",
    "import pandas as pd\n",
    "import datetime\n",
    "from sklearn import preprocessing\n",
    "from sklearn.datasets import make_blobs\n",
    "from sklearn.preprocessing import StandardScaler\n",
    "from sklearn.feature_extraction.text import TfidfVectorizer\n",
    "from sklearn.metrics.pairwise import cosine_similarity\n",
    "import re\n",
    "from scipy.sparse import csr_matrix\n",
    "import scipy as sp"
   ]
  },
  {
   "cell_type": "code",
   "execution_count": 4,
   "metadata": {},
   "outputs": [],
   "source": [
    "# Importing package for data visualization and analytics\n",
    "import matplotlib.pyplot as plt\n",
    "import seaborn as sns\n",
    "%matplotlib inline\n"
   ]
  },
  {
   "cell_type": "code",
   "execution_count": 5,
   "metadata": {},
   "outputs": [
    {
     "name": "stdout",
     "output_type": "stream",
     "text": [
      "All libraries imported successfully!\n"
     ]
    }
   ],
   "source": [
    "# Importing packages for modeling\n",
    "from surprise import Reader\n",
    "from surprise import Dataset\n",
    "from surprise import KNNWithMeans\n",
    "from surprise import KNNBasic\n",
    "from surprise.model_selection import cross_validate\n",
    "from surprise.model_selection import GridSearchCV\n",
    "from surprise import SVD\n",
    "from surprise import SVDpp\n",
    "from surprise import NMF\n",
    "from surprise import SlopeOne\n",
    "from surprise import CoClustering\n",
    "import heapq\n",
    "\n",
    "# Packages for model evaluation\n",
    "from sklearn.metrics import mean_squared_error\n",
    "from sklearn.metrics import mean_absolute_error\n",
    "from time import time\n",
    "\n",
    "# Package to suppress warnings\n",
    "import warnings\n",
    "warnings.filterwarnings(\"ignore\")\n",
    "\n",
    "# Packages for saving models\n",
    "import pickle\n",
    "\n",
    "# Tweaking some of the packages for our use\n",
    "plt.style.use('fivethirtyeight')\n",
    "pd.set_option('display.max_rows', 50)\n",
    "pd.set_option('display.max_columns', 50)\n",
    "warnings.filterwarnings('ignore')\n",
    "\n",
    "print(\"All libraries imported successfully!\")"
   ]
  },
  {
   "cell_type": "markdown",
   "metadata": {},
   "source": [
    "### Importing the data into dataframes"
   ]
  },
  {
   "cell_type": "markdown",
   "metadata": {},
   "source": [
    "Here we use the pandas read_csv function to import all of the csv files into dataframes that we can manipulate and fit our models to."
   ]
  },
  {
   "cell_type": "code",
   "execution_count": 6,
   "metadata": {},
   "outputs": [],
   "source": [
    "# Reading in the csv files and storing them as pandas DataFrames\n",
    "df_sample_submission = pd.read_csv('sample_submission.csv')\n",
    "df_movies = pd.read_csv('movies.csv')\n",
    "df_imdb = pd.read_csv('imdb_data.csv')\n",
    "df_genome_scores = pd.read_csv('genome_scores.csv')\n",
    "df_genome_tags = pd.read_csv('genome_tags.csv')\n",
    "df_train = pd.read_csv('train.csv')\n",
    "df_test = pd.read_csv('test.csv')\n",
    "df_tags = pd.read_csv('tags.csv')\n",
    "df_links = pd.read_csv('links.csv')"
   ]
  },
  {
   "cell_type": "markdown",
   "metadata": {},
   "source": [
    "## Initializing comet for version control"
   ]
  },
  {
   "cell_type": "markdown",
   "metadata": {},
   "source": [
    "Comet is a Python package developed for version control. We initialize the package by calling the Experiment model."
   ]
  },
  {
   "cell_type": "code",
   "execution_count": 7,
   "metadata": {},
   "outputs": [
    {
     "name": "stderr",
     "output_type": "stream",
     "text": [
      "COMET WARNING: As you are running in a Jupyter environment, you will need to call `experiment.end()` when finished to ensure all metrics and code are logged before exiting.\n",
      "COMET INFO: Experiment is live on comet.ml https://www.comet.ml/tee-cee/recommender-system-1/78238fe46cb040d6bdd1eaf7e3ca6d6d\n",
      "\n"
     ]
    }
   ],
   "source": [
    "# Setting up comet experiment\n",
    "experiment = Experiment(api_key='tkurqVVQirb76FiYYpbvSOgrz', project_name= 'recommender-system-1' ) "
   ]
  },
  {
   "cell_type": "markdown",
   "metadata": {},
   "source": [
    "## Feature Engineering"
   ]
  },
  {
   "cell_type": "markdown",
   "metadata": {},
   "source": [
    "### Removing unnecessary columns"
   ]
  },
  {
   "cell_type": "markdown",
   "metadata": {},
   "source": [
    "Since we have such a large dataset we will seek to drop all of the redundant columns from the dataframes."
   ]
  },
  {
   "cell_type": "markdown",
   "metadata": {},
   "source": [
    "Let us start by dropping the timestamps because it does not add value to training our models."
   ]
  },
  {
   "cell_type": "code",
   "execution_count": 8,
   "metadata": {},
   "outputs": [],
   "source": [
    "# Dropping the timestamp column from df_tags and df_train dataframes.\n",
    "df_tags.drop(['timestamp'],1, inplace=True)\n",
    "df_train.drop(['timestamp'],1, inplace=True)"
   ]
  },
  {
   "cell_type": "markdown",
   "metadata": {},
   "source": [
    "### Quantifying the genres"
   ]
  },
  {
   "cell_type": "markdown",
   "metadata": {},
   "source": [
    "The genres in the df_movies DataFrame is a helpful datasource that help us train a content-based recommender model. But in order to make use of the data we first need to split the genres by delimter and place them into lists next to each movie. Then we will have to use the list to indicate which movies contain which genres."
   ]
  },
  {
   "cell_type": "code",
   "execution_count": 9,
   "metadata": {},
   "outputs": [
    {
     "data": {
      "text/html": [
       "<div>\n",
       "<style scoped>\n",
       "    .dataframe tbody tr th:only-of-type {\n",
       "        vertical-align: middle;\n",
       "    }\n",
       "\n",
       "    .dataframe tbody tr th {\n",
       "        vertical-align: top;\n",
       "    }\n",
       "\n",
       "    .dataframe thead th {\n",
       "        text-align: right;\n",
       "    }\n",
       "</style>\n",
       "<table border=\"1\" class=\"dataframe\">\n",
       "  <thead>\n",
       "    <tr style=\"text-align: right;\">\n",
       "      <th></th>\n",
       "      <th>movieId</th>\n",
       "      <th>title</th>\n",
       "      <th>genres</th>\n",
       "      <th>genre_split</th>\n",
       "    </tr>\n",
       "  </thead>\n",
       "  <tbody>\n",
       "    <tr>\n",
       "      <th>0</th>\n",
       "      <td>1</td>\n",
       "      <td>Toy Story (1995)</td>\n",
       "      <td>Adventure|Animation|Children|Comedy|Fantasy</td>\n",
       "      <td>[Adventure, Animation, Children, Comedy, Fantasy]</td>\n",
       "    </tr>\n",
       "    <tr>\n",
       "      <th>1</th>\n",
       "      <td>2</td>\n",
       "      <td>Jumanji (1995)</td>\n",
       "      <td>Adventure|Children|Fantasy</td>\n",
       "      <td>[Adventure, Children, Fantasy]</td>\n",
       "    </tr>\n",
       "    <tr>\n",
       "      <th>2</th>\n",
       "      <td>3</td>\n",
       "      <td>Grumpier Old Men (1995)</td>\n",
       "      <td>Comedy|Romance</td>\n",
       "      <td>[Comedy, Romance]</td>\n",
       "    </tr>\n",
       "    <tr>\n",
       "      <th>3</th>\n",
       "      <td>4</td>\n",
       "      <td>Waiting to Exhale (1995)</td>\n",
       "      <td>Comedy|Drama|Romance</td>\n",
       "      <td>[Comedy, Drama, Romance]</td>\n",
       "    </tr>\n",
       "    <tr>\n",
       "      <th>4</th>\n",
       "      <td>5</td>\n",
       "      <td>Father of the Bride Part II (1995)</td>\n",
       "      <td>Comedy</td>\n",
       "      <td>[Comedy]</td>\n",
       "    </tr>\n",
       "  </tbody>\n",
       "</table>\n",
       "</div>"
      ],
      "text/plain": [
       "   movieId                               title  \\\n",
       "0        1                    Toy Story (1995)   \n",
       "1        2                      Jumanji (1995)   \n",
       "2        3             Grumpier Old Men (1995)   \n",
       "3        4            Waiting to Exhale (1995)   \n",
       "4        5  Father of the Bride Part II (1995)   \n",
       "\n",
       "                                        genres  \\\n",
       "0  Adventure|Animation|Children|Comedy|Fantasy   \n",
       "1                   Adventure|Children|Fantasy   \n",
       "2                               Comedy|Romance   \n",
       "3                         Comedy|Drama|Romance   \n",
       "4                                       Comedy   \n",
       "\n",
       "                                         genre_split  \n",
       "0  [Adventure, Animation, Children, Comedy, Fantasy]  \n",
       "1                     [Adventure, Children, Fantasy]  \n",
       "2                                  [Comedy, Romance]  \n",
       "3                           [Comedy, Drama, Romance]  \n",
       "4                                           [Comedy]  "
      ]
     },
     "execution_count": 9,
     "metadata": {},
     "output_type": "execute_result"
    }
   ],
   "source": [
    "# Splitting the delimited genre string into a list of genres\n",
    "\n",
    "df_movies['genre_split'] = df_movies['genres'].apply(lambda x: x.split('|'))\n",
    "df_movies.head()"
   ]
  },
  {
   "cell_type": "code",
   "execution_count": 10,
   "metadata": {},
   "outputs": [
    {
     "data": {
      "text/plain": [
       "['(no genres listed)',\n",
       " 'Action',\n",
       " 'Adventure',\n",
       " 'Animation',\n",
       " 'Children',\n",
       " 'Comedy',\n",
       " 'Crime',\n",
       " 'Documentary',\n",
       " 'Drama',\n",
       " 'Fantasy',\n",
       " 'Film-Noir',\n",
       " 'Horror',\n",
       " 'IMAX',\n",
       " 'Musical',\n",
       " 'Mystery',\n",
       " 'Romance',\n",
       " 'Sci-Fi',\n",
       " 'Thriller',\n",
       " 'War',\n",
       " 'Western']"
      ]
     },
     "execution_count": 10,
     "metadata": {},
     "output_type": "execute_result"
    }
   ],
   "source": [
    "# Looking at all the unique genres in the dataset\n",
    "\n",
    "# Creating a list of genre lists\n",
    "genres = list(df_movies['genre_split']) \n",
    "\n",
    "# Flattening the list of lists into a single list with duplicates\n",
    "genres = [item for items in genres for item in items] \n",
    "\n",
    "# Converting it to a set to remove duplicates, then back to a list\n",
    "genres = list(set(genres)) \n",
    "\n",
    "# Sorting the lis into alphabetical order ane displaying it\n",
    "genres.sort() \n",
    "genres"
   ]
  },
  {
   "cell_type": "code",
   "execution_count": 11,
   "metadata": {},
   "outputs": [
    {
     "data": {
      "text/html": [
       "<div>\n",
       "<style scoped>\n",
       "    .dataframe tbody tr th:only-of-type {\n",
       "        vertical-align: middle;\n",
       "    }\n",
       "\n",
       "    .dataframe tbody tr th {\n",
       "        vertical-align: top;\n",
       "    }\n",
       "\n",
       "    .dataframe thead th {\n",
       "        text-align: right;\n",
       "    }\n",
       "</style>\n",
       "<table border=\"1\" class=\"dataframe\">\n",
       "  <thead>\n",
       "    <tr style=\"text-align: right;\">\n",
       "      <th></th>\n",
       "      <th>movieId</th>\n",
       "      <th>title</th>\n",
       "      <th>genres</th>\n",
       "      <th>genre_split</th>\n",
       "      <th>(no genres listed)</th>\n",
       "      <th>Action</th>\n",
       "      <th>Adventure</th>\n",
       "      <th>Animation</th>\n",
       "      <th>Children</th>\n",
       "      <th>Comedy</th>\n",
       "      <th>Crime</th>\n",
       "      <th>Documentary</th>\n",
       "      <th>Drama</th>\n",
       "      <th>Fantasy</th>\n",
       "      <th>Film-Noir</th>\n",
       "      <th>Horror</th>\n",
       "      <th>IMAX</th>\n",
       "      <th>Musical</th>\n",
       "      <th>Mystery</th>\n",
       "      <th>Romance</th>\n",
       "      <th>Sci-Fi</th>\n",
       "      <th>Thriller</th>\n",
       "      <th>War</th>\n",
       "      <th>Western</th>\n",
       "    </tr>\n",
       "  </thead>\n",
       "  <tbody>\n",
       "    <tr>\n",
       "      <th>0</th>\n",
       "      <td>1</td>\n",
       "      <td>Toy Story (1995)</td>\n",
       "      <td>Adventure|Animation|Children|Comedy|Fantasy</td>\n",
       "      <td>[Adventure, Animation, Children, Comedy, Fantasy]</td>\n",
       "      <td>0</td>\n",
       "      <td>0</td>\n",
       "      <td>1</td>\n",
       "      <td>1</td>\n",
       "      <td>1</td>\n",
       "      <td>1</td>\n",
       "      <td>0</td>\n",
       "      <td>0</td>\n",
       "      <td>0</td>\n",
       "      <td>1</td>\n",
       "      <td>0</td>\n",
       "      <td>0</td>\n",
       "      <td>0</td>\n",
       "      <td>0</td>\n",
       "      <td>0</td>\n",
       "      <td>0</td>\n",
       "      <td>0</td>\n",
       "      <td>0</td>\n",
       "      <td>0</td>\n",
       "      <td>0</td>\n",
       "    </tr>\n",
       "    <tr>\n",
       "      <th>1</th>\n",
       "      <td>2</td>\n",
       "      <td>Jumanji (1995)</td>\n",
       "      <td>Adventure|Children|Fantasy</td>\n",
       "      <td>[Adventure, Children, Fantasy]</td>\n",
       "      <td>0</td>\n",
       "      <td>0</td>\n",
       "      <td>1</td>\n",
       "      <td>0</td>\n",
       "      <td>1</td>\n",
       "      <td>0</td>\n",
       "      <td>0</td>\n",
       "      <td>0</td>\n",
       "      <td>0</td>\n",
       "      <td>1</td>\n",
       "      <td>0</td>\n",
       "      <td>0</td>\n",
       "      <td>0</td>\n",
       "      <td>0</td>\n",
       "      <td>0</td>\n",
       "      <td>0</td>\n",
       "      <td>0</td>\n",
       "      <td>0</td>\n",
       "      <td>0</td>\n",
       "      <td>0</td>\n",
       "    </tr>\n",
       "    <tr>\n",
       "      <th>2</th>\n",
       "      <td>3</td>\n",
       "      <td>Grumpier Old Men (1995)</td>\n",
       "      <td>Comedy|Romance</td>\n",
       "      <td>[Comedy, Romance]</td>\n",
       "      <td>0</td>\n",
       "      <td>0</td>\n",
       "      <td>0</td>\n",
       "      <td>0</td>\n",
       "      <td>0</td>\n",
       "      <td>1</td>\n",
       "      <td>0</td>\n",
       "      <td>0</td>\n",
       "      <td>0</td>\n",
       "      <td>0</td>\n",
       "      <td>0</td>\n",
       "      <td>0</td>\n",
       "      <td>0</td>\n",
       "      <td>0</td>\n",
       "      <td>0</td>\n",
       "      <td>1</td>\n",
       "      <td>0</td>\n",
       "      <td>0</td>\n",
       "      <td>0</td>\n",
       "      <td>0</td>\n",
       "    </tr>\n",
       "    <tr>\n",
       "      <th>3</th>\n",
       "      <td>4</td>\n",
       "      <td>Waiting to Exhale (1995)</td>\n",
       "      <td>Comedy|Drama|Romance</td>\n",
       "      <td>[Comedy, Drama, Romance]</td>\n",
       "      <td>0</td>\n",
       "      <td>0</td>\n",
       "      <td>0</td>\n",
       "      <td>0</td>\n",
       "      <td>0</td>\n",
       "      <td>1</td>\n",
       "      <td>0</td>\n",
       "      <td>0</td>\n",
       "      <td>1</td>\n",
       "      <td>0</td>\n",
       "      <td>0</td>\n",
       "      <td>0</td>\n",
       "      <td>0</td>\n",
       "      <td>0</td>\n",
       "      <td>0</td>\n",
       "      <td>1</td>\n",
       "      <td>0</td>\n",
       "      <td>0</td>\n",
       "      <td>0</td>\n",
       "      <td>0</td>\n",
       "    </tr>\n",
       "    <tr>\n",
       "      <th>4</th>\n",
       "      <td>5</td>\n",
       "      <td>Father of the Bride Part II (1995)</td>\n",
       "      <td>Comedy</td>\n",
       "      <td>[Comedy]</td>\n",
       "      <td>0</td>\n",
       "      <td>0</td>\n",
       "      <td>0</td>\n",
       "      <td>0</td>\n",
       "      <td>0</td>\n",
       "      <td>1</td>\n",
       "      <td>0</td>\n",
       "      <td>0</td>\n",
       "      <td>0</td>\n",
       "      <td>0</td>\n",
       "      <td>0</td>\n",
       "      <td>0</td>\n",
       "      <td>0</td>\n",
       "      <td>0</td>\n",
       "      <td>0</td>\n",
       "      <td>0</td>\n",
       "      <td>0</td>\n",
       "      <td>0</td>\n",
       "      <td>0</td>\n",
       "      <td>0</td>\n",
       "    </tr>\n",
       "  </tbody>\n",
       "</table>\n",
       "</div>"
      ],
      "text/plain": [
       "   movieId                               title  \\\n",
       "0        1                    Toy Story (1995)   \n",
       "1        2                      Jumanji (1995)   \n",
       "2        3             Grumpier Old Men (1995)   \n",
       "3        4            Waiting to Exhale (1995)   \n",
       "4        5  Father of the Bride Part II (1995)   \n",
       "\n",
       "                                        genres  \\\n",
       "0  Adventure|Animation|Children|Comedy|Fantasy   \n",
       "1                   Adventure|Children|Fantasy   \n",
       "2                               Comedy|Romance   \n",
       "3                         Comedy|Drama|Romance   \n",
       "4                                       Comedy   \n",
       "\n",
       "                                         genre_split  (no genres listed)  \\\n",
       "0  [Adventure, Animation, Children, Comedy, Fantasy]                   0   \n",
       "1                     [Adventure, Children, Fantasy]                   0   \n",
       "2                                  [Comedy, Romance]                   0   \n",
       "3                           [Comedy, Drama, Romance]                   0   \n",
       "4                                           [Comedy]                   0   \n",
       "\n",
       "   Action  Adventure  Animation  Children  Comedy  Crime  Documentary  Drama  \\\n",
       "0       0          1          1         1       1      0            0      0   \n",
       "1       0          1          0         1       0      0            0      0   \n",
       "2       0          0          0         0       1      0            0      0   \n",
       "3       0          0          0         0       1      0            0      1   \n",
       "4       0          0          0         0       1      0            0      0   \n",
       "\n",
       "   Fantasy  Film-Noir  Horror  IMAX  Musical  Mystery  Romance  Sci-Fi  \\\n",
       "0        1          0       0     0        0        0        0       0   \n",
       "1        1          0       0     0        0        0        0       0   \n",
       "2        0          0       0     0        0        0        1       0   \n",
       "3        0          0       0     0        0        0        1       0   \n",
       "4        0          0       0     0        0        0        0       0   \n",
       "\n",
       "   Thriller  War  Western  \n",
       "0         0    0        0  \n",
       "1         0    0        0  \n",
       "2         0    0        0  \n",
       "3         0    0        0  \n",
       "4         0    0        0  "
      ]
     },
     "execution_count": 11,
     "metadata": {},
     "output_type": "execute_result"
    }
   ],
   "source": [
    "# Quantifying the genre list for each movie\n",
    "\n",
    "# Adding the new columns and initially filling them with zeros\n",
    "for genre in genres:\n",
    "    df_movies[genre] = 0   \n",
    "\n",
    "# Splitting the genre list from each row\n",
    "def genre_1hot(row):\n",
    "    genre_list = row['genre_split']    \n",
    "    \n",
    "    # for each genre that is in the list, make the respective column of the row equal to 1\n",
    "    for genre in genre_list:   \n",
    "        row[genre] = 1    \n",
    "    return row\n",
    "\n",
    "# Applying the function to all rows\n",
    "df_movies = df_movies.apply(genre_1hot, axis=1)\n",
    "df_movies.head()"
   ]
  },
  {
   "cell_type": "code",
   "execution_count": 12,
   "metadata": {},
   "outputs": [],
   "source": [
    "# Creating a column with the year as another piece of data that our content based recommender can use.\n",
    "\n",
    "df_movies['year'] = df_movies['title'].apply(lambda x: x.split('(')[-1][:-1])"
   ]
  },
  {
   "cell_type": "code",
   "execution_count": 13,
   "metadata": {},
   "outputs": [
    {
     "data": {
      "text/html": [
       "<div>\n",
       "<style scoped>\n",
       "    .dataframe tbody tr th:only-of-type {\n",
       "        vertical-align: middle;\n",
       "    }\n",
       "\n",
       "    .dataframe tbody tr th {\n",
       "        vertical-align: top;\n",
       "    }\n",
       "\n",
       "    .dataframe thead th {\n",
       "        text-align: right;\n",
       "    }\n",
       "</style>\n",
       "<table border=\"1\" class=\"dataframe\">\n",
       "  <thead>\n",
       "    <tr style=\"text-align: right;\">\n",
       "      <th></th>\n",
       "      <th>movieId</th>\n",
       "      <th>title</th>\n",
       "      <th>year</th>\n",
       "      <th>genres</th>\n",
       "      <th>genre_split</th>\n",
       "      <th>(no genres listed)</th>\n",
       "      <th>Action</th>\n",
       "      <th>Adventure</th>\n",
       "      <th>Animation</th>\n",
       "      <th>Children</th>\n",
       "      <th>Comedy</th>\n",
       "      <th>Crime</th>\n",
       "      <th>Documentary</th>\n",
       "      <th>Drama</th>\n",
       "      <th>Fantasy</th>\n",
       "      <th>Film-Noir</th>\n",
       "      <th>Horror</th>\n",
       "      <th>IMAX</th>\n",
       "      <th>Musical</th>\n",
       "      <th>Mystery</th>\n",
       "      <th>Romance</th>\n",
       "      <th>Sci-Fi</th>\n",
       "      <th>Thriller</th>\n",
       "      <th>War</th>\n",
       "      <th>Western</th>\n",
       "    </tr>\n",
       "  </thead>\n",
       "  <tbody>\n",
       "    <tr>\n",
       "      <th>0</th>\n",
       "      <td>1</td>\n",
       "      <td>Toy Story (1995)</td>\n",
       "      <td>1995</td>\n",
       "      <td>Adventure|Animation|Children|Comedy|Fantasy</td>\n",
       "      <td>[Adventure, Animation, Children, Comedy, Fantasy]</td>\n",
       "      <td>0</td>\n",
       "      <td>0</td>\n",
       "      <td>1</td>\n",
       "      <td>1</td>\n",
       "      <td>1</td>\n",
       "      <td>1</td>\n",
       "      <td>0</td>\n",
       "      <td>0</td>\n",
       "      <td>0</td>\n",
       "      <td>1</td>\n",
       "      <td>0</td>\n",
       "      <td>0</td>\n",
       "      <td>0</td>\n",
       "      <td>0</td>\n",
       "      <td>0</td>\n",
       "      <td>0</td>\n",
       "      <td>0</td>\n",
       "      <td>0</td>\n",
       "      <td>0</td>\n",
       "      <td>0</td>\n",
       "    </tr>\n",
       "    <tr>\n",
       "      <th>1</th>\n",
       "      <td>2</td>\n",
       "      <td>Jumanji (1995)</td>\n",
       "      <td>1995</td>\n",
       "      <td>Adventure|Children|Fantasy</td>\n",
       "      <td>[Adventure, Children, Fantasy]</td>\n",
       "      <td>0</td>\n",
       "      <td>0</td>\n",
       "      <td>1</td>\n",
       "      <td>0</td>\n",
       "      <td>1</td>\n",
       "      <td>0</td>\n",
       "      <td>0</td>\n",
       "      <td>0</td>\n",
       "      <td>0</td>\n",
       "      <td>1</td>\n",
       "      <td>0</td>\n",
       "      <td>0</td>\n",
       "      <td>0</td>\n",
       "      <td>0</td>\n",
       "      <td>0</td>\n",
       "      <td>0</td>\n",
       "      <td>0</td>\n",
       "      <td>0</td>\n",
       "      <td>0</td>\n",
       "      <td>0</td>\n",
       "    </tr>\n",
       "    <tr>\n",
       "      <th>2</th>\n",
       "      <td>3</td>\n",
       "      <td>Grumpier Old Men (1995)</td>\n",
       "      <td>1995</td>\n",
       "      <td>Comedy|Romance</td>\n",
       "      <td>[Comedy, Romance]</td>\n",
       "      <td>0</td>\n",
       "      <td>0</td>\n",
       "      <td>0</td>\n",
       "      <td>0</td>\n",
       "      <td>0</td>\n",
       "      <td>1</td>\n",
       "      <td>0</td>\n",
       "      <td>0</td>\n",
       "      <td>0</td>\n",
       "      <td>0</td>\n",
       "      <td>0</td>\n",
       "      <td>0</td>\n",
       "      <td>0</td>\n",
       "      <td>0</td>\n",
       "      <td>0</td>\n",
       "      <td>1</td>\n",
       "      <td>0</td>\n",
       "      <td>0</td>\n",
       "      <td>0</td>\n",
       "      <td>0</td>\n",
       "    </tr>\n",
       "    <tr>\n",
       "      <th>3</th>\n",
       "      <td>4</td>\n",
       "      <td>Waiting to Exhale (1995)</td>\n",
       "      <td>1995</td>\n",
       "      <td>Comedy|Drama|Romance</td>\n",
       "      <td>[Comedy, Drama, Romance]</td>\n",
       "      <td>0</td>\n",
       "      <td>0</td>\n",
       "      <td>0</td>\n",
       "      <td>0</td>\n",
       "      <td>0</td>\n",
       "      <td>1</td>\n",
       "      <td>0</td>\n",
       "      <td>0</td>\n",
       "      <td>1</td>\n",
       "      <td>0</td>\n",
       "      <td>0</td>\n",
       "      <td>0</td>\n",
       "      <td>0</td>\n",
       "      <td>0</td>\n",
       "      <td>0</td>\n",
       "      <td>1</td>\n",
       "      <td>0</td>\n",
       "      <td>0</td>\n",
       "      <td>0</td>\n",
       "      <td>0</td>\n",
       "    </tr>\n",
       "    <tr>\n",
       "      <th>4</th>\n",
       "      <td>5</td>\n",
       "      <td>Father of the Bride Part II (1995)</td>\n",
       "      <td>1995</td>\n",
       "      <td>Comedy</td>\n",
       "      <td>[Comedy]</td>\n",
       "      <td>0</td>\n",
       "      <td>0</td>\n",
       "      <td>0</td>\n",
       "      <td>0</td>\n",
       "      <td>0</td>\n",
       "      <td>1</td>\n",
       "      <td>0</td>\n",
       "      <td>0</td>\n",
       "      <td>0</td>\n",
       "      <td>0</td>\n",
       "      <td>0</td>\n",
       "      <td>0</td>\n",
       "      <td>0</td>\n",
       "      <td>0</td>\n",
       "      <td>0</td>\n",
       "      <td>0</td>\n",
       "      <td>0</td>\n",
       "      <td>0</td>\n",
       "      <td>0</td>\n",
       "      <td>0</td>\n",
       "    </tr>\n",
       "  </tbody>\n",
       "</table>\n",
       "</div>"
      ],
      "text/plain": [
       "   movieId                               title  year  \\\n",
       "0        1                    Toy Story (1995)  1995   \n",
       "1        2                      Jumanji (1995)  1995   \n",
       "2        3             Grumpier Old Men (1995)  1995   \n",
       "3        4            Waiting to Exhale (1995)  1995   \n",
       "4        5  Father of the Bride Part II (1995)  1995   \n",
       "\n",
       "                                        genres  \\\n",
       "0  Adventure|Animation|Children|Comedy|Fantasy   \n",
       "1                   Adventure|Children|Fantasy   \n",
       "2                               Comedy|Romance   \n",
       "3                         Comedy|Drama|Romance   \n",
       "4                                       Comedy   \n",
       "\n",
       "                                         genre_split  (no genres listed)  \\\n",
       "0  [Adventure, Animation, Children, Comedy, Fantasy]                   0   \n",
       "1                     [Adventure, Children, Fantasy]                   0   \n",
       "2                                  [Comedy, Romance]                   0   \n",
       "3                           [Comedy, Drama, Romance]                   0   \n",
       "4                                           [Comedy]                   0   \n",
       "\n",
       "   Action  Adventure  Animation  Children  Comedy  Crime  Documentary  Drama  \\\n",
       "0       0          1          1         1       1      0            0      0   \n",
       "1       0          1          0         1       0      0            0      0   \n",
       "2       0          0          0         0       1      0            0      0   \n",
       "3       0          0          0         0       1      0            0      1   \n",
       "4       0          0          0         0       1      0            0      0   \n",
       "\n",
       "   Fantasy  Film-Noir  Horror  IMAX  Musical  Mystery  Romance  Sci-Fi  \\\n",
       "0        1          0       0     0        0        0        0       0   \n",
       "1        1          0       0     0        0        0        0       0   \n",
       "2        0          0       0     0        0        0        1       0   \n",
       "3        0          0       0     0        0        0        1       0   \n",
       "4        0          0       0     0        0        0        0       0   \n",
       "\n",
       "   Thriller  War  Western  \n",
       "0         0    0        0  \n",
       "1         0    0        0  \n",
       "2         0    0        0  \n",
       "3         0    0        0  \n",
       "4         0    0        0  "
      ]
     },
     "execution_count": 13,
     "metadata": {},
     "output_type": "execute_result"
    }
   ],
   "source": [
    "# Reordering the columns so that year is next to title instead of at the end\n",
    "cols = df_movies.columns.tolist()\n",
    "cols = cols[:2] + cols[-1:] + cols [2:-1]\n",
    "df_movies = df_movies[cols]\n",
    "df_movies.head()"
   ]
  },
  {
   "cell_type": "markdown",
   "metadata": {},
   "source": [
    "### Creating genre and tag metadata for each movie"
   ]
  },
  {
   "cell_type": "markdown",
   "metadata": {},
   "source": [
    "Next we will create metadata for each movie to be used in the content based recommender system. This will consist out of the genres and the tags. We will do this by firstly merging the tags unto df_movies. Then we will group the tags by MovieId and finally we will combine the genres and the tags into one cell. "
   ]
  },
  {
   "cell_type": "code",
   "execution_count": 14,
   "metadata": {},
   "outputs": [
    {
     "data": {
      "text/html": [
       "<div>\n",
       "<style scoped>\n",
       "    .dataframe tbody tr th:only-of-type {\n",
       "        vertical-align: middle;\n",
       "    }\n",
       "\n",
       "    .dataframe tbody tr th {\n",
       "        vertical-align: top;\n",
       "    }\n",
       "\n",
       "    .dataframe thead th {\n",
       "        text-align: right;\n",
       "    }\n",
       "</style>\n",
       "<table border=\"1\" class=\"dataframe\">\n",
       "  <thead>\n",
       "    <tr style=\"text-align: right;\">\n",
       "      <th></th>\n",
       "      <th>movieId</th>\n",
       "      <th>title</th>\n",
       "      <th>year</th>\n",
       "      <th>genres</th>\n",
       "      <th>genre_split</th>\n",
       "      <th>(no genres listed)</th>\n",
       "      <th>Action</th>\n",
       "      <th>Adventure</th>\n",
       "      <th>Animation</th>\n",
       "      <th>Children</th>\n",
       "      <th>Comedy</th>\n",
       "      <th>Crime</th>\n",
       "      <th>Documentary</th>\n",
       "      <th>Drama</th>\n",
       "      <th>Fantasy</th>\n",
       "      <th>Film-Noir</th>\n",
       "      <th>Horror</th>\n",
       "      <th>IMAX</th>\n",
       "      <th>Musical</th>\n",
       "      <th>Mystery</th>\n",
       "      <th>Romance</th>\n",
       "      <th>Sci-Fi</th>\n",
       "      <th>Thriller</th>\n",
       "      <th>War</th>\n",
       "      <th>Western</th>\n",
       "      <th>userId</th>\n",
       "      <th>tag</th>\n",
       "    </tr>\n",
       "  </thead>\n",
       "  <tbody>\n",
       "    <tr>\n",
       "      <th>0</th>\n",
       "      <td>1</td>\n",
       "      <td>Toy Story (1995)</td>\n",
       "      <td>1995</td>\n",
       "      <td>Adventure|Animation|Children|Comedy|Fantasy</td>\n",
       "      <td>[Adventure, Animation, Children, Comedy, Fantasy]</td>\n",
       "      <td>0</td>\n",
       "      <td>0</td>\n",
       "      <td>1</td>\n",
       "      <td>1</td>\n",
       "      <td>1</td>\n",
       "      <td>1</td>\n",
       "      <td>0</td>\n",
       "      <td>0</td>\n",
       "      <td>0</td>\n",
       "      <td>1</td>\n",
       "      <td>0</td>\n",
       "      <td>0</td>\n",
       "      <td>0</td>\n",
       "      <td>0</td>\n",
       "      <td>0</td>\n",
       "      <td>0</td>\n",
       "      <td>0</td>\n",
       "      <td>0</td>\n",
       "      <td>0</td>\n",
       "      <td>0</td>\n",
       "      <td>791.0</td>\n",
       "      <td>Owned</td>\n",
       "    </tr>\n",
       "    <tr>\n",
       "      <th>1</th>\n",
       "      <td>1</td>\n",
       "      <td>Toy Story (1995)</td>\n",
       "      <td>1995</td>\n",
       "      <td>Adventure|Animation|Children|Comedy|Fantasy</td>\n",
       "      <td>[Adventure, Animation, Children, Comedy, Fantasy]</td>\n",
       "      <td>0</td>\n",
       "      <td>0</td>\n",
       "      <td>1</td>\n",
       "      <td>1</td>\n",
       "      <td>1</td>\n",
       "      <td>1</td>\n",
       "      <td>0</td>\n",
       "      <td>0</td>\n",
       "      <td>0</td>\n",
       "      <td>1</td>\n",
       "      <td>0</td>\n",
       "      <td>0</td>\n",
       "      <td>0</td>\n",
       "      <td>0</td>\n",
       "      <td>0</td>\n",
       "      <td>0</td>\n",
       "      <td>0</td>\n",
       "      <td>0</td>\n",
       "      <td>0</td>\n",
       "      <td>0</td>\n",
       "      <td>1048.0</td>\n",
       "      <td>imdb top 250</td>\n",
       "    </tr>\n",
       "    <tr>\n",
       "      <th>2</th>\n",
       "      <td>1</td>\n",
       "      <td>Toy Story (1995)</td>\n",
       "      <td>1995</td>\n",
       "      <td>Adventure|Animation|Children|Comedy|Fantasy</td>\n",
       "      <td>[Adventure, Animation, Children, Comedy, Fantasy]</td>\n",
       "      <td>0</td>\n",
       "      <td>0</td>\n",
       "      <td>1</td>\n",
       "      <td>1</td>\n",
       "      <td>1</td>\n",
       "      <td>1</td>\n",
       "      <td>0</td>\n",
       "      <td>0</td>\n",
       "      <td>0</td>\n",
       "      <td>1</td>\n",
       "      <td>0</td>\n",
       "      <td>0</td>\n",
       "      <td>0</td>\n",
       "      <td>0</td>\n",
       "      <td>0</td>\n",
       "      <td>0</td>\n",
       "      <td>0</td>\n",
       "      <td>0</td>\n",
       "      <td>0</td>\n",
       "      <td>0</td>\n",
       "      <td>1361.0</td>\n",
       "      <td>Pixar</td>\n",
       "    </tr>\n",
       "  </tbody>\n",
       "</table>\n",
       "</div>"
      ],
      "text/plain": [
       "   movieId             title  year  \\\n",
       "0        1  Toy Story (1995)  1995   \n",
       "1        1  Toy Story (1995)  1995   \n",
       "2        1  Toy Story (1995)  1995   \n",
       "\n",
       "                                        genres  \\\n",
       "0  Adventure|Animation|Children|Comedy|Fantasy   \n",
       "1  Adventure|Animation|Children|Comedy|Fantasy   \n",
       "2  Adventure|Animation|Children|Comedy|Fantasy   \n",
       "\n",
       "                                         genre_split  (no genres listed)  \\\n",
       "0  [Adventure, Animation, Children, Comedy, Fantasy]                   0   \n",
       "1  [Adventure, Animation, Children, Comedy, Fantasy]                   0   \n",
       "2  [Adventure, Animation, Children, Comedy, Fantasy]                   0   \n",
       "\n",
       "   Action  Adventure  Animation  Children  Comedy  Crime  Documentary  Drama  \\\n",
       "0       0          1          1         1       1      0            0      0   \n",
       "1       0          1          1         1       1      0            0      0   \n",
       "2       0          1          1         1       1      0            0      0   \n",
       "\n",
       "   Fantasy  Film-Noir  Horror  IMAX  Musical  Mystery  Romance  Sci-Fi  \\\n",
       "0        1          0       0     0        0        0        0       0   \n",
       "1        1          0       0     0        0        0        0       0   \n",
       "2        1          0       0     0        0        0        0       0   \n",
       "\n",
       "   Thriller  War  Western  userId           tag  \n",
       "0         0    0        0   791.0         Owned  \n",
       "1         0    0        0  1048.0  imdb top 250  \n",
       "2         0    0        0  1361.0         Pixar  "
      ]
     },
     "execution_count": 14,
     "metadata": {},
     "output_type": "execute_result"
    }
   ],
   "source": [
    "# Merging the df_movies and df_tags dataframes.\n",
    "df_mixed = pd.merge(df_movies, df_tags, on='movieId', how='left')\n",
    "df_mixed.head(3)"
   ]
  },
  {
   "cell_type": "code",
   "execution_count": 15,
   "metadata": {},
   "outputs": [
    {
     "data": {
      "text/html": [
       "<div>\n",
       "<style scoped>\n",
       "    .dataframe tbody tr th:only-of-type {\n",
       "        vertical-align: middle;\n",
       "    }\n",
       "\n",
       "    .dataframe tbody tr th {\n",
       "        vertical-align: top;\n",
       "    }\n",
       "\n",
       "    .dataframe thead th {\n",
       "        text-align: right;\n",
       "    }\n",
       "</style>\n",
       "<table border=\"1\" class=\"dataframe\">\n",
       "  <thead>\n",
       "    <tr style=\"text-align: right;\">\n",
       "      <th></th>\n",
       "      <th>movieId</th>\n",
       "      <th>title</th>\n",
       "      <th>year</th>\n",
       "      <th>metadata</th>\n",
       "    </tr>\n",
       "  </thead>\n",
       "  <tbody>\n",
       "    <tr>\n",
       "      <th>0</th>\n",
       "      <td>1</td>\n",
       "      <td>Toy Story (1995)</td>\n",
       "      <td>1995</td>\n",
       "      <td>Owned imdb top 250 Pixar Pixar time travel chi...</td>\n",
       "    </tr>\n",
       "    <tr>\n",
       "      <th>1</th>\n",
       "      <td>2</td>\n",
       "      <td>Jumanji (1995)</td>\n",
       "      <td>1995</td>\n",
       "      <td>Robin Williams time travel fantasy based on ch...</td>\n",
       "    </tr>\n",
       "    <tr>\n",
       "      <th>2</th>\n",
       "      <td>3</td>\n",
       "      <td>Grumpier Old Men (1995)</td>\n",
       "      <td>1995</td>\n",
       "      <td>funny best friend duringcreditsstinger fishing...</td>\n",
       "    </tr>\n",
       "    <tr>\n",
       "      <th>3</th>\n",
       "      <td>4</td>\n",
       "      <td>Waiting to Exhale (1995)</td>\n",
       "      <td>1995</td>\n",
       "      <td>based on novel or book chick flick divorce int...</td>\n",
       "    </tr>\n",
       "    <tr>\n",
       "      <th>4</th>\n",
       "      <td>5</td>\n",
       "      <td>Father of the Bride Part II (1995)</td>\n",
       "      <td>1995</td>\n",
       "      <td>aging baby confidence contraception daughter g...</td>\n",
       "    </tr>\n",
       "  </tbody>\n",
       "</table>\n",
       "</div>"
      ],
      "text/plain": [
       "   movieId                               title  year  \\\n",
       "0        1                    Toy Story (1995)  1995   \n",
       "1        2                      Jumanji (1995)  1995   \n",
       "2        3             Grumpier Old Men (1995)  1995   \n",
       "3        4            Waiting to Exhale (1995)  1995   \n",
       "4        5  Father of the Bride Part II (1995)  1995   \n",
       "\n",
       "                                            metadata  \n",
       "0  Owned imdb top 250 Pixar Pixar time travel chi...  \n",
       "1  Robin Williams time travel fantasy based on ch...  \n",
       "2  funny best friend duringcreditsstinger fishing...  \n",
       "3  based on novel or book chick flick divorce int...  \n",
       "4  aging baby confidence contraception daughter g...  "
      ]
     },
     "execution_count": 15,
     "metadata": {},
     "output_type": "execute_result"
    }
   ],
   "source": [
    "# Grouping the tags by the movieId\n",
    "df_mixed.fillna(\"\", inplace=True)\n",
    "df_mixed = pd.DataFrame(df_mixed.groupby('movieId')['tag'].apply(lambda x: \"%s\" % ' '.join(x)))\n",
    "df_final = pd.merge(df_movies, df_mixed, on='movieId', how='left')\n",
    "\n",
    "# Concatenating the tags and the genres as our metadata\n",
    "df_final['metadata'] = df_final[['tag', 'genres']].apply(lambda x: ' '.join(x), axis = 1)\n",
    "df_final[['movieId','title','year', 'metadata']].head()"
   ]
  },
  {
   "cell_type": "markdown",
   "metadata": {},
   "source": [
    "## Exploring the data"
   ]
  },
  {
   "cell_type": "markdown",
   "metadata": {},
   "source": [
    "Before we can build our models it is important to get a basic understanding of the data we are working with so that we can pre-process the data accurately and choose the right models. In this section we will display and draw insights from the data we are working with by using both visual and non-visual display methods."
   ]
  },
  {
   "cell_type": "markdown",
   "metadata": {},
   "source": [
    "### **Dataset descriptions**\n",
    "\n",
    "The supplied dataset comprises the following:\n",
    "\n",
    "1. **genome_scores.csv** - A score mapping the strength between movies and tag-related properties\n",
    "2. **train.csv** - The training split of the dataset. Contains user and movie IDs with associated rating data\n",
    "3. **test.csv** - The test split of the dataset. Contains user and movie IDs with no rating data\n",
    "4. **tags.csv** - User assigned for the movies within the dataset\n",
    "5. **links.csv** - File providing a mapping between a movie ID, IMDB IDs and TMDB IDs\n",
    "6. **movies** - File providing details about the title of the movie, genres and movieID that further can be used to merge to other related datasets\n",
    "7. **imdb_data.csv** - Additional movie metadata scraped from IMDB using the links.csv file\n",
    "8. **genome_tags.csv** - User assigned tags for genome-related scores\n"
   ]
  },
  {
   "cell_type": "markdown",
   "metadata": {},
   "source": [
    "### Overview of all the datasets"
   ]
  },
  {
   "cell_type": "markdown",
   "metadata": {},
   "source": [
    "Lets first get an overview of the amount of rows and columns in each dataset."
   ]
  },
  {
   "cell_type": "code",
   "execution_count": 16,
   "metadata": {},
   "outputs": [
    {
     "data": {
      "text/html": [
       "<div>\n",
       "<style scoped>\n",
       "    .dataframe tbody tr th:only-of-type {\n",
       "        vertical-align: middle;\n",
       "    }\n",
       "\n",
       "    .dataframe tbody tr th {\n",
       "        vertical-align: top;\n",
       "    }\n",
       "\n",
       "    .dataframe thead th {\n",
       "        text-align: right;\n",
       "    }\n",
       "</style>\n",
       "<table border=\"1\" class=\"dataframe\">\n",
       "  <thead>\n",
       "    <tr style=\"text-align: right;\">\n",
       "      <th></th>\n",
       "      <th>rows</th>\n",
       "      <th>columns</th>\n",
       "    </tr>\n",
       "  </thead>\n",
       "  <tbody>\n",
       "    <tr>\n",
       "      <th>genome_scores</th>\n",
       "      <td>15584448</td>\n",
       "      <td>3</td>\n",
       "    </tr>\n",
       "    <tr>\n",
       "      <th>train</th>\n",
       "      <td>10000038</td>\n",
       "      <td>3</td>\n",
       "    </tr>\n",
       "    <tr>\n",
       "      <th>test</th>\n",
       "      <td>5000019</td>\n",
       "      <td>2</td>\n",
       "    </tr>\n",
       "    <tr>\n",
       "      <th>tags</th>\n",
       "      <td>1093360</td>\n",
       "      <td>3</td>\n",
       "    </tr>\n",
       "    <tr>\n",
       "      <th>links</th>\n",
       "      <td>62423</td>\n",
       "      <td>3</td>\n",
       "    </tr>\n",
       "    <tr>\n",
       "      <th>movies</th>\n",
       "      <td>62423</td>\n",
       "      <td>25</td>\n",
       "    </tr>\n",
       "    <tr>\n",
       "      <th>imdb_data</th>\n",
       "      <td>27278</td>\n",
       "      <td>6</td>\n",
       "    </tr>\n",
       "    <tr>\n",
       "      <th>genome_tags</th>\n",
       "      <td>1128</td>\n",
       "      <td>2</td>\n",
       "    </tr>\n",
       "  </tbody>\n",
       "</table>\n",
       "</div>"
      ],
      "text/plain": [
       "                   rows  columns\n",
       "genome_scores  15584448        3\n",
       "train          10000038        3\n",
       "test            5000019        2\n",
       "tags            1093360        3\n",
       "links             62423        3\n",
       "movies            62423       25\n",
       "imdb_data         27278        6\n",
       "genome_tags        1128        2"
      ]
     },
     "execution_count": 16,
     "metadata": {},
     "output_type": "execute_result"
    }
   ],
   "source": [
    "# Creating a list that contains the names of all the dataframes \n",
    "dfs = [df_train, df_test, df_genome_scores, df_genome_tags, df_imdb, df_links, df_movies, df_tags]\n",
    "\n",
    "# Create a list of the names of the imported datasets\n",
    "df_names = ['train', 'test', 'genome_scores', 'genome_tags',\n",
    "            'imdb_data', 'links', 'movies', 'tags']\n",
    "\n",
    "# Creating an empty dictionary\n",
    "dfs_dict = {}  \n",
    "\n",
    "# Iterating over the list and dictionary\n",
    "for name, data in zip(df_names, dfs):  \n",
    "    dfs_dict[name] = [data.shape[0], data.shape[1]]\n",
    "    df_prop = pd.DataFrame(dfs_dict,index=['rows', 'columns']).transpose()\n",
    "df_entries_count = df_prop.sort_values(by='rows', ascending=False)\n",
    "\n",
    "# Viewing the final output\n",
    "df_entries_count"
   ]
  },
  {
   "cell_type": "markdown",
   "metadata": {},
   "source": [
    "We see from the overview of the amount of rows and column in each DataFrame that the genome_scores and the train datasets are especially big and might need to be reduced to reduce runtime."
   ]
  },
  {
   "cell_type": "markdown",
   "metadata": {},
   "source": [
    "### Displaying the heads of the tables"
   ]
  },
  {
   "cell_type": "markdown",
   "metadata": {},
   "source": [
    "Let us now show the first 5 rows in the four main datasets to get a quick idea of the data in each table."
   ]
  },
  {
   "cell_type": "code",
   "execution_count": 17,
   "metadata": {
    "scrolled": true
   },
   "outputs": [
    {
     "data": {
      "text/html": [
       "<div>\n",
       "<style scoped>\n",
       "    .dataframe tbody tr th:only-of-type {\n",
       "        vertical-align: middle;\n",
       "    }\n",
       "\n",
       "    .dataframe tbody tr th {\n",
       "        vertical-align: top;\n",
       "    }\n",
       "\n",
       "    .dataframe thead th {\n",
       "        text-align: right;\n",
       "    }\n",
       "</style>\n",
       "<table border=\"1\" class=\"dataframe\">\n",
       "  <thead>\n",
       "    <tr style=\"text-align: right;\">\n",
       "      <th></th>\n",
       "      <th>userId</th>\n",
       "      <th>movieId</th>\n",
       "      <th>rating</th>\n",
       "    </tr>\n",
       "  </thead>\n",
       "  <tbody>\n",
       "    <tr>\n",
       "      <th>0</th>\n",
       "      <td>5163</td>\n",
       "      <td>57669</td>\n",
       "      <td>4.0</td>\n",
       "    </tr>\n",
       "    <tr>\n",
       "      <th>1</th>\n",
       "      <td>106343</td>\n",
       "      <td>5</td>\n",
       "      <td>4.5</td>\n",
       "    </tr>\n",
       "    <tr>\n",
       "      <th>2</th>\n",
       "      <td>146790</td>\n",
       "      <td>5459</td>\n",
       "      <td>5.0</td>\n",
       "    </tr>\n",
       "    <tr>\n",
       "      <th>3</th>\n",
       "      <td>106362</td>\n",
       "      <td>32296</td>\n",
       "      <td>2.0</td>\n",
       "    </tr>\n",
       "    <tr>\n",
       "      <th>4</th>\n",
       "      <td>9041</td>\n",
       "      <td>366</td>\n",
       "      <td>3.0</td>\n",
       "    </tr>\n",
       "  </tbody>\n",
       "</table>\n",
       "</div>"
      ],
      "text/plain": [
       "   userId  movieId  rating\n",
       "0    5163    57669     4.0\n",
       "1  106343        5     4.5\n",
       "2  146790     5459     5.0\n",
       "3  106362    32296     2.0\n",
       "4    9041      366     3.0"
      ]
     },
     "execution_count": 17,
     "metadata": {},
     "output_type": "execute_result"
    }
   ],
   "source": [
    "# Viewing the train data to see the data present in the table\n",
    "df_train.head()"
   ]
  },
  {
   "cell_type": "code",
   "execution_count": 18,
   "metadata": {},
   "outputs": [
    {
     "data": {
      "text/html": [
       "<div>\n",
       "<style scoped>\n",
       "    .dataframe tbody tr th:only-of-type {\n",
       "        vertical-align: middle;\n",
       "    }\n",
       "\n",
       "    .dataframe tbody tr th {\n",
       "        vertical-align: top;\n",
       "    }\n",
       "\n",
       "    .dataframe thead th {\n",
       "        text-align: right;\n",
       "    }\n",
       "</style>\n",
       "<table border=\"1\" class=\"dataframe\">\n",
       "  <thead>\n",
       "    <tr style=\"text-align: right;\">\n",
       "      <th></th>\n",
       "      <th>userId</th>\n",
       "      <th>movieId</th>\n",
       "    </tr>\n",
       "  </thead>\n",
       "  <tbody>\n",
       "    <tr>\n",
       "      <th>0</th>\n",
       "      <td>1</td>\n",
       "      <td>2011</td>\n",
       "    </tr>\n",
       "    <tr>\n",
       "      <th>1</th>\n",
       "      <td>1</td>\n",
       "      <td>4144</td>\n",
       "    </tr>\n",
       "    <tr>\n",
       "      <th>2</th>\n",
       "      <td>1</td>\n",
       "      <td>5767</td>\n",
       "    </tr>\n",
       "    <tr>\n",
       "      <th>3</th>\n",
       "      <td>1</td>\n",
       "      <td>6711</td>\n",
       "    </tr>\n",
       "    <tr>\n",
       "      <th>4</th>\n",
       "      <td>1</td>\n",
       "      <td>7318</td>\n",
       "    </tr>\n",
       "  </tbody>\n",
       "</table>\n",
       "</div>"
      ],
      "text/plain": [
       "   userId  movieId\n",
       "0       1     2011\n",
       "1       1     4144\n",
       "2       1     5767\n",
       "3       1     6711\n",
       "4       1     7318"
      ]
     },
     "execution_count": 18,
     "metadata": {},
     "output_type": "execute_result"
    }
   ],
   "source": [
    "df_test.head()"
   ]
  },
  {
   "cell_type": "markdown",
   "metadata": {},
   "source": [
    "Our test dataframe only has two columns, which is one column less than the train dataframe. The data we use to test the models later on in the notebook should have the same number of columns as the train dataframe."
   ]
  },
  {
   "cell_type": "code",
   "execution_count": 19,
   "metadata": {},
   "outputs": [
    {
     "data": {
      "text/html": [
       "<div>\n",
       "<style scoped>\n",
       "    .dataframe tbody tr th:only-of-type {\n",
       "        vertical-align: middle;\n",
       "    }\n",
       "\n",
       "    .dataframe tbody tr th {\n",
       "        vertical-align: top;\n",
       "    }\n",
       "\n",
       "    .dataframe thead th {\n",
       "        text-align: right;\n",
       "    }\n",
       "</style>\n",
       "<table border=\"1\" class=\"dataframe\">\n",
       "  <thead>\n",
       "    <tr style=\"text-align: right;\">\n",
       "      <th></th>\n",
       "      <th>movieId</th>\n",
       "      <th>title</th>\n",
       "      <th>year</th>\n",
       "      <th>genres</th>\n",
       "      <th>genre_split</th>\n",
       "      <th>(no genres listed)</th>\n",
       "      <th>Action</th>\n",
       "      <th>Adventure</th>\n",
       "      <th>Animation</th>\n",
       "      <th>Children</th>\n",
       "      <th>Comedy</th>\n",
       "      <th>Crime</th>\n",
       "      <th>Documentary</th>\n",
       "      <th>Drama</th>\n",
       "      <th>Fantasy</th>\n",
       "      <th>Film-Noir</th>\n",
       "      <th>Horror</th>\n",
       "      <th>IMAX</th>\n",
       "      <th>Musical</th>\n",
       "      <th>Mystery</th>\n",
       "      <th>Romance</th>\n",
       "      <th>Sci-Fi</th>\n",
       "      <th>Thriller</th>\n",
       "      <th>War</th>\n",
       "      <th>Western</th>\n",
       "    </tr>\n",
       "  </thead>\n",
       "  <tbody>\n",
       "    <tr>\n",
       "      <th>0</th>\n",
       "      <td>1</td>\n",
       "      <td>Toy Story (1995)</td>\n",
       "      <td>1995</td>\n",
       "      <td>Adventure|Animation|Children|Comedy|Fantasy</td>\n",
       "      <td>[Adventure, Animation, Children, Comedy, Fantasy]</td>\n",
       "      <td>0</td>\n",
       "      <td>0</td>\n",
       "      <td>1</td>\n",
       "      <td>1</td>\n",
       "      <td>1</td>\n",
       "      <td>1</td>\n",
       "      <td>0</td>\n",
       "      <td>0</td>\n",
       "      <td>0</td>\n",
       "      <td>1</td>\n",
       "      <td>0</td>\n",
       "      <td>0</td>\n",
       "      <td>0</td>\n",
       "      <td>0</td>\n",
       "      <td>0</td>\n",
       "      <td>0</td>\n",
       "      <td>0</td>\n",
       "      <td>0</td>\n",
       "      <td>0</td>\n",
       "      <td>0</td>\n",
       "    </tr>\n",
       "    <tr>\n",
       "      <th>1</th>\n",
       "      <td>2</td>\n",
       "      <td>Jumanji (1995)</td>\n",
       "      <td>1995</td>\n",
       "      <td>Adventure|Children|Fantasy</td>\n",
       "      <td>[Adventure, Children, Fantasy]</td>\n",
       "      <td>0</td>\n",
       "      <td>0</td>\n",
       "      <td>1</td>\n",
       "      <td>0</td>\n",
       "      <td>1</td>\n",
       "      <td>0</td>\n",
       "      <td>0</td>\n",
       "      <td>0</td>\n",
       "      <td>0</td>\n",
       "      <td>1</td>\n",
       "      <td>0</td>\n",
       "      <td>0</td>\n",
       "      <td>0</td>\n",
       "      <td>0</td>\n",
       "      <td>0</td>\n",
       "      <td>0</td>\n",
       "      <td>0</td>\n",
       "      <td>0</td>\n",
       "      <td>0</td>\n",
       "      <td>0</td>\n",
       "    </tr>\n",
       "    <tr>\n",
       "      <th>2</th>\n",
       "      <td>3</td>\n",
       "      <td>Grumpier Old Men (1995)</td>\n",
       "      <td>1995</td>\n",
       "      <td>Comedy|Romance</td>\n",
       "      <td>[Comedy, Romance]</td>\n",
       "      <td>0</td>\n",
       "      <td>0</td>\n",
       "      <td>0</td>\n",
       "      <td>0</td>\n",
       "      <td>0</td>\n",
       "      <td>1</td>\n",
       "      <td>0</td>\n",
       "      <td>0</td>\n",
       "      <td>0</td>\n",
       "      <td>0</td>\n",
       "      <td>0</td>\n",
       "      <td>0</td>\n",
       "      <td>0</td>\n",
       "      <td>0</td>\n",
       "      <td>0</td>\n",
       "      <td>1</td>\n",
       "      <td>0</td>\n",
       "      <td>0</td>\n",
       "      <td>0</td>\n",
       "      <td>0</td>\n",
       "    </tr>\n",
       "    <tr>\n",
       "      <th>3</th>\n",
       "      <td>4</td>\n",
       "      <td>Waiting to Exhale (1995)</td>\n",
       "      <td>1995</td>\n",
       "      <td>Comedy|Drama|Romance</td>\n",
       "      <td>[Comedy, Drama, Romance]</td>\n",
       "      <td>0</td>\n",
       "      <td>0</td>\n",
       "      <td>0</td>\n",
       "      <td>0</td>\n",
       "      <td>0</td>\n",
       "      <td>1</td>\n",
       "      <td>0</td>\n",
       "      <td>0</td>\n",
       "      <td>1</td>\n",
       "      <td>0</td>\n",
       "      <td>0</td>\n",
       "      <td>0</td>\n",
       "      <td>0</td>\n",
       "      <td>0</td>\n",
       "      <td>0</td>\n",
       "      <td>1</td>\n",
       "      <td>0</td>\n",
       "      <td>0</td>\n",
       "      <td>0</td>\n",
       "      <td>0</td>\n",
       "    </tr>\n",
       "    <tr>\n",
       "      <th>4</th>\n",
       "      <td>5</td>\n",
       "      <td>Father of the Bride Part II (1995)</td>\n",
       "      <td>1995</td>\n",
       "      <td>Comedy</td>\n",
       "      <td>[Comedy]</td>\n",
       "      <td>0</td>\n",
       "      <td>0</td>\n",
       "      <td>0</td>\n",
       "      <td>0</td>\n",
       "      <td>0</td>\n",
       "      <td>1</td>\n",
       "      <td>0</td>\n",
       "      <td>0</td>\n",
       "      <td>0</td>\n",
       "      <td>0</td>\n",
       "      <td>0</td>\n",
       "      <td>0</td>\n",
       "      <td>0</td>\n",
       "      <td>0</td>\n",
       "      <td>0</td>\n",
       "      <td>0</td>\n",
       "      <td>0</td>\n",
       "      <td>0</td>\n",
       "      <td>0</td>\n",
       "      <td>0</td>\n",
       "    </tr>\n",
       "  </tbody>\n",
       "</table>\n",
       "</div>"
      ],
      "text/plain": [
       "   movieId                               title  year  \\\n",
       "0        1                    Toy Story (1995)  1995   \n",
       "1        2                      Jumanji (1995)  1995   \n",
       "2        3             Grumpier Old Men (1995)  1995   \n",
       "3        4            Waiting to Exhale (1995)  1995   \n",
       "4        5  Father of the Bride Part II (1995)  1995   \n",
       "\n",
       "                                        genres  \\\n",
       "0  Adventure|Animation|Children|Comedy|Fantasy   \n",
       "1                   Adventure|Children|Fantasy   \n",
       "2                               Comedy|Romance   \n",
       "3                         Comedy|Drama|Romance   \n",
       "4                                       Comedy   \n",
       "\n",
       "                                         genre_split  (no genres listed)  \\\n",
       "0  [Adventure, Animation, Children, Comedy, Fantasy]                   0   \n",
       "1                     [Adventure, Children, Fantasy]                   0   \n",
       "2                                  [Comedy, Romance]                   0   \n",
       "3                           [Comedy, Drama, Romance]                   0   \n",
       "4                                           [Comedy]                   0   \n",
       "\n",
       "   Action  Adventure  Animation  Children  Comedy  Crime  Documentary  Drama  \\\n",
       "0       0          1          1         1       1      0            0      0   \n",
       "1       0          1          0         1       0      0            0      0   \n",
       "2       0          0          0         0       1      0            0      0   \n",
       "3       0          0          0         0       1      0            0      1   \n",
       "4       0          0          0         0       1      0            0      0   \n",
       "\n",
       "   Fantasy  Film-Noir  Horror  IMAX  Musical  Mystery  Romance  Sci-Fi  \\\n",
       "0        1          0       0     0        0        0        0       0   \n",
       "1        1          0       0     0        0        0        0       0   \n",
       "2        0          0       0     0        0        0        1       0   \n",
       "3        0          0       0     0        0        0        1       0   \n",
       "4        0          0       0     0        0        0        0       0   \n",
       "\n",
       "   Thriller  War  Western  \n",
       "0         0    0        0  \n",
       "1         0    0        0  \n",
       "2         0    0        0  \n",
       "3         0    0        0  \n",
       "4         0    0        0  "
      ]
     },
     "execution_count": 19,
     "metadata": {},
     "output_type": "execute_result"
    }
   ],
   "source": [
    "df_movies.head()"
   ]
  },
  {
   "cell_type": "code",
   "execution_count": 20,
   "metadata": {},
   "outputs": [
    {
     "data": {
      "text/html": [
       "<div>\n",
       "<style scoped>\n",
       "    .dataframe tbody tr th:only-of-type {\n",
       "        vertical-align: middle;\n",
       "    }\n",
       "\n",
       "    .dataframe tbody tr th {\n",
       "        vertical-align: top;\n",
       "    }\n",
       "\n",
       "    .dataframe thead th {\n",
       "        text-align: right;\n",
       "    }\n",
       "</style>\n",
       "<table border=\"1\" class=\"dataframe\">\n",
       "  <thead>\n",
       "    <tr style=\"text-align: right;\">\n",
       "      <th></th>\n",
       "      <th>Id</th>\n",
       "      <th>rating</th>\n",
       "    </tr>\n",
       "  </thead>\n",
       "  <tbody>\n",
       "    <tr>\n",
       "      <th>0</th>\n",
       "      <td>1_2011</td>\n",
       "      <td>1.0</td>\n",
       "    </tr>\n",
       "    <tr>\n",
       "      <th>1</th>\n",
       "      <td>1_4144</td>\n",
       "      <td>1.0</td>\n",
       "    </tr>\n",
       "    <tr>\n",
       "      <th>2</th>\n",
       "      <td>1_5767</td>\n",
       "      <td>1.0</td>\n",
       "    </tr>\n",
       "    <tr>\n",
       "      <th>3</th>\n",
       "      <td>1_6711</td>\n",
       "      <td>1.0</td>\n",
       "    </tr>\n",
       "    <tr>\n",
       "      <th>4</th>\n",
       "      <td>1_7318</td>\n",
       "      <td>1.0</td>\n",
       "    </tr>\n",
       "  </tbody>\n",
       "</table>\n",
       "</div>"
      ],
      "text/plain": [
       "       Id  rating\n",
       "0  1_2011     1.0\n",
       "1  1_4144     1.0\n",
       "2  1_5767     1.0\n",
       "3  1_6711     1.0\n",
       "4  1_7318     1.0"
      ]
     },
     "execution_count": 20,
     "metadata": {},
     "output_type": "execute_result"
    }
   ],
   "source": [
    "df_sample_submission.head()"
   ]
  },
  {
   "cell_type": "markdown",
   "metadata": {},
   "source": [
    "### Checking for null-values, shapes and datatypes"
   ]
  },
  {
   "cell_type": "markdown",
   "metadata": {},
   "source": [
    "In this section we test for null values as well as look at the shape of the dataframes and the value types it contain. This will help us understand if we should fill null values as well as establish which datatypes we are working with."
   ]
  },
  {
   "cell_type": "code",
   "execution_count": 21,
   "metadata": {},
   "outputs": [
    {
     "name": "stdout",
     "output_type": "stream",
     "text": [
      "<class 'pandas.core.frame.DataFrame'>\n",
      "RangeIndex: 10000038 entries, 0 to 10000037\n",
      "Data columns (total 3 columns):\n",
      " #   Column   Dtype  \n",
      "---  ------   -----  \n",
      " 0   userId   int64  \n",
      " 1   movieId  int64  \n",
      " 2   rating   float64\n",
      "dtypes: float64(1), int64(2)\n",
      "memory usage: 228.9 MB\n"
     ]
    }
   ],
   "source": [
    "# Viewing the inforation of the train data, the object types and the total number of columns.\n",
    "df_train.info()"
   ]
  },
  {
   "cell_type": "markdown",
   "metadata": {},
   "source": [
    "Our train data set has 10,000,038 entries. That's a lot of data. It has 4 columns consisting of 1 float type data and 3 integer type data."
   ]
  },
  {
   "cell_type": "code",
   "execution_count": 22,
   "metadata": {
    "scrolled": true
   },
   "outputs": [
    {
     "data": {
      "text/plain": [
       "userId     0\n",
       "movieId    0\n",
       "rating     0\n",
       "dtype: int64"
      ]
     },
     "execution_count": 22,
     "metadata": {},
     "output_type": "execute_result"
    }
   ],
   "source": [
    "df_train.isnull().sum()"
   ]
  },
  {
   "cell_type": "markdown",
   "metadata": {},
   "source": [
    "There are no null values in the train dataframe."
   ]
  },
  {
   "cell_type": "code",
   "execution_count": 23,
   "metadata": {},
   "outputs": [
    {
     "name": "stdout",
     "output_type": "stream",
     "text": [
      "<class 'pandas.core.frame.DataFrame'>\n",
      "RangeIndex: 5000019 entries, 0 to 5000018\n",
      "Data columns (total 2 columns):\n",
      " #   Column   Dtype\n",
      "---  ------   -----\n",
      " 0   userId   int64\n",
      " 1   movieId  int64\n",
      "dtypes: int64(2)\n",
      "memory usage: 76.3 MB\n"
     ]
    }
   ],
   "source": [
    "df_test.info()"
   ]
  },
  {
   "cell_type": "markdown",
   "metadata": {},
   "source": [
    "Our test datframe has 5,000,019 entries, two columns which are integer type data."
   ]
  },
  {
   "cell_type": "code",
   "execution_count": 24,
   "metadata": {},
   "outputs": [
    {
     "data": {
      "text/plain": [
       "userId     0\n",
       "movieId    0\n",
       "dtype: int64"
      ]
     },
     "execution_count": 24,
     "metadata": {},
     "output_type": "execute_result"
    }
   ],
   "source": [
    "df_test.isnull().sum()"
   ]
  },
  {
   "cell_type": "markdown",
   "metadata": {},
   "source": [
    "There are also no null values in the test dataframe."
   ]
  },
  {
   "cell_type": "markdown",
   "metadata": {},
   "source": [
    "### Most common genres"
   ]
  },
  {
   "cell_type": "markdown",
   "metadata": {},
   "source": [
    "Since genres is such an important piece of data for a content based recommender, it is helpful to see which genres occur the most."
   ]
  },
  {
   "cell_type": "code",
   "execution_count": 25,
   "metadata": {},
   "outputs": [
    {
     "data": {
      "text/html": [
       "<div>\n",
       "<style scoped>\n",
       "    .dataframe tbody tr th:only-of-type {\n",
       "        vertical-align: middle;\n",
       "    }\n",
       "\n",
       "    .dataframe tbody tr th {\n",
       "        vertical-align: top;\n",
       "    }\n",
       "\n",
       "    .dataframe thead th {\n",
       "        text-align: right;\n",
       "    }\n",
       "</style>\n",
       "<table border=\"1\" class=\"dataframe\">\n",
       "  <thead>\n",
       "    <tr style=\"text-align: right;\">\n",
       "      <th></th>\n",
       "      <th>movieId</th>\n",
       "      <th>genres</th>\n",
       "    </tr>\n",
       "  </thead>\n",
       "  <tbody>\n",
       "    <tr>\n",
       "      <th>0</th>\n",
       "      <td>1</td>\n",
       "      <td>Adventure</td>\n",
       "    </tr>\n",
       "    <tr>\n",
       "      <th>1</th>\n",
       "      <td>1</td>\n",
       "      <td>Animation</td>\n",
       "    </tr>\n",
       "    <tr>\n",
       "      <th>2</th>\n",
       "      <td>1</td>\n",
       "      <td>Children</td>\n",
       "    </tr>\n",
       "    <tr>\n",
       "      <th>3</th>\n",
       "      <td>1</td>\n",
       "      <td>Comedy</td>\n",
       "    </tr>\n",
       "    <tr>\n",
       "      <th>4</th>\n",
       "      <td>1</td>\n",
       "      <td>Fantasy</td>\n",
       "    </tr>\n",
       "  </tbody>\n",
       "</table>\n",
       "</div>"
      ],
      "text/plain": [
       "   movieId     genres\n",
       "0        1  Adventure\n",
       "1        1  Animation\n",
       "2        1   Children\n",
       "3        1     Comedy\n",
       "4        1    Fantasy"
      ]
     },
     "execution_count": 25,
     "metadata": {},
     "output_type": "execute_result"
    }
   ],
   "source": [
    "# Creating a dataframe containing only the movieId and genres\n",
    "movies_genres = pd.DataFrame(df_movies[['movieId', 'genres']],\n",
    "                             columns=['movieId', 'genres'])\n",
    "\n",
    "# Splitting the genres seperated by \"|\" and create a list containing the genres allocated to each movie\n",
    "movies_genres.genres = movies_genres.genres.apply(lambda x: x.split('|'))\n",
    "\n",
    "# Creating an expanded dataframe where each movie-genre combination is in a seperate row\n",
    "movies_genres = pd.DataFrame([(tup.movieId, d) for tup in movies_genres.itertuples() for d in tup.genres],\n",
    "                             columns=['movieId', 'genres'])\n",
    "\n",
    "movies_genres.head()"
   ]
  },
  {
   "cell_type": "code",
   "execution_count": 26,
   "metadata": {},
   "outputs": [
    {
     "data": {
      "image/png": "[encoded data removed]",
      "text/plain": [
       "<Figure size 1080x720 with 1 Axes>"
      ]
     },
     "metadata": {},
     "output_type": "display_data"
    }
   ],
   "source": [
    "# Plot the genres from most common to least common\n",
    "plot = plt.figure(figsize=(15, 10))\n",
    "plt.title('Most common genres\\n', fontsize=20)\n",
    "sns.countplot(y=\"genres\", data=movies_genres,\n",
    "              order=movies_genres['genres'].value_counts(ascending=False).index,\n",
    "              palette='Reds_r')\n",
    "plt.show()"
   ]
  },
  {
   "cell_type": "markdown",
   "metadata": {},
   "source": [
    "The top five most common movie genres are Drama, Comedy, Thriller, Romance and Action. This suggests that the most watched movies in this dataframe belong to these top five genres."
   ]
  },
  {
   "cell_type": "markdown",
   "metadata": {},
   "source": [
    "### Ratings distribution"
   ]
  },
  {
   "cell_type": "markdown",
   "metadata": {},
   "source": [
    "Let's get an idea of how the ratings are distributed by plotting a vertical bar chart of the counts of each rating. In order to do this we will first have to merge some tables."
   ]
  },
  {
   "cell_type": "code",
   "execution_count": 27,
   "metadata": {},
   "outputs": [
    {
     "data": {
      "text/html": [
       "<div>\n",
       "<style scoped>\n",
       "    .dataframe tbody tr th:only-of-type {\n",
       "        vertical-align: middle;\n",
       "    }\n",
       "\n",
       "    .dataframe tbody tr th {\n",
       "        vertical-align: top;\n",
       "    }\n",
       "\n",
       "    .dataframe thead th {\n",
       "        text-align: right;\n",
       "    }\n",
       "</style>\n",
       "<table border=\"1\" class=\"dataframe\">\n",
       "  <thead>\n",
       "    <tr style=\"text-align: right;\">\n",
       "      <th></th>\n",
       "      <th>userId</th>\n",
       "      <th>movieId</th>\n",
       "      <th>rating</th>\n",
       "      <th>title</th>\n",
       "      <th>year</th>\n",
       "      <th>genres</th>\n",
       "      <th>genre_split</th>\n",
       "      <th>(no genres listed)</th>\n",
       "      <th>Action</th>\n",
       "      <th>Adventure</th>\n",
       "      <th>Animation</th>\n",
       "      <th>Children</th>\n",
       "      <th>Comedy</th>\n",
       "      <th>Crime</th>\n",
       "      <th>Documentary</th>\n",
       "      <th>Drama</th>\n",
       "      <th>Fantasy</th>\n",
       "      <th>Film-Noir</th>\n",
       "      <th>Horror</th>\n",
       "      <th>IMAX</th>\n",
       "      <th>Musical</th>\n",
       "      <th>Mystery</th>\n",
       "      <th>Romance</th>\n",
       "      <th>Sci-Fi</th>\n",
       "      <th>Thriller</th>\n",
       "      <th>War</th>\n",
       "      <th>Western</th>\n",
       "      <th>title_cast</th>\n",
       "      <th>director</th>\n",
       "      <th>runtime</th>\n",
       "      <th>budget</th>\n",
       "      <th>plot_keywords</th>\n",
       "    </tr>\n",
       "  </thead>\n",
       "  <tbody>\n",
       "    <tr>\n",
       "      <th>0</th>\n",
       "      <td>5163</td>\n",
       "      <td>57669</td>\n",
       "      <td>4.0</td>\n",
       "      <td>In Bruges (2008)</td>\n",
       "      <td>2008</td>\n",
       "      <td>Comedy|Crime|Drama|Thriller</td>\n",
       "      <td>[Comedy, Crime, Drama, Thriller]</td>\n",
       "      <td>0</td>\n",
       "      <td>0</td>\n",
       "      <td>0</td>\n",
       "      <td>0</td>\n",
       "      <td>0</td>\n",
       "      <td>1</td>\n",
       "      <td>1</td>\n",
       "      <td>0</td>\n",
       "      <td>1</td>\n",
       "      <td>0</td>\n",
       "      <td>0</td>\n",
       "      <td>0</td>\n",
       "      <td>0</td>\n",
       "      <td>0</td>\n",
       "      <td>0</td>\n",
       "      <td>0</td>\n",
       "      <td>0</td>\n",
       "      <td>1</td>\n",
       "      <td>0</td>\n",
       "      <td>0</td>\n",
       "      <td>Elizabeth Berrington|Rudy Blomme|Olivier Bonjo...</td>\n",
       "      <td>Martin McDonagh</td>\n",
       "      <td>107.0</td>\n",
       "      <td>$15,000,000</td>\n",
       "      <td>dwarf|bruges|irish|hitman</td>\n",
       "    </tr>\n",
       "    <tr>\n",
       "      <th>1</th>\n",
       "      <td>106343</td>\n",
       "      <td>5</td>\n",
       "      <td>4.5</td>\n",
       "      <td>Father of the Bride Part II (1995)</td>\n",
       "      <td>1995</td>\n",
       "      <td>Comedy</td>\n",
       "      <td>[Comedy]</td>\n",
       "      <td>0</td>\n",
       "      <td>0</td>\n",
       "      <td>0</td>\n",
       "      <td>0</td>\n",
       "      <td>0</td>\n",
       "      <td>1</td>\n",
       "      <td>0</td>\n",
       "      <td>0</td>\n",
       "      <td>0</td>\n",
       "      <td>0</td>\n",
       "      <td>0</td>\n",
       "      <td>0</td>\n",
       "      <td>0</td>\n",
       "      <td>0</td>\n",
       "      <td>0</td>\n",
       "      <td>0</td>\n",
       "      <td>0</td>\n",
       "      <td>0</td>\n",
       "      <td>0</td>\n",
       "      <td>0</td>\n",
       "      <td>Steve Martin|Diane Keaton|Martin Short|Kimberl...</td>\n",
       "      <td>Albert Hackett</td>\n",
       "      <td>106.0</td>\n",
       "      <td>$30,000,000</td>\n",
       "      <td>fatherhood|doberman|dog|mansion</td>\n",
       "    </tr>\n",
       "    <tr>\n",
       "      <th>2</th>\n",
       "      <td>146790</td>\n",
       "      <td>5459</td>\n",
       "      <td>5.0</td>\n",
       "      <td>Men in Black II (a.k.a. MIIB) (a.k.a. MIB 2) (...</td>\n",
       "      <td>2002</td>\n",
       "      <td>Action|Comedy|Sci-Fi</td>\n",
       "      <td>[Action, Comedy, Sci-Fi]</td>\n",
       "      <td>0</td>\n",
       "      <td>1</td>\n",
       "      <td>0</td>\n",
       "      <td>0</td>\n",
       "      <td>0</td>\n",
       "      <td>1</td>\n",
       "      <td>0</td>\n",
       "      <td>0</td>\n",
       "      <td>0</td>\n",
       "      <td>0</td>\n",
       "      <td>0</td>\n",
       "      <td>0</td>\n",
       "      <td>0</td>\n",
       "      <td>0</td>\n",
       "      <td>0</td>\n",
       "      <td>0</td>\n",
       "      <td>1</td>\n",
       "      <td>0</td>\n",
       "      <td>0</td>\n",
       "      <td>0</td>\n",
       "      <td>Tommy Lee Jones|Will Smith|Rip Torn|Lara Flynn...</td>\n",
       "      <td>Lowell Cunningham</td>\n",
       "      <td>88.0</td>\n",
       "      <td>$140,000,000</td>\n",
       "      <td>lingerie|michael jackson character|shorthaired...</td>\n",
       "    </tr>\n",
       "    <tr>\n",
       "      <th>3</th>\n",
       "      <td>106362</td>\n",
       "      <td>32296</td>\n",
       "      <td>2.0</td>\n",
       "      <td>Miss Congeniality 2: Armed and Fabulous (2005)</td>\n",
       "      <td>2005</td>\n",
       "      <td>Adventure|Comedy|Crime</td>\n",
       "      <td>[Adventure, Comedy, Crime]</td>\n",
       "      <td>0</td>\n",
       "      <td>0</td>\n",
       "      <td>1</td>\n",
       "      <td>0</td>\n",
       "      <td>0</td>\n",
       "      <td>1</td>\n",
       "      <td>1</td>\n",
       "      <td>0</td>\n",
       "      <td>0</td>\n",
       "      <td>0</td>\n",
       "      <td>0</td>\n",
       "      <td>0</td>\n",
       "      <td>0</td>\n",
       "      <td>0</td>\n",
       "      <td>0</td>\n",
       "      <td>0</td>\n",
       "      <td>0</td>\n",
       "      <td>0</td>\n",
       "      <td>0</td>\n",
       "      <td>0</td>\n",
       "      <td>Sandra Bullock|Regina King|Enrique Murciano|Wi...</td>\n",
       "      <td>Marc Lawrence</td>\n",
       "      <td>115.0</td>\n",
       "      <td>$45,000,000</td>\n",
       "      <td>female protagonist|cleave gag|good woman|fbi</td>\n",
       "    </tr>\n",
       "    <tr>\n",
       "      <th>4</th>\n",
       "      <td>9041</td>\n",
       "      <td>366</td>\n",
       "      <td>3.0</td>\n",
       "      <td>Wes Craven's New Nightmare (Nightmare on Elm S...</td>\n",
       "      <td>1994</td>\n",
       "      <td>Drama|Horror|Mystery|Thriller</td>\n",
       "      <td>[Drama, Horror, Mystery, Thriller]</td>\n",
       "      <td>0</td>\n",
       "      <td>0</td>\n",
       "      <td>0</td>\n",
       "      <td>0</td>\n",
       "      <td>0</td>\n",
       "      <td>0</td>\n",
       "      <td>0</td>\n",
       "      <td>0</td>\n",
       "      <td>1</td>\n",
       "      <td>0</td>\n",
       "      <td>0</td>\n",
       "      <td>1</td>\n",
       "      <td>0</td>\n",
       "      <td>0</td>\n",
       "      <td>1</td>\n",
       "      <td>0</td>\n",
       "      <td>0</td>\n",
       "      <td>1</td>\n",
       "      <td>0</td>\n",
       "      <td>0</td>\n",
       "      <td>Jeff Davis|Heather Langenkamp|Miko Hughes|Matt...</td>\n",
       "      <td>Wes Craven</td>\n",
       "      <td>112.0</td>\n",
       "      <td>$8,000,000</td>\n",
       "      <td>freddy krueger|elm street|famous director as h...</td>\n",
       "    </tr>\n",
       "  </tbody>\n",
       "</table>\n",
       "</div>"
      ],
      "text/plain": [
       "   userId  movieId  rating                                              title  \\\n",
       "0    5163    57669     4.0                                   In Bruges (2008)   \n",
       "1  106343        5     4.5                 Father of the Bride Part II (1995)   \n",
       "2  146790     5459     5.0  Men in Black II (a.k.a. MIIB) (a.k.a. MIB 2) (...   \n",
       "3  106362    32296     2.0     Miss Congeniality 2: Armed and Fabulous (2005)   \n",
       "4    9041      366     3.0  Wes Craven's New Nightmare (Nightmare on Elm S...   \n",
       "\n",
       "   year                         genres                         genre_split  \\\n",
       "0  2008    Comedy|Crime|Drama|Thriller    [Comedy, Crime, Drama, Thriller]   \n",
       "1  1995                         Comedy                            [Comedy]   \n",
       "2  2002           Action|Comedy|Sci-Fi            [Action, Comedy, Sci-Fi]   \n",
       "3  2005         Adventure|Comedy|Crime          [Adventure, Comedy, Crime]   \n",
       "4  1994  Drama|Horror|Mystery|Thriller  [Drama, Horror, Mystery, Thriller]   \n",
       "\n",
       "   (no genres listed)  Action  Adventure  Animation  Children  Comedy  Crime  \\\n",
       "0                   0       0          0          0         0       1      1   \n",
       "1                   0       0          0          0         0       1      0   \n",
       "2                   0       1          0          0         0       1      0   \n",
       "3                   0       0          1          0         0       1      1   \n",
       "4                   0       0          0          0         0       0      0   \n",
       "\n",
       "   Documentary  Drama  Fantasy  Film-Noir  Horror  IMAX  Musical  Mystery  \\\n",
       "0            0      1        0          0       0     0        0        0   \n",
       "1            0      0        0          0       0     0        0        0   \n",
       "2            0      0        0          0       0     0        0        0   \n",
       "3            0      0        0          0       0     0        0        0   \n",
       "4            0      1        0          0       1     0        0        1   \n",
       "\n",
       "   Romance  Sci-Fi  Thriller  War  Western  \\\n",
       "0        0       0         1    0        0   \n",
       "1        0       0         0    0        0   \n",
       "2        0       1         0    0        0   \n",
       "3        0       0         0    0        0   \n",
       "4        0       0         1    0        0   \n",
       "\n",
       "                                          title_cast           director  \\\n",
       "0  Elizabeth Berrington|Rudy Blomme|Olivier Bonjo...    Martin McDonagh   \n",
       "1  Steve Martin|Diane Keaton|Martin Short|Kimberl...     Albert Hackett   \n",
       "2  Tommy Lee Jones|Will Smith|Rip Torn|Lara Flynn...  Lowell Cunningham   \n",
       "3  Sandra Bullock|Regina King|Enrique Murciano|Wi...      Marc Lawrence   \n",
       "4  Jeff Davis|Heather Langenkamp|Miko Hughes|Matt...         Wes Craven   \n",
       "\n",
       "   runtime        budget                                      plot_keywords  \n",
       "0    107.0   $15,000,000                          dwarf|bruges|irish|hitman  \n",
       "1    106.0   $30,000,000                    fatherhood|doberman|dog|mansion  \n",
       "2     88.0  $140,000,000  lingerie|michael jackson character|shorthaired...  \n",
       "3    115.0   $45,000,000       female protagonist|cleave gag|good woman|fbi  \n",
       "4    112.0    $8,000,000  freddy krueger|elm street|famous director as h...  "
      ]
     },
     "execution_count": 27,
     "metadata": {},
     "output_type": "execute_result"
    }
   ],
   "source": [
    "# Combining both train and movies datasets by using movieId\n",
    "# as the matching column between both datasets\n",
    "train_movies_df = pd.merge(df_train,\n",
    "                           df_movies,\n",
    "                           how='left',\n",
    "                           on='movieId')\n",
    "\n",
    "# Combining all the observations in movies_metadata_df with imdb_data\n",
    "# Using movieId as the matching column between both dataframes\n",
    "movies_imdb_df = pd.merge(train_movies_df,\n",
    "                              df_imdb,\n",
    "                              how='left',\n",
    "                              on='movieId')\n",
    "\n",
    "movies_imdb_df.head()"
   ]
  },
  {
   "cell_type": "code",
   "execution_count": 28,
   "metadata": {},
   "outputs": [
    {
     "name": "stdout",
     "output_type": "stream",
     "text": [
      "Average rating score in the movies rating distribution is : 3.5333951730983424 \n"
     ]
    }
   ],
   "source": [
    "# Calculating the average movie score rating in our data\n",
    "avg_rating = np.mean(movies_imdb_df[\"rating\"])\n",
    "\n",
    "print(f'Average rating score in the movies rating distribution is : {avg_rating} ')"
   ]
  },
  {
   "cell_type": "code",
   "execution_count": 29,
   "metadata": {},
   "outputs": [
    {
     "data": {
      "image/png": "[encoded data removed]",
      "text/plain": [
       "<Figure size 900x360 with 1 Axes>"
      ]
     },
     "metadata": {},
     "output_type": "display_data"
    }
   ],
   "source": [
    "# Displaying the ratings distrubution of the movies in our dataset\n",
    "with sns.axes_style('darkgrid'):\n",
    "    g = sns.factorplot(\"rating\", data=movies_imdb_df, aspect=2.5, kind='count')\n",
    "    g.set_ylabels(\"Total number of ratings\")"
   ]
  },
  {
   "cell_type": "markdown",
   "metadata": {},
   "source": [
    "Most of the ratings fall in the 4.0 bucket, these suggest that most of the movies found in this dataset are rated slightly above the average rating by the viewers. Not that many movies have a rating below 2, the viewers most likely enjoy the majority of the movies in this dataset or are just prone to rate higher."
   ]
  },
  {
   "cell_type": "markdown",
   "metadata": {},
   "source": [
    "### Insights on the directors"
   ]
  },
  {
   "cell_type": "markdown",
   "metadata": {},
   "source": [
    "Many viewers choose movies based on directors and often directors would make similar type of movies. Thus if a viewer enjoyed one movie, he/she would likely enjoy the director's other movies. This would aid in our content based model."
   ]
  },
  {
   "cell_type": "code",
   "execution_count": 30,
   "metadata": {},
   "outputs": [
    {
     "data": {
      "text/html": [
       "<div>\n",
       "<style scoped>\n",
       "    .dataframe tbody tr th:only-of-type {\n",
       "        vertical-align: middle;\n",
       "    }\n",
       "\n",
       "    .dataframe tbody tr th {\n",
       "        vertical-align: top;\n",
       "    }\n",
       "\n",
       "    .dataframe thead th {\n",
       "        text-align: right;\n",
       "    }\n",
       "</style>\n",
       "<table border=\"1\" class=\"dataframe\">\n",
       "  <thead>\n",
       "    <tr style=\"text-align: right;\">\n",
       "      <th></th>\n",
       "      <th>rating</th>\n",
       "      <th>No_of_ratings</th>\n",
       "    </tr>\n",
       "    <tr>\n",
       "      <th>director</th>\n",
       "      <th></th>\n",
       "      <th></th>\n",
       "    </tr>\n",
       "  </thead>\n",
       "  <tbody>\n",
       "    <tr>\n",
       "      <th>Quentin Tarantino</th>\n",
       "      <td>3.936571</td>\n",
       "      <td>109919</td>\n",
       "    </tr>\n",
       "    <tr>\n",
       "      <th>Michael Crichton</th>\n",
       "      <td>3.273370</td>\n",
       "      <td>65157</td>\n",
       "    </tr>\n",
       "    <tr>\n",
       "      <th>J.R.R. Tolkien</th>\n",
       "      <td>4.080118</td>\n",
       "      <td>62963</td>\n",
       "    </tr>\n",
       "    <tr>\n",
       "      <th>Lilly Wachowski</th>\n",
       "      <td>3.808348</td>\n",
       "      <td>60988</td>\n",
       "    </tr>\n",
       "    <tr>\n",
       "      <th>Stephen King</th>\n",
       "      <td>4.049956</td>\n",
       "      <td>59903</td>\n",
       "    </tr>\n",
       "    <tr>\n",
       "      <th>Ethan Coen</th>\n",
       "      <td>3.947250</td>\n",
       "      <td>51185</td>\n",
       "    </tr>\n",
       "    <tr>\n",
       "      <th>James Cameron</th>\n",
       "      <td>3.687102</td>\n",
       "      <td>51178</td>\n",
       "    </tr>\n",
       "    <tr>\n",
       "      <th>Luc Besson</th>\n",
       "      <td>3.749676</td>\n",
       "      <td>44015</td>\n",
       "    </tr>\n",
       "    <tr>\n",
       "      <th>Jonathan Nolan</th>\n",
       "      <td>4.100516</td>\n",
       "      <td>42645</td>\n",
       "    </tr>\n",
       "    <tr>\n",
       "      <th>Thomas Harris</th>\n",
       "      <td>3.989774</td>\n",
       "      <td>36425</td>\n",
       "    </tr>\n",
       "  </tbody>\n",
       "</table>\n",
       "</div>"
      ],
      "text/plain": [
       "                     rating  No_of_ratings\n",
       "director                                  \n",
       "Quentin Tarantino  3.936571         109919\n",
       "Michael Crichton   3.273370          65157\n",
       "J.R.R. Tolkien     4.080118          62963\n",
       "Lilly Wachowski    3.808348          60988\n",
       "Stephen King       4.049956          59903\n",
       "Ethan Coen         3.947250          51185\n",
       "James Cameron      3.687102          51178\n",
       "Luc Besson         3.749676          44015\n",
       "Jonathan Nolan     4.100516          42645\n",
       "Thomas Harris      3.989774          36425"
      ]
     },
     "execution_count": 30,
     "metadata": {},
     "output_type": "execute_result"
    }
   ],
   "source": [
    "# Directors with the most ratings in the dataset\n",
    "most_rated_director = pd.DataFrame(movies_imdb_df.groupby('director')['rating'].mean().\n",
    "                             sort_values(ascending=False))\n",
    "most_rated_director['No_of_ratings'] = movies_imdb_df.groupby('director')['rating'].count()\n",
    "most_rated_director.sort_values(by=['No_of_ratings', 'rating'], ascending=False).head(10)"
   ]
  },
  {
   "cell_type": "markdown",
   "metadata": {},
   "source": [
    "The director with the most ratings is Quentin Tarantino, this does not come as a surprise as this director has several blockbuster movies that performed quite well in box office. This director has directed movies such as Pulp Fiction and Kill Bill just to name two. J.R.R. Tolkien, Steven King and Jonathan Nolan have an average rating of 4.0, which is a higher average than all the other directors in our data set.\n",
    "\n",
    "Both Tolkien and King have very successful book franchises that we later adapted into movies that got a mostly positive reception from the public. Their ratings could be coming from people who have read the books and went on to watch the movies and those who just watched the movies alone, this doubles the total number of views the movies received. The movies are not watched by movie fans alone but also by book readers. They capture a wider audience.\n",
    "\n",
    "Johathan Nolan has directed movies such as Batman: The Dark Knight and The Dark Knight Rises which performed well with box office bringing in revenues that far outweighed the movie budgets and received positive ratings from movie critics and fans alike. It seems that the movie viewers in our dataset enjoy watching his movies as he has a proven track record."
   ]
  },
  {
   "cell_type": "markdown",
   "metadata": {},
   "source": [
    "### Most Rated Movies"
   ]
  },
  {
   "cell_type": "markdown",
   "metadata": {},
   "source": [
    "Let us now see which movies were rated most by drawing a horizontal bar chart of the 10 most often rated movies of all time."
   ]
  },
  {
   "cell_type": "code",
   "execution_count": 31,
   "metadata": {},
   "outputs": [
    {
     "data": {
      "text/html": [
       "<div>\n",
       "<style scoped>\n",
       "    .dataframe tbody tr th:only-of-type {\n",
       "        vertical-align: middle;\n",
       "    }\n",
       "\n",
       "    .dataframe tbody tr th {\n",
       "        vertical-align: top;\n",
       "    }\n",
       "\n",
       "    .dataframe thead th {\n",
       "        text-align: right;\n",
       "    }\n",
       "</style>\n",
       "<table border=\"1\" class=\"dataframe\">\n",
       "  <thead>\n",
       "    <tr style=\"text-align: right;\">\n",
       "      <th></th>\n",
       "      <th>movieId</th>\n",
       "      <th>rating</th>\n",
       "      <th>movie_count</th>\n",
       "    </tr>\n",
       "  </thead>\n",
       "  <tbody>\n",
       "    <tr>\n",
       "      <th>0</th>\n",
       "      <td>1</td>\n",
       "      <td>3.889971</td>\n",
       "      <td>23062</td>\n",
       "    </tr>\n",
       "    <tr>\n",
       "      <th>1</th>\n",
       "      <td>2</td>\n",
       "      <td>3.263414</td>\n",
       "      <td>9654</td>\n",
       "    </tr>\n",
       "    <tr>\n",
       "      <th>2</th>\n",
       "      <td>3</td>\n",
       "      <td>3.132325</td>\n",
       "      <td>4727</td>\n",
       "    </tr>\n",
       "    <tr>\n",
       "      <th>3</th>\n",
       "      <td>4</td>\n",
       "      <td>2.878099</td>\n",
       "      <td>968</td>\n",
       "    </tr>\n",
       "    <tr>\n",
       "      <th>4</th>\n",
       "      <td>5</td>\n",
       "      <td>3.059165</td>\n",
       "      <td>4648</td>\n",
       "    </tr>\n",
       "  </tbody>\n",
       "</table>\n",
       "</div>"
      ],
      "text/plain": [
       "   movieId    rating  movie_count\n",
       "0        1  3.889971        23062\n",
       "1        2  3.263414         9654\n",
       "2        3  3.132325         4727\n",
       "3        4  2.878099          968\n",
       "4        5  3.059165         4648"
      ]
     },
     "execution_count": 31,
     "metadata": {},
     "output_type": "execute_result"
    }
   ],
   "source": [
    "# create aggregated table of movies with their average ratings\n",
    "\n",
    "avg_ratings = df_train[['movieId','rating']].groupby(by='movieId', as_index=False).mean()\n",
    "\n",
    "# add a column that shows how many ratings each movie got\n",
    "avg_ratings['movie_count'] = df_train[['movieId','rating']].groupby(by='movieId', as_index=False).count()['rating']\n",
    "avg_ratings.head()"
   ]
  },
  {
   "cell_type": "code",
   "execution_count": 32,
   "metadata": {},
   "outputs": [
    {
     "data": {
      "image/png": "[encoded data removed]",
      "text/plain": [
       "<Figure size 1008x648 with 1 Axes>"
      ]
     },
     "metadata": {},
     "output_type": "display_data"
    }
   ],
   "source": [
    "def movie_ratings(series):\n",
    "    \"\"\"\n",
    "    This function generates a bar plot of the 10 most rated movies\n",
    "    of all time\n",
    "    \n",
    "    \"\"\"\n",
    "\n",
    "    data = series.value_counts().head(10)\n",
    "    plt.figure(figsize = (14,9))\n",
    "    sns.set_style('darkgrid')\n",
    "    sns.barplot(x = data, y = data.index ,order = data.index, \n",
    "                palette = 'rocket', orient = 'h',edgecolor = \"black\")\n",
    "    plt.ylabel('Movies', fontsize = 15)\n",
    "    plt.xlabel('Number of ratings',fontsize = 15)\n",
    "    plt.title('10 most rated movies of all time',fontsize = 18)\n",
    "    plt.show()\n",
    "\n",
    "movie_ratings(movies_imdb_df['title'])"
   ]
  },
  {
   "cell_type": "markdown",
   "metadata": {},
   "source": [
    "Shawshank Redemption is the most rated movie of all time, one of the contributing factors could be that Morgan Freeman is one of the cast members. The actor has amassed a wealth of respect from movie fans and creators alike. The book that the movie was adopted from was written by Stephen King, a well known writer whose works have been adapted into several movies in Hollywood. Forest Gump and Pulp Fiction follow in 2nd and 3rd place respectively. These two movies also cast all star actors such as Tom Hanks, Samuel L. Jackson and John Travolta."
   ]
  },
  {
   "cell_type": "code",
   "execution_count": 33,
   "metadata": {},
   "outputs": [],
   "source": [
    "#Looking at the count of ratings per user\n",
    "df_ratingcount = df_train.groupby('userId').count().drop('movieId', axis = 1)\n"
   ]
  },
  {
   "cell_type": "code",
   "execution_count": 34,
   "metadata": {},
   "outputs": [
    {
     "data": {
      "image/png": "[encoded data removed]",
      "text/plain": [
       "<Figure size 1008x648 with 1 Axes>"
      ]
     },
     "metadata": {},
     "output_type": "display_data"
    }
   ],
   "source": [
    "#Plotting the ratings per user in a histogram with a filter at 600 to not display outliers.   \n",
    "plt.figure(figsize = (14,9))\n",
    "sns.histplot(x = df_ratingcount[df_ratingcount['rating']<600]['rating'], data = df_train['userId'].count(), \n",
    "                edgecolor = \"black\", bins = 5)\n",
    "plt.ylabel('Number of Users', fontsize = 15)\n",
    "plt.xlabel('Amount of Ratings',fontsize = 15)\n",
    "plt.title('Number of Ratings per User',fontsize = 18)\n",
    "plt.show()"
   ]
  },
  {
   "cell_type": "markdown",
   "metadata": {},
   "source": [
    "We thus see that the amount of ratings users give are skew to the right. As many as 140,000 users give less than 100 movies ratings, while less than 20,000 users give more than that."
   ]
  },
  {
   "cell_type": "markdown",
   "metadata": {},
   "source": [
    "### Displaying the amount of unique values"
   ]
  },
  {
   "cell_type": "markdown",
   "metadata": {},
   "source": [
    "Let's look at the amount of unique users and movies and compare it with the highest userId and movieId to see if they are in sync."
   ]
  },
  {
   "cell_type": "code",
   "execution_count": 35,
   "metadata": {
    "scrolled": true
   },
   "outputs": [
    {
     "name": "stdout",
     "output_type": "stream",
     "text": [
      "The highest userID is 162541\n",
      "There are 162541 unique users.\n",
      "The highest movieID is 209171\n",
      "There are 48213 unique movies.\n"
     ]
    }
   ],
   "source": [
    "n_users=(df_train.userId.nunique()) # number of unique reviewers\n",
    "n_movies=(df_train.movieId.nunique()) # number of unique movies\n",
    "max_userId = df_train.userId.max() # maximum value of userID\n",
    "max_movieId = df_train.movieId.max() # maximum value of movieId\n",
    "\n",
    "\n",
    "print('The highest userID is ' + str(max_userId))\n",
    "print('There are ' + str(n_users) + ' unique users.')\n",
    "\n",
    "print('The highest movieID is ' + str(max_movieId))\n",
    "print('There are ' + str(n_movies) + ' unique movies.')"
   ]
  },
  {
   "cell_type": "markdown",
   "metadata": {},
   "source": [
    "We observe that the number of unique users matches the highest userId showing that they are in sync.\n",
    "We also observe that the highest movieId is much higher than the number of unique movies. This means that the movieId's are not consecutive numbers, and there are some movies without any ratings."
   ]
  },
  {
   "cell_type": "markdown",
   "metadata": {},
   "source": [
    "### Best and worst rated movies"
   ]
  },
  {
   "cell_type": "markdown",
   "metadata": {},
   "source": [
    "Let us see the top 5 and bottom 5 ranked videos."
   ]
  },
  {
   "cell_type": "code",
   "execution_count": 85,
   "metadata": {},
   "outputs": [
    {
     "data": {
      "text/html": [
       "<div>\n",
       "<style scoped>\n",
       "    .dataframe tbody tr th:only-of-type {\n",
       "        vertical-align: middle;\n",
       "    }\n",
       "\n",
       "    .dataframe tbody tr th {\n",
       "        vertical-align: top;\n",
       "    }\n",
       "\n",
       "    .dataframe thead th {\n",
       "        text-align: right;\n",
       "    }\n",
       "</style>\n",
       "<table border=\"1\" class=\"dataframe\">\n",
       "  <thead>\n",
       "    <tr style=\"text-align: right;\">\n",
       "      <th></th>\n",
       "      <th>title</th>\n",
       "      <th>rating</th>\n",
       "      <th>movie_count</th>\n",
       "    </tr>\n",
       "  </thead>\n",
       "  <tbody>\n",
       "    <tr>\n",
       "      <th>0</th>\n",
       "      <td>Toy Story (1995)</td>\n",
       "      <td>3.889971</td>\n",
       "      <td>23062</td>\n",
       "    </tr>\n",
       "    <tr>\n",
       "      <th>1</th>\n",
       "      <td>Jumanji (1995)</td>\n",
       "      <td>3.263414</td>\n",
       "      <td>9654</td>\n",
       "    </tr>\n",
       "    <tr>\n",
       "      <th>2</th>\n",
       "      <td>Grumpier Old Men (1995)</td>\n",
       "      <td>3.132325</td>\n",
       "      <td>4727</td>\n",
       "    </tr>\n",
       "    <tr>\n",
       "      <th>3</th>\n",
       "      <td>Waiting to Exhale (1995)</td>\n",
       "      <td>2.878099</td>\n",
       "      <td>968</td>\n",
       "    </tr>\n",
       "    <tr>\n",
       "      <th>4</th>\n",
       "      <td>Father of the Bride Part II (1995)</td>\n",
       "      <td>3.059165</td>\n",
       "      <td>4648</td>\n",
       "    </tr>\n",
       "  </tbody>\n",
       "</table>\n",
       "</div>"
      ],
      "text/plain": [
       "                                title    rating  movie_count\n",
       "0                    Toy Story (1995)  3.889971        23062\n",
       "1                      Jumanji (1995)  3.263414         9654\n",
       "2             Grumpier Old Men (1995)  3.132325         4727\n",
       "3            Waiting to Exhale (1995)  2.878099          968\n",
       "4  Father of the Bride Part II (1995)  3.059165         4648"
      ]
     },
     "execution_count": 85,
     "metadata": {},
     "output_type": "execute_result"
    }
   ],
   "source": [
    "# Creating an aggregated table of movies with their average ratings\n",
    "avg_ratings = df_train[['movieId','rating']].groupby(by='movieId', as_index=False).mean()\n",
    "\n",
    "# Adding a column that shows how many ratings each movie got\n",
    "avg_ratings['movie_count'] = df_train[['movieId','rating']].groupby(by='movieId', as_index=False).count()['rating']\n",
    "\n",
    "# Merging avg_ratings with the movies dataframe so that we get the movie title for each movieId\n",
    "avg_ratings_merged = pd.merge(avg_ratings, df_movies[['movieId','title']], how='left', on='movieId')\n",
    "avg_ratings_merged = avg_ratings_merged[['title', 'rating', 'movie_count']]\n",
    "avg_ratings_merged.head()"
   ]
  },
  {
   "cell_type": "code",
   "execution_count": 86,
   "metadata": {},
   "outputs": [
    {
     "name": "stdout",
     "output_type": "stream",
     "text": [
      "5 Best rated movies are: \n",
      "\n",
      "                                 title  rating  movie_count\n",
      "42113       Fat Pizza vs Housos (2014)     5.0            1\n",
      "35223  The Fearless Young Boxer (1979)     5.0            1\n",
      "40065          A Moving Romance (2017)     5.0            1\n",
      "22537   Shaka Zulu: The Citadel (2001)     5.0            1\n",
      "22540                 Get Crazy (1983)     5.0            1\n",
      "5 Worst rated movies are: \n",
      "\n",
      "                                   title  rating  movie_count\n",
      "44043  Battle for the Lost Planet (1986)     0.5            1\n",
      "46287               Seven Dinners (2019)     0.5            1\n",
      "46284                 Shockheaded (2002)     0.5            1\n",
      "42734              Garde alternée (2017)     0.5            1\n",
      "41948         El grano de mostaza (1962)     0.5            1\n"
     ]
    }
   ],
   "source": [
    "print('5 Best rated movies are: \\n')\n",
    "print(avg_ratings_merged[['title', 'rating', 'movie_count']].sort_values(by='rating', ascending=False).head(5))\n",
    "print('5 Worst rated movies are: \\n')\n",
    "print(avg_ratings_merged[['title', 'rating', 'movie_count']].sort_values(by='rating', ascending=False).tail(5))"
   ]
  },
  {
   "cell_type": "markdown",
   "metadata": {},
   "source": [
    "All of the top 5 and bottom 5 movies have only had 1 review each, so the average isn't a fair representation. What happens if we limit the above ranking to movies that have at least 50 reviews?"
   ]
  },
  {
   "cell_type": "code",
   "execution_count": 91,
   "metadata": {},
   "outputs": [],
   "source": [
    "familiar_movies = avg_ratings_merged[avg_ratings_merged['movie_count'] >= 50]"
   ]
  },
  {
   "cell_type": "code",
   "execution_count": 92,
   "metadata": {
    "scrolled": true
   },
   "outputs": [
    {
     "name": "stdout",
     "output_type": "stream",
     "text": [
      "5 Best rated movies are: \n",
      "\n",
      "                                  title    rating  movie_count\n",
      "37118            Planet Earth II (2016)  4.517084          439\n",
      "33608               Planet Earth (2006)  4.473294          674\n",
      "37285                            Cosmos  4.456897          116\n",
      "314    Shawshank Redemption, The (1994)  4.417624        32831\n",
      "36994           Band of Brothers (2001)  4.399130          575\n",
      "\n",
      "5 Worst rated movies are: \n",
      "\n",
      "                                     title    rating  movie_count\n",
      "5624               Faces of Death 6 (1996)  1.184211           57\n",
      "12561                Disaster Movie (2008)  1.179435          248\n",
      "1740       Barney's Great Adventure (1998)  1.163522          159\n",
      "6355           From Justin to Kelly (2003)  1.011236          178\n",
      "8136   SuperBabies: Baby Geniuses 2 (2004)  0.823171           82\n"
     ]
    }
   ],
   "source": [
    "print('5 Best rated movies are: \\n')\n",
    "print(familiar_movies[['title','rating','movie_count']].sort_values(by='rating', ascending=False).head(5))\n",
    "print('')\n",
    "print('5 Worst rated movies are: \\n')\n",
    "print(familiar_movies[['title','rating','movie_count']].sort_values(by='rating', ascending=False).tail(5))"
   ]
  },
  {
   "cell_type": "code",
   "execution_count": 93,
   "metadata": {},
   "outputs": [],
   "source": [
    "x = familiar_movies[['title', 'rating']].sort_values(by = 'rating', ascending=False).head()['rating']\n",
    "y = familiar_movies[['title', 'rating']].sort_values(by = 'rating', ascending=False).head()['title']\n"
   ]
  },
  {
   "cell_type": "code",
   "execution_count": 95,
   "metadata": {},
   "outputs": [
    {
     "data": {
      "image/png": "[encoded data removed]",
      "text/plain": [
       "<Figure size 1008x648 with 1 Axes>"
      ]
     },
     "metadata": {},
     "output_type": "display_data"
    }
   ],
   "source": [
    "plt.figure(figsize = (14,9))\n",
    "sns.set_style('white')\n",
    "sns.barplot(x = x, y = y, palette = 'mako', edgecolor = \"black\")\n",
    "plt.ylabel('Movie Names', fontsize = 15)\n",
    "plt.xlabel('Movie Ratings',fontsize = 15)\n",
    "plt.title('The 5 best rated movies with more than 50 ratings',fontsize = 18)\n",
    "plt.show()"
   ]
  },
  {
   "cell_type": "code",
   "execution_count": 96,
   "metadata": {},
   "outputs": [],
   "source": [
    "x = familiar_movies[['title', 'rating']].sort_values(by = 'rating', ascending=True).head()['rating']\n",
    "y = familiar_movies[['title', 'rating']].sort_values(by = 'rating', ascending=True).head()['title']\n"
   ]
  },
  {
   "cell_type": "code",
   "execution_count": 101,
   "metadata": {},
   "outputs": [
    {
     "data": {
      "image/png": "[encoded data removed]",
      "text/plain": [
       "<Figure size 1008x648 with 1 Axes>"
      ]
     },
     "metadata": {},
     "output_type": "display_data"
    }
   ],
   "source": [
    "plt.figure(figsize = (14,9))\n",
    "sns.set_style('white')\n",
    "sns.barplot(x = x, y = y, palette = 'rocket', edgecolor = \"black\")\n",
    "plt.ylabel('Movie Names', fontsize = 15)\n",
    "plt.xlabel('Movie Ratings',fontsize = 15)\n",
    "plt.title('The 5 worst rated movies with more than 50 ratings', fontsize = 18)\n",
    "plt.show()"
   ]
  },
  {
   "cell_type": "markdown",
   "metadata": {},
   "source": [
    "This looks much better. Planet Earth II and Planet Earth are two very good quality documentaries narrated by BBC senior manager David Attenborough. We will also see that documentaries overall tend to get better ratings than films from other genres. Shawshank Redemption performed the best for a movie rated that many times. One of the contributing factors could be that Morgan Freeman is one of the cast members. The actor has amassed a wealth of respect from movie fans and creators alike. The book that the movie was adopted from was written by Stephen King, a well known writer whose works have been adapted into several movies in Hollywood."
   ]
  },
  {
   "cell_type": "markdown",
   "metadata": {},
   "source": [
    "Comparing this with sources like IMDb and Rotten Tomatoes we can see that Planet Earth has a 9.4/10 average rating and SuperBabies: Baby Geniuses 2 has an average rating of 2.0/10."
   ]
  },
  {
   "cell_type": "markdown",
   "metadata": {},
   "source": [
    "###  Which genres have the highest average rating?"
   ]
  },
  {
   "cell_type": "markdown",
   "metadata": {},
   "source": [
    "Here we will look at the average rating per genre and make a vertical barchart from it so that it is easy to see how many viewers on average enjoyed each movie."
   ]
  },
  {
   "cell_type": "code",
   "execution_count": 104,
   "metadata": {},
   "outputs": [
    {
     "data": {
      "text/html": [
       "<div>\n",
       "<style scoped>\n",
       "    .dataframe tbody tr th:only-of-type {\n",
       "        vertical-align: middle;\n",
       "    }\n",
       "\n",
       "    .dataframe tbody tr th {\n",
       "        vertical-align: top;\n",
       "    }\n",
       "\n",
       "    .dataframe thead th {\n",
       "        text-align: right;\n",
       "    }\n",
       "</style>\n",
       "<table border=\"1\" class=\"dataframe\">\n",
       "  <thead>\n",
       "    <tr style=\"text-align: right;\">\n",
       "      <th></th>\n",
       "      <th>movieId</th>\n",
       "      <th>title</th>\n",
       "      <th>year</th>\n",
       "      <th>genres</th>\n",
       "      <th>genre_split</th>\n",
       "      <th>(no genres listed)</th>\n",
       "      <th>Action</th>\n",
       "      <th>Adventure</th>\n",
       "      <th>Animation</th>\n",
       "      <th>Children</th>\n",
       "      <th>Comedy</th>\n",
       "      <th>Crime</th>\n",
       "      <th>Documentary</th>\n",
       "      <th>Drama</th>\n",
       "      <th>Fantasy</th>\n",
       "      <th>Film-Noir</th>\n",
       "      <th>Horror</th>\n",
       "      <th>IMAX</th>\n",
       "      <th>Musical</th>\n",
       "      <th>Mystery</th>\n",
       "      <th>Romance</th>\n",
       "      <th>Sci-Fi</th>\n",
       "      <th>Thriller</th>\n",
       "      <th>War</th>\n",
       "      <th>Western</th>\n",
       "      <th>rating</th>\n",
       "      <th>movie_count</th>\n",
       "    </tr>\n",
       "  </thead>\n",
       "  <tbody>\n",
       "    <tr>\n",
       "      <th>0</th>\n",
       "      <td>1</td>\n",
       "      <td>Toy Story (1995)</td>\n",
       "      <td>1995</td>\n",
       "      <td>Adventure|Animation|Children|Comedy|Fantasy</td>\n",
       "      <td>[Adventure, Animation, Children, Comedy, Fantasy]</td>\n",
       "      <td>0</td>\n",
       "      <td>0</td>\n",
       "      <td>1</td>\n",
       "      <td>1</td>\n",
       "      <td>1</td>\n",
       "      <td>1</td>\n",
       "      <td>0</td>\n",
       "      <td>0</td>\n",
       "      <td>0</td>\n",
       "      <td>1</td>\n",
       "      <td>0</td>\n",
       "      <td>0</td>\n",
       "      <td>0</td>\n",
       "      <td>0</td>\n",
       "      <td>0</td>\n",
       "      <td>0</td>\n",
       "      <td>0</td>\n",
       "      <td>0</td>\n",
       "      <td>0</td>\n",
       "      <td>0</td>\n",
       "      <td>3.889971</td>\n",
       "      <td>23062.0</td>\n",
       "    </tr>\n",
       "    <tr>\n",
       "      <th>1</th>\n",
       "      <td>2</td>\n",
       "      <td>Jumanji (1995)</td>\n",
       "      <td>1995</td>\n",
       "      <td>Adventure|Children|Fantasy</td>\n",
       "      <td>[Adventure, Children, Fantasy]</td>\n",
       "      <td>0</td>\n",
       "      <td>0</td>\n",
       "      <td>1</td>\n",
       "      <td>0</td>\n",
       "      <td>1</td>\n",
       "      <td>0</td>\n",
       "      <td>0</td>\n",
       "      <td>0</td>\n",
       "      <td>0</td>\n",
       "      <td>1</td>\n",
       "      <td>0</td>\n",
       "      <td>0</td>\n",
       "      <td>0</td>\n",
       "      <td>0</td>\n",
       "      <td>0</td>\n",
       "      <td>0</td>\n",
       "      <td>0</td>\n",
       "      <td>0</td>\n",
       "      <td>0</td>\n",
       "      <td>0</td>\n",
       "      <td>3.263414</td>\n",
       "      <td>9654.0</td>\n",
       "    </tr>\n",
       "    <tr>\n",
       "      <th>2</th>\n",
       "      <td>3</td>\n",
       "      <td>Grumpier Old Men (1995)</td>\n",
       "      <td>1995</td>\n",
       "      <td>Comedy|Romance</td>\n",
       "      <td>[Comedy, Romance]</td>\n",
       "      <td>0</td>\n",
       "      <td>0</td>\n",
       "      <td>0</td>\n",
       "      <td>0</td>\n",
       "      <td>0</td>\n",
       "      <td>1</td>\n",
       "      <td>0</td>\n",
       "      <td>0</td>\n",
       "      <td>0</td>\n",
       "      <td>0</td>\n",
       "      <td>0</td>\n",
       "      <td>0</td>\n",
       "      <td>0</td>\n",
       "      <td>0</td>\n",
       "      <td>0</td>\n",
       "      <td>1</td>\n",
       "      <td>0</td>\n",
       "      <td>0</td>\n",
       "      <td>0</td>\n",
       "      <td>0</td>\n",
       "      <td>3.132325</td>\n",
       "      <td>4727.0</td>\n",
       "    </tr>\n",
       "    <tr>\n",
       "      <th>3</th>\n",
       "      <td>4</td>\n",
       "      <td>Waiting to Exhale (1995)</td>\n",
       "      <td>1995</td>\n",
       "      <td>Comedy|Drama|Romance</td>\n",
       "      <td>[Comedy, Drama, Romance]</td>\n",
       "      <td>0</td>\n",
       "      <td>0</td>\n",
       "      <td>0</td>\n",
       "      <td>0</td>\n",
       "      <td>0</td>\n",
       "      <td>1</td>\n",
       "      <td>0</td>\n",
       "      <td>0</td>\n",
       "      <td>1</td>\n",
       "      <td>0</td>\n",
       "      <td>0</td>\n",
       "      <td>0</td>\n",
       "      <td>0</td>\n",
       "      <td>0</td>\n",
       "      <td>0</td>\n",
       "      <td>1</td>\n",
       "      <td>0</td>\n",
       "      <td>0</td>\n",
       "      <td>0</td>\n",
       "      <td>0</td>\n",
       "      <td>2.878099</td>\n",
       "      <td>968.0</td>\n",
       "    </tr>\n",
       "    <tr>\n",
       "      <th>4</th>\n",
       "      <td>5</td>\n",
       "      <td>Father of the Bride Part II (1995)</td>\n",
       "      <td>1995</td>\n",
       "      <td>Comedy</td>\n",
       "      <td>[Comedy]</td>\n",
       "      <td>0</td>\n",
       "      <td>0</td>\n",
       "      <td>0</td>\n",
       "      <td>0</td>\n",
       "      <td>0</td>\n",
       "      <td>1</td>\n",
       "      <td>0</td>\n",
       "      <td>0</td>\n",
       "      <td>0</td>\n",
       "      <td>0</td>\n",
       "      <td>0</td>\n",
       "      <td>0</td>\n",
       "      <td>0</td>\n",
       "      <td>0</td>\n",
       "      <td>0</td>\n",
       "      <td>0</td>\n",
       "      <td>0</td>\n",
       "      <td>0</td>\n",
       "      <td>0</td>\n",
       "      <td>0</td>\n",
       "      <td>3.059165</td>\n",
       "      <td>4648.0</td>\n",
       "    </tr>\n",
       "  </tbody>\n",
       "</table>\n",
       "</div>"
      ],
      "text/plain": [
       "   movieId                               title  year  \\\n",
       "0        1                    Toy Story (1995)  1995   \n",
       "1        2                      Jumanji (1995)  1995   \n",
       "2        3             Grumpier Old Men (1995)  1995   \n",
       "3        4            Waiting to Exhale (1995)  1995   \n",
       "4        5  Father of the Bride Part II (1995)  1995   \n",
       "\n",
       "                                        genres  \\\n",
       "0  Adventure|Animation|Children|Comedy|Fantasy   \n",
       "1                   Adventure|Children|Fantasy   \n",
       "2                               Comedy|Romance   \n",
       "3                         Comedy|Drama|Romance   \n",
       "4                                       Comedy   \n",
       "\n",
       "                                         genre_split  (no genres listed)  \\\n",
       "0  [Adventure, Animation, Children, Comedy, Fantasy]                   0   \n",
       "1                     [Adventure, Children, Fantasy]                   0   \n",
       "2                                  [Comedy, Romance]                   0   \n",
       "3                           [Comedy, Drama, Romance]                   0   \n",
       "4                                           [Comedy]                   0   \n",
       "\n",
       "   Action  Adventure  Animation  Children  Comedy  Crime  Documentary  Drama  \\\n",
       "0       0          1          1         1       1      0            0      0   \n",
       "1       0          1          0         1       0      0            0      0   \n",
       "2       0          0          0         0       1      0            0      0   \n",
       "3       0          0          0         0       1      0            0      1   \n",
       "4       0          0          0         0       1      0            0      0   \n",
       "\n",
       "   Fantasy  Film-Noir  Horror  IMAX  Musical  Mystery  Romance  Sci-Fi  \\\n",
       "0        1          0       0     0        0        0        0       0   \n",
       "1        1          0       0     0        0        0        0       0   \n",
       "2        0          0       0     0        0        0        1       0   \n",
       "3        0          0       0     0        0        0        1       0   \n",
       "4        0          0       0     0        0        0        0       0   \n",
       "\n",
       "   Thriller  War  Western    rating  movie_count  \n",
       "0         0    0        0  3.889971      23062.0  \n",
       "1         0    0        0  3.263414       9654.0  \n",
       "2         0    0        0  3.132325       4727.0  \n",
       "3         0    0        0  2.878099        968.0  \n",
       "4         0    0        0  3.059165       4648.0  "
      ]
     },
     "execution_count": 104,
     "metadata": {},
     "output_type": "execute_result"
    }
   ],
   "source": [
    "# Adding the average rating and rating count to the movies dataframe\n",
    "df_movies = pd.merge(df_movies, avg_ratings, how='left', on='movieId')\n",
    "df_movies.head()"
   ]
  },
  {
   "cell_type": "code",
   "execution_count": 105,
   "metadata": {},
   "outputs": [],
   "source": [
    "# Renaming the 'no genres' column because it contains brackets\n",
    "df_movies.rename(columns={'(no genres listed)':'No genre'}, inplace=True)\n",
    "\n",
    "# Renaming the first element of our list of genres\n",
    "genres[0] = 'No genre'"
   ]
  },
  {
   "cell_type": "code",
   "execution_count": 106,
   "metadata": {},
   "outputs": [
    {
     "data": {
      "text/plain": [
       "{'No genre': 3.0781802501123017,\n",
       " 'Action': 2.9506979201143646,\n",
       " 'Adventure': 3.045467920700436,\n",
       " 'Animation': 3.1547810806166137,\n",
       " 'Children': 3.048450639333836,\n",
       " 'Comedy': 3.0686633531222296,\n",
       " 'Crime': 3.1231732562278167,\n",
       " 'Documentary': 3.3959171332111913,\n",
       " 'Drama': 3.214231833322594,\n",
       " 'Fantasy': 3.049064785110446,\n",
       " 'Film-Noir': 3.325976896517685,\n",
       " 'Horror': 2.669973819124744,\n",
       " 'IMAX': 3.248172260421274,\n",
       " 'Musical': 3.21398491248772,\n",
       " 'Mystery': 3.0804013750500534,\n",
       " 'Romance': 3.1903741180937137,\n",
       " 'Sci-Fi': 2.8024122783057823,\n",
       " 'Thriller': 2.9685105390583213,\n",
       " 'War': 3.2877103902251488,\n",
       " 'Western': 3.0868148815103935}"
      ]
     },
     "execution_count": 106,
     "metadata": {},
     "output_type": "execute_result"
    }
   ],
   "source": [
    "# Creating an empty dictionary to store averages in\n",
    "\n",
    "genre_averages ={}\n",
    "\n",
    "for genre in genres:\n",
    "    # Creating a temporary matrix for each genre that has 2 rows\n",
    "    # When the genre is 1, and when it is 0, calculating the mean for each\n",
    "    \n",
    "    temp = df_movies[[genre,'rating']].groupby(by=genre, as_index=False).mean()\n",
    "    \n",
    "    # Adding the value for when the genre is 1 to the dictionary\n",
    "    genre_averages[genre] = temp[temp[genre] == 1]['rating'].values[0]\n",
    "    \n",
    "genre_averages"
   ]
  },
  {
   "cell_type": "code",
   "execution_count": 110,
   "metadata": {},
   "outputs": [
    {
     "data": {
      "text/plain": [
       "<matplotlib.legend.Legend at 0x2491fb504c0>"
      ]
     },
     "execution_count": 110,
     "metadata": {},
     "output_type": "execute_result"
    },
    {
     "data": {
      "image/png": "[encoded data removed]",
      "text/plain": [
       "<Figure size 1008x648 with 1 Axes>"
      ]
     },
     "metadata": {},
     "output_type": "display_data"
    }
   ],
   "source": [
    "# Creating a vertical barchart to see which genres are rated highest on average\n",
    "\n",
    "plt.figure(figsize = (14,9))\n",
    "sns.barplot(x=list(genre_averages.keys()), y=list(genre_averages.values()))\n",
    "plt.xticks(rotation=90)\n",
    "plt.title('Average rating for each genre')\n",
    "plt.ylabel('Average rating')\n",
    "plt.xlabel('Genres')\n",
    "plt.ylim((2,4))\n",
    "plt.axhline(y=np.median(list(genre_averages.values())), label='Median = ' + str(round(np.median(list(genre_averages.values())),2)))\n",
    "plt.tight_layout()\n",
    "plt.legend(loc=(1.02, 0.5))"
   ]
  },
  {
   "cell_type": "markdown",
   "metadata": {},
   "source": [
    "We can see from the above plot that the median average genre rating is 3.08. Documentaries have the highest average ratings (3.5) and Horror movies have by far the lowest average ratings (2.5).\n",
    "\n",
    "It is worth noting that each movie is weighted the same in this calculation, so a movie with 1 review has the same weight as a movie with 10,000 reviews. Also many movies have multiple genres and are included in the calculation for each."
   ]
  },
  {
   "cell_type": "markdown",
   "metadata": {},
   "source": [
    "### Which movie has the most polarising effect on the audience?"
   ]
  },
  {
   "cell_type": "markdown",
   "metadata": {},
   "source": [
    "Let us look at the movie with the greatest range of score by looking for the movie with the highest standard deviation. We will then plot the ratings of that movie to verify our suspicions."
   ]
  },
  {
   "cell_type": "code",
   "execution_count": 111,
   "metadata": {},
   "outputs": [
    {
     "data": {
      "text/html": [
       "<div>\n",
       "<style scoped>\n",
       "    .dataframe tbody tr th:only-of-type {\n",
       "        vertical-align: middle;\n",
       "    }\n",
       "\n",
       "    .dataframe tbody tr th {\n",
       "        vertical-align: top;\n",
       "    }\n",
       "\n",
       "    .dataframe thead th {\n",
       "        text-align: right;\n",
       "    }\n",
       "</style>\n",
       "<table border=\"1\" class=\"dataframe\">\n",
       "  <thead>\n",
       "    <tr style=\"text-align: right;\">\n",
       "      <th></th>\n",
       "      <th>std</th>\n",
       "      <th>movie_count</th>\n",
       "    </tr>\n",
       "    <tr>\n",
       "      <th>movieId</th>\n",
       "      <th></th>\n",
       "      <th></th>\n",
       "    </tr>\n",
       "  </thead>\n",
       "  <tbody>\n",
       "    <tr>\n",
       "      <th>1311</th>\n",
       "      <td>1.731972</td>\n",
       "      <td>61</td>\n",
       "    </tr>\n",
       "    <tr>\n",
       "      <th>74754</th>\n",
       "      <td>1.660657</td>\n",
       "      <td>249</td>\n",
       "    </tr>\n",
       "    <tr>\n",
       "      <th>50703</th>\n",
       "      <td>1.659012</td>\n",
       "      <td>61</td>\n",
       "    </tr>\n",
       "    <tr>\n",
       "      <th>51372</th>\n",
       "      <td>1.577237</td>\n",
       "      <td>67</td>\n",
       "    </tr>\n",
       "    <tr>\n",
       "      <th>59295</th>\n",
       "      <td>1.572540</td>\n",
       "      <td>60</td>\n",
       "    </tr>\n",
       "  </tbody>\n",
       "</table>\n",
       "</div>"
      ],
      "text/plain": [
       "              std  movie_count\n",
       "movieId                       \n",
       "1311     1.731972           61\n",
       "74754    1.660657          249\n",
       "50703    1.659012           61\n",
       "51372    1.577237           67\n",
       "59295    1.572540           60"
      ]
     },
     "execution_count": 111,
     "metadata": {},
     "output_type": "execute_result"
    }
   ],
   "source": [
    "# groupby movieId again but this time calculate the standard deviations\n",
    "\n",
    "deviations = df_train[['movieId','rating']].groupby(by='movieId', as_index=True).std()\n",
    "deviations['movie_count'] = df_train[['movieId','rating']].groupby(by='movieId', as_index=True).count()['rating']\n",
    "deviations.rename(columns={'rating':'std'}, inplace=True)\n",
    "deviations.sort_values(by='std', ascending=False, inplace=True)\n",
    "# again limit to movies with at least 50 ratings\n",
    "deviations[deviations['movie_count'] >= 50].head()"
   ]
  },
  {
   "cell_type": "code",
   "execution_count": 112,
   "metadata": {},
   "outputs": [
    {
     "name": "stdout",
     "output_type": "stream",
     "text": [
      "Santa with Muscles (1996) has:\n",
      "Average rating of 2.5163934426229506\n",
      "Deviation of 1.7319719327853682\n"
     ]
    }
   ],
   "source": [
    "# Taking the movieId of the movie with the highest standard deviation\n",
    "\n",
    "largest_std = deviations[deviations['movie_count'] >= 50].iloc[0].name\n",
    "print(df_movies[df_movies['movieId']==largest_std]['title'].values[0] + ' has:')\n",
    "print('Average rating of ' + str(avg_ratings[avg_ratings['movieId']==largest_std]['rating'].values[0]))\n",
    "print('Deviation of ' + str(deviations.loc[largest_std]['std']))"
   ]
  },
  {
   "cell_type": "markdown",
   "metadata": {},
   "source": [
    "\"Santa with muscles\" has an average rating more or less in the middle of the scale and the standard deviation that is equal to a large proportion of the distance from the mean to the maximum and minimum possible scores. Let's take a closer look at the distribution."
   ]
  },
  {
   "cell_type": "code",
   "execution_count": 116,
   "metadata": {},
   "outputs": [
    {
     "data": {
      "text/plain": [
       "Text(0.5, 1.05, 'Rating distribution for \"Santa with Muscles (1996)\"')"
      ]
     },
     "execution_count": 116,
     "metadata": {},
     "output_type": "execute_result"
    },
    {
     "data": {
      "image/png": "[encoded data removed]",
      "text/plain": [
       "<Figure size 1008x648 with 1 Axes>"
      ]
     },
     "metadata": {},
     "output_type": "display_data"
    }
   ],
   "source": [
    "# Plotting the ratings of Santa with Muscles\n",
    "plt.figure(figsize = (14,9))\n",
    "sns.countplot(df_train[df_train['movieId'] == largest_std]['rating'])\n",
    "plt.title('Rating distribution for \"Santa with Muscles (1996)\"', y=1.05)"
   ]
  },
  {
   "cell_type": "markdown",
   "metadata": {},
   "source": [
    "We can see that \"Santa with Muscles\" (a Christmas movie starring former wrestler Hulk Hogan) was the most polarising among reviewers, with the vast majority of votes being either 1.0 or 5.0. The polarizing score can either be interpreted as a terrible movie and that the 5.0 ratings are ironic/sarcastic ratings or that there are a lot of Hulk Hogan fans that use MovieLens and thus rate it well eventhough the movie itself is of low quality."
   ]
  },
  {
   "cell_type": "markdown",
   "metadata": {},
   "source": [
    "## Splitting the data"
   ]
  },
  {
   "cell_type": "markdown",
   "metadata": {},
   "source": [
    "In order to have a valid validation set free from data leakage we will split the train set so that 20% of the data is not processed or trained on, but is kept solely for the purpose of validation."
   ]
  },
  {
   "cell_type": "code",
   "execution_count": null,
   "metadata": {},
   "outputs": [],
   "source": []
  },
  {
   "cell_type": "markdown",
   "metadata": {},
   "source": [
    "## Text Pre-processing"
   ]
  },
  {
   "cell_type": "markdown",
   "metadata": {},
   "source": [
    "In order for our machines to process the data in an acceptable time, we will arbitrarily limit the rows in our datasets. This has the downside of giving our models less data to train on, but the upside of delivering an acceptable model without our machines freezing."
   ]
  },
  {
   "cell_type": "markdown",
   "metadata": {},
   "source": [
    "### Filtering the dataset"
   ]
  },
  {
   "cell_type": "markdown",
   "metadata": {},
   "source": [
    "We will limit the rows in the df_train dataset to 10,000 rows and of the df_final dataset to 5,000 rows since these are the two datasets we will work on from here on forward and since they are both very large."
   ]
  },
  {
   "cell_type": "code",
   "execution_count": 118,
   "metadata": {},
   "outputs": [
    {
     "data": {
      "text/plain": [
       "(10000038, 3)"
      ]
     },
     "execution_count": 118,
     "metadata": {},
     "output_type": "execute_result"
    }
   ],
   "source": [
    "# Let's first see the shape of the trainset\n",
    "df_train.shape"
   ]
  },
  {
   "cell_type": "code",
   "execution_count": 119,
   "metadata": {},
   "outputs": [],
   "source": [
    "# Now let's reduce the rows in the trainset \n",
    "df_train = df_train.iloc[:10000,:]"
   ]
  },
  {
   "cell_type": "code",
   "execution_count": 120,
   "metadata": {},
   "outputs": [
    {
     "data": {
      "text/plain": [
       "(10000, 3)"
      ]
     },
     "execution_count": 120,
     "metadata": {},
     "output_type": "execute_result"
    }
   ],
   "source": [
    "# Let's see the shape of the trainset now.\n",
    "df_train.shape"
   ]
  },
  {
   "cell_type": "code",
   "execution_count": 121,
   "metadata": {},
   "outputs": [
    {
     "data": {
      "text/plain": [
       "(62423, 27)"
      ]
     },
     "execution_count": 121,
     "metadata": {},
     "output_type": "execute_result"
    }
   ],
   "source": [
    "# Let's see the shape of df_final\n",
    "df_final.shape"
   ]
  },
  {
   "cell_type": "code",
   "execution_count": 122,
   "metadata": {},
   "outputs": [],
   "source": [
    "# Now let's reduce the rows in this dataset\n",
    "df_final = df_final.iloc[:5000,:]"
   ]
  },
  {
   "cell_type": "code",
   "execution_count": 123,
   "metadata": {},
   "outputs": [],
   "source": [
    "# Now let's keep the columns that we are interested in\n",
    "df_final  =  df_final[['movieId', 'title', 'year', 'genres', 'genre_split', 'tag', 'metadata']]"
   ]
  },
  {
   "cell_type": "code",
   "execution_count": 124,
   "metadata": {},
   "outputs": [
    {
     "data": {
      "text/plain": [
       "(5000, 7)"
      ]
     },
     "execution_count": 124,
     "metadata": {},
     "output_type": "execute_result"
    }
   ],
   "source": [
    "#Let's see teh shape of our new dataset\n",
    "df_final.shape"
   ]
  },
  {
   "cell_type": "markdown",
   "metadata": {},
   "source": [
    "### Dimension reduction and data filtering"
   ]
  },
  {
   "cell_type": "markdown",
   "metadata": {},
   "source": [
    "Due to the size of the dataset we need to reduce the dimensions and filter out insignificant data and keep only that which most contribute to the training of our models."
   ]
  },
  {
   "cell_type": "code",
   "execution_count": null,
   "metadata": {},
   "outputs": [],
   "source": []
  },
  {
   "cell_type": "code",
   "execution_count": null,
   "metadata": {},
   "outputs": [],
   "source": []
  },
  {
   "cell_type": "code",
   "execution_count": null,
   "metadata": {},
   "outputs": [],
   "source": []
  },
  {
   "cell_type": "code",
   "execution_count": null,
   "metadata": {},
   "outputs": [],
   "source": []
  },
  {
   "cell_type": "code",
   "execution_count": null,
   "metadata": {},
   "outputs": [],
   "source": []
  },
  {
   "cell_type": "markdown",
   "metadata": {},
   "source": [
    "## Model building, training and assessment"
   ]
  },
  {
   "cell_type": "markdown",
   "metadata": {},
   "source": [
    "There are many ways to skin a cat, and there are many types of models to recommend the best movie to an individual. The first model types are called content-based models since it makes use of the content of each movie to determine which movie to recommend next. Then we will build several collaborative based models which make use of the community's preferences to determine which movie to recommend next.\n",
    "Below we will explain each type of model in more detail as well as the steps we took to go about building and assessing our models."
   ]
  },
  {
   "cell_type": "markdown",
   "metadata": {},
   "source": [
    "### Model 1: Building and training a content based model"
   ]
  },
  {
   "cell_type": "markdown",
   "metadata": {},
   "source": [
    "The first model that we shall build is the content based model. This model makes recommendations to users based on the similarity between the movies which the users watched and other movies. It looks at things like similar genres, tags, keywords and title cast. This model is especially helpful for recommending movies to new users since no watching history of a user is required, only data about each movie. This method is however computationally very intensive since several pieces of information about each movie need to be taken into consideration before a recommendation can be made."
   ]
  },
  {
   "cell_type": "markdown",
   "metadata": {},
   "source": [
    "We will build this model by first weighing the importance of each word in the metadata column that we created earlier for this model. This column consists out of the tags and genres for each movie. We will weigh the importance of each word using the sklearn function TfidfVectorizer which will first remove all the English stop words, and then consider how many times a word occurs for a specific movie in comparison to all the movies in the dataset. \n",
    "We will then use the sklearn cosine_similarity function which converts the matrix created by the TfidfVectorizer function into a 2D array that shows the similarity of each movie with each other movie in the dataset.\n",
    "We will then use this similarity matrix to recommend the 10 best movies for a particular user after watching a particular movie and also predict a rating for each movie that a specific user will be watching."
   ]
  },
  {
   "cell_type": "code",
   "execution_count": 125,
   "metadata": {
    "scrolled": true
   },
   "outputs": [
    {
     "name": "stdout",
     "output_type": "stream",
     "text": [
      "(5000, 200378)\n"
     ]
    }
   ],
   "source": [
    "#Let's start by running the TfidVectorizer on the metadata column created earlier.\n",
    "\n",
    "from sklearn.feature_extraction.text import TfidfVectorizer\n",
    "tfidf = TfidfVectorizer(analyzer='word', ngram_range=(1,2), min_df=0, stop_words='english')\n",
    "tfidf_matrix = tfidf.fit_transform(df_final['metadata'])\n",
    "print(tfidf_matrix.shape)"
   ]
  },
  {
   "cell_type": "code",
   "execution_count": 127,
   "metadata": {},
   "outputs": [
    {
     "name": "stdout",
     "output_type": "stream",
     "text": [
      "(5000, 10000)\n"
     ]
    }
   ],
   "source": [
    "# Let's just ensure a reduced so that it is not computationally too intensive\n",
    "tfidf_matrix = tfidf_matrix[:10000, :10000]\n",
    "print(tfidf_matrix.shape)"
   ]
  },
  {
   "cell_type": "code",
   "execution_count": 128,
   "metadata": {
    "scrolled": true
   },
   "outputs": [
    {
     "name": "stdout",
     "output_type": "stream",
     "text": [
      "(5000, 5000)\n"
     ]
    }
   ],
   "source": [
    "# Let's now run the cosine_similarity function to work out the similarity between each movie with each other movie.\n",
    "cosine_sim_authTags = cosine_similarity(tfidf_matrix, tfidf_matrix)\n",
    "print (cosine_sim_authTags.shape)"
   ]
  },
  {
   "cell_type": "code",
   "execution_count": 129,
   "metadata": {},
   "outputs": [
    {
     "data": {
      "text/plain": [
       "title\n",
       "Toy Story (1995)                          0\n",
       "Jumanji (1995)                            1\n",
       "Grumpier Old Men (1995)                   2\n",
       "Waiting to Exhale (1995)                  3\n",
       "Father of the Bride Part II (1995)        4\n",
       "                                      ...  \n",
       "We (2018)                             62418\n",
       "Window of the Soul (2001)             62419\n",
       "Bad Poems (2018)                      62420\n",
       "A Girl Thing (2001)                   62421\n",
       "Women of Devil's Island (1962)        62422\n",
       "Length: 62423, dtype: int64"
      ]
     },
     "execution_count": 129,
     "metadata": {},
     "output_type": "execute_result"
    }
   ],
   "source": [
    "#For the following function to work we will make the movie names the index and the index a column.\n",
    "indices = pd.Series(df_movies.index, index=df_movies['title'])\n",
    "indices"
   ]
  },
  {
   "cell_type": "code",
   "execution_count": 130,
   "metadata": {},
   "outputs": [],
   "source": [
    "#Let's now create a function that predicts the top N movies after a user watched a sepcific movie.\n",
    "def content_generate_top_N_recommendations(movie_title, N=10):\n",
    "    # Convert the string book title to a numeric index for our \n",
    "    # find the position of the book\n",
    "    b_idx = indices[movie_title]\n",
    "    \n",
    "    # Extract all similarity values computed with the reference book title\n",
    "    sim_scores = list(enumerate(cosine_sim_authTags[b_idx]))\n",
    "    \n",
    "    # Sort the values, keeping a copy of the original index of each value\n",
    "    sim_scores = sorted(sim_scores, key=lambda x: x[1], reverse=True)\n",
    "    \n",
    "    # Select the top-N values for recommendation\n",
    "    sim_scores = sim_scores[1:N]\n",
    "    \n",
    "    # Collect indexes \n",
    "    movie_indices = [i[0] for i in sim_scores]\n",
    "    \n",
    "    # Convert the indexes back into titles \n",
    "    return df_movies.iloc[movie_indices]"
   ]
  },
  {
   "cell_type": "code",
   "execution_count": 131,
   "metadata": {},
   "outputs": [],
   "source": [
    "#Let's create a test movie so that we can see if our function works\n",
    "test_movie = 'Father of the Bride Part II (1995)'"
   ]
  },
  {
   "cell_type": "code",
   "execution_count": 132,
   "metadata": {},
   "outputs": [
    {
     "data": {
      "text/html": [
       "<div>\n",
       "<style scoped>\n",
       "    .dataframe tbody tr th:only-of-type {\n",
       "        vertical-align: middle;\n",
       "    }\n",
       "\n",
       "    .dataframe tbody tr th {\n",
       "        vertical-align: top;\n",
       "    }\n",
       "\n",
       "    .dataframe thead th {\n",
       "        text-align: right;\n",
       "    }\n",
       "</style>\n",
       "<table border=\"1\" class=\"dataframe\">\n",
       "  <thead>\n",
       "    <tr style=\"text-align: right;\">\n",
       "      <th></th>\n",
       "      <th>movieId</th>\n",
       "      <th>title</th>\n",
       "      <th>year</th>\n",
       "      <th>genres</th>\n",
       "      <th>genre_split</th>\n",
       "      <th>No genre</th>\n",
       "      <th>Action</th>\n",
       "      <th>Adventure</th>\n",
       "      <th>Animation</th>\n",
       "      <th>Children</th>\n",
       "      <th>Comedy</th>\n",
       "      <th>Crime</th>\n",
       "      <th>Documentary</th>\n",
       "      <th>Drama</th>\n",
       "      <th>Fantasy</th>\n",
       "      <th>Film-Noir</th>\n",
       "      <th>Horror</th>\n",
       "      <th>IMAX</th>\n",
       "      <th>Musical</th>\n",
       "      <th>Mystery</th>\n",
       "      <th>Romance</th>\n",
       "      <th>Sci-Fi</th>\n",
       "      <th>Thriller</th>\n",
       "      <th>War</th>\n",
       "      <th>Western</th>\n",
       "      <th>rating</th>\n",
       "      <th>movie_count</th>\n",
       "    </tr>\n",
       "  </thead>\n",
       "  <tbody>\n",
       "    <tr>\n",
       "      <th>558</th>\n",
       "      <td>565</td>\n",
       "      <td>Cronos (1993)</td>\n",
       "      <td>1993</td>\n",
       "      <td>Drama|Horror</td>\n",
       "      <td>[Drama, Horror]</td>\n",
       "      <td>0</td>\n",
       "      <td>0</td>\n",
       "      <td>0</td>\n",
       "      <td>0</td>\n",
       "      <td>0</td>\n",
       "      <td>0</td>\n",
       "      <td>0</td>\n",
       "      <td>0</td>\n",
       "      <td>1</td>\n",
       "      <td>0</td>\n",
       "      <td>0</td>\n",
       "      <td>1</td>\n",
       "      <td>0</td>\n",
       "      <td>0</td>\n",
       "      <td>0</td>\n",
       "      <td>0</td>\n",
       "      <td>0</td>\n",
       "      <td>0</td>\n",
       "      <td>0</td>\n",
       "      <td>0</td>\n",
       "      <td>3.195965</td>\n",
       "      <td>347.0</td>\n",
       "    </tr>\n",
       "    <tr>\n",
       "      <th>4956</th>\n",
       "      <td>5062</td>\n",
       "      <td>Seconds (1966)</td>\n",
       "      <td>1966</td>\n",
       "      <td>Mystery|Sci-Fi|Thriller</td>\n",
       "      <td>[Mystery, Sci-Fi, Thriller]</td>\n",
       "      <td>0</td>\n",
       "      <td>0</td>\n",
       "      <td>0</td>\n",
       "      <td>0</td>\n",
       "      <td>0</td>\n",
       "      <td>0</td>\n",
       "      <td>0</td>\n",
       "      <td>0</td>\n",
       "      <td>0</td>\n",
       "      <td>0</td>\n",
       "      <td>0</td>\n",
       "      <td>0</td>\n",
       "      <td>0</td>\n",
       "      <td>0</td>\n",
       "      <td>1</td>\n",
       "      <td>0</td>\n",
       "      <td>1</td>\n",
       "      <td>1</td>\n",
       "      <td>0</td>\n",
       "      <td>0</td>\n",
       "      <td>3.762032</td>\n",
       "      <td>187.0</td>\n",
       "    </tr>\n",
       "    <tr>\n",
       "      <th>1238</th>\n",
       "      <td>1271</td>\n",
       "      <td>Fried Green Tomatoes (1991)</td>\n",
       "      <td>1991</td>\n",
       "      <td>Comedy|Crime|Drama</td>\n",
       "      <td>[Comedy, Crime, Drama]</td>\n",
       "      <td>0</td>\n",
       "      <td>0</td>\n",
       "      <td>0</td>\n",
       "      <td>0</td>\n",
       "      <td>0</td>\n",
       "      <td>1</td>\n",
       "      <td>1</td>\n",
       "      <td>0</td>\n",
       "      <td>1</td>\n",
       "      <td>0</td>\n",
       "      <td>0</td>\n",
       "      <td>0</td>\n",
       "      <td>0</td>\n",
       "      <td>0</td>\n",
       "      <td>0</td>\n",
       "      <td>0</td>\n",
       "      <td>0</td>\n",
       "      <td>0</td>\n",
       "      <td>0</td>\n",
       "      <td>0</td>\n",
       "      <td>3.748063</td>\n",
       "      <td>3356.0</td>\n",
       "    </tr>\n",
       "    <tr>\n",
       "      <th>3451</th>\n",
       "      <td>3550</td>\n",
       "      <td>The Hunger (1983)</td>\n",
       "      <td>1983</td>\n",
       "      <td>Horror</td>\n",
       "      <td>[Horror]</td>\n",
       "      <td>0</td>\n",
       "      <td>0</td>\n",
       "      <td>0</td>\n",
       "      <td>0</td>\n",
       "      <td>0</td>\n",
       "      <td>0</td>\n",
       "      <td>0</td>\n",
       "      <td>0</td>\n",
       "      <td>0</td>\n",
       "      <td>0</td>\n",
       "      <td>0</td>\n",
       "      <td>1</td>\n",
       "      <td>0</td>\n",
       "      <td>0</td>\n",
       "      <td>0</td>\n",
       "      <td>0</td>\n",
       "      <td>0</td>\n",
       "      <td>0</td>\n",
       "      <td>0</td>\n",
       "      <td>0</td>\n",
       "      <td>3.353301</td>\n",
       "      <td>409.0</td>\n",
       "    </tr>\n",
       "    <tr>\n",
       "      <th>1873</th>\n",
       "      <td>1962</td>\n",
       "      <td>Driving Miss Daisy (1989)</td>\n",
       "      <td>1989</td>\n",
       "      <td>Drama</td>\n",
       "      <td>[Drama]</td>\n",
       "      <td>0</td>\n",
       "      <td>0</td>\n",
       "      <td>0</td>\n",
       "      <td>0</td>\n",
       "      <td>0</td>\n",
       "      <td>0</td>\n",
       "      <td>0</td>\n",
       "      <td>0</td>\n",
       "      <td>1</td>\n",
       "      <td>0</td>\n",
       "      <td>0</td>\n",
       "      <td>0</td>\n",
       "      <td>0</td>\n",
       "      <td>0</td>\n",
       "      <td>0</td>\n",
       "      <td>0</td>\n",
       "      <td>0</td>\n",
       "      <td>0</td>\n",
       "      <td>0</td>\n",
       "      <td>0</td>\n",
       "      <td>3.712098</td>\n",
       "      <td>3232.0</td>\n",
       "    </tr>\n",
       "  </tbody>\n",
       "</table>\n",
       "</div>"
      ],
      "text/plain": [
       "      movieId                        title  year                   genres  \\\n",
       "558       565                Cronos (1993)  1993             Drama|Horror   \n",
       "4956     5062               Seconds (1966)  1966  Mystery|Sci-Fi|Thriller   \n",
       "1238     1271  Fried Green Tomatoes (1991)  1991       Comedy|Crime|Drama   \n",
       "3451     3550            The Hunger (1983)  1983                   Horror   \n",
       "1873     1962    Driving Miss Daisy (1989)  1989                    Drama   \n",
       "\n",
       "                      genre_split  No genre  Action  Adventure  Animation  \\\n",
       "558               [Drama, Horror]         0       0          0          0   \n",
       "4956  [Mystery, Sci-Fi, Thriller]         0       0          0          0   \n",
       "1238       [Comedy, Crime, Drama]         0       0          0          0   \n",
       "3451                     [Horror]         0       0          0          0   \n",
       "1873                      [Drama]         0       0          0          0   \n",
       "\n",
       "      Children  Comedy  Crime  Documentary  Drama  Fantasy  Film-Noir  Horror  \\\n",
       "558          0       0      0            0      1        0          0       1   \n",
       "4956         0       0      0            0      0        0          0       0   \n",
       "1238         0       1      1            0      1        0          0       0   \n",
       "3451         0       0      0            0      0        0          0       1   \n",
       "1873         0       0      0            0      1        0          0       0   \n",
       "\n",
       "      IMAX  Musical  Mystery  Romance  Sci-Fi  Thriller  War  Western  \\\n",
       "558      0        0        0        0       0         0    0        0   \n",
       "4956     0        0        1        0       1         1    0        0   \n",
       "1238     0        0        0        0       0         0    0        0   \n",
       "3451     0        0        0        0       0         0    0        0   \n",
       "1873     0        0        0        0       0         0    0        0   \n",
       "\n",
       "        rating  movie_count  \n",
       "558   3.195965        347.0  \n",
       "4956  3.762032        187.0  \n",
       "1238  3.748063       3356.0  \n",
       "3451  3.353301        409.0  \n",
       "1873  3.712098       3232.0  "
      ]
     },
     "execution_count": 132,
     "metadata": {},
     "output_type": "execute_result"
    }
   ],
   "source": [
    "#Let's call the function created above with the test movie\n",
    "content_generate_top_N_recommendations(test_movie, N=10).head()"
   ]
  },
  {
   "cell_type": "code",
   "execution_count": 133,
   "metadata": {},
   "outputs": [],
   "source": [
    "#Now let's create a function that takes in a movie title and a user predicts the rating that user \n",
    "#would give to that movie.\n",
    "def content_generate_rating_estimate(movie_title, user, rating_data, k=20, threshold=0.0):\n",
    "    # Convert the book title to a numeric index for our \n",
    "    # similarity matrix\n",
    "    movie_index = indices[movie_title]\n",
    "    neighbors = [] # <-- Stores our collection of similarity values \n",
    "     \n",
    "    # Gather the similarity ratings between each book the user has rated\n",
    "    # and the reference book \n",
    "    for index, row in rating_data[rating_data['userId']==user].iterrows():\n",
    "        sim = cosine_sim_authTags[movie_index-1, indices[row['title']]-1]\n",
    "        neighbors.append((sim, row['rating']))\n",
    "    # Select the top-N values from our collection\n",
    "    k_neighbors = heapq.nlargest(k, neighbors, key=lambda t: t[0])\n",
    "\n",
    "    # Compute the weighted average using similarity scores and \n",
    "    # user item ratings. \n",
    "    simTotal, weightedSum = 0, 0\n",
    "    for (simScore, rating) in k_neighbors:\n",
    "        # Ensure that similarity ratings are above a given threshold\n",
    "        if (simScore > threshold):\n",
    "            simTotal += simScore\n",
    "            weightedSum += simScore * rating\n",
    "    try:\n",
    "        predictedRating = weightedSum / simTotal\n",
    "    except ZeroDivisionError:\n",
    "        # Cold-start problem - No ratings given by user. \n",
    "        # We use the average rating for the reference item as a proxy in this case \n",
    "        predictedRating = np.mean(rating_data[rating_data['title']==movie_title]['rating'])\n",
    "    return predictedRating"
   ]
  },
  {
   "cell_type": "code",
   "execution_count": 134,
   "metadata": {
    "scrolled": true
   },
   "outputs": [
    {
     "data": {
      "text/html": [
       "<div>\n",
       "<style scoped>\n",
       "    .dataframe tbody tr th:only-of-type {\n",
       "        vertical-align: middle;\n",
       "    }\n",
       "\n",
       "    .dataframe tbody tr th {\n",
       "        vertical-align: top;\n",
       "    }\n",
       "\n",
       "    .dataframe thead th {\n",
       "        text-align: right;\n",
       "    }\n",
       "</style>\n",
       "<table border=\"1\" class=\"dataframe\">\n",
       "  <thead>\n",
       "    <tr style=\"text-align: right;\">\n",
       "      <th></th>\n",
       "      <th>userId</th>\n",
       "      <th>movieId</th>\n",
       "      <th>rating</th>\n",
       "      <th>title</th>\n",
       "    </tr>\n",
       "  </thead>\n",
       "  <tbody>\n",
       "    <tr>\n",
       "      <th>0</th>\n",
       "      <td>5163</td>\n",
       "      <td>57669</td>\n",
       "      <td>4.0</td>\n",
       "      <td>NaN</td>\n",
       "    </tr>\n",
       "    <tr>\n",
       "      <th>1</th>\n",
       "      <td>106343</td>\n",
       "      <td>5</td>\n",
       "      <td>4.5</td>\n",
       "      <td>Father of the Bride Part II (1995)</td>\n",
       "    </tr>\n",
       "    <tr>\n",
       "      <th>2</th>\n",
       "      <td>146790</td>\n",
       "      <td>5459</td>\n",
       "      <td>5.0</td>\n",
       "      <td>NaN</td>\n",
       "    </tr>\n",
       "    <tr>\n",
       "      <th>3</th>\n",
       "      <td>106362</td>\n",
       "      <td>32296</td>\n",
       "      <td>2.0</td>\n",
       "      <td>NaN</td>\n",
       "    </tr>\n",
       "    <tr>\n",
       "      <th>4</th>\n",
       "      <td>9041</td>\n",
       "      <td>366</td>\n",
       "      <td>3.0</td>\n",
       "      <td>Wes Craven's New Nightmare (Nightmare on Elm S...</td>\n",
       "    </tr>\n",
       "  </tbody>\n",
       "</table>\n",
       "</div>"
      ],
      "text/plain": [
       "   userId  movieId  rating                                              title\n",
       "0    5163    57669     4.0                                                NaN\n",
       "1  106343        5     4.5                 Father of the Bride Part II (1995)\n",
       "2  146790     5459     5.0                                                NaN\n",
       "3  106362    32296     2.0                                                NaN\n",
       "4    9041      366     3.0  Wes Craven's New Nightmare (Nightmare on Elm S..."
      ]
     },
     "execution_count": 134,
     "metadata": {},
     "output_type": "execute_result"
    }
   ],
   "source": [
    "#In order for the function above to work we will put the movie title next to the userId, movieId and rating\n",
    "df_merged = pd.merge(df_train, df_final[['movieId', 'title']], how = 'left', on = 'movieId')\n",
    "df_merged.head()"
   ]
  },
  {
   "cell_type": "code",
   "execution_count": 135,
   "metadata": {},
   "outputs": [],
   "source": [
    "#Let us this time create a test userId to see if our function works\n",
    "test_userId = 106343"
   ]
  },
  {
   "cell_type": "code",
   "execution_count": 136,
   "metadata": {},
   "outputs": [
    {
     "name": "stdout",
     "output_type": "stream",
     "text": [
      "Title - Father of the Bride Part II (1995)\n",
      "---\n",
      "Actual rating: \t\t [4.5]\n",
      "Predicted rating: \t 3.625\n"
     ]
    }
   ],
   "source": [
    "#Let's now test out our function with our test_movie and our test_userId\n",
    "actual_rating = df_train[(df_merged['userId'] == test_userId) & (df_merged['title'] == test_movie)]['rating'].values\n",
    "pred_rating = content_generate_rating_estimate(test_movie, user = test_userId, rating_data = df_merged)\n",
    "print (f\"Title - {test_movie}\")\n",
    "print (\"---\")\n",
    "print (f\"Actual rating: \\t\\t {actual_rating}\")\n",
    "print (f\"Predicted rating: \\t {pred_rating}\")"
   ]
  },
  {
   "cell_type": "markdown",
   "metadata": {},
   "source": [
    "We can thus see that our content based recommender predicts close to the actual rating."
   ]
  },
  {
   "cell_type": "markdown",
   "metadata": {},
   "source": [
    "### Model 2: Building and training the SVD collaborative based model"
   ]
  },
  {
   "cell_type": "markdown",
   "metadata": {},
   "source": [
    "Unlike the content based model the collaborative based models does not look at how similar movies are to each other  in order to make a helpful recommendation, but looks at how similar users' preferences are to make a useful recommendation. It will compare each user with each other user's watch and rating histories to establish user similarities and will then recommend the movies that similar users enjoyed. The collaborative based models are generally less computationally intensive and more accurate in its predictions (since it is based on similar preferences and not similar content), but suffers from the cold start problem."
   ]
  },
  {
   "cell_type": "markdown",
   "metadata": {},
   "source": [
    "The SVD model specifically starts by reducing the dimensions of the dataset so works normally quite well with sparse data. SVD decomposes any matrix into ***singular vectors*** and singular values. It then breaks up the data into three matrices and then extracts the factors by factorization. This is the model that won the $1,000,000 Netflix prize in 2009."
   ]
  },
  {
   "cell_type": "code",
   "execution_count": null,
   "metadata": {},
   "outputs": [],
   "source": []
  },
  {
   "cell_type": "code",
   "execution_count": null,
   "metadata": {},
   "outputs": [],
   "source": []
  },
  {
   "cell_type": "code",
   "execution_count": null,
   "metadata": {},
   "outputs": [],
   "source": []
  },
  {
   "cell_type": "code",
   "execution_count": null,
   "metadata": {},
   "outputs": [],
   "source": []
  },
  {
   "cell_type": "code",
   "execution_count": null,
   "metadata": {},
   "outputs": [],
   "source": []
  },
  {
   "cell_type": "code",
   "execution_count": null,
   "metadata": {},
   "outputs": [],
   "source": []
  },
  {
   "cell_type": "markdown",
   "metadata": {},
   "source": [
    "### Model 2: Assessing the model"
   ]
  },
  {
   "cell_type": "code",
   "execution_count": null,
   "metadata": {},
   "outputs": [],
   "source": []
  },
  {
   "cell_type": "markdown",
   "metadata": {},
   "source": [
    "## Exporting predictions to Kaggle"
   ]
  },
  {
   "cell_type": "code",
   "execution_count": null,
   "metadata": {},
   "outputs": [],
   "source": []
  },
  {
   "cell_type": "markdown",
   "metadata": {},
   "source": [
    "## Conclusion"
   ]
  },
  {
   "cell_type": "code",
   "execution_count": null,
   "metadata": {},
   "outputs": [],
   "source": []
  },
  {
   "cell_type": "markdown",
   "metadata": {},
   "source": [
    "## Reference list\n",
    "* Explore Trains: Introduction_to_Recommender_Systems\n",
    "* Mills, P.(2017, October, 5). Singular Value Decomposition (SVD) Tutorial: Applications, Examples, Exercises. A complete tutorial on the singular value decomposition method. Retrieved from https://blog.statsbot.co/singular-value-decomposition-tutorial-52c695315254\n",
    "* Becker, N.(2016, November, 10). Matrix Factorization for Movie Recommendations in Python. Retrieved from https://beckernick.github.io/matrix-factorization-recommender/\n",
    "* Maxwell Harper and Joseph A. Konstan. 2015. The MovieLens Datasets: History and Context. ACM Transactions on Interactive Intelligent Systems (TiiS) 5, 4, Article 19 (December 2015), 19 pages. DOI=http://dx.doi.org/10.1145/2827872\n",
    "* Kane, F.(n.d.) - Building Recommender Systems with Machine Learning and AI. Course available on www.udemy.com"
   ]
  }
 ],
 "metadata": {
  "kernelspec": {
   "display_name": "Python 3",
   "language": "python",
   "name": "python3"
  },
  "language_info": {
   "codemirror_mode": {
    "name": "ipython",
    "version": 3
   },
   "file_extension": ".py",
   "mimetype": "text/x-python",
   "name": "python",
   "nbconvert_exporter": "python",
   "pygments_lexer": "ipython3",
   "version": "3.8.5"
  },
  "toc": {
   "base_numbering": 1,
   "nav_menu": {},
   "number_sections": true,
   "sideBar": false,
   "skip_h1_title": true,
   "title_cell": "Table of Contents",
   "title_sidebar": "Contents",
   "toc_cell": true,
   "toc_position": {
    "height": "935px",
    "left": "34.9583px",
    "top": "110.573px",
    "width": "300.703px"
   },
   "toc_section_display": true,
   "toc_window_display": true
  },
  "varInspector": {
   "cols": {
    "lenName": 16,
    "lenType": 16,
    "lenVar": 40
   },
   "kernels_config": {
    "python": {
     "delete_cmd_postfix": "",
     "delete_cmd_prefix": "del ",
     "library": "var_list.py",
     "varRefreshCmd": "print(var_dic_list())"
    },
    "r": {
     "delete_cmd_postfix": ") ",
     "delete_cmd_prefix": "rm(",
     "library": "var_list.r",
     "varRefreshCmd": "cat(var_dic_list()) "
    }
   },
   "types_to_exclude": [
    "module",
    "function",
    "builtin_function_or_method",
    "instance",
    "_Feature"
   ],
   "window_display": false
  }
 },
 "nbformat": 4,
 "nbformat_minor": 4
}
