{
 "cells": [
  {
   "cell_type": "markdown",
   "metadata": {},
   "source": [
    "# Netflix Recommender System"
   ]
  },
  {
   "cell_type": "markdown",
   "metadata": {},
   "source": [
    "<img src=\"https://www.stonesincuba.com/wp-content/uploads/2020/06/Best-Movies-On-Netflix.jpg\" style=\"width:500px;height:600px:\"/>"
   ]
  },
  {
   "cell_type": "markdown",
   "metadata": {
    "toc": true
   },
   "source": [
    "<h1>Table of Contents<span class=\"tocSkip\"></span></h1>\n",
    "<div class=\"toc\"><ul class=\"toc-item\"><li><span><a href=\"#Introduction\" data-toc-modified-id=\"Introduction-1\"><span class=\"toc-item-num\">1&nbsp;&nbsp;</span>Introduction</a></span><ul class=\"toc-item\"><li><span><a href=\"#Objective-of-this-notebook\" data-toc-modified-id=\"Objective-of-this-notebook-1.1\"><span class=\"toc-item-num\">1.1&nbsp;&nbsp;</span>Objective of this notebook</a></span></li><li><span><a href=\"#Problem-we-seek-to-address\" data-toc-modified-id=\"Problem-we-seek-to-address-1.2\"><span class=\"toc-item-num\">1.2&nbsp;&nbsp;</span>Problem we seek to address</a></span></li><li><span><a href=\"#Datasources-we-seek-to-base-our-models-on\" data-toc-modified-id=\"Datasources-we-seek-to-base-our-models-on-1.3\"><span class=\"toc-item-num\">1.3&nbsp;&nbsp;</span>Datasources we seek to base our models on</a></span></li></ul></li><li><span><a href=\"#Importing-the-data-and-the-necessary-packages\" data-toc-modified-id=\"Importing-the-data-and-the-necessary-packages-2\"><span class=\"toc-item-num\">2&nbsp;&nbsp;</span>Importing the data and the necessary packages</a></span><ul class=\"toc-item\"><li><span><a href=\"#Installing-the-necessary-packages\" data-toc-modified-id=\"Installing-the-necessary-packages-2.1\"><span class=\"toc-item-num\">2.1&nbsp;&nbsp;</span>Installing the necessary packages</a></span></li><li><span><a href=\"#Importing-all-the-data-wrangling-packages\" data-toc-modified-id=\"Importing-all-the-data-wrangling-packages-2.2\"><span class=\"toc-item-num\">2.2&nbsp;&nbsp;</span>Importing all the data-wrangling packages</a></span></li><li><span><a href=\"#Importing-all-the-visualization-pacakges\" data-toc-modified-id=\"Importing-all-the-visualization-pacakges-2.3\"><span class=\"toc-item-num\">2.3&nbsp;&nbsp;</span>Importing all the visualization pacakges</a></span></li><li><span><a href=\"#Importing-all-the-model-building-packages\" data-toc-modified-id=\"Importing-all-the-model-building-packages-2.4\"><span class=\"toc-item-num\">2.4&nbsp;&nbsp;</span>Importing all the model building packages</a></span></li><li><span><a href=\"#Importing-the-data-into-dataframes\" data-toc-modified-id=\"Importing-the-data-into-dataframes-2.5\"><span class=\"toc-item-num\">2.5&nbsp;&nbsp;</span>Importing the data into dataframes</a></span></li></ul></li><li><span><a href=\"#Initializing-comet-for-version-control\" data-toc-modified-id=\"Initializing-comet-for-version-control-3\"><span class=\"toc-item-num\">3&nbsp;&nbsp;</span>Initializing comet for version control</a></span></li><li><span><a href=\"#Feature-Engineering\" data-toc-modified-id=\"Feature-Engineering-4\"><span class=\"toc-item-num\">4&nbsp;&nbsp;</span>Feature Engineering</a></span><ul class=\"toc-item\"><li><span><a href=\"#Removing-unnecessary-columns\" data-toc-modified-id=\"Removing-unnecessary-columns-4.1\"><span class=\"toc-item-num\">4.1&nbsp;&nbsp;</span>Removing unnecessary columns</a></span></li><li><span><a href=\"#Quantifying-the-genres\" data-toc-modified-id=\"Quantifying-the-genres-4.2\"><span class=\"toc-item-num\">4.2&nbsp;&nbsp;</span>Quantifying the genres</a></span></li><li><span><a href=\"#Creating-genre-and-tag-metadata-for-each-movie\" data-toc-modified-id=\"Creating-genre-and-tag-metadata-for-each-movie-4.3\"><span class=\"toc-item-num\">4.3&nbsp;&nbsp;</span>Creating genre and tag metadata for each movie</a></span></li></ul></li><li><span><a href=\"#Exploring-the-data\" data-toc-modified-id=\"Exploring-the-data-5\"><span class=\"toc-item-num\">5&nbsp;&nbsp;</span>Exploring the data</a></span><ul class=\"toc-item\"><li><span><a href=\"#Dataset-descriptions\" data-toc-modified-id=\"Dataset-descriptions-5.1\"><span class=\"toc-item-num\">5.1&nbsp;&nbsp;</span><strong>Dataset descriptions</strong></a></span></li><li><span><a href=\"#Overview-of-all-the-datasets\" data-toc-modified-id=\"Overview-of-all-the-datasets-5.2\"><span class=\"toc-item-num\">5.2&nbsp;&nbsp;</span>Overview of all the datasets</a></span></li><li><span><a href=\"#Displaying-the-heads-of-the-tables\" data-toc-modified-id=\"Displaying-the-heads-of-the-tables-5.3\"><span class=\"toc-item-num\">5.3&nbsp;&nbsp;</span>Displaying the heads of the tables</a></span></li><li><span><a href=\"#Checking-for-null-values,-shapes-and-datatypes\" data-toc-modified-id=\"Checking-for-null-values,-shapes-and-datatypes-5.4\"><span class=\"toc-item-num\">5.4&nbsp;&nbsp;</span>Checking for null-values, shapes and datatypes</a></span></li><li><span><a href=\"#Most-common-genres\" data-toc-modified-id=\"Most-common-genres-5.5\"><span class=\"toc-item-num\">5.5&nbsp;&nbsp;</span>Most common genres</a></span></li><li><span><a href=\"#Ratings-distribution\" data-toc-modified-id=\"Ratings-distribution-5.6\"><span class=\"toc-item-num\">5.6&nbsp;&nbsp;</span>Ratings distribution</a></span></li><li><span><a href=\"#Insights-on-the-directors\" data-toc-modified-id=\"Insights-on-the-directors-5.7\"><span class=\"toc-item-num\">5.7&nbsp;&nbsp;</span>Insights on the directors</a></span></li><li><span><a href=\"#Most-Rated-Movies\" data-toc-modified-id=\"Most-Rated-Movies-5.8\"><span class=\"toc-item-num\">5.8&nbsp;&nbsp;</span>Most Rated Movies</a></span></li><li><span><a href=\"#Displaying-the-amount-of-unique-values\" data-toc-modified-id=\"Displaying-the-amount-of-unique-values-5.9\"><span class=\"toc-item-num\">5.9&nbsp;&nbsp;</span>Displaying the amount of unique values</a></span></li><li><span><a href=\"#Best-and-worst-rated-movies\" data-toc-modified-id=\"Best-and-worst-rated-movies-5.10\"><span class=\"toc-item-num\">5.10&nbsp;&nbsp;</span>Best and worst rated movies</a></span></li><li><span><a href=\"#Which-genres-have-the-highest-average-rating?\" data-toc-modified-id=\"Which-genres-have-the-highest-average-rating?-5.11\"><span class=\"toc-item-num\">5.11&nbsp;&nbsp;</span>Which genres have the highest average rating?</a></span></li><li><span><a href=\"#Which-movie-has-the-most-polarising-effect-on-the-audience-(has-the-biggest-spread-of-review-scores)?\" data-toc-modified-id=\"Which-movie-has-the-most-polarising-effect-on-the-audience-(has-the-biggest-spread-of-review-scores)?-5.12\"><span class=\"toc-item-num\">5.12&nbsp;&nbsp;</span>Which movie has the most polarising effect on the audience (has the biggest spread of review scores)?</a></span></li></ul></li><li><span><a href=\"#Splitting-the-data\" data-toc-modified-id=\"Splitting-the-data-6\"><span class=\"toc-item-num\">6&nbsp;&nbsp;</span>Splitting the data</a></span></li><li><span><a href=\"#Text-Pre-processing\" data-toc-modified-id=\"Text-Pre-processing-7\"><span class=\"toc-item-num\">7&nbsp;&nbsp;</span>Text Pre-processing</a></span><ul class=\"toc-item\"><li><span><a href=\"#Standardizing-the-train-set\" data-toc-modified-id=\"Standardizing-the-train-set-7.1\"><span class=\"toc-item-num\">7.1&nbsp;&nbsp;</span>Standardizing the train set</a></span></li><li><span><a href=\"#Dimension-reduction-and-data-filtering\" data-toc-modified-id=\"Dimension-reduction-and-data-filtering-7.2\"><span class=\"toc-item-num\">7.2&nbsp;&nbsp;</span>Dimension reduction and data filtering</a></span></li></ul></li><li><span><a href=\"#Model-Building,-training-and-assessment\" data-toc-modified-id=\"Model-Building,-training-and-assessment-8\"><span class=\"toc-item-num\">8&nbsp;&nbsp;</span>Model Building, training and assessment</a></span><ul class=\"toc-item\"><li><span><a href=\"#Model-1:-Building-and-training\" data-toc-modified-id=\"Model-1:-Building-and-training-8.1\"><span class=\"toc-item-num\">8.1&nbsp;&nbsp;</span>Model 1: Building and training</a></span></li><li><span><a href=\"#Model-1:-Assessing-the-model\" data-toc-modified-id=\"Model-1:-Assessing-the-model-8.2\"><span class=\"toc-item-num\">8.2&nbsp;&nbsp;</span>Model 1: Assessing the model</a></span></li><li><span><a href=\"#Model-2:-Building-and-training\" data-toc-modified-id=\"Model-2:-Building-and-training-8.3\"><span class=\"toc-item-num\">8.3&nbsp;&nbsp;</span>Model 2: Building and training</a></span></li><li><span><a href=\"#Model-2:-Assessing-the-model\" data-toc-modified-id=\"Model-2:-Assessing-the-model-8.4\"><span class=\"toc-item-num\">8.4&nbsp;&nbsp;</span>Model 2: Assessing the model</a></span></li></ul></li><li><span><a href=\"#Exporting-predictions-to-Kaggle\" data-toc-modified-id=\"Exporting-predictions-to-Kaggle-9\"><span class=\"toc-item-num\">9&nbsp;&nbsp;</span>Exporting predictions to Kaggle</a></span></li><li><span><a href=\"#Conclusion\" data-toc-modified-id=\"Conclusion-10\"><span class=\"toc-item-num\">10&nbsp;&nbsp;</span>Conclusion</a></span></li></ul></div>"
   ]
  },
  {
   "cell_type": "markdown",
   "metadata": {},
   "source": [
    "## Introduction"
   ]
  },
  {
   "cell_type": "markdown",
   "metadata": {},
   "source": [
    "### Objective of this notebook"
   ]
  },
  {
   "cell_type": "markdown",
   "metadata": {},
   "source": [
    "Our objective with this notebook is to build different movie recommender algorithms which can accurately predict how a user will rate a movie based on their historical preferences. The algorithms will make use of collaborative filtering as well as content based filtering."
   ]
  },
  {
   "cell_type": "markdown",
   "metadata": {},
   "source": [
    "This forms part of a public Kaggle competition and will be evaluated by the best RMSE score."
   ]
  },
  {
   "cell_type": "markdown",
   "metadata": {},
   "source": [
    "### Problem we seek to address"
   ]
  },
  {
   "cell_type": "markdown",
   "metadata": {},
   "source": [
    "Viewers of movies want to watch movies that they will like. This will increase their satisfaction and will make them more loyal to the Netflix platform which will extend the duration of their subscription, and cause them to recommend this platform to others over against the platforms of their competition (like Showmax). This will result in more loyal customers which will result in greater income."
   ]
  },
  {
   "cell_type": "markdown",
   "metadata": {},
   "source": [
    "### Datasources we seek to base our models on"
   ]
  },
  {
   "cell_type": "markdown",
   "metadata": {},
   "source": [
    "MovieLens has gathered millions of movie ratings together with the movieId, UserId, and timestamp when the movie was rated. We also have the following information available on each movie from other public sources: 1. Movie-titles, 2. Movie-genres, 3. Title-cast, 4. Movie-budget, 5. Plot-keywords, 6. Director, 7. Runtime, 8. genome-scores.\n",
    "\n",
    "We will seek to use all of the data above to train our unsupervised machine learning models on to build the best recommender system within our abilities."
   ]
  },
  {
   "cell_type": "markdown",
   "metadata": {},
   "source": [
    "## Importing the data and the necessary packages"
   ]
  },
  {
   "cell_type": "markdown",
   "metadata": {},
   "source": [
    "Before we jump in, it is necessary to install and import some python packages that will help us in our quest. We are indebted to those who have contributed to building these packages and making them freely available. Note that there might be some packages that you first need to install on your local machine before it will run. Some of the common ones we have commented below and you can just remove the hashtag to install them on your local machine and then comment it out again after it has been installed on your local machine."
   ]
  },
  {
   "cell_type": "markdown",
   "metadata": {},
   "source": [
    "### Installing the necessary packages"
   ]
  },
  {
   "cell_type": "code",
   "execution_count": 47,
   "metadata": {},
   "outputs": [],
   "source": [
    "#Uncomment the section below to install packages that might not have been preinstalled on your local machine.\n",
    "\n",
    "#!conda install -c conda-forge/label/cf202003 scikit-surprise"
   ]
  },
  {
   "cell_type": "markdown",
   "metadata": {},
   "source": [
    "### Importing all the data-wrangling packages"
   ]
  },
  {
   "cell_type": "code",
   "execution_count": 48,
   "metadata": {},
   "outputs": [],
   "source": [
    "# Comet\n",
    "from comet_ml import Experiment\n",
    "import warnings"
   ]
  },
  {
   "cell_type": "code",
   "execution_count": 49,
   "metadata": {},
   "outputs": [],
   "source": [
    "# This Python 3 environment comes with many helpful analytics libraries installed\n",
    "# It is defined by the kaggle/python Docker image: https://github.com/kaggle/docker-python\n",
    "# For example, here's several helpful packages to load\n",
    "\n",
    "# Input data files are available in the read-only \"../input/\" directory\n",
    "# For example, running this (by clicking run or pressing Shift+Enter) will list all files under the input directory\n",
    "\n",
    "import os\n",
    "for dirname, _, filenames in os.walk('/kaggle/input'):\n",
    "    for filename in filenames:\n",
    "        print(os.path.join(dirname, filename))\n",
    "\n",
    "# You can write up to 20GB to the current directory (/kaggle/working/) that gets preserved as output when you create a version using \"Save & Run All\" \n",
    "# You can also write temporary files to /kaggle/temp/, but they won't be saved outside of the current session"
   ]
  },
  {
   "cell_type": "code",
   "execution_count": 50,
   "metadata": {},
   "outputs": [],
   "source": [
    "# Packages for data processing\n",
    "import numpy as np\n",
    "import pandas as pd\n",
    "import datetime\n",
    "from sklearn import preprocessing\n",
    "from sklearn.datasets import make_blobs\n",
    "from sklearn.preprocessing import StandardScaler\n",
    "from sklearn.feature_extraction.text import TfidfVectorizer\n",
    "from sklearn.metrics.pairwise import cosine_similarity\n",
    "import re\n",
    "from scipy.sparse import csr_matrix\n",
    "import scipy as sp"
   ]
  },
  {
   "cell_type": "markdown",
   "metadata": {},
   "source": [
    "### Importing all the visualization pacakges"
   ]
  },
  {
   "cell_type": "code",
   "execution_count": 51,
   "metadata": {},
   "outputs": [],
   "source": [
    "# Packages for visualization\n",
    "import matplotlib.pyplot as plt\n",
    "import seaborn as sns\n",
    "%matplotlib inline\n"
   ]
  },
  {
   "cell_type": "markdown",
   "metadata": {},
   "source": [
    "### Importing all the model building packages"
   ]
  },
  {
   "cell_type": "code",
   "execution_count": 52,
   "metadata": {},
   "outputs": [
    {
     "name": "stdout",
     "output_type": "stream",
     "text": [
      "All libraries imported successfully!\n"
     ]
    }
   ],
   "source": [
    "# Packages for modeling\n",
    "from surprise import Reader\n",
    "from surprise import Dataset\n",
    "from surprise import KNNWithMeans\n",
    "from surprise import KNNBasic\n",
    "from surprise.model_selection import cross_validate\n",
    "from surprise.model_selection import GridSearchCV\n",
    "from surprise import SVD\n",
    "from surprise import SVDpp\n",
    "from surprise import NMF\n",
    "from surprise import SlopeOne\n",
    "from surprise import CoClustering\n",
    "import heapq\n",
    "\n",
    "# Packages for model evaluation\n",
    "from sklearn.metrics import mean_squared_error\n",
    "from sklearn.metrics import mean_absolute_error\n",
    "from time import time\n",
    "\n",
    "# Package to suppress warnings\n",
    "import warnings\n",
    "warnings.filterwarnings(\"ignore\")\n",
    "\n",
    "# Packages for saving models\n",
    "import pickle\n",
    "\n",
    "# tweaking some of the packages\n",
    "plt.style.use('fivethirtyeight')\n",
    "pd.set_option('display.max_rows', 50)\n",
    "pd.set_option('display.max_columns', 50)\n",
    "warnings.filterwarnings('ignore')\n",
    "print(\"All libraries imported successfully!\")"
   ]
  },
  {
   "cell_type": "markdown",
   "metadata": {},
   "source": [
    "### Importing the data into dataframes"
   ]
  },
  {
   "cell_type": "markdown",
   "metadata": {},
   "source": [
    "Here we use the pandas' read_csv function to import all of the csv files into dataframes that we can manipulate and fit our models to."
   ]
  },
  {
   "cell_type": "code",
   "execution_count": 53,
   "metadata": {},
   "outputs": [],
   "source": [
    "df_sample_submission = pd.read_csv('sample_submission.csv')\n",
    "df_movies = pd.read_csv('movies.csv')\n",
    "df_imdb = pd.read_csv('imdb_data.csv')\n",
    "df_genome_scores = pd.read_csv('genome_scores.csv')\n",
    "df_genome_tags = pd.read_csv('genome_tags.csv')\n",
    "df_train = pd.read_csv('train.csv')\n",
    "df_test = pd.read_csv('test.csv')\n",
    "df_tags = pd.read_csv('tags.csv')\n",
    "df_links = pd.read_csv('links.csv')"
   ]
  },
  {
   "cell_type": "markdown",
   "metadata": {},
   "source": [
    "## Initializing comet for version control"
   ]
  },
  {
   "cell_type": "markdown",
   "metadata": {},
   "source": [
    "Comet is a Python package developed for version control. We initialize the package by calling the Experiment model."
   ]
  },
  {
   "cell_type": "code",
   "execution_count": 54,
   "metadata": {},
   "outputs": [
    {
     "name": "stderr",
     "output_type": "stream",
     "text": [
      "COMET INFO: ---------------------------\n",
      "COMET INFO: Comet.ml Experiment Summary\n",
      "COMET INFO: ---------------------------\n",
      "COMET INFO:   Data:\n",
      "COMET INFO:     display_summary_level : 1\n",
      "COMET INFO:     url                   : https://www.comet.ml/tee-cee/recommender-system-1/bf302c596f4e41ad91107d83ce39ab37\n",
      "COMET INFO:   Uploads:\n",
      "COMET INFO:     environment details      : 1\n",
      "COMET INFO:     filename                 : 1\n",
      "COMET INFO:     git metadata             : 1\n",
      "COMET INFO:     git-patch (uncompressed) : 1 (10 MB)\n",
      "COMET INFO:     installed packages       : 1\n",
      "COMET INFO: ---------------------------\n",
      "COMET WARNING: As you are running in a Jupyter environment, you will need to call `experiment.end()` when finished to ensure all metrics and code are logged before exiting.\n",
      "COMET INFO: Experiment is live on comet.ml https://www.comet.ml/tee-cee/recommender-system-1/f86543b24bb5488ebb58b5afc7655da3\n",
      "\n"
     ]
    }
   ],
   "source": [
    "# Setting up comet experiment\n",
    "experiment = Experiment(api_key='tkurqVVQirb76FiYYpbvSOgrz', project_name= 'recommender-system-1' ) "
   ]
  },
  {
   "cell_type": "markdown",
   "metadata": {},
   "source": [
    "## Feature Engineering"
   ]
  },
  {
   "cell_type": "markdown",
   "metadata": {},
   "source": [
    "### Removing unnecessary columns"
   ]
  },
  {
   "cell_type": "markdown",
   "metadata": {},
   "source": [
    "Since we have such a large dataset we will seek to drop all of the redundant columns from the dataframes."
   ]
  },
  {
   "cell_type": "markdown",
   "metadata": {},
   "source": [
    "Let us start by dropping the timestamps because it does not add value to training our models."
   ]
  },
  {
   "cell_type": "code",
   "execution_count": 61,
   "metadata": {},
   "outputs": [],
   "source": [
    "# Dropping the timestamp column from df_tags and df_train dataframes.\n",
    "df_tags.drop(['timestamp'],1, inplace=True)\n",
    "df_train.drop(['timestamp'],1, inplace=True)"
   ]
  },
  {
   "cell_type": "markdown",
   "metadata": {},
   "source": [
    "### Quantifying the genres"
   ]
  },
  {
   "cell_type": "markdown",
   "metadata": {},
   "source": [
    "The genres in the df_movies DataFrame is a helpful datasource that would truly help us to build a content-based recommender model. But in order to make use of the data we first need to split the genres by delimter and place them into lists next to each movie. Then we will have to use the list to indicate which movies contain are in which genres."
   ]
  },
  {
   "cell_type": "code",
   "execution_count": 55,
   "metadata": {},
   "outputs": [
    {
     "data": {
      "text/html": [
       "<div>\n",
       "<style scoped>\n",
       "    .dataframe tbody tr th:only-of-type {\n",
       "        vertical-align: middle;\n",
       "    }\n",
       "\n",
       "    .dataframe tbody tr th {\n",
       "        vertical-align: top;\n",
       "    }\n",
       "\n",
       "    .dataframe thead th {\n",
       "        text-align: right;\n",
       "    }\n",
       "</style>\n",
       "<table border=\"1\" class=\"dataframe\">\n",
       "  <thead>\n",
       "    <tr style=\"text-align: right;\">\n",
       "      <th></th>\n",
       "      <th>movieId</th>\n",
       "      <th>title</th>\n",
       "      <th>genres</th>\n",
       "      <th>genre_split</th>\n",
       "    </tr>\n",
       "  </thead>\n",
       "  <tbody>\n",
       "    <tr>\n",
       "      <th>0</th>\n",
       "      <td>1</td>\n",
       "      <td>Toy Story (1995)</td>\n",
       "      <td>Adventure|Animation|Children|Comedy|Fantasy</td>\n",
       "      <td>[Adventure, Animation, Children, Comedy, Fantasy]</td>\n",
       "    </tr>\n",
       "    <tr>\n",
       "      <th>1</th>\n",
       "      <td>2</td>\n",
       "      <td>Jumanji (1995)</td>\n",
       "      <td>Adventure|Children|Fantasy</td>\n",
       "      <td>[Adventure, Children, Fantasy]</td>\n",
       "    </tr>\n",
       "    <tr>\n",
       "      <th>2</th>\n",
       "      <td>3</td>\n",
       "      <td>Grumpier Old Men (1995)</td>\n",
       "      <td>Comedy|Romance</td>\n",
       "      <td>[Comedy, Romance]</td>\n",
       "    </tr>\n",
       "    <tr>\n",
       "      <th>3</th>\n",
       "      <td>4</td>\n",
       "      <td>Waiting to Exhale (1995)</td>\n",
       "      <td>Comedy|Drama|Romance</td>\n",
       "      <td>[Comedy, Drama, Romance]</td>\n",
       "    </tr>\n",
       "    <tr>\n",
       "      <th>4</th>\n",
       "      <td>5</td>\n",
       "      <td>Father of the Bride Part II (1995)</td>\n",
       "      <td>Comedy</td>\n",
       "      <td>[Comedy]</td>\n",
       "    </tr>\n",
       "  </tbody>\n",
       "</table>\n",
       "</div>"
      ],
      "text/plain": [
       "   movieId                               title  \\\n",
       "0        1                    Toy Story (1995)   \n",
       "1        2                      Jumanji (1995)   \n",
       "2        3             Grumpier Old Men (1995)   \n",
       "3        4            Waiting to Exhale (1995)   \n",
       "4        5  Father of the Bride Part II (1995)   \n",
       "\n",
       "                                        genres  \\\n",
       "0  Adventure|Animation|Children|Comedy|Fantasy   \n",
       "1                   Adventure|Children|Fantasy   \n",
       "2                               Comedy|Romance   \n",
       "3                         Comedy|Drama|Romance   \n",
       "4                                       Comedy   \n",
       "\n",
       "                                         genre_split  \n",
       "0  [Adventure, Animation, Children, Comedy, Fantasy]  \n",
       "1                     [Adventure, Children, Fantasy]  \n",
       "2                                  [Comedy, Romance]  \n",
       "3                           [Comedy, Drama, Romance]  \n",
       "4                                           [Comedy]  "
      ]
     },
     "execution_count": 55,
     "metadata": {},
     "output_type": "execute_result"
    }
   ],
   "source": [
    "#This splits the delimited genre string into a list of genres\n",
    "\n",
    "df_movies['genre_split'] = df_movies['genres'].apply(lambda x: x.split('|'))\n",
    "df_movies.head()"
   ]
  },
  {
   "cell_type": "code",
   "execution_count": 56,
   "metadata": {},
   "outputs": [
    {
     "data": {
      "text/plain": [
       "['(no genres listed)',\n",
       " 'Action',\n",
       " 'Adventure',\n",
       " 'Animation',\n",
       " 'Children',\n",
       " 'Comedy',\n",
       " 'Crime',\n",
       " 'Documentary',\n",
       " 'Drama',\n",
       " 'Fantasy',\n",
       " 'Film-Noir',\n",
       " 'Horror',\n",
       " 'IMAX',\n",
       " 'Musical',\n",
       " 'Mystery',\n",
       " 'Romance',\n",
       " 'Sci-Fi',\n",
       " 'Thriller',\n",
       " 'War',\n",
       " 'Western']"
      ]
     },
     "execution_count": 56,
     "metadata": {},
     "output_type": "execute_result"
    }
   ],
   "source": [
    "# create a list containing each list of genres\n",
    "\n",
    "genres = list(df_movies['genre_split'])\n",
    "# flatten the list of lists into a single list with duplicates\n",
    "\n",
    "genres = [item for items in genres for item in items]\n",
    "\n",
    "# convert to set to remove duplicates, then back to list\n",
    "genres = list(set(genres))\n",
    "#sort into alphabetical order\n",
    "genres.sort()\n",
    "genres"
   ]
  },
  {
   "cell_type": "code",
   "execution_count": 57,
   "metadata": {},
   "outputs": [
    {
     "data": {
      "text/html": [
       "<div>\n",
       "<style scoped>\n",
       "    .dataframe tbody tr th:only-of-type {\n",
       "        vertical-align: middle;\n",
       "    }\n",
       "\n",
       "    .dataframe tbody tr th {\n",
       "        vertical-align: top;\n",
       "    }\n",
       "\n",
       "    .dataframe thead th {\n",
       "        text-align: right;\n",
       "    }\n",
       "</style>\n",
       "<table border=\"1\" class=\"dataframe\">\n",
       "  <thead>\n",
       "    <tr style=\"text-align: right;\">\n",
       "      <th></th>\n",
       "      <th>movieId</th>\n",
       "      <th>title</th>\n",
       "      <th>genres</th>\n",
       "      <th>genre_split</th>\n",
       "      <th>(no genres listed)</th>\n",
       "      <th>Action</th>\n",
       "      <th>Adventure</th>\n",
       "      <th>Animation</th>\n",
       "      <th>Children</th>\n",
       "      <th>Comedy</th>\n",
       "      <th>Crime</th>\n",
       "      <th>Documentary</th>\n",
       "      <th>Drama</th>\n",
       "      <th>Fantasy</th>\n",
       "      <th>Film-Noir</th>\n",
       "      <th>Horror</th>\n",
       "      <th>IMAX</th>\n",
       "      <th>Musical</th>\n",
       "      <th>Mystery</th>\n",
       "      <th>Romance</th>\n",
       "      <th>Sci-Fi</th>\n",
       "      <th>Thriller</th>\n",
       "      <th>War</th>\n",
       "      <th>Western</th>\n",
       "    </tr>\n",
       "  </thead>\n",
       "  <tbody>\n",
       "    <tr>\n",
       "      <th>0</th>\n",
       "      <td>1</td>\n",
       "      <td>Toy Story (1995)</td>\n",
       "      <td>Adventure|Animation|Children|Comedy|Fantasy</td>\n",
       "      <td>[Adventure, Animation, Children, Comedy, Fantasy]</td>\n",
       "      <td>0</td>\n",
       "      <td>0</td>\n",
       "      <td>1</td>\n",
       "      <td>1</td>\n",
       "      <td>1</td>\n",
       "      <td>1</td>\n",
       "      <td>0</td>\n",
       "      <td>0</td>\n",
       "      <td>0</td>\n",
       "      <td>1</td>\n",
       "      <td>0</td>\n",
       "      <td>0</td>\n",
       "      <td>0</td>\n",
       "      <td>0</td>\n",
       "      <td>0</td>\n",
       "      <td>0</td>\n",
       "      <td>0</td>\n",
       "      <td>0</td>\n",
       "      <td>0</td>\n",
       "      <td>0</td>\n",
       "    </tr>\n",
       "    <tr>\n",
       "      <th>1</th>\n",
       "      <td>2</td>\n",
       "      <td>Jumanji (1995)</td>\n",
       "      <td>Adventure|Children|Fantasy</td>\n",
       "      <td>[Adventure, Children, Fantasy]</td>\n",
       "      <td>0</td>\n",
       "      <td>0</td>\n",
       "      <td>1</td>\n",
       "      <td>0</td>\n",
       "      <td>1</td>\n",
       "      <td>0</td>\n",
       "      <td>0</td>\n",
       "      <td>0</td>\n",
       "      <td>0</td>\n",
       "      <td>1</td>\n",
       "      <td>0</td>\n",
       "      <td>0</td>\n",
       "      <td>0</td>\n",
       "      <td>0</td>\n",
       "      <td>0</td>\n",
       "      <td>0</td>\n",
       "      <td>0</td>\n",
       "      <td>0</td>\n",
       "      <td>0</td>\n",
       "      <td>0</td>\n",
       "    </tr>\n",
       "    <tr>\n",
       "      <th>2</th>\n",
       "      <td>3</td>\n",
       "      <td>Grumpier Old Men (1995)</td>\n",
       "      <td>Comedy|Romance</td>\n",
       "      <td>[Comedy, Romance]</td>\n",
       "      <td>0</td>\n",
       "      <td>0</td>\n",
       "      <td>0</td>\n",
       "      <td>0</td>\n",
       "      <td>0</td>\n",
       "      <td>1</td>\n",
       "      <td>0</td>\n",
       "      <td>0</td>\n",
       "      <td>0</td>\n",
       "      <td>0</td>\n",
       "      <td>0</td>\n",
       "      <td>0</td>\n",
       "      <td>0</td>\n",
       "      <td>0</td>\n",
       "      <td>0</td>\n",
       "      <td>1</td>\n",
       "      <td>0</td>\n",
       "      <td>0</td>\n",
       "      <td>0</td>\n",
       "      <td>0</td>\n",
       "    </tr>\n",
       "    <tr>\n",
       "      <th>3</th>\n",
       "      <td>4</td>\n",
       "      <td>Waiting to Exhale (1995)</td>\n",
       "      <td>Comedy|Drama|Romance</td>\n",
       "      <td>[Comedy, Drama, Romance]</td>\n",
       "      <td>0</td>\n",
       "      <td>0</td>\n",
       "      <td>0</td>\n",
       "      <td>0</td>\n",
       "      <td>0</td>\n",
       "      <td>1</td>\n",
       "      <td>0</td>\n",
       "      <td>0</td>\n",
       "      <td>1</td>\n",
       "      <td>0</td>\n",
       "      <td>0</td>\n",
       "      <td>0</td>\n",
       "      <td>0</td>\n",
       "      <td>0</td>\n",
       "      <td>0</td>\n",
       "      <td>1</td>\n",
       "      <td>0</td>\n",
       "      <td>0</td>\n",
       "      <td>0</td>\n",
       "      <td>0</td>\n",
       "    </tr>\n",
       "    <tr>\n",
       "      <th>4</th>\n",
       "      <td>5</td>\n",
       "      <td>Father of the Bride Part II (1995)</td>\n",
       "      <td>Comedy</td>\n",
       "      <td>[Comedy]</td>\n",
       "      <td>0</td>\n",
       "      <td>0</td>\n",
       "      <td>0</td>\n",
       "      <td>0</td>\n",
       "      <td>0</td>\n",
       "      <td>1</td>\n",
       "      <td>0</td>\n",
       "      <td>0</td>\n",
       "      <td>0</td>\n",
       "      <td>0</td>\n",
       "      <td>0</td>\n",
       "      <td>0</td>\n",
       "      <td>0</td>\n",
       "      <td>0</td>\n",
       "      <td>0</td>\n",
       "      <td>0</td>\n",
       "      <td>0</td>\n",
       "      <td>0</td>\n",
       "      <td>0</td>\n",
       "      <td>0</td>\n",
       "    </tr>\n",
       "  </tbody>\n",
       "</table>\n",
       "</div>"
      ],
      "text/plain": [
       "   movieId                               title  \\\n",
       "0        1                    Toy Story (1995)   \n",
       "1        2                      Jumanji (1995)   \n",
       "2        3             Grumpier Old Men (1995)   \n",
       "3        4            Waiting to Exhale (1995)   \n",
       "4        5  Father of the Bride Part II (1995)   \n",
       "\n",
       "                                        genres  \\\n",
       "0  Adventure|Animation|Children|Comedy|Fantasy   \n",
       "1                   Adventure|Children|Fantasy   \n",
       "2                               Comedy|Romance   \n",
       "3                         Comedy|Drama|Romance   \n",
       "4                                       Comedy   \n",
       "\n",
       "                                         genre_split  (no genres listed)  \\\n",
       "0  [Adventure, Animation, Children, Comedy, Fantasy]                   0   \n",
       "1                     [Adventure, Children, Fantasy]                   0   \n",
       "2                                  [Comedy, Romance]                   0   \n",
       "3                           [Comedy, Drama, Romance]                   0   \n",
       "4                                           [Comedy]                   0   \n",
       "\n",
       "   Action  Adventure  Animation  Children  Comedy  Crime  Documentary  Drama  \\\n",
       "0       0          1          1         1       1      0            0      0   \n",
       "1       0          1          0         1       0      0            0      0   \n",
       "2       0          0          0         0       1      0            0      0   \n",
       "3       0          0          0         0       1      0            0      1   \n",
       "4       0          0          0         0       1      0            0      0   \n",
       "\n",
       "   Fantasy  Film-Noir  Horror  IMAX  Musical  Mystery  Romance  Sci-Fi  \\\n",
       "0        1          0       0     0        0        0        0       0   \n",
       "1        1          0       0     0        0        0        0       0   \n",
       "2        0          0       0     0        0        0        1       0   \n",
       "3        0          0       0     0        0        0        1       0   \n",
       "4        0          0       0     0        0        0        0       0   \n",
       "\n",
       "   Thriller  War  Western  \n",
       "0         0    0        0  \n",
       "1         0    0        0  \n",
       "2         0    0        0  \n",
       "3         0    0        0  \n",
       "4         0    0        0  "
      ]
     },
     "execution_count": 57,
     "metadata": {},
     "output_type": "execute_result"
    }
   ],
   "source": [
    "# add the new columns and initially fill with zeros\n",
    "\n",
    "for genre in genres:\n",
    "    df_movies[genre] = 0\n",
    "\n",
    "def genre_1hot(row):\n",
    "    \n",
    "    # take the split genre list from each row\n",
    "    genre_list = row['genre_split']\n",
    "    \n",
    "    # for each genre that is in the list, make the respective column of the row equal to 1\n",
    "    for genre in genre_list:\n",
    "        row[genre] = 1\n",
    "    \n",
    "    return row\n",
    "\n",
    "# apply to all rows, axis=1 passes the entire row into the function\n",
    "\n",
    "df_movies = df_movies.apply(genre_1hot, axis=1)\n",
    "df_movies.head()"
   ]
  },
  {
   "cell_type": "code",
   "execution_count": 58,
   "metadata": {},
   "outputs": [],
   "source": [
    "# genres and genre_split no longer required\n",
    "\n",
    "#df_movies.drop(['genres','genre_split'],axis=1, inplace=True)"
   ]
  },
  {
   "cell_type": "code",
   "execution_count": 59,
   "metadata": {},
   "outputs": [],
   "source": [
    "# create a new column called year\n",
    "# set it equal to the year extracted by the lambda function\n",
    "# works by finding the last open bracket in the title and then \n",
    "# grabbing all but the last character after it (so we don't grab the close bracket)\n",
    "\n",
    "df_movies['year'] = df_movies['title'].apply(lambda x: x.split('(')[-1][:-1])"
   ]
  },
  {
   "cell_type": "code",
   "execution_count": 60,
   "metadata": {},
   "outputs": [
    {
     "data": {
      "text/html": [
       "<div>\n",
       "<style scoped>\n",
       "    .dataframe tbody tr th:only-of-type {\n",
       "        vertical-align: middle;\n",
       "    }\n",
       "\n",
       "    .dataframe tbody tr th {\n",
       "        vertical-align: top;\n",
       "    }\n",
       "\n",
       "    .dataframe thead th {\n",
       "        text-align: right;\n",
       "    }\n",
       "</style>\n",
       "<table border=\"1\" class=\"dataframe\">\n",
       "  <thead>\n",
       "    <tr style=\"text-align: right;\">\n",
       "      <th></th>\n",
       "      <th>movieId</th>\n",
       "      <th>title</th>\n",
       "      <th>year</th>\n",
       "      <th>genres</th>\n",
       "      <th>genre_split</th>\n",
       "      <th>(no genres listed)</th>\n",
       "      <th>Action</th>\n",
       "      <th>Adventure</th>\n",
       "      <th>Animation</th>\n",
       "      <th>Children</th>\n",
       "      <th>Comedy</th>\n",
       "      <th>Crime</th>\n",
       "      <th>Documentary</th>\n",
       "      <th>Drama</th>\n",
       "      <th>Fantasy</th>\n",
       "      <th>Film-Noir</th>\n",
       "      <th>Horror</th>\n",
       "      <th>IMAX</th>\n",
       "      <th>Musical</th>\n",
       "      <th>Mystery</th>\n",
       "      <th>Romance</th>\n",
       "      <th>Sci-Fi</th>\n",
       "      <th>Thriller</th>\n",
       "      <th>War</th>\n",
       "      <th>Western</th>\n",
       "    </tr>\n",
       "  </thead>\n",
       "  <tbody>\n",
       "    <tr>\n",
       "      <th>0</th>\n",
       "      <td>1</td>\n",
       "      <td>Toy Story (1995)</td>\n",
       "      <td>1995</td>\n",
       "      <td>Adventure|Animation|Children|Comedy|Fantasy</td>\n",
       "      <td>[Adventure, Animation, Children, Comedy, Fantasy]</td>\n",
       "      <td>0</td>\n",
       "      <td>0</td>\n",
       "      <td>1</td>\n",
       "      <td>1</td>\n",
       "      <td>1</td>\n",
       "      <td>1</td>\n",
       "      <td>0</td>\n",
       "      <td>0</td>\n",
       "      <td>0</td>\n",
       "      <td>1</td>\n",
       "      <td>0</td>\n",
       "      <td>0</td>\n",
       "      <td>0</td>\n",
       "      <td>0</td>\n",
       "      <td>0</td>\n",
       "      <td>0</td>\n",
       "      <td>0</td>\n",
       "      <td>0</td>\n",
       "      <td>0</td>\n",
       "      <td>0</td>\n",
       "    </tr>\n",
       "    <tr>\n",
       "      <th>1</th>\n",
       "      <td>2</td>\n",
       "      <td>Jumanji (1995)</td>\n",
       "      <td>1995</td>\n",
       "      <td>Adventure|Children|Fantasy</td>\n",
       "      <td>[Adventure, Children, Fantasy]</td>\n",
       "      <td>0</td>\n",
       "      <td>0</td>\n",
       "      <td>1</td>\n",
       "      <td>0</td>\n",
       "      <td>1</td>\n",
       "      <td>0</td>\n",
       "      <td>0</td>\n",
       "      <td>0</td>\n",
       "      <td>0</td>\n",
       "      <td>1</td>\n",
       "      <td>0</td>\n",
       "      <td>0</td>\n",
       "      <td>0</td>\n",
       "      <td>0</td>\n",
       "      <td>0</td>\n",
       "      <td>0</td>\n",
       "      <td>0</td>\n",
       "      <td>0</td>\n",
       "      <td>0</td>\n",
       "      <td>0</td>\n",
       "    </tr>\n",
       "    <tr>\n",
       "      <th>2</th>\n",
       "      <td>3</td>\n",
       "      <td>Grumpier Old Men (1995)</td>\n",
       "      <td>1995</td>\n",
       "      <td>Comedy|Romance</td>\n",
       "      <td>[Comedy, Romance]</td>\n",
       "      <td>0</td>\n",
       "      <td>0</td>\n",
       "      <td>0</td>\n",
       "      <td>0</td>\n",
       "      <td>0</td>\n",
       "      <td>1</td>\n",
       "      <td>0</td>\n",
       "      <td>0</td>\n",
       "      <td>0</td>\n",
       "      <td>0</td>\n",
       "      <td>0</td>\n",
       "      <td>0</td>\n",
       "      <td>0</td>\n",
       "      <td>0</td>\n",
       "      <td>0</td>\n",
       "      <td>1</td>\n",
       "      <td>0</td>\n",
       "      <td>0</td>\n",
       "      <td>0</td>\n",
       "      <td>0</td>\n",
       "    </tr>\n",
       "    <tr>\n",
       "      <th>3</th>\n",
       "      <td>4</td>\n",
       "      <td>Waiting to Exhale (1995)</td>\n",
       "      <td>1995</td>\n",
       "      <td>Comedy|Drama|Romance</td>\n",
       "      <td>[Comedy, Drama, Romance]</td>\n",
       "      <td>0</td>\n",
       "      <td>0</td>\n",
       "      <td>0</td>\n",
       "      <td>0</td>\n",
       "      <td>0</td>\n",
       "      <td>1</td>\n",
       "      <td>0</td>\n",
       "      <td>0</td>\n",
       "      <td>1</td>\n",
       "      <td>0</td>\n",
       "      <td>0</td>\n",
       "      <td>0</td>\n",
       "      <td>0</td>\n",
       "      <td>0</td>\n",
       "      <td>0</td>\n",
       "      <td>1</td>\n",
       "      <td>0</td>\n",
       "      <td>0</td>\n",
       "      <td>0</td>\n",
       "      <td>0</td>\n",
       "    </tr>\n",
       "    <tr>\n",
       "      <th>4</th>\n",
       "      <td>5</td>\n",
       "      <td>Father of the Bride Part II (1995)</td>\n",
       "      <td>1995</td>\n",
       "      <td>Comedy</td>\n",
       "      <td>[Comedy]</td>\n",
       "      <td>0</td>\n",
       "      <td>0</td>\n",
       "      <td>0</td>\n",
       "      <td>0</td>\n",
       "      <td>0</td>\n",
       "      <td>1</td>\n",
       "      <td>0</td>\n",
       "      <td>0</td>\n",
       "      <td>0</td>\n",
       "      <td>0</td>\n",
       "      <td>0</td>\n",
       "      <td>0</td>\n",
       "      <td>0</td>\n",
       "      <td>0</td>\n",
       "      <td>0</td>\n",
       "      <td>0</td>\n",
       "      <td>0</td>\n",
       "      <td>0</td>\n",
       "      <td>0</td>\n",
       "      <td>0</td>\n",
       "    </tr>\n",
       "  </tbody>\n",
       "</table>\n",
       "</div>"
      ],
      "text/plain": [
       "   movieId                               title  year  \\\n",
       "0        1                    Toy Story (1995)  1995   \n",
       "1        2                      Jumanji (1995)  1995   \n",
       "2        3             Grumpier Old Men (1995)  1995   \n",
       "3        4            Waiting to Exhale (1995)  1995   \n",
       "4        5  Father of the Bride Part II (1995)  1995   \n",
       "\n",
       "                                        genres  \\\n",
       "0  Adventure|Animation|Children|Comedy|Fantasy   \n",
       "1                   Adventure|Children|Fantasy   \n",
       "2                               Comedy|Romance   \n",
       "3                         Comedy|Drama|Romance   \n",
       "4                                       Comedy   \n",
       "\n",
       "                                         genre_split  (no genres listed)  \\\n",
       "0  [Adventure, Animation, Children, Comedy, Fantasy]                   0   \n",
       "1                     [Adventure, Children, Fantasy]                   0   \n",
       "2                                  [Comedy, Romance]                   0   \n",
       "3                           [Comedy, Drama, Romance]                   0   \n",
       "4                                           [Comedy]                   0   \n",
       "\n",
       "   Action  Adventure  Animation  Children  Comedy  Crime  Documentary  Drama  \\\n",
       "0       0          1          1         1       1      0            0      0   \n",
       "1       0          1          0         1       0      0            0      0   \n",
       "2       0          0          0         0       1      0            0      0   \n",
       "3       0          0          0         0       1      0            0      1   \n",
       "4       0          0          0         0       1      0            0      0   \n",
       "\n",
       "   Fantasy  Film-Noir  Horror  IMAX  Musical  Mystery  Romance  Sci-Fi  \\\n",
       "0        1          0       0     0        0        0        0       0   \n",
       "1        1          0       0     0        0        0        0       0   \n",
       "2        0          0       0     0        0        0        1       0   \n",
       "3        0          0       0     0        0        0        1       0   \n",
       "4        0          0       0     0        0        0        0       0   \n",
       "\n",
       "   Thriller  War  Western  \n",
       "0         0    0        0  \n",
       "1         0    0        0  \n",
       "2         0    0        0  \n",
       "3         0    0        0  \n",
       "4         0    0        0  "
      ]
     },
     "execution_count": 60,
     "metadata": {},
     "output_type": "execute_result"
    }
   ],
   "source": [
    "# reordering the columns so that year is next to title instead of at the end\n",
    "\n",
    "cols = df_movies.columns.tolist()\n",
    "cols = cols[:2] + cols[-1:] + cols [2:-1]\n",
    "df_movies = df_movies[cols]\n",
    "df_movies.head()"
   ]
  },
  {
   "cell_type": "markdown",
   "metadata": {},
   "source": [
    "### Creating genre and tag metadata for each movie"
   ]
  },
  {
   "cell_type": "markdown",
   "metadata": {},
   "source": [
    "Next we will create metadata for each movie to be used in the content based recommender system. This will consist out of the genres and the tags. We will do this by firstly merging the tags unto df_movies. Then we will group the tags by MovieId and finally we will combine the genres and the tags into one cell. "
   ]
  },
  {
   "cell_type": "code",
   "execution_count": 62,
   "metadata": {},
   "outputs": [
    {
     "data": {
      "text/html": [
       "<div>\n",
       "<style scoped>\n",
       "    .dataframe tbody tr th:only-of-type {\n",
       "        vertical-align: middle;\n",
       "    }\n",
       "\n",
       "    .dataframe tbody tr th {\n",
       "        vertical-align: top;\n",
       "    }\n",
       "\n",
       "    .dataframe thead th {\n",
       "        text-align: right;\n",
       "    }\n",
       "</style>\n",
       "<table border=\"1\" class=\"dataframe\">\n",
       "  <thead>\n",
       "    <tr style=\"text-align: right;\">\n",
       "      <th></th>\n",
       "      <th>movieId</th>\n",
       "      <th>title</th>\n",
       "      <th>year</th>\n",
       "      <th>genres</th>\n",
       "      <th>genre_split</th>\n",
       "      <th>(no genres listed)</th>\n",
       "      <th>Action</th>\n",
       "      <th>Adventure</th>\n",
       "      <th>Animation</th>\n",
       "      <th>Children</th>\n",
       "      <th>Comedy</th>\n",
       "      <th>Crime</th>\n",
       "      <th>Documentary</th>\n",
       "      <th>Drama</th>\n",
       "      <th>Fantasy</th>\n",
       "      <th>Film-Noir</th>\n",
       "      <th>Horror</th>\n",
       "      <th>IMAX</th>\n",
       "      <th>Musical</th>\n",
       "      <th>Mystery</th>\n",
       "      <th>Romance</th>\n",
       "      <th>Sci-Fi</th>\n",
       "      <th>Thriller</th>\n",
       "      <th>War</th>\n",
       "      <th>Western</th>\n",
       "      <th>userId</th>\n",
       "      <th>tag</th>\n",
       "    </tr>\n",
       "  </thead>\n",
       "  <tbody>\n",
       "    <tr>\n",
       "      <th>0</th>\n",
       "      <td>1</td>\n",
       "      <td>Toy Story (1995)</td>\n",
       "      <td>1995</td>\n",
       "      <td>Adventure|Animation|Children|Comedy|Fantasy</td>\n",
       "      <td>[Adventure, Animation, Children, Comedy, Fantasy]</td>\n",
       "      <td>0</td>\n",
       "      <td>0</td>\n",
       "      <td>1</td>\n",
       "      <td>1</td>\n",
       "      <td>1</td>\n",
       "      <td>1</td>\n",
       "      <td>0</td>\n",
       "      <td>0</td>\n",
       "      <td>0</td>\n",
       "      <td>1</td>\n",
       "      <td>0</td>\n",
       "      <td>0</td>\n",
       "      <td>0</td>\n",
       "      <td>0</td>\n",
       "      <td>0</td>\n",
       "      <td>0</td>\n",
       "      <td>0</td>\n",
       "      <td>0</td>\n",
       "      <td>0</td>\n",
       "      <td>0</td>\n",
       "      <td>791.0</td>\n",
       "      <td>Owned</td>\n",
       "    </tr>\n",
       "    <tr>\n",
       "      <th>1</th>\n",
       "      <td>1</td>\n",
       "      <td>Toy Story (1995)</td>\n",
       "      <td>1995</td>\n",
       "      <td>Adventure|Animation|Children|Comedy|Fantasy</td>\n",
       "      <td>[Adventure, Animation, Children, Comedy, Fantasy]</td>\n",
       "      <td>0</td>\n",
       "      <td>0</td>\n",
       "      <td>1</td>\n",
       "      <td>1</td>\n",
       "      <td>1</td>\n",
       "      <td>1</td>\n",
       "      <td>0</td>\n",
       "      <td>0</td>\n",
       "      <td>0</td>\n",
       "      <td>1</td>\n",
       "      <td>0</td>\n",
       "      <td>0</td>\n",
       "      <td>0</td>\n",
       "      <td>0</td>\n",
       "      <td>0</td>\n",
       "      <td>0</td>\n",
       "      <td>0</td>\n",
       "      <td>0</td>\n",
       "      <td>0</td>\n",
       "      <td>0</td>\n",
       "      <td>1048.0</td>\n",
       "      <td>imdb top 250</td>\n",
       "    </tr>\n",
       "    <tr>\n",
       "      <th>2</th>\n",
       "      <td>1</td>\n",
       "      <td>Toy Story (1995)</td>\n",
       "      <td>1995</td>\n",
       "      <td>Adventure|Animation|Children|Comedy|Fantasy</td>\n",
       "      <td>[Adventure, Animation, Children, Comedy, Fantasy]</td>\n",
       "      <td>0</td>\n",
       "      <td>0</td>\n",
       "      <td>1</td>\n",
       "      <td>1</td>\n",
       "      <td>1</td>\n",
       "      <td>1</td>\n",
       "      <td>0</td>\n",
       "      <td>0</td>\n",
       "      <td>0</td>\n",
       "      <td>1</td>\n",
       "      <td>0</td>\n",
       "      <td>0</td>\n",
       "      <td>0</td>\n",
       "      <td>0</td>\n",
       "      <td>0</td>\n",
       "      <td>0</td>\n",
       "      <td>0</td>\n",
       "      <td>0</td>\n",
       "      <td>0</td>\n",
       "      <td>0</td>\n",
       "      <td>1361.0</td>\n",
       "      <td>Pixar</td>\n",
       "    </tr>\n",
       "  </tbody>\n",
       "</table>\n",
       "</div>"
      ],
      "text/plain": [
       "   movieId             title  year  \\\n",
       "0        1  Toy Story (1995)  1995   \n",
       "1        1  Toy Story (1995)  1995   \n",
       "2        1  Toy Story (1995)  1995   \n",
       "\n",
       "                                        genres  \\\n",
       "0  Adventure|Animation|Children|Comedy|Fantasy   \n",
       "1  Adventure|Animation|Children|Comedy|Fantasy   \n",
       "2  Adventure|Animation|Children|Comedy|Fantasy   \n",
       "\n",
       "                                         genre_split  (no genres listed)  \\\n",
       "0  [Adventure, Animation, Children, Comedy, Fantasy]                   0   \n",
       "1  [Adventure, Animation, Children, Comedy, Fantasy]                   0   \n",
       "2  [Adventure, Animation, Children, Comedy, Fantasy]                   0   \n",
       "\n",
       "   Action  Adventure  Animation  Children  Comedy  Crime  Documentary  Drama  \\\n",
       "0       0          1          1         1       1      0            0      0   \n",
       "1       0          1          1         1       1      0            0      0   \n",
       "2       0          1          1         1       1      0            0      0   \n",
       "\n",
       "   Fantasy  Film-Noir  Horror  IMAX  Musical  Mystery  Romance  Sci-Fi  \\\n",
       "0        1          0       0     0        0        0        0       0   \n",
       "1        1          0       0     0        0        0        0       0   \n",
       "2        1          0       0     0        0        0        0       0   \n",
       "\n",
       "   Thriller  War  Western  userId           tag  \n",
       "0         0    0        0   791.0         Owned  \n",
       "1         0    0        0  1048.0  imdb top 250  \n",
       "2         0    0        0  1361.0         Pixar  "
      ]
     },
     "execution_count": 62,
     "metadata": {},
     "output_type": "execute_result"
    }
   ],
   "source": [
    "# Merging the df_movies and df_tags dataframes.\n",
    "df_mixed = pd.merge(df_movies, df_tags, on='movieId', how='left')\n",
    "df_mixed.head(3)"
   ]
  },
  {
   "cell_type": "code",
   "execution_count": 64,
   "metadata": {},
   "outputs": [
    {
     "data": {
      "text/html": [
       "<div>\n",
       "<style scoped>\n",
       "    .dataframe tbody tr th:only-of-type {\n",
       "        vertical-align: middle;\n",
       "    }\n",
       "\n",
       "    .dataframe tbody tr th {\n",
       "        vertical-align: top;\n",
       "    }\n",
       "\n",
       "    .dataframe thead th {\n",
       "        text-align: right;\n",
       "    }\n",
       "</style>\n",
       "<table border=\"1\" class=\"dataframe\">\n",
       "  <thead>\n",
       "    <tr style=\"text-align: right;\">\n",
       "      <th></th>\n",
       "      <th>movieId</th>\n",
       "      <th>title</th>\n",
       "      <th>year</th>\n",
       "      <th>genres</th>\n",
       "      <th>genre_split</th>\n",
       "      <th>(no genres listed)</th>\n",
       "      <th>Action</th>\n",
       "      <th>Adventure</th>\n",
       "      <th>Animation</th>\n",
       "      <th>Children</th>\n",
       "      <th>Comedy</th>\n",
       "      <th>Crime</th>\n",
       "      <th>Documentary</th>\n",
       "      <th>Drama</th>\n",
       "      <th>Fantasy</th>\n",
       "      <th>Film-Noir</th>\n",
       "      <th>Horror</th>\n",
       "      <th>IMAX</th>\n",
       "      <th>Musical</th>\n",
       "      <th>Mystery</th>\n",
       "      <th>Romance</th>\n",
       "      <th>Sci-Fi</th>\n",
       "      <th>Thriller</th>\n",
       "      <th>War</th>\n",
       "      <th>Western</th>\n",
       "      <th>tag</th>\n",
       "    </tr>\n",
       "  </thead>\n",
       "  <tbody>\n",
       "    <tr>\n",
       "      <th>0</th>\n",
       "      <td>1</td>\n",
       "      <td>Toy Story (1995)</td>\n",
       "      <td>1995</td>\n",
       "      <td>Adventure|Animation|Children|Comedy|Fantasy</td>\n",
       "      <td>[Adventure, Animation, Children, Comedy, Fantasy]</td>\n",
       "      <td>0</td>\n",
       "      <td>0</td>\n",
       "      <td>1</td>\n",
       "      <td>1</td>\n",
       "      <td>1</td>\n",
       "      <td>1</td>\n",
       "      <td>0</td>\n",
       "      <td>0</td>\n",
       "      <td>0</td>\n",
       "      <td>1</td>\n",
       "      <td>0</td>\n",
       "      <td>0</td>\n",
       "      <td>0</td>\n",
       "      <td>0</td>\n",
       "      <td>0</td>\n",
       "      <td>0</td>\n",
       "      <td>0</td>\n",
       "      <td>0</td>\n",
       "      <td>0</td>\n",
       "      <td>0</td>\n",
       "      <td>Owned imdb top 250 Pixar Pixar time travel chi...</td>\n",
       "    </tr>\n",
       "    <tr>\n",
       "      <th>1</th>\n",
       "      <td>2</td>\n",
       "      <td>Jumanji (1995)</td>\n",
       "      <td>1995</td>\n",
       "      <td>Adventure|Children|Fantasy</td>\n",
       "      <td>[Adventure, Children, Fantasy]</td>\n",
       "      <td>0</td>\n",
       "      <td>0</td>\n",
       "      <td>1</td>\n",
       "      <td>0</td>\n",
       "      <td>1</td>\n",
       "      <td>0</td>\n",
       "      <td>0</td>\n",
       "      <td>0</td>\n",
       "      <td>0</td>\n",
       "      <td>1</td>\n",
       "      <td>0</td>\n",
       "      <td>0</td>\n",
       "      <td>0</td>\n",
       "      <td>0</td>\n",
       "      <td>0</td>\n",
       "      <td>0</td>\n",
       "      <td>0</td>\n",
       "      <td>0</td>\n",
       "      <td>0</td>\n",
       "      <td>0</td>\n",
       "      <td>Robin Williams time travel fantasy based on ch...</td>\n",
       "    </tr>\n",
       "    <tr>\n",
       "      <th>2</th>\n",
       "      <td>3</td>\n",
       "      <td>Grumpier Old Men (1995)</td>\n",
       "      <td>1995</td>\n",
       "      <td>Comedy|Romance</td>\n",
       "      <td>[Comedy, Romance]</td>\n",
       "      <td>0</td>\n",
       "      <td>0</td>\n",
       "      <td>0</td>\n",
       "      <td>0</td>\n",
       "      <td>0</td>\n",
       "      <td>1</td>\n",
       "      <td>0</td>\n",
       "      <td>0</td>\n",
       "      <td>0</td>\n",
       "      <td>0</td>\n",
       "      <td>0</td>\n",
       "      <td>0</td>\n",
       "      <td>0</td>\n",
       "      <td>0</td>\n",
       "      <td>0</td>\n",
       "      <td>1</td>\n",
       "      <td>0</td>\n",
       "      <td>0</td>\n",
       "      <td>0</td>\n",
       "      <td>0</td>\n",
       "      <td>funny best friend duringcreditsstinger fishing...</td>\n",
       "    </tr>\n",
       "    <tr>\n",
       "      <th>3</th>\n",
       "      <td>4</td>\n",
       "      <td>Waiting to Exhale (1995)</td>\n",
       "      <td>1995</td>\n",
       "      <td>Comedy|Drama|Romance</td>\n",
       "      <td>[Comedy, Drama, Romance]</td>\n",
       "      <td>0</td>\n",
       "      <td>0</td>\n",
       "      <td>0</td>\n",
       "      <td>0</td>\n",
       "      <td>0</td>\n",
       "      <td>1</td>\n",
       "      <td>0</td>\n",
       "      <td>0</td>\n",
       "      <td>1</td>\n",
       "      <td>0</td>\n",
       "      <td>0</td>\n",
       "      <td>0</td>\n",
       "      <td>0</td>\n",
       "      <td>0</td>\n",
       "      <td>0</td>\n",
       "      <td>1</td>\n",
       "      <td>0</td>\n",
       "      <td>0</td>\n",
       "      <td>0</td>\n",
       "      <td>0</td>\n",
       "      <td>based on novel or book chick flick divorce int...</td>\n",
       "    </tr>\n",
       "    <tr>\n",
       "      <th>4</th>\n",
       "      <td>5</td>\n",
       "      <td>Father of the Bride Part II (1995)</td>\n",
       "      <td>1995</td>\n",
       "      <td>Comedy</td>\n",
       "      <td>[Comedy]</td>\n",
       "      <td>0</td>\n",
       "      <td>0</td>\n",
       "      <td>0</td>\n",
       "      <td>0</td>\n",
       "      <td>0</td>\n",
       "      <td>1</td>\n",
       "      <td>0</td>\n",
       "      <td>0</td>\n",
       "      <td>0</td>\n",
       "      <td>0</td>\n",
       "      <td>0</td>\n",
       "      <td>0</td>\n",
       "      <td>0</td>\n",
       "      <td>0</td>\n",
       "      <td>0</td>\n",
       "      <td>0</td>\n",
       "      <td>0</td>\n",
       "      <td>0</td>\n",
       "      <td>0</td>\n",
       "      <td>0</td>\n",
       "      <td>aging baby confidence contraception daughter g...</td>\n",
       "    </tr>\n",
       "  </tbody>\n",
       "</table>\n",
       "</div>"
      ],
      "text/plain": [
       "   movieId                               title  year  \\\n",
       "0        1                    Toy Story (1995)  1995   \n",
       "1        2                      Jumanji (1995)  1995   \n",
       "2        3             Grumpier Old Men (1995)  1995   \n",
       "3        4            Waiting to Exhale (1995)  1995   \n",
       "4        5  Father of the Bride Part II (1995)  1995   \n",
       "\n",
       "                                        genres  \\\n",
       "0  Adventure|Animation|Children|Comedy|Fantasy   \n",
       "1                   Adventure|Children|Fantasy   \n",
       "2                               Comedy|Romance   \n",
       "3                         Comedy|Drama|Romance   \n",
       "4                                       Comedy   \n",
       "\n",
       "                                         genre_split  (no genres listed)  \\\n",
       "0  [Adventure, Animation, Children, Comedy, Fantasy]                   0   \n",
       "1                     [Adventure, Children, Fantasy]                   0   \n",
       "2                                  [Comedy, Romance]                   0   \n",
       "3                           [Comedy, Drama, Romance]                   0   \n",
       "4                                           [Comedy]                   0   \n",
       "\n",
       "   Action  Adventure  Animation  Children  Comedy  Crime  Documentary  Drama  \\\n",
       "0       0          1          1         1       1      0            0      0   \n",
       "1       0          1          0         1       0      0            0      0   \n",
       "2       0          0          0         0       1      0            0      0   \n",
       "3       0          0          0         0       1      0            0      1   \n",
       "4       0          0          0         0       1      0            0      0   \n",
       "\n",
       "   Fantasy  Film-Noir  Horror  IMAX  Musical  Mystery  Romance  Sci-Fi  \\\n",
       "0        1          0       0     0        0        0        0       0   \n",
       "1        1          0       0     0        0        0        0       0   \n",
       "2        0          0       0     0        0        0        1       0   \n",
       "3        0          0       0     0        0        0        1       0   \n",
       "4        0          0       0     0        0        0        0       0   \n",
       "\n",
       "   Thriller  War  Western                                                tag  \n",
       "0         0    0        0  Owned imdb top 250 Pixar Pixar time travel chi...  \n",
       "1         0    0        0  Robin Williams time travel fantasy based on ch...  \n",
       "2         0    0        0  funny best friend duringcreditsstinger fishing...  \n",
       "3         0    0        0  based on novel or book chick flick divorce int...  \n",
       "4         0    0        0  aging baby confidence contraception daughter g...  "
      ]
     },
     "execution_count": 64,
     "metadata": {},
     "output_type": "execute_result"
    }
   ],
   "source": [
    "# Grouping the tags by the movieId\n",
    "df_mixed.fillna(\"\", inplace=True)\n",
    "df_mixed = pd.DataFrame(df_mixed.groupby('movieId')['tag'].apply(lambda x: \"%s\" % ' '.join(x)))\n",
    "Final = pd.merge(df_movies, df_mixed, on='movieId', how='left')\n",
    "Final.head()"
   ]
  },
  {
   "cell_type": "code",
   "execution_count": 65,
   "metadata": {},
   "outputs": [
    {
     "data": {
      "text/html": [
       "<div>\n",
       "<style scoped>\n",
       "    .dataframe tbody tr th:only-of-type {\n",
       "        vertical-align: middle;\n",
       "    }\n",
       "\n",
       "    .dataframe tbody tr th {\n",
       "        vertical-align: top;\n",
       "    }\n",
       "\n",
       "    .dataframe thead th {\n",
       "        text-align: right;\n",
       "    }\n",
       "</style>\n",
       "<table border=\"1\" class=\"dataframe\">\n",
       "  <thead>\n",
       "    <tr style=\"text-align: right;\">\n",
       "      <th></th>\n",
       "      <th>movieId</th>\n",
       "      <th>title</th>\n",
       "      <th>metadata</th>\n",
       "    </tr>\n",
       "  </thead>\n",
       "  <tbody>\n",
       "    <tr>\n",
       "      <th>0</th>\n",
       "      <td>1</td>\n",
       "      <td>Toy Story (1995)</td>\n",
       "      <td>Owned imdb top 250 Pixar Pixar time travel chi...</td>\n",
       "    </tr>\n",
       "    <tr>\n",
       "      <th>1</th>\n",
       "      <td>2</td>\n",
       "      <td>Jumanji (1995)</td>\n",
       "      <td>Robin Williams time travel fantasy based on ch...</td>\n",
       "    </tr>\n",
       "    <tr>\n",
       "      <th>2</th>\n",
       "      <td>3</td>\n",
       "      <td>Grumpier Old Men (1995)</td>\n",
       "      <td>funny best friend duringcreditsstinger fishing...</td>\n",
       "    </tr>\n",
       "  </tbody>\n",
       "</table>\n",
       "</div>"
      ],
      "text/plain": [
       "   movieId                    title  \\\n",
       "0        1         Toy Story (1995)   \n",
       "1        2           Jumanji (1995)   \n",
       "2        3  Grumpier Old Men (1995)   \n",
       "\n",
       "                                            metadata  \n",
       "0  Owned imdb top 250 Pixar Pixar time travel chi...  \n",
       "1  Robin Williams time travel fantasy based on ch...  \n",
       "2  funny best friend duringcreditsstinger fishing...  "
      ]
     },
     "execution_count": 65,
     "metadata": {},
     "output_type": "execute_result"
    }
   ],
   "source": [
    "#Concatenating the tags and the genres as our metadata\n",
    "Final ['metadata'] = Final[['tag', 'genres']].apply(lambda x: ' '.join(x), axis = 1)\n",
    "Final[['movieId','title','metadata']].head(3)"
   ]
  },
  {
   "cell_type": "code",
   "execution_count": null,
   "metadata": {},
   "outputs": [],
   "source": []
  },
  {
   "cell_type": "code",
   "execution_count": null,
   "metadata": {},
   "outputs": [],
   "source": []
  },
  {
   "cell_type": "code",
   "execution_count": null,
   "metadata": {},
   "outputs": [],
   "source": []
  },
  {
   "cell_type": "markdown",
   "metadata": {},
   "source": [
    "## Exploring the data"
   ]
  },
  {
   "cell_type": "code",
   "execution_count": null,
   "metadata": {},
   "outputs": [],
   "source": [
    "ratings.drop(['timestamp'], axis=1)"
   ]
  },
  {
   "cell_type": "markdown",
   "metadata": {},
   "source": [
    "Let's create a mixed dataframe of movies title, genres and all user tags given to each movie"
   ]
  },
  {
   "cell_type": "code",
   "execution_count": null,
   "metadata": {},
   "outputs": [],
   "source": [
    "mixed = pd.merge(movies, tags, on='movieId', how='left')\n",
    "mixed.head(3)"
   ]
  },
  {
   "cell_type": "markdown",
   "metadata": {},
   "source": [
    "Create metadata from tags and genres"
   ]
  },
  {
   "cell_type": "markdown",
   "metadata": {},
   "source": [
    "Before we can build our models it is important to get a basic understanding of the data we are working with so that we can pre-process the data accurately and choose the right models. In this section we will display and draw insights from the data we are working with by using both visual and non-visual display methods."
   ]
  },
  {
   "cell_type": "markdown",
   "metadata": {},
   "source": [
    "### **Dataset descriptions**\n",
    "\n",
    "The supplied dataset comprises the following:\n",
    "\n",
    "1. **genome_scores.csv** - A score mapping the strength between movies and tag-related properties\n",
    "2. **train.csv** - The training split of the dataset. Contains user and movie IDs with associated rating data\n",
    "3. **test.csv** - The test split of the dataset. Contains user and movie IDs with no rating data\n",
    "4. **tags.csv** - User assigned for the movies within the dataset\n",
    "5. **links.csv** - File providing a mapping between a movie ID, IMDB IDs and TMDB IDs\n",
    "6. **movies** - File providing details about the title of the movie, genres and movieID that further can be used to merge to other related dataset\n",
    "7. **imdb_data.csv** - Additional movie metadata scraped from IMDB using the links.csv file\n",
    "8. **genome_tags.csv** - User assigned tags for genome-related scores\n"
   ]
  },
  {
   "cell_type": "markdown",
   "metadata": {},
   "source": [
    "### Overview of all the datasets"
   ]
  },
  {
   "cell_type": "markdown",
   "metadata": {},
   "source": [
    "Lets first get an overview of the amount of rows and columns in each dataset."
   ]
  },
  {
   "cell_type": "code",
   "execution_count": 7,
   "metadata": {},
   "outputs": [
    {
     "data": {
      "text/html": [
       "<div>\n",
       "<style scoped>\n",
       "    .dataframe tbody tr th:only-of-type {\n",
       "        vertical-align: middle;\n",
       "    }\n",
       "\n",
       "    .dataframe tbody tr th {\n",
       "        vertical-align: top;\n",
       "    }\n",
       "\n",
       "    .dataframe thead th {\n",
       "        text-align: right;\n",
       "    }\n",
       "</style>\n",
       "<table border=\"1\" class=\"dataframe\">\n",
       "  <thead>\n",
       "    <tr style=\"text-align: right;\">\n",
       "      <th></th>\n",
       "      <th>rows</th>\n",
       "      <th>columns</th>\n",
       "    </tr>\n",
       "  </thead>\n",
       "  <tbody>\n",
       "    <tr>\n",
       "      <th>genome_scores</th>\n",
       "      <td>15584448</td>\n",
       "      <td>3</td>\n",
       "    </tr>\n",
       "    <tr>\n",
       "      <th>train</th>\n",
       "      <td>10000038</td>\n",
       "      <td>4</td>\n",
       "    </tr>\n",
       "    <tr>\n",
       "      <th>test</th>\n",
       "      <td>5000019</td>\n",
       "      <td>2</td>\n",
       "    </tr>\n",
       "    <tr>\n",
       "      <th>tags</th>\n",
       "      <td>1093360</td>\n",
       "      <td>4</td>\n",
       "    </tr>\n",
       "    <tr>\n",
       "      <th>links</th>\n",
       "      <td>62423</td>\n",
       "      <td>3</td>\n",
       "    </tr>\n",
       "    <tr>\n",
       "      <th>movies</th>\n",
       "      <td>62423</td>\n",
       "      <td>3</td>\n",
       "    </tr>\n",
       "    <tr>\n",
       "      <th>imdb_data</th>\n",
       "      <td>27278</td>\n",
       "      <td>6</td>\n",
       "    </tr>\n",
       "    <tr>\n",
       "      <th>genome_tags</th>\n",
       "      <td>1128</td>\n",
       "      <td>2</td>\n",
       "    </tr>\n",
       "  </tbody>\n",
       "</table>\n",
       "</div>"
      ],
      "text/plain": [
       "                   rows  columns\n",
       "genome_scores  15584448        3\n",
       "train          10000038        4\n",
       "test            5000019        2\n",
       "tags            1093360        4\n",
       "links             62423        3\n",
       "movies            62423        3\n",
       "imdb_data         27278        6\n",
       "genome_tags        1128        2"
      ]
     },
     "execution_count": 7,
     "metadata": {},
     "output_type": "execute_result"
    }
   ],
   "source": [
    "# Creating a list that contains the names of all the dataframes \n",
    "dfs = [df_train, df_test, df_genome_scores, df_genome_tags, df_imdb, df_links, df_movies, df_tags]\n",
    "\n",
    "# Create a list of the names of the imported datasets\n",
    "df_names = ['train', 'test', 'genome_scores', 'genome_tags',\n",
    "            'imdb_data', 'links', 'movies', 'tags']\n",
    "\n",
    "# Creating an empty dictionary\n",
    "dfs_dict = {}  \n",
    "\n",
    "# Iterating over the list and dictionary\n",
    "for name, data in zip(df_names, dfs):  \n",
    "    dfs_dict[name] = [data.shape[0], data.shape[1]]\n",
    "    df_prop = pd.DataFrame(dfs_dict,index=['rows', 'columns']).transpose()\n",
    "df_entries_count = df_prop.sort_values(by='rows', ascending=False)\n",
    "\n",
    "# Viewing the final output\n",
    "df_entries_count"
   ]
  },
  {
   "cell_type": "markdown",
   "metadata": {},
   "source": [
    "The Dataframe displayed above has all the various dataframes in our entire data set. This is vital information as it shows us how many entries are in each datframe and the columns they each have."
   ]
  },
  {
   "cell_type": "markdown",
   "metadata": {},
   "source": [
    "### Displaying the heads of the tables"
   ]
  },
  {
   "cell_type": "markdown",
   "metadata": {},
   "source": [
    "Let us now show the first 5 rows in the four main datasets."
   ]
  },
  {
   "cell_type": "code",
   "execution_count": 8,
   "metadata": {
    "scrolled": true
   },
   "outputs": [
    {
     "data": {
      "text/html": [
       "<div>\n",
       "<style scoped>\n",
       "    .dataframe tbody tr th:only-of-type {\n",
       "        vertical-align: middle;\n",
       "    }\n",
       "\n",
       "    .dataframe tbody tr th {\n",
       "        vertical-align: top;\n",
       "    }\n",
       "\n",
       "    .dataframe thead th {\n",
       "        text-align: right;\n",
       "    }\n",
       "</style>\n",
       "<table border=\"1\" class=\"dataframe\">\n",
       "  <thead>\n",
       "    <tr style=\"text-align: right;\">\n",
       "      <th></th>\n",
       "      <th>userId</th>\n",
       "      <th>movieId</th>\n",
       "      <th>rating</th>\n",
       "      <th>timestamp</th>\n",
       "    </tr>\n",
       "  </thead>\n",
       "  <tbody>\n",
       "    <tr>\n",
       "      <th>0</th>\n",
       "      <td>5163</td>\n",
       "      <td>57669</td>\n",
       "      <td>4.0</td>\n",
       "      <td>1518349992</td>\n",
       "    </tr>\n",
       "    <tr>\n",
       "      <th>1</th>\n",
       "      <td>106343</td>\n",
       "      <td>5</td>\n",
       "      <td>4.5</td>\n",
       "      <td>1206238739</td>\n",
       "    </tr>\n",
       "    <tr>\n",
       "      <th>2</th>\n",
       "      <td>146790</td>\n",
       "      <td>5459</td>\n",
       "      <td>5.0</td>\n",
       "      <td>1076215539</td>\n",
       "    </tr>\n",
       "    <tr>\n",
       "      <th>3</th>\n",
       "      <td>106362</td>\n",
       "      <td>32296</td>\n",
       "      <td>2.0</td>\n",
       "      <td>1423042565</td>\n",
       "    </tr>\n",
       "    <tr>\n",
       "      <th>4</th>\n",
       "      <td>9041</td>\n",
       "      <td>366</td>\n",
       "      <td>3.0</td>\n",
       "      <td>833375837</td>\n",
       "    </tr>\n",
       "  </tbody>\n",
       "</table>\n",
       "</div>"
      ],
      "text/plain": [
       "   userId  movieId  rating   timestamp\n",
       "0    5163    57669     4.0  1518349992\n",
       "1  106343        5     4.5  1206238739\n",
       "2  146790     5459     5.0  1076215539\n",
       "3  106362    32296     2.0  1423042565\n",
       "4    9041      366     3.0   833375837"
      ]
     },
     "execution_count": 8,
     "metadata": {},
     "output_type": "execute_result"
    }
   ],
   "source": [
    "# Viewing the train data to see the data present in the table\n",
    "df_train.head()"
   ]
  },
  {
   "cell_type": "code",
   "execution_count": 9,
   "metadata": {},
   "outputs": [
    {
     "data": {
      "text/html": [
       "<div>\n",
       "<style scoped>\n",
       "    .dataframe tbody tr th:only-of-type {\n",
       "        vertical-align: middle;\n",
       "    }\n",
       "\n",
       "    .dataframe tbody tr th {\n",
       "        vertical-align: top;\n",
       "    }\n",
       "\n",
       "    .dataframe thead th {\n",
       "        text-align: right;\n",
       "    }\n",
       "</style>\n",
       "<table border=\"1\" class=\"dataframe\">\n",
       "  <thead>\n",
       "    <tr style=\"text-align: right;\">\n",
       "      <th></th>\n",
       "      <th>userId</th>\n",
       "      <th>movieId</th>\n",
       "    </tr>\n",
       "  </thead>\n",
       "  <tbody>\n",
       "    <tr>\n",
       "      <th>0</th>\n",
       "      <td>1</td>\n",
       "      <td>2011</td>\n",
       "    </tr>\n",
       "    <tr>\n",
       "      <th>1</th>\n",
       "      <td>1</td>\n",
       "      <td>4144</td>\n",
       "    </tr>\n",
       "    <tr>\n",
       "      <th>2</th>\n",
       "      <td>1</td>\n",
       "      <td>5767</td>\n",
       "    </tr>\n",
       "    <tr>\n",
       "      <th>3</th>\n",
       "      <td>1</td>\n",
       "      <td>6711</td>\n",
       "    </tr>\n",
       "    <tr>\n",
       "      <th>4</th>\n",
       "      <td>1</td>\n",
       "      <td>7318</td>\n",
       "    </tr>\n",
       "  </tbody>\n",
       "</table>\n",
       "</div>"
      ],
      "text/plain": [
       "   userId  movieId\n",
       "0       1     2011\n",
       "1       1     4144\n",
       "2       1     5767\n",
       "3       1     6711\n",
       "4       1     7318"
      ]
     },
     "execution_count": 9,
     "metadata": {},
     "output_type": "execute_result"
    }
   ],
   "source": [
    "df_test.head()"
   ]
  },
  {
   "cell_type": "markdown",
   "metadata": {},
   "source": [
    "Our test dataframe only has two columns, which is two columns less than the train dataframe. The data we use to test the models later on in the notebook should have the same number of columns as the train dataframe. Whatever changes we apply to the train data should be applied to the testing data prior to modeling. In a later stage two more columns will be added to the test dataframe."
   ]
  },
  {
   "cell_type": "code",
   "execution_count": 10,
   "metadata": {},
   "outputs": [
    {
     "data": {
      "text/html": [
       "<div>\n",
       "<style scoped>\n",
       "    .dataframe tbody tr th:only-of-type {\n",
       "        vertical-align: middle;\n",
       "    }\n",
       "\n",
       "    .dataframe tbody tr th {\n",
       "        vertical-align: top;\n",
       "    }\n",
       "\n",
       "    .dataframe thead th {\n",
       "        text-align: right;\n",
       "    }\n",
       "</style>\n",
       "<table border=\"1\" class=\"dataframe\">\n",
       "  <thead>\n",
       "    <tr style=\"text-align: right;\">\n",
       "      <th></th>\n",
       "      <th>movieId</th>\n",
       "      <th>title</th>\n",
       "      <th>genres</th>\n",
       "    </tr>\n",
       "  </thead>\n",
       "  <tbody>\n",
       "    <tr>\n",
       "      <th>0</th>\n",
       "      <td>1</td>\n",
       "      <td>Toy Story (1995)</td>\n",
       "      <td>Adventure|Animation|Children|Comedy|Fantasy</td>\n",
       "    </tr>\n",
       "    <tr>\n",
       "      <th>1</th>\n",
       "      <td>2</td>\n",
       "      <td>Jumanji (1995)</td>\n",
       "      <td>Adventure|Children|Fantasy</td>\n",
       "    </tr>\n",
       "    <tr>\n",
       "      <th>2</th>\n",
       "      <td>3</td>\n",
       "      <td>Grumpier Old Men (1995)</td>\n",
       "      <td>Comedy|Romance</td>\n",
       "    </tr>\n",
       "    <tr>\n",
       "      <th>3</th>\n",
       "      <td>4</td>\n",
       "      <td>Waiting to Exhale (1995)</td>\n",
       "      <td>Comedy|Drama|Romance</td>\n",
       "    </tr>\n",
       "    <tr>\n",
       "      <th>4</th>\n",
       "      <td>5</td>\n",
       "      <td>Father of the Bride Part II (1995)</td>\n",
       "      <td>Comedy</td>\n",
       "    </tr>\n",
       "  </tbody>\n",
       "</table>\n",
       "</div>"
      ],
      "text/plain": [
       "   movieId                               title  \\\n",
       "0        1                    Toy Story (1995)   \n",
       "1        2                      Jumanji (1995)   \n",
       "2        3             Grumpier Old Men (1995)   \n",
       "3        4            Waiting to Exhale (1995)   \n",
       "4        5  Father of the Bride Part II (1995)   \n",
       "\n",
       "                                        genres  \n",
       "0  Adventure|Animation|Children|Comedy|Fantasy  \n",
       "1                   Adventure|Children|Fantasy  \n",
       "2                               Comedy|Romance  \n",
       "3                         Comedy|Drama|Romance  \n",
       "4                                       Comedy  "
      ]
     },
     "execution_count": 10,
     "metadata": {},
     "output_type": "execute_result"
    }
   ],
   "source": [
    "df_movies.head()"
   ]
  },
  {
   "cell_type": "code",
   "execution_count": 11,
   "metadata": {},
   "outputs": [
    {
     "data": {
      "text/html": [
       "<div>\n",
       "<style scoped>\n",
       "    .dataframe tbody tr th:only-of-type {\n",
       "        vertical-align: middle;\n",
       "    }\n",
       "\n",
       "    .dataframe tbody tr th {\n",
       "        vertical-align: top;\n",
       "    }\n",
       "\n",
       "    .dataframe thead th {\n",
       "        text-align: right;\n",
       "    }\n",
       "</style>\n",
       "<table border=\"1\" class=\"dataframe\">\n",
       "  <thead>\n",
       "    <tr style=\"text-align: right;\">\n",
       "      <th></th>\n",
       "      <th>Id</th>\n",
       "      <th>rating</th>\n",
       "    </tr>\n",
       "  </thead>\n",
       "  <tbody>\n",
       "    <tr>\n",
       "      <th>0</th>\n",
       "      <td>1_2011</td>\n",
       "      <td>1.0</td>\n",
       "    </tr>\n",
       "    <tr>\n",
       "      <th>1</th>\n",
       "      <td>1_4144</td>\n",
       "      <td>1.0</td>\n",
       "    </tr>\n",
       "    <tr>\n",
       "      <th>2</th>\n",
       "      <td>1_5767</td>\n",
       "      <td>1.0</td>\n",
       "    </tr>\n",
       "    <tr>\n",
       "      <th>3</th>\n",
       "      <td>1_6711</td>\n",
       "      <td>1.0</td>\n",
       "    </tr>\n",
       "    <tr>\n",
       "      <th>4</th>\n",
       "      <td>1_7318</td>\n",
       "      <td>1.0</td>\n",
       "    </tr>\n",
       "  </tbody>\n",
       "</table>\n",
       "</div>"
      ],
      "text/plain": [
       "       Id  rating\n",
       "0  1_2011     1.0\n",
       "1  1_4144     1.0\n",
       "2  1_5767     1.0\n",
       "3  1_6711     1.0\n",
       "4  1_7318     1.0"
      ]
     },
     "execution_count": 11,
     "metadata": {},
     "output_type": "execute_result"
    }
   ],
   "source": [
    "df_sample_submission.head()"
   ]
  },
  {
   "cell_type": "markdown",
   "metadata": {},
   "source": [
    "### Checking for null-values, shapes and datatypes"
   ]
  },
  {
   "cell_type": "markdown",
   "metadata": {},
   "source": [
    "In this section we check for null values as well as the shape of the dataframes and the value types it contain. This will help us understand if we should fill null values as well which types of models to work with."
   ]
  },
  {
   "cell_type": "code",
   "execution_count": 12,
   "metadata": {},
   "outputs": [
    {
     "name": "stdout",
     "output_type": "stream",
     "text": [
      "<class 'pandas.core.frame.DataFrame'>\n",
      "RangeIndex: 10000038 entries, 0 to 10000037\n",
      "Data columns (total 4 columns):\n",
      " #   Column     Dtype  \n",
      "---  ------     -----  \n",
      " 0   userId     int64  \n",
      " 1   movieId    int64  \n",
      " 2   rating     float64\n",
      " 3   timestamp  int64  \n",
      "dtypes: float64(1), int64(3)\n",
      "memory usage: 305.2 MB\n"
     ]
    }
   ],
   "source": [
    "# Viewing the inforation of the train data, the object types, the totak number of columns etc\n",
    "df_train.info()"
   ]
  },
  {
   "cell_type": "markdown",
   "metadata": {},
   "source": [
    "Our train data set has 10,000,038 entries. That's a lot of data. It has 4 columns consisting of 1 float type data and 3 integer type data."
   ]
  },
  {
   "cell_type": "code",
   "execution_count": 13,
   "metadata": {
    "scrolled": true
   },
   "outputs": [
    {
     "data": {
      "text/plain": [
       "userId       0\n",
       "movieId      0\n",
       "rating       0\n",
       "timestamp    0\n",
       "dtype: int64"
      ]
     },
     "execution_count": 13,
     "metadata": {},
     "output_type": "execute_result"
    }
   ],
   "source": [
    "df_train.isnull().sum()"
   ]
  },
  {
   "cell_type": "markdown",
   "metadata": {},
   "source": []
  },
  {
   "cell_type": "markdown",
   "metadata": {},
   "source": [
    "No null  values in the train dataframe."
   ]
  },
  {
   "cell_type": "code",
   "execution_count": 14,
   "metadata": {},
   "outputs": [
    {
     "name": "stdout",
     "output_type": "stream",
     "text": [
      "<class 'pandas.core.frame.DataFrame'>\n",
      "RangeIndex: 5000019 entries, 0 to 5000018\n",
      "Data columns (total 2 columns):\n",
      " #   Column   Dtype\n",
      "---  ------   -----\n",
      " 0   userId   int64\n",
      " 1   movieId  int64\n",
      "dtypes: int64(2)\n",
      "memory usage: 76.3 MB\n"
     ]
    }
   ],
   "source": [
    "df_test.info()"
   ]
  },
  {
   "cell_type": "markdown",
   "metadata": {},
   "source": [
    "Our test datframe has 5,000,019 entries, two columns which are interger type data."
   ]
  },
  {
   "cell_type": "code",
   "execution_count": 15,
   "metadata": {},
   "outputs": [
    {
     "data": {
      "text/plain": [
       "userId     0\n",
       "movieId    0\n",
       "dtype: int64"
      ]
     },
     "execution_count": 15,
     "metadata": {},
     "output_type": "execute_result"
    }
   ],
   "source": [
    "df_test.isnull().sum()"
   ]
  },
  {
   "cell_type": "markdown",
   "metadata": {},
   "source": [
    "There are zero null values in the test dataframe."
   ]
  },
  {
   "cell_type": "markdown",
   "metadata": {},
   "source": [
    "### Most common genres"
   ]
  },
  {
   "cell_type": "markdown",
   "metadata": {},
   "source": [
    "Since genres is such an important piece of data for a content based recommender, it is helpful to see which genres occur the most."
   ]
  },
  {
   "cell_type": "code",
   "execution_count": 66,
   "metadata": {},
   "outputs": [
    {
     "data": {
      "text/html": [
       "<div>\n",
       "<style scoped>\n",
       "    .dataframe tbody tr th:only-of-type {\n",
       "        vertical-align: middle;\n",
       "    }\n",
       "\n",
       "    .dataframe tbody tr th {\n",
       "        vertical-align: top;\n",
       "    }\n",
       "\n",
       "    .dataframe thead th {\n",
       "        text-align: right;\n",
       "    }\n",
       "</style>\n",
       "<table border=\"1\" class=\"dataframe\">\n",
       "  <thead>\n",
       "    <tr style=\"text-align: right;\">\n",
       "      <th></th>\n",
       "      <th>movieId</th>\n",
       "      <th>genres</th>\n",
       "    </tr>\n",
       "  </thead>\n",
       "  <tbody>\n",
       "    <tr>\n",
       "      <th>0</th>\n",
       "      <td>1</td>\n",
       "      <td>Adventure</td>\n",
       "    </tr>\n",
       "    <tr>\n",
       "      <th>1</th>\n",
       "      <td>1</td>\n",
       "      <td>Animation</td>\n",
       "    </tr>\n",
       "    <tr>\n",
       "      <th>2</th>\n",
       "      <td>1</td>\n",
       "      <td>Children</td>\n",
       "    </tr>\n",
       "    <tr>\n",
       "      <th>3</th>\n",
       "      <td>1</td>\n",
       "      <td>Comedy</td>\n",
       "    </tr>\n",
       "    <tr>\n",
       "      <th>4</th>\n",
       "      <td>1</td>\n",
       "      <td>Fantasy</td>\n",
       "    </tr>\n",
       "  </tbody>\n",
       "</table>\n",
       "</div>"
      ],
      "text/plain": [
       "   movieId     genres\n",
       "0        1  Adventure\n",
       "1        1  Animation\n",
       "2        1   Children\n",
       "3        1     Comedy\n",
       "4        1    Fantasy"
      ]
     },
     "execution_count": 66,
     "metadata": {},
     "output_type": "execute_result"
    }
   ],
   "source": [
    "# Create dataframe containing only the movieId and genres\n",
    "movies_genres = pd.DataFrame(df_movies[['movieId', 'genres']],\n",
    "                             columns=['movieId', 'genres'])\n",
    "\n",
    "# Split genres seperated by \"|\" and create a list containing the genres allocated to each movie\n",
    "movies_genres.genres = movies_genres.genres.apply(lambda x: x.split('|'))\n",
    "\n",
    "# Create expanded dataframe where each movie-genre combination is in a seperate row\n",
    "movies_genres = pd.DataFrame([(tup.movieId, d) for tup in movies_genres.itertuples() for d in tup.genres],\n",
    "                             columns=['movieId', 'genres'])\n",
    "\n",
    "movies_genres.head()"
   ]
  },
  {
   "cell_type": "code",
   "execution_count": 67,
   "metadata": {},
   "outputs": [
    {
     "data": {
      "image/png": "[encoded data removed]",
      "text/plain": [
       "<Figure size 1080x720 with 1 Axes>"
      ]
     },
     "metadata": {},
     "output_type": "display_data"
    }
   ],
   "source": [
    "# Plot the genres from most common to least common\n",
    "plot = plt.figure(figsize=(15, 10))\n",
    "plt.title('Most common genres\\n', fontsize=20)\n",
    "sns.countplot(y=\"genres\", data=movies_genres,\n",
    "              order=movies_genres['genres'].value_counts(ascending=False).index,\n",
    "              palette='Reds_r')\n",
    "plt.show()"
   ]
  },
  {
   "cell_type": "markdown",
   "metadata": {},
   "source": [
    "The top five most common movie genres are Drama, Comedy, Thriller, Romance and Action. This suggests that the most watched movies in this dataframe belong to these top five genres."
   ]
  },
  {
   "cell_type": "markdown",
   "metadata": {},
   "source": [
    "### Ratings distribution"
   ]
  },
  {
   "cell_type": "markdown",
   "metadata": {},
   "source": [
    "Let's get an idea of how the ratings are distributed by plotting a vertical bar chart of the counts of each rating. In order to do this we will first have to merge some tables."
   ]
  },
  {
   "cell_type": "code",
   "execution_count": 24,
   "metadata": {},
   "outputs": [
    {
     "data": {
      "text/html": [
       "<div>\n",
       "<style scoped>\n",
       "    .dataframe tbody tr th:only-of-type {\n",
       "        vertical-align: middle;\n",
       "    }\n",
       "\n",
       "    .dataframe tbody tr th {\n",
       "        vertical-align: top;\n",
       "    }\n",
       "\n",
       "    .dataframe thead th {\n",
       "        text-align: right;\n",
       "    }\n",
       "</style>\n",
       "<table border=\"1\" class=\"dataframe\">\n",
       "  <thead>\n",
       "    <tr style=\"text-align: right;\">\n",
       "      <th></th>\n",
       "      <th>userId</th>\n",
       "      <th>movieId</th>\n",
       "      <th>rating</th>\n",
       "      <th>timestamp</th>\n",
       "      <th>title</th>\n",
       "      <th>genres</th>\n",
       "      <th>title_cast</th>\n",
       "      <th>director</th>\n",
       "      <th>runtime</th>\n",
       "      <th>budget</th>\n",
       "      <th>plot_keywords</th>\n",
       "    </tr>\n",
       "  </thead>\n",
       "  <tbody>\n",
       "    <tr>\n",
       "      <th>0</th>\n",
       "      <td>5163</td>\n",
       "      <td>57669</td>\n",
       "      <td>4.0</td>\n",
       "      <td>1518349992</td>\n",
       "      <td>In Bruges (2008)</td>\n",
       "      <td>Comedy|Crime|Drama|Thriller</td>\n",
       "      <td>Elizabeth Berrington|Rudy Blomme|Olivier Bonjo...</td>\n",
       "      <td>Martin McDonagh</td>\n",
       "      <td>107.0</td>\n",
       "      <td>$15,000,000</td>\n",
       "      <td>dwarf|bruges|irish|hitman</td>\n",
       "    </tr>\n",
       "    <tr>\n",
       "      <th>1</th>\n",
       "      <td>106343</td>\n",
       "      <td>5</td>\n",
       "      <td>4.5</td>\n",
       "      <td>1206238739</td>\n",
       "      <td>Father of the Bride Part II (1995)</td>\n",
       "      <td>Comedy</td>\n",
       "      <td>Steve Martin|Diane Keaton|Martin Short|Kimberl...</td>\n",
       "      <td>Albert Hackett</td>\n",
       "      <td>106.0</td>\n",
       "      <td>$30,000,000</td>\n",
       "      <td>fatherhood|doberman|dog|mansion</td>\n",
       "    </tr>\n",
       "    <tr>\n",
       "      <th>2</th>\n",
       "      <td>146790</td>\n",
       "      <td>5459</td>\n",
       "      <td>5.0</td>\n",
       "      <td>1076215539</td>\n",
       "      <td>Men in Black II (a.k.a. MIIB) (a.k.a. MIB 2) (...</td>\n",
       "      <td>Action|Comedy|Sci-Fi</td>\n",
       "      <td>Tommy Lee Jones|Will Smith|Rip Torn|Lara Flynn...</td>\n",
       "      <td>Lowell Cunningham</td>\n",
       "      <td>88.0</td>\n",
       "      <td>$140,000,000</td>\n",
       "      <td>lingerie|michael jackson character|shorthaired...</td>\n",
       "    </tr>\n",
       "    <tr>\n",
       "      <th>3</th>\n",
       "      <td>106362</td>\n",
       "      <td>32296</td>\n",
       "      <td>2.0</td>\n",
       "      <td>1423042565</td>\n",
       "      <td>Miss Congeniality 2: Armed and Fabulous (2005)</td>\n",
       "      <td>Adventure|Comedy|Crime</td>\n",
       "      <td>Sandra Bullock|Regina King|Enrique Murciano|Wi...</td>\n",
       "      <td>Marc Lawrence</td>\n",
       "      <td>115.0</td>\n",
       "      <td>$45,000,000</td>\n",
       "      <td>female protagonist|cleave gag|good woman|fbi</td>\n",
       "    </tr>\n",
       "    <tr>\n",
       "      <th>4</th>\n",
       "      <td>9041</td>\n",
       "      <td>366</td>\n",
       "      <td>3.0</td>\n",
       "      <td>833375837</td>\n",
       "      <td>Wes Craven's New Nightmare (Nightmare on Elm S...</td>\n",
       "      <td>Drama|Horror|Mystery|Thriller</td>\n",
       "      <td>Jeff Davis|Heather Langenkamp|Miko Hughes|Matt...</td>\n",
       "      <td>Wes Craven</td>\n",
       "      <td>112.0</td>\n",
       "      <td>$8,000,000</td>\n",
       "      <td>freddy krueger|elm street|famous director as h...</td>\n",
       "    </tr>\n",
       "  </tbody>\n",
       "</table>\n",
       "</div>"
      ],
      "text/plain": [
       "   userId  movieId  rating   timestamp  \\\n",
       "0    5163    57669     4.0  1518349992   \n",
       "1  106343        5     4.5  1206238739   \n",
       "2  146790     5459     5.0  1076215539   \n",
       "3  106362    32296     2.0  1423042565   \n",
       "4    9041      366     3.0   833375837   \n",
       "\n",
       "                                               title  \\\n",
       "0                                   In Bruges (2008)   \n",
       "1                 Father of the Bride Part II (1995)   \n",
       "2  Men in Black II (a.k.a. MIIB) (a.k.a. MIB 2) (...   \n",
       "3     Miss Congeniality 2: Armed and Fabulous (2005)   \n",
       "4  Wes Craven's New Nightmare (Nightmare on Elm S...   \n",
       "\n",
       "                          genres  \\\n",
       "0    Comedy|Crime|Drama|Thriller   \n",
       "1                         Comedy   \n",
       "2           Action|Comedy|Sci-Fi   \n",
       "3         Adventure|Comedy|Crime   \n",
       "4  Drama|Horror|Mystery|Thriller   \n",
       "\n",
       "                                          title_cast           director  \\\n",
       "0  Elizabeth Berrington|Rudy Blomme|Olivier Bonjo...    Martin McDonagh   \n",
       "1  Steve Martin|Diane Keaton|Martin Short|Kimberl...     Albert Hackett   \n",
       "2  Tommy Lee Jones|Will Smith|Rip Torn|Lara Flynn...  Lowell Cunningham   \n",
       "3  Sandra Bullock|Regina King|Enrique Murciano|Wi...      Marc Lawrence   \n",
       "4  Jeff Davis|Heather Langenkamp|Miko Hughes|Matt...         Wes Craven   \n",
       "\n",
       "   runtime        budget                                      plot_keywords  \n",
       "0    107.0   $15,000,000                          dwarf|bruges|irish|hitman  \n",
       "1    106.0   $30,000,000                    fatherhood|doberman|dog|mansion  \n",
       "2     88.0  $140,000,000  lingerie|michael jackson character|shorthaired...  \n",
       "3    115.0   $45,000,000       female protagonist|cleave gag|good woman|fbi  \n",
       "4    112.0    $8,000,000  freddy krueger|elm street|famous director as h...  "
      ]
     },
     "execution_count": 24,
     "metadata": {},
     "output_type": "execute_result"
    }
   ],
   "source": [
    "# Combining both train and movies datasets by using movieId\n",
    "# as the matching column between both datasets\n",
    "train_movies_df = pd.merge(df_train,\n",
    "                           df_movies,\n",
    "                           how='left',\n",
    "                           on='movieId')\n",
    "\n",
    "# Combining all the observations in movies_metadata_df with imdb_data\n",
    "# using movieId as the matching column between both dataframes\n",
    "movies_imdb_df = pd.merge(train_movies_df,\n",
    "                              df_imdb,\n",
    "                              how='left',\n",
    "                              on='movieId')\n",
    "\n",
    "movies_imdb_df.head()"
   ]
  },
  {
   "cell_type": "code",
   "execution_count": 23,
   "metadata": {},
   "outputs": [
    {
     "name": "stdout",
     "output_type": "stream",
     "text": [
      "Average rating score in the movies rating distribution is : 3.5333951730983424 \n"
     ]
    }
   ],
   "source": [
    "# Calculating the average movie score rating in our data\n",
    "avg_rating = np.mean(movies_imdb_df[\"rating\"])\n",
    "\n",
    "print(f'Average rating score in the movies rating distribution is : {avg_rating} ')"
   ]
  },
  {
   "cell_type": "code",
   "execution_count": 20,
   "metadata": {},
   "outputs": [
    {
     "data": {
      "image/png": "[encoded data removed]",
      "text/plain": [
       "<Figure size 900x360 with 1 Axes>"
      ]
     },
     "metadata": {},
     "output_type": "display_data"
    }
   ],
   "source": [
    "# Displaying the ratings distrubution of the movies in our dataset\n",
    "with sns.axes_style('darkgrid'):\n",
    "    g = sns.factorplot(\"rating\", data=movies_imdb_df, aspect=2.5, kind='count')\n",
    "    g.set_ylabels(\"Total number of ratings\")"
   ]
  },
  {
   "cell_type": "markdown",
   "metadata": {},
   "source": [
    "Most of the ratings fall in the 4.0 bucket,these suggests that most of the movies found in this dataset are rated slightly above the average rating by the viewers. Not that many movies have a rating below 2, the viewers most likely enjoy the majority of the movies in this dataset or are just prove to rate higher."
   ]
  },
  {
   "cell_type": "markdown",
   "metadata": {},
   "source": [
    "### Insights on the directors"
   ]
  },
  {
   "cell_type": "markdown",
   "metadata": {},
   "source": [
    "Many viewers choose movies based on directors and often directors would make similat type of movies. Thus if a viewer enjoyed one movie, he/she would likely enjoy the director's other movies. This would aid in our content based model."
   ]
  },
  {
   "cell_type": "code",
   "execution_count": 21,
   "metadata": {},
   "outputs": [
    {
     "data": {
      "text/html": [
       "<div>\n",
       "<style scoped>\n",
       "    .dataframe tbody tr th:only-of-type {\n",
       "        vertical-align: middle;\n",
       "    }\n",
       "\n",
       "    .dataframe tbody tr th {\n",
       "        vertical-align: top;\n",
       "    }\n",
       "\n",
       "    .dataframe thead th {\n",
       "        text-align: right;\n",
       "    }\n",
       "</style>\n",
       "<table border=\"1\" class=\"dataframe\">\n",
       "  <thead>\n",
       "    <tr style=\"text-align: right;\">\n",
       "      <th></th>\n",
       "      <th>rating</th>\n",
       "      <th>No_of_ratings</th>\n",
       "    </tr>\n",
       "    <tr>\n",
       "      <th>director</th>\n",
       "      <th></th>\n",
       "      <th></th>\n",
       "    </tr>\n",
       "  </thead>\n",
       "  <tbody>\n",
       "    <tr>\n",
       "      <th>Quentin Tarantino</th>\n",
       "      <td>3.936571</td>\n",
       "      <td>109919</td>\n",
       "    </tr>\n",
       "    <tr>\n",
       "      <th>Michael Crichton</th>\n",
       "      <td>3.273370</td>\n",
       "      <td>65157</td>\n",
       "    </tr>\n",
       "    <tr>\n",
       "      <th>J.R.R. Tolkien</th>\n",
       "      <td>4.080118</td>\n",
       "      <td>62963</td>\n",
       "    </tr>\n",
       "    <tr>\n",
       "      <th>Lilly Wachowski</th>\n",
       "      <td>3.808348</td>\n",
       "      <td>60988</td>\n",
       "    </tr>\n",
       "    <tr>\n",
       "      <th>Stephen King</th>\n",
       "      <td>4.049956</td>\n",
       "      <td>59903</td>\n",
       "    </tr>\n",
       "    <tr>\n",
       "      <th>Ethan Coen</th>\n",
       "      <td>3.947250</td>\n",
       "      <td>51185</td>\n",
       "    </tr>\n",
       "    <tr>\n",
       "      <th>James Cameron</th>\n",
       "      <td>3.687102</td>\n",
       "      <td>51178</td>\n",
       "    </tr>\n",
       "    <tr>\n",
       "      <th>Luc Besson</th>\n",
       "      <td>3.749676</td>\n",
       "      <td>44015</td>\n",
       "    </tr>\n",
       "    <tr>\n",
       "      <th>Jonathan Nolan</th>\n",
       "      <td>4.100516</td>\n",
       "      <td>42645</td>\n",
       "    </tr>\n",
       "    <tr>\n",
       "      <th>Thomas Harris</th>\n",
       "      <td>3.989774</td>\n",
       "      <td>36425</td>\n",
       "    </tr>\n",
       "  </tbody>\n",
       "</table>\n",
       "</div>"
      ],
      "text/plain": [
       "                     rating  No_of_ratings\n",
       "director                                  \n",
       "Quentin Tarantino  3.936571         109919\n",
       "Michael Crichton   3.273370          65157\n",
       "J.R.R. Tolkien     4.080118          62963\n",
       "Lilly Wachowski    3.808348          60988\n",
       "Stephen King       4.049956          59903\n",
       "Ethan Coen         3.947250          51185\n",
       "James Cameron      3.687102          51178\n",
       "Luc Besson         3.749676          44015\n",
       "Jonathan Nolan     4.100516          42645\n",
       "Thomas Harris      3.989774          36425"
      ]
     },
     "execution_count": 21,
     "metadata": {},
     "output_type": "execute_result"
    }
   ],
   "source": [
    "# Directors with the most ratings in the dataset\n",
    "most_rated_director = pd.DataFrame(movies_imdb_df.groupby('director')['rating'].mean().\n",
    "                             sort_values(ascending=False))\n",
    "most_rated_director['No_of_ratings'] = movies_imdb_df.groupby('director')['rating'].count()\n",
    "most_rated_director.sort_values(by=['No_of_ratings', 'rating'], ascending=False).head(10)"
   ]
  },
  {
   "cell_type": "markdown",
   "metadata": {},
   "source": [
    "The director with the most ratings is Quentin Tarantino, this does not come as a surprise as this director has several blockbuster movies that performed quite well in box office. This director has directed movies such as Pulp Fiction and Kill Bill just to name a few. J.R.R Tolkien, Steven King and Jonathan Nolan have an average rating of 4.0, which is a higher average than all the directors in our data set got.\n",
    "\n",
    "Both Tolkien and King have very successful book franchises that we later adapted into movies that got a mostly positive reception from the public. Their ratings could be coming from people who have read the books and went on to watch the movies and those who just watched the movies alone, this doubles the total number of views the movies received. The movies are not watched by movie fans alone but also book readers. They capture a wider audience.\n",
    "\n",
    "Johathan Nolan has directed movies such as Batman: The Dark Knight and The Dark Knight Rises which performed well with box office bringing in revenues that far outweighed the movie budgets and received positive ratings from movie critics and fans alike. It seems that the movie viewers in our dataset enjoy watching his movies as he has a proven track record."
   ]
  },
  {
   "cell_type": "markdown",
   "metadata": {},
   "source": [
    "### Most Rated Movies"
   ]
  },
  {
   "cell_type": "markdown",
   "metadata": {},
   "source": [
    "Let us now see which movies were rated most by drawing a horizontal bar chart of the 10 most often rated movies of all time."
   ]
  },
  {
   "cell_type": "code",
   "execution_count": null,
   "metadata": {},
   "outputs": [],
   "source": [
    "# create aggregated table of movies with their average ratings\n",
    "\n",
    "avg_ratings = ratings_df[['movieId','rating']].groupby(by='movieId', as_index=False).mean()\n",
    "\n",
    "# add a column that shows how many ratings each movie got\n",
    "avg_ratings['movie_count'] = ratings_df[['movieId','rating']].groupby(by='movieId', as_index=False).count()['rating']\n",
    "avg_ratings.head()"
   ]
  },
  {
   "cell_type": "code",
   "execution_count": 22,
   "metadata": {},
   "outputs": [
    {
     "data": {
      "image/png": "[encoded data removed]",
      "text/plain": [
       "<Figure size 1008x648 with 1 Axes>"
      ]
     },
     "metadata": {
      "needs_background": "light"
     },
     "output_type": "display_data"
    }
   ],
   "source": [
    "def movie_ratings(series):\n",
    "    \"\"\"\n",
    "    This function generates a bar plot of the 10 most rated movies\n",
    "    of all time\n",
    "    \n",
    "    \"\"\"\n",
    "\n",
    "    data = series.value_counts().head(10)\n",
    "    plt.figure(figsize = (14,9))\n",
    "    sns.set_style('darkgrid')\n",
    "    sns.barplot(x = data, y = data.index ,order = data.index, \n",
    "                palette = 'rocket', orient = 'h',edgecolor = \"black\")\n",
    "    plt.ylabel('Movies', fontsize = 15)\n",
    "    plt.xlabel('Number of ratings',fontsize = 15)\n",
    "    plt.title('10 most rated movies of all time',fontsize = 18)\n",
    "    plt.show()\n",
    "\n",
    "movie_ratings(movies_imdb_df['title'])"
   ]
  },
  {
   "cell_type": "markdown",
   "metadata": {},
   "source": [
    "Shawshank Redemption is the most rated movie of all time, one of the contributing factors could be that Morgan Freeman is one of the cast members. The actor has amassed a wealth of respect from movie fans and creaters alike. The book that the movie was adopted from was written by Stephen King, a well known writer whose works have been adapted into several movies in Hollywood. Forest Gump and Pulp Fiction follow in 2nd and 3rd place respectively. These two movies also cast all star actors such as Tom Hanks, Samuel L. Jackson and John Travolta."
   ]
  },
  {
   "cell_type": "markdown",
   "metadata": {},
   "source": [
    "### Displaying the amount of unique values"
   ]
  },
  {
   "cell_type": "markdown",
   "metadata": {},
   "source": [
    "Let's look at the amount of unique users and movies and compare it with the highest userId and movieId to see if they are in sync."
   ]
  },
  {
   "cell_type": "code",
   "execution_count": 74,
   "metadata": {
    "scrolled": true
   },
   "outputs": [
    {
     "name": "stdout",
     "output_type": "stream",
     "text": [
      "The highest userID is 162541\n",
      "There are 162541 unique users.\n",
      "The highest movieID is 209171\n",
      "There are 48213 unique movies.\n"
     ]
    }
   ],
   "source": [
    "n_users=(df_train.userId.nunique()) # number of unique reviewers\n",
    "n_movies=(df_train.movieId.nunique()) # number of unique movies\n",
    "max_userId = df_train.userId.max() # maximum value of userID\n",
    "max_movieId = df_train.movieId.max() # maximum value of movieId\n",
    "\n",
    "\n",
    "print('The highest userID is ' + str(max_userId))\n",
    "print('There are ' + str(n_users) + ' unique users.')\n",
    "\n",
    "print('The highest movieID is ' + str(max_movieId))\n",
    "print('There are ' + str(n_movies) + ' unique movies.')"
   ]
  },
  {
   "cell_type": "markdown",
   "metadata": {},
   "source": [
    "We observe that the number of unique users matches the highest userId showing that they are in sync.\n",
    "We also observe that the highest movieId is much higher than the number of unique movies. This means that the movieId's are not consecutive numbers, and there are some movies without any ratings."
   ]
  },
  {
   "cell_type": "markdown",
   "metadata": {},
   "source": [
    "### Best and worst rated movies"
   ]
  },
  {
   "cell_type": "markdown",
   "metadata": {},
   "source": [
    "Let us see the top 5 and bottom 5 ranked videos."
   ]
  },
  {
   "cell_type": "code",
   "execution_count": 89,
   "metadata": {},
   "outputs": [
    {
     "name": "stdout",
     "output_type": "stream",
     "text": [
      "5 Best rated movies are: \n",
      "\n",
      "       movieId  rating  movie_count                            title\n",
      "42113   186117     5.0            1       Fat Pizza vs Housos (2014)\n",
      "35223   165199     5.0            1  The Fearless Young Boxer (1979)\n",
      "40065   179607     5.0            1          A Moving Romance (2017)\n",
      "22537   120258     5.0            1   Shaka Zulu: The Citadel (2001)\n",
      "22540   120272     5.0            1                 Get Crazy (1983)\n",
      "5 Worst rated movies are: \n",
      "\n",
      "       movieId  rating  movie_count                              title\n",
      "44043   192553     0.5            1  Battle for the Lost Planet (1986)\n",
      "46287   200038     0.5            1               Seven Dinners (2019)\n",
      "46284   200032     0.5            1                 Shockheaded (2002)\n",
      "42734   188023     0.5            1              Garde alternée (2017)\n",
      "41948   185567     0.5            1         El grano de mostaza (1962)\n"
     ]
    }
   ],
   "source": [
    "# create aggregated table of movies with their average ratings\n",
    "\n",
    "avg_ratings = df_train[['movieId','rating']].groupby(by='movieId', as_index=False).mean()\n",
    "\n",
    "# add a column that shows how many ratings each movie got\n",
    "avg_ratings['movie_count'] = df_train[['movieId','rating']].groupby(by='movieId', as_index=False).count()['rating']\n",
    "avg_ratings.head()\n",
    "\n",
    "# add a column that shows how many ratings each movie got\n",
    "avg_ratings['movie_count'] = df_train[['movieId','rating']].groupby(by='movieId', as_index=False).count()['rating']\n",
    "avg_ratings.head()\n",
    "\n",
    "# merge with movies dataframe so that we get the movie title for each movieId\n",
    "\n",
    "avg_ratings = pd.merge(avg_ratings, df_movies[['movieId','title']], how='left', on='movieId')\n",
    "print('5 Best rated movies are: \\n')\n",
    "print(avg_ratings.sort_values(by='rating', ascending=False).head(5))\n",
    "print('5 Worst rated movies are: \\n')\n",
    "print(avg_ratings.sort_values(by='rating', ascending=False).tail(5))"
   ]
  },
  {
   "cell_type": "markdown",
   "metadata": {},
   "source": [
    "All of the top 5 and bottom 5 movies have only had 1 review each, so the average isn't a fair representation. What happens if we limit the above ranking to movies that have at least 50 reviews?"
   ]
  },
  {
   "cell_type": "code",
   "execution_count": 90,
   "metadata": {},
   "outputs": [
    {
     "name": "stdout",
     "output_type": "stream",
     "text": [
      "5 Best rated movies are: \n",
      "\n",
      "                                  title    rating  movie_count\n",
      "37118            Planet Earth II (2016)  4.517084          439\n",
      "33608               Planet Earth (2006)  4.473294          674\n",
      "37285                            Cosmos  4.456897          116\n",
      "314    Shawshank Redemption, The (1994)  4.417624        32831\n",
      "36994           Band of Brothers (2001)  4.399130          575\n",
      "\n",
      "5 Worst rated movies are: \n",
      "\n",
      "                                     title    rating  movie_count\n",
      "5624               Faces of Death 6 (1996)  1.184211           57\n",
      "12561                Disaster Movie (2008)  1.179435          248\n",
      "1740       Barney's Great Adventure (1998)  1.163522          159\n",
      "6355           From Justin to Kelly (2003)  1.011236          178\n",
      "8136   SuperBabies: Baby Geniuses 2 (2004)  0.823171           82\n"
     ]
    }
   ],
   "source": [
    "print('5 Best rated movies are: \\n')\n",
    "print(avg_ratings[avg_ratings['movie_count'] >= 50][['title','rating','movie_count']].sort_values(by='rating', ascending=False).head(5))\n",
    "print('')\n",
    "print('5 Worst rated movies are: \\n')\n",
    "print(avg_ratings[avg_ratings['movie_count'] >= 50][['title','rating','movie_count']].sort_values(by='rating', ascending=False).tail(5))"
   ]
  },
  {
   "cell_type": "markdown",
   "metadata": {},
   "source": [
    "This seems about correct - comparing this with sources like IMDb and Rotten Tomatoes we can see that Planet Earth has a 9.4/10 average rating and SuperBabies: Baby Geniuses 2 has an average rating of 2.0/10."
   ]
  },
  {
   "cell_type": "markdown",
   "metadata": {},
   "source": [
    "###  Which genres have the highest average rating?"
   ]
  },
  {
   "cell_type": "markdown",
   "metadata": {},
   "source": [
    "Here we will look at the average rating per genre and make a vertical barchart from it so that it is easy to see how much viewers on average enjoyed each movie."
   ]
  },
  {
   "cell_type": "code",
   "execution_count": 92,
   "metadata": {},
   "outputs": [
    {
     "data": {
      "text/html": [
       "<div>\n",
       "<style scoped>\n",
       "    .dataframe tbody tr th:only-of-type {\n",
       "        vertical-align: middle;\n",
       "    }\n",
       "\n",
       "    .dataframe tbody tr th {\n",
       "        vertical-align: top;\n",
       "    }\n",
       "\n",
       "    .dataframe thead th {\n",
       "        text-align: right;\n",
       "    }\n",
       "</style>\n",
       "<table border=\"1\" class=\"dataframe\">\n",
       "  <thead>\n",
       "    <tr style=\"text-align: right;\">\n",
       "      <th></th>\n",
       "      <th>movieId</th>\n",
       "      <th>title</th>\n",
       "      <th>year</th>\n",
       "      <th>genres</th>\n",
       "      <th>genre_split</th>\n",
       "      <th>(no genres listed)</th>\n",
       "      <th>Action</th>\n",
       "      <th>Adventure</th>\n",
       "      <th>Animation</th>\n",
       "      <th>Children</th>\n",
       "      <th>Comedy</th>\n",
       "      <th>Crime</th>\n",
       "      <th>Documentary</th>\n",
       "      <th>Drama</th>\n",
       "      <th>Fantasy</th>\n",
       "      <th>Film-Noir</th>\n",
       "      <th>Horror</th>\n",
       "      <th>IMAX</th>\n",
       "      <th>Musical</th>\n",
       "      <th>Mystery</th>\n",
       "      <th>Romance</th>\n",
       "      <th>Sci-Fi</th>\n",
       "      <th>Thriller</th>\n",
       "      <th>War</th>\n",
       "      <th>Western</th>\n",
       "      <th>rating</th>\n",
       "      <th>movie_count</th>\n",
       "    </tr>\n",
       "  </thead>\n",
       "  <tbody>\n",
       "    <tr>\n",
       "      <th>0</th>\n",
       "      <td>1</td>\n",
       "      <td>Toy Story (1995)</td>\n",
       "      <td>1995</td>\n",
       "      <td>Adventure|Animation|Children|Comedy|Fantasy</td>\n",
       "      <td>[Adventure, Animation, Children, Comedy, Fantasy]</td>\n",
       "      <td>0</td>\n",
       "      <td>0</td>\n",
       "      <td>1</td>\n",
       "      <td>1</td>\n",
       "      <td>1</td>\n",
       "      <td>1</td>\n",
       "      <td>0</td>\n",
       "      <td>0</td>\n",
       "      <td>0</td>\n",
       "      <td>1</td>\n",
       "      <td>0</td>\n",
       "      <td>0</td>\n",
       "      <td>0</td>\n",
       "      <td>0</td>\n",
       "      <td>0</td>\n",
       "      <td>0</td>\n",
       "      <td>0</td>\n",
       "      <td>0</td>\n",
       "      <td>0</td>\n",
       "      <td>0</td>\n",
       "      <td>3.889971</td>\n",
       "      <td>23062.0</td>\n",
       "    </tr>\n",
       "    <tr>\n",
       "      <th>1</th>\n",
       "      <td>2</td>\n",
       "      <td>Jumanji (1995)</td>\n",
       "      <td>1995</td>\n",
       "      <td>Adventure|Children|Fantasy</td>\n",
       "      <td>[Adventure, Children, Fantasy]</td>\n",
       "      <td>0</td>\n",
       "      <td>0</td>\n",
       "      <td>1</td>\n",
       "      <td>0</td>\n",
       "      <td>1</td>\n",
       "      <td>0</td>\n",
       "      <td>0</td>\n",
       "      <td>0</td>\n",
       "      <td>0</td>\n",
       "      <td>1</td>\n",
       "      <td>0</td>\n",
       "      <td>0</td>\n",
       "      <td>0</td>\n",
       "      <td>0</td>\n",
       "      <td>0</td>\n",
       "      <td>0</td>\n",
       "      <td>0</td>\n",
       "      <td>0</td>\n",
       "      <td>0</td>\n",
       "      <td>0</td>\n",
       "      <td>3.263414</td>\n",
       "      <td>9654.0</td>\n",
       "    </tr>\n",
       "    <tr>\n",
       "      <th>2</th>\n",
       "      <td>3</td>\n",
       "      <td>Grumpier Old Men (1995)</td>\n",
       "      <td>1995</td>\n",
       "      <td>Comedy|Romance</td>\n",
       "      <td>[Comedy, Romance]</td>\n",
       "      <td>0</td>\n",
       "      <td>0</td>\n",
       "      <td>0</td>\n",
       "      <td>0</td>\n",
       "      <td>0</td>\n",
       "      <td>1</td>\n",
       "      <td>0</td>\n",
       "      <td>0</td>\n",
       "      <td>0</td>\n",
       "      <td>0</td>\n",
       "      <td>0</td>\n",
       "      <td>0</td>\n",
       "      <td>0</td>\n",
       "      <td>0</td>\n",
       "      <td>0</td>\n",
       "      <td>1</td>\n",
       "      <td>0</td>\n",
       "      <td>0</td>\n",
       "      <td>0</td>\n",
       "      <td>0</td>\n",
       "      <td>3.132325</td>\n",
       "      <td>4727.0</td>\n",
       "    </tr>\n",
       "    <tr>\n",
       "      <th>3</th>\n",
       "      <td>4</td>\n",
       "      <td>Waiting to Exhale (1995)</td>\n",
       "      <td>1995</td>\n",
       "      <td>Comedy|Drama|Romance</td>\n",
       "      <td>[Comedy, Drama, Romance]</td>\n",
       "      <td>0</td>\n",
       "      <td>0</td>\n",
       "      <td>0</td>\n",
       "      <td>0</td>\n",
       "      <td>0</td>\n",
       "      <td>1</td>\n",
       "      <td>0</td>\n",
       "      <td>0</td>\n",
       "      <td>1</td>\n",
       "      <td>0</td>\n",
       "      <td>0</td>\n",
       "      <td>0</td>\n",
       "      <td>0</td>\n",
       "      <td>0</td>\n",
       "      <td>0</td>\n",
       "      <td>1</td>\n",
       "      <td>0</td>\n",
       "      <td>0</td>\n",
       "      <td>0</td>\n",
       "      <td>0</td>\n",
       "      <td>2.878099</td>\n",
       "      <td>968.0</td>\n",
       "    </tr>\n",
       "    <tr>\n",
       "      <th>4</th>\n",
       "      <td>5</td>\n",
       "      <td>Father of the Bride Part II (1995)</td>\n",
       "      <td>1995</td>\n",
       "      <td>Comedy</td>\n",
       "      <td>[Comedy]</td>\n",
       "      <td>0</td>\n",
       "      <td>0</td>\n",
       "      <td>0</td>\n",
       "      <td>0</td>\n",
       "      <td>0</td>\n",
       "      <td>1</td>\n",
       "      <td>0</td>\n",
       "      <td>0</td>\n",
       "      <td>0</td>\n",
       "      <td>0</td>\n",
       "      <td>0</td>\n",
       "      <td>0</td>\n",
       "      <td>0</td>\n",
       "      <td>0</td>\n",
       "      <td>0</td>\n",
       "      <td>0</td>\n",
       "      <td>0</td>\n",
       "      <td>0</td>\n",
       "      <td>0</td>\n",
       "      <td>0</td>\n",
       "      <td>3.059165</td>\n",
       "      <td>4648.0</td>\n",
       "    </tr>\n",
       "  </tbody>\n",
       "</table>\n",
       "</div>"
      ],
      "text/plain": [
       "   movieId                               title  year  \\\n",
       "0        1                    Toy Story (1995)  1995   \n",
       "1        2                      Jumanji (1995)  1995   \n",
       "2        3             Grumpier Old Men (1995)  1995   \n",
       "3        4            Waiting to Exhale (1995)  1995   \n",
       "4        5  Father of the Bride Part II (1995)  1995   \n",
       "\n",
       "                                        genres  \\\n",
       "0  Adventure|Animation|Children|Comedy|Fantasy   \n",
       "1                   Adventure|Children|Fantasy   \n",
       "2                               Comedy|Romance   \n",
       "3                         Comedy|Drama|Romance   \n",
       "4                                       Comedy   \n",
       "\n",
       "                                         genre_split  (no genres listed)  \\\n",
       "0  [Adventure, Animation, Children, Comedy, Fantasy]                   0   \n",
       "1                     [Adventure, Children, Fantasy]                   0   \n",
       "2                                  [Comedy, Romance]                   0   \n",
       "3                           [Comedy, Drama, Romance]                   0   \n",
       "4                                           [Comedy]                   0   \n",
       "\n",
       "   Action  Adventure  Animation  Children  Comedy  Crime  Documentary  Drama  \\\n",
       "0       0          1          1         1       1      0            0      0   \n",
       "1       0          1          0         1       0      0            0      0   \n",
       "2       0          0          0         0       1      0            0      0   \n",
       "3       0          0          0         0       1      0            0      1   \n",
       "4       0          0          0         0       1      0            0      0   \n",
       "\n",
       "   Fantasy  Film-Noir  Horror  IMAX  Musical  Mystery  Romance  Sci-Fi  \\\n",
       "0        1          0       0     0        0        0        0       0   \n",
       "1        1          0       0     0        0        0        0       0   \n",
       "2        0          0       0     0        0        0        1       0   \n",
       "3        0          0       0     0        0        0        1       0   \n",
       "4        0          0       0     0        0        0        0       0   \n",
       "\n",
       "   Thriller  War  Western    rating  movie_count  \n",
       "0         0    0        0  3.889971      23062.0  \n",
       "1         0    0        0  3.263414       9654.0  \n",
       "2         0    0        0  3.132325       4727.0  \n",
       "3         0    0        0  2.878099        968.0  \n",
       "4         0    0        0  3.059165       4648.0  "
      ]
     },
     "execution_count": 92,
     "metadata": {},
     "output_type": "execute_result"
    }
   ],
   "source": [
    "# add the average rating and rating count to the movies dataframe\n",
    "\n",
    "df_movies = pd.merge(df_movies, avg_ratings.drop('title', axis=1), how='left', on='movieId')\n",
    "df_movies.head()"
   ]
  },
  {
   "cell_type": "code",
   "execution_count": 93,
   "metadata": {},
   "outputs": [],
   "source": [
    "# Renaming the 'no genres' column because it contains brackets\n",
    "\n",
    "df_movies.rename(columns={'(no genres listed)':'No genre'}, inplace=True)\n",
    "# also rename the first element of our list of genres\n",
    "genres[0] = 'No genre'"
   ]
  },
  {
   "cell_type": "code",
   "execution_count": 95,
   "metadata": {},
   "outputs": [
    {
     "data": {
      "text/plain": [
       "{'No genre': 3.0781802501123017,\n",
       " 'Action': 2.9506979201143646,\n",
       " 'Adventure': 3.045467920700436,\n",
       " 'Animation': 3.1547810806166137,\n",
       " 'Children': 3.048450639333836,\n",
       " 'Comedy': 3.0686633531222296,\n",
       " 'Crime': 3.1231732562278167,\n",
       " 'Documentary': 3.3959171332111913,\n",
       " 'Drama': 3.214231833322594,\n",
       " 'Fantasy': 3.049064785110446,\n",
       " 'Film-Noir': 3.325976896517685,\n",
       " 'Horror': 2.669973819124744,\n",
       " 'IMAX': 3.248172260421274,\n",
       " 'Musical': 3.21398491248772,\n",
       " 'Mystery': 3.0804013750500534,\n",
       " 'Romance': 3.1903741180937137,\n",
       " 'Sci-Fi': 2.8024122783057823,\n",
       " 'Thriller': 2.9685105390583213,\n",
       " 'War': 3.2877103902251488,\n",
       " 'Western': 3.0868148815103935}"
      ]
     },
     "execution_count": 95,
     "metadata": {},
     "output_type": "execute_result"
    }
   ],
   "source": [
    "# Creating an empty dictionary to store averages in\n",
    "\n",
    "genre_averages ={}\n",
    "\n",
    "for genre in genres:\n",
    "    # create a temporary matrix for each genre that has 2 rows\n",
    "    # when the genre is 1, and when it is 0, calculating the mean for each\n",
    "    temp = df_movies[[genre,'rating']].groupby(by=genre, as_index=False).mean()\n",
    "    # add the value for when the genre is 1 to the dictionary\n",
    "    genre_averages[genre] = temp[temp[genre] == 1]['rating'].values[0]\n",
    "    \n",
    "genre_averages"
   ]
  },
  {
   "cell_type": "code",
   "execution_count": 96,
   "metadata": {},
   "outputs": [
    {
     "data": {
      "text/plain": [
       "<matplotlib.legend.Legend at 0x1b90c4b0700>"
      ]
     },
     "execution_count": 96,
     "metadata": {},
     "output_type": "execute_result"
    },
    {
     "data": {
      "image/png": "[encoded data removed]",
      "text/plain": [
       "<Figure size 432x288 with 1 Axes>"
      ]
     },
     "metadata": {},
     "output_type": "display_data"
    }
   ],
   "source": [
    "# Creating a vertical barchart to see which genres are reated highest on average.\n",
    "sns.barplot(x=list(genre_averages.keys()), y=list(genre_averages.values()))\n",
    "plt.xticks(rotation=90)\n",
    "plt.title('Average rating for each genre')\n",
    "plt.ylabel('Average rating')\n",
    "plt.ylim((2,4))\n",
    "plt.axhline(y=np.median(list(genre_averages.values())), label='Median = ' + str(round(np.median(list(genre_averages.values())),2)))\n",
    "plt.tight_layout()\n",
    "plt.legend(loc=(1.02, 0.5))"
   ]
  },
  {
   "cell_type": "markdown",
   "metadata": {},
   "source": [
    "We can see from the above plot that the median average genre rating is 3.08. Documentaries have the highest average ratings (3.5) and Horror movies have by far the lowest average ratings (2.5).\n",
    "\n",
    "It is worth noting that each movie is weighted the same in this calculation, so a movie with 1 review has the same weight as a movie with 10,000 reviews. Also many movies have multiple genres and are included in the calculation for each."
   ]
  },
  {
   "cell_type": "markdown",
   "metadata": {},
   "source": [
    "### Which movie has the most polarising effect on the audience (has the biggest spread of review scores)?"
   ]
  },
  {
   "cell_type": "markdown",
   "metadata": {},
   "source": [
    "Let us look at the movie with the greatest range of score by looking for the movie with the highest standard deviation. We will then plot the ratings of that movie to verify our suspicions."
   ]
  },
  {
   "cell_type": "code",
   "execution_count": 99,
   "metadata": {},
   "outputs": [
    {
     "data": {
      "text/html": [
       "<div>\n",
       "<style scoped>\n",
       "    .dataframe tbody tr th:only-of-type {\n",
       "        vertical-align: middle;\n",
       "    }\n",
       "\n",
       "    .dataframe tbody tr th {\n",
       "        vertical-align: top;\n",
       "    }\n",
       "\n",
       "    .dataframe thead th {\n",
       "        text-align: right;\n",
       "    }\n",
       "</style>\n",
       "<table border=\"1\" class=\"dataframe\">\n",
       "  <thead>\n",
       "    <tr style=\"text-align: right;\">\n",
       "      <th></th>\n",
       "      <th>std</th>\n",
       "      <th>movie_count</th>\n",
       "    </tr>\n",
       "    <tr>\n",
       "      <th>movieId</th>\n",
       "      <th></th>\n",
       "      <th></th>\n",
       "    </tr>\n",
       "  </thead>\n",
       "  <tbody>\n",
       "    <tr>\n",
       "      <th>1311</th>\n",
       "      <td>1.731972</td>\n",
       "      <td>61</td>\n",
       "    </tr>\n",
       "    <tr>\n",
       "      <th>74754</th>\n",
       "      <td>1.660657</td>\n",
       "      <td>249</td>\n",
       "    </tr>\n",
       "    <tr>\n",
       "      <th>50703</th>\n",
       "      <td>1.659012</td>\n",
       "      <td>61</td>\n",
       "    </tr>\n",
       "    <tr>\n",
       "      <th>51372</th>\n",
       "      <td>1.577237</td>\n",
       "      <td>67</td>\n",
       "    </tr>\n",
       "    <tr>\n",
       "      <th>59295</th>\n",
       "      <td>1.572540</td>\n",
       "      <td>60</td>\n",
       "    </tr>\n",
       "  </tbody>\n",
       "</table>\n",
       "</div>"
      ],
      "text/plain": [
       "              std  movie_count\n",
       "movieId                       \n",
       "1311     1.731972           61\n",
       "74754    1.660657          249\n",
       "50703    1.659012           61\n",
       "51372    1.577237           67\n",
       "59295    1.572540           60"
      ]
     },
     "execution_count": 99,
     "metadata": {},
     "output_type": "execute_result"
    }
   ],
   "source": [
    "# groupby movieId again but this time calculate the standard deviations\n",
    "\n",
    "deviations = df_train[['movieId','rating']].groupby(by='movieId', as_index=True).std()\n",
    "deviations['movie_count'] = df_train[['movieId','rating']].groupby(by='movieId', as_index=True).count()['rating']\n",
    "deviations.rename(columns={'rating':'std'}, inplace=True)\n",
    "deviations.sort_values(by='std', ascending=False, inplace=True)\n",
    "# again limit to movies with at least 50 ratings\n",
    "deviations[deviations['movie_count'] >= 50].head()"
   ]
  },
  {
   "cell_type": "code",
   "execution_count": 100,
   "metadata": {},
   "outputs": [
    {
     "name": "stdout",
     "output_type": "stream",
     "text": [
      "Santa with Muscles (1996) has:\n",
      "Average rating of 2.5163934426229506\n",
      "Deviation of 1.7319719327853682\n"
     ]
    }
   ],
   "source": [
    "# take the movieId of the movie with the highest standard deviation\n",
    "\n",
    "largest_std = deviations[deviations['movie_count'] >= 50].iloc[0].name\n",
    "print(df_movies[df_movies['movieId']==largest_std]['title'].values[0] + ' has:')\n",
    "print('Average rating of ' + str(avg_ratings[avg_ratings['movieId']==largest_std]['rating'].values[0]))\n",
    "print('Deviation of ' + str(deviations.loc[largest_std]['std']))"
   ]
  },
  {
   "cell_type": "markdown",
   "metadata": {},
   "source": [
    "\"Santa with muscles\" has an average rating more or less in the middle of the scale and the standard deviation that is equal to a large proportion of the distance from the mean to the maximum and minimum possible scores. Let's take a closer look at the distribution."
   ]
  },
  {
   "cell_type": "code",
   "execution_count": 104,
   "metadata": {},
   "outputs": [
    {
     "data": {
      "text/plain": [
       "Text(0.5, 1.05, 'Rating distribution for \"Santa with Muscles (1996)\"')"
      ]
     },
     "execution_count": 104,
     "metadata": {},
     "output_type": "execute_result"
    },
    {
     "data": {
      "image/png": "[encoded data removed]",
      "text/plain": [
       "<Figure size 432x288 with 1 Axes>"
      ]
     },
     "metadata": {},
     "output_type": "display_data"
    }
   ],
   "source": [
    "sns.countplot(df_train[df_train['movieId'] == largest_std]['rating'])\n",
    "plt.title('Rating distribution for \"Santa with Muscles (1996)\"', y=1.05)"
   ]
  },
  {
   "cell_type": "markdown",
   "metadata": {},
   "source": [
    "We can see that \"Santa with muscles\" was very polarising among reviewers, with the vast majority of votes being either 1.0 or 5.0. This is a Christmas movie starring former Wrestler Hulk Hogan, so it's safe to assume that the movie is terrible and the 5.0 ratings are ironic/sarcastic ratings or there are a lot of Hulk Hogan fans that use MovieLens. This is our understanding."
   ]
  },
  {
   "cell_type": "markdown",
   "metadata": {},
   "source": [
    "## Splitting the data"
   ]
  },
  {
   "cell_type": "markdown",
   "metadata": {},
   "source": [
    "In order to have a valid validation set free from data leakage we will split the train set so that 20% of the data is not processed or trained on, but is kept solely for the purpose of validation."
   ]
  },
  {
   "cell_type": "code",
   "execution_count": null,
   "metadata": {},
   "outputs": [],
   "source": []
  },
  {
   "cell_type": "markdown",
   "metadata": {},
   "source": [
    "## Text Pre-processing"
   ]
  },
  {
   "cell_type": "markdown",
   "metadata": {},
   "source": [
    "In order for the models to train effectively the data needs to be cleaned up and rightly categorized. The data also needs to be standardized so that the differences in the range of numerical metrics do not distort the weights the metrics should contribute to the training of the model."
   ]
  },
  {
   "cell_type": "markdown",
   "metadata": {},
   "source": [
    "To create a collaborative filtering system we need the data in a specific format. We want to create a matrix where a row relates to a specific user and a column relates to a specific movie. This will have shape (n_users, n_movies).\n",
    "\n",
    "Then, by either looking at the similarity between rows or the similarity between columns we can implement a User based filtering system or a Movie based filtering system. The user similarity matrix will have shape (n_users, n_users) and the movie similarity matrix will have shape (n_movies, n_movies).\n",
    "\n",
    "These matrices have very large dimensions for this dataset. In fact they will be far too large to fit into the memory of a laptop (16GB) for example\n",
    "\n",
    "The rating matrix is fairly sparse and so can be stored in a more memory efficient datastructure, but the similarity matrices are completely non-sparse if all users and movies have ratings. For this reason we are significantly reducing the size of the data set for our recommendation system."
   ]
  },
  {
   "cell_type": "markdown",
   "metadata": {},
   "source": [
    "### Standardizing the train set"
   ]
  },
  {
   "cell_type": "markdown",
   "metadata": {},
   "source": [
    "### Dimension reduction and data filtering"
   ]
  },
  {
   "cell_type": "markdown",
   "metadata": {},
   "source": [
    "Due to the size of the dataset we need to reduce the dimensions and filter out insignificant data and keep only that which most contributes to the training of our models."
   ]
  },
  {
   "cell_type": "code",
   "execution_count": null,
   "metadata": {},
   "outputs": [],
   "source": [
    "limit ratings to user ratings that have rated more that 10 movies -- Otherwise it becomes impossible to pivot the rating dataframe later for collaborative filtering."
   ]
  },
  {
   "cell_type": "code",
   "execution_count": null,
   "metadata": {},
   "outputs": [],
   "source": [
    "ratings_f = ratings.groupby('userId').filter(lambda x: len(x) >= 10)\n",
    "\n",
    "# list the movie titles that survive the filtering\n",
    "movie_list_rating = ratings_f.movieId.unique().tolist()"
   ]
  },
  {
   "cell_type": "code",
   "execution_count": null,
   "metadata": {},
   "outputs": [],
   "source": [
    "By taking only users that have rated at least 10 movies, we have kept 43% of the original movie titles in the dataframe"
   ]
  },
  {
   "cell_type": "code",
   "execution_count": null,
   "metadata": {},
   "outputs": [],
   "source": [
    "len(ratings_f.movieId.unique())/len(movies.movieId.unique()) * 100"
   ]
  },
  {
   "cell_type": "code",
   "execution_count": null,
   "metadata": {},
   "outputs": [],
   "source": [
    "And only 5% of the users..."
   ]
  },
  {
   "cell_type": "code",
   "execution_count": null,
   "metadata": {},
   "outputs": [],
   "source": [
    "len(ratings_f.userId.unique())/len(ratings.userId.unique()) * 100"
   ]
  },
  {
   "cell_type": "code",
   "execution_count": null,
   "metadata": {},
   "outputs": [],
   "source": [
    "# Filtering movies from the dataframe\n",
    "movies = movies[movies.movieId.isin(movie_list_rating)]"
   ]
  },
  {
   "cell_type": "code",
   "execution_count": null,
   "metadata": {},
   "outputs": [],
   "source": [
    "movies.head(3)"
   ]
  },
  {
   "cell_type": "code",
   "execution_count": null,
   "metadata": {},
   "outputs": [],
   "source": [
    "Final.head()"
   ]
  },
  {
   "cell_type": "code",
   "execution_count": null,
   "metadata": {},
   "outputs": [],
   "source": [
    "ratings.head()"
   ]
  },
  {
   "cell_type": "code",
   "execution_count": null,
   "metadata": {},
   "outputs": [],
   "source": [
    "We will drop 'timestamp' because we don't need it"
   ]
  },
  {
   "cell_type": "code",
   "execution_count": null,
   "metadata": {},
   "outputs": [],
   "source": [
    "ratings.drop(['timestamp'], axis=1)"
   ]
  },
  {
   "cell_type": "code",
   "execution_count": null,
   "metadata": {},
   "outputs": [],
   "source": [
    "Let's create a mixed dataframe of movies title, genres and all user tags given to each movie"
   ]
  },
  {
   "cell_type": "code",
   "execution_count": null,
   "metadata": {},
   "outputs": [],
   "source": [
    "mixed = pd.merge(movies, tags, on='movieId', how='left')\n",
    "mixed.head(3)"
   ]
  },
  {
   "cell_type": "code",
   "execution_count": null,
   "metadata": {},
   "outputs": [],
   "source": []
  },
  {
   "cell_type": "code",
   "execution_count": null,
   "metadata": {},
   "outputs": [],
   "source": []
  },
  {
   "cell_type": "code",
   "execution_count": null,
   "metadata": {},
   "outputs": [],
   "source": []
  },
  {
   "cell_type": "markdown",
   "metadata": {},
   "source": [
    "5.6  tf-idf vectors and truncated SVD :"
   ]
  },
  {
   "cell_type": "markdown",
   "metadata": {},
   "source": [
    "We then transform these metadata texts to vectors of features using Tf-idf transformer of scikit-learn package. Each movie will transform into a vector of the length ~ 19000! But we don’t really need such large feature vectors to describe movies. Truncated singular value decomposition (SVD) is a good tool to reduce dimensionality of our feature matrix especially when applied on Tf-idf vectors. As you can see from the explained variance graph below, with 200 latent components (reduction from ~19000) we can explain more than 50% of variance in the data which suffices for our purpose in this work. So we will keep a latent matrix of 200 components as opposed to 19074 which expedites our analysis greatly. We name this latent matrix the content_latent and use this matrix a few steps later to find our top N similar movies to a given movie title. But let’s learn a bit about the ratings data."
   ]
  },
  {
   "cell_type": "code",
   "execution_count": null,
   "metadata": {},
   "outputs": [],
   "source": [
    "from sklearn.feature_extraction.text import TfidfVectorizer\n",
    "\n",
    "tfidf = TfidfVectorizer(stop_words='english')\n",
    "tfidf_matrix = tfidf.fit_transform(Final['metadata'])\n",
    "tfidf_df = pd.DataFrame(tfidf_matrix.toarray(), index=Final.index.tolist())\n",
    "print(tfidf_df.shape)"
   ]
  },
  {
   "cell_type": "code",
   "execution_count": null,
   "metadata": {},
   "outputs": [],
   "source": [
    "# Compress with SVD\n",
    "\n",
    "from sklearn.decomposition import TruncatedSVD\n",
    "svd = TruncatedSVD(n_components=200)\n",
    "latent_matrix = svd.fit_transform(tfidf_df)\n",
    "\n",
    "# plot var expalined to see what latent dimensions to usef\n",
    "explained = svd.explained_variance_ratio_.cumsum()\n",
    "plt.plot(explained, '.-', ms = 16, color='red')\n",
    "plt.xlabel('Singular value components', fontsize= 12)\n",
    "plt.ylabel('Cumulative percent of variance', fontsize=12)        \n",
    "plt.show()"
   ]
  },
  {
   "cell_type": "code",
   "execution_count": null,
   "metadata": {},
   "outputs": [],
   "source": [
    "#number of latent dimensions to keep\n",
    "n=200\n",
    "latent_matrix_1_df = pd.DataFrame(latent_matrix[:,0:n], index=Final.title.tolist())"
   ]
  },
  {
   "cell_type": "markdown",
   "metadata": {},
   "source": [
    "Let's take a look at the new shape - reduced from 19 074 to just 200!"
   ]
  },
  {
   "cell_type": "code",
   "execution_count": null,
   "metadata": {},
   "outputs": [],
   "source": [
    "latent_matrix.shape"
   ]
  },
  {
   "cell_type": "code",
   "execution_count": null,
   "metadata": {},
   "outputs": [],
   "source": [
    "ratings_f.head()"
   ]
  },
  {
   "cell_type": "markdown",
   "metadata": {},
   "source": [
    "## Model Building, training and assessment"
   ]
  },
  {
   "cell_type": "code",
   "execution_count": null,
   "metadata": {},
   "outputs": [],
   "source": []
  },
  {
   "cell_type": "markdown",
   "metadata": {},
   "source": [
    "### Model 1: Building and training"
   ]
  },
  {
   "cell_type": "code",
   "execution_count": null,
   "metadata": {},
   "outputs": [],
   "source": []
  },
  {
   "cell_type": "markdown",
   "metadata": {},
   "source": [
    "### Model 1: Assessing the model"
   ]
  },
  {
   "cell_type": "code",
   "execution_count": null,
   "metadata": {},
   "outputs": [],
   "source": []
  },
  {
   "cell_type": "markdown",
   "metadata": {},
   "source": [
    "### Model 2: Building and training"
   ]
  },
  {
   "cell_type": "code",
   "execution_count": null,
   "metadata": {},
   "outputs": [],
   "source": []
  },
  {
   "cell_type": "markdown",
   "metadata": {},
   "source": [
    "### Model 2: Assessing the model"
   ]
  },
  {
   "cell_type": "code",
   "execution_count": null,
   "metadata": {},
   "outputs": [],
   "source": []
  },
  {
   "cell_type": "markdown",
   "metadata": {},
   "source": [
    "## Exporting predictions to Kaggle"
   ]
  },
  {
   "cell_type": "code",
   "execution_count": null,
   "metadata": {},
   "outputs": [],
   "source": []
  },
  {
   "cell_type": "markdown",
   "metadata": {},
   "source": [
    "## Conclusion"
   ]
  },
  {
   "cell_type": "code",
   "execution_count": null,
   "metadata": {},
   "outputs": [],
   "source": []
  }
 ],
 "metadata": {
  "kernelspec": {
   "display_name": "Python 3",
   "language": "python",
   "name": "python3"
  },
  "language_info": {
   "codemirror_mode": {
    "name": "ipython",
    "version": 3
   },
   "file_extension": ".py",
   "mimetype": "text/x-python",
   "name": "python",
   "nbconvert_exporter": "python",
   "pygments_lexer": "ipython3",
   "version": "3.8.5"
  },
  "toc": {
   "base_numbering": 1,
   "nav_menu": {},
   "number_sections": true,
   "sideBar": false,
   "skip_h1_title": true,
   "title_cell": "Table of Contents",
   "title_sidebar": "Contents",
   "toc_cell": true,
   "toc_position": {
    "height": "935px",
    "left": "86.9896px",
    "top": "110.573px",
    "width": "300.755px"
   },
   "toc_section_display": true,
   "toc_window_display": true
  }
 },
 "nbformat": 4,
 "nbformat_minor": 4
}
